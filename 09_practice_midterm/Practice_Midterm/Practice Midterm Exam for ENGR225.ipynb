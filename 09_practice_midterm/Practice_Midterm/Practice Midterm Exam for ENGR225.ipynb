{
 "cells": [
  {
   "cell_type": "markdown",
   "metadata": {
    "id": "eyA7eSJHFyqV"
   },
   "source": [
    "# Practice Midterm\n",
    "\n",
    "* <font color='red'>**Read these instructions carefully before you begin.**<font> <font color='default'>\n",
    "\n",
    "* You may use the *PythonCheatSheet.pdf* file that your instructor has provided with this exam.\n",
    "\n",
    "> * Do NOT use any other resource.\n",
    "\n",
    "\n",
    "* Work independently. Do not share your work with anyone.\n",
    "\n",
    "* I believe in you! You got this!"
   ]
  },
  {
   "cell_type": "markdown",
   "metadata": {
    "id": "p3sXPDh7F5Kp"
   },
   "source": [
    "## Q1 [2 pts]\n",
    "Print \"My name is *{place your full name here}*.\" using the python print() function."
   ]
  },
  {
   "cell_type": "code",
   "execution_count": null,
   "metadata": {
    "id": "OAdUhHR3cvC6"
   },
   "outputs": [],
   "source": [
    "# your code here"
   ]
  },
  {
   "cell_type": "markdown",
   "metadata": {
    "id": "dGf00_iWaTsy"
   },
   "source": [
    "## Q2 [3 pts]\n",
    "Complete the following tasks:\n",
    "* Create a list that stores the numbers 1, 2, 3 and 4 as each element.\n",
    "* Create another list that stores the numbers 5, 6, 7, and 8 as each element.\n",
    "* Using a code operation, combine the lists into a single list and store it in a new variable.\n",
    "* Print the result"
   ]
  },
  {
   "cell_type": "code",
   "execution_count": null,
   "metadata": {
    "id": "CVkvBAZACxJ1"
   },
   "outputs": [],
   "source": [
    "# your code here"
   ]
  },
  {
   "cell_type": "markdown",
   "metadata": {
    "id": "WTLD_oT-eynk"
   },
   "source": [
    "## Q3 [5 pts]\n",
    "\n",
    "Given the nested list:\n",
    "`animals = [['leopard','lion','panther'],['fox','coyote','wolf'],['eagle','osprey','condor']]`\n",
    "\n",
    "Extract 'osprey' from the list **using indexing** and print it out.\n"
   ]
  },
  {
   "cell_type": "code",
   "execution_count": null,
   "metadata": {
    "id": "Alyvt73B5Sqv"
   },
   "outputs": [],
   "source": [
    "animals = [['leopard','lion','panther'],\n",
    "           ['fox','coyote','wolf'],\n",
    "           ['eagle','osprey','condor']]\n",
    "# your code here"
   ]
  },
  {
   "cell_type": "markdown",
   "metadata": {
    "id": "nQPK4-7L5Ri1"
   },
   "source": [
    "## Q4 [5 pts]\n",
    "\n",
    "Complete the following tasks:\n",
    "* Define a variable $x = 10.5$\n",
    "* Perform the calculation: $y = sin(x)$\n",
    "* Print the result ($y$)"
   ]
  },
  {
   "cell_type": "code",
   "execution_count": null,
   "metadata": {
    "id": "cQgAYoYrfwnC"
   },
   "outputs": [],
   "source": [
    "# your code here"
   ]
  },
  {
   "cell_type": "markdown",
   "metadata": {
    "id": "7NraGFwEa73J"
   },
   "source": [
    "## Q5 [5 pts]\n",
    "Calculate the area of a square:\n",
    "* Create a variable to take an input from the keyboard (assume the user will always input a number, not letters)\n",
    "* Use this input as the edge length of a square and calcuate the square's area\n",
    "* Print \"Your input of the edge length is {the input number}, and the area is {the calculated area}.\"\n",
    "* Make sure your program works for decimal edge lengths, not just whole numbers"
   ]
  },
  {
   "cell_type": "code",
   "execution_count": null,
   "metadata": {
    "id": "-NPJoRvza_M5"
   },
   "outputs": [],
   "source": [
    "# your code here"
   ]
  },
  {
   "cell_type": "markdown",
   "metadata": {
    "id": "nh4SCNfRGkQo"
   },
   "source": [
    "## Q6 [5 pts]\n",
    "\n",
    "<img src=\"binary.jpg\"/>\n",
    "\n",
    "Ask a user to input a four digit binary number. (For example 1111, or 1010, or 0110.)\n",
    "\n",
    "Using **indexing and arithmetic operations** convert the base-2 binary number to a base-10 decimal number, and print the number to the screen."
   ]
  },
  {
   "cell_type": "code",
   "execution_count": null,
   "metadata": {
    "id": "fsSVP1ENHDFi"
   },
   "outputs": [],
   "source": [
    "# your code here"
   ]
  },
  {
   "cell_type": "markdown",
   "metadata": {
    "id": "IvBOXMfXK_FP"
   },
   "source": [
    "## Q7 [10 pts]\n",
    "\n",
    "A \"palindrome\" is a word that is spelled the same backwards and forwards. Write a program, following the flowchart below, to check if a word is a palindrome.\n",
    "\n",
    "Use **index striding** to reverse the string\n",
    "\n",
    "HINT: Words that are palindromes: kayak, racecar, noon, mom, radar, level\n",
    "\n",
    "<img src=\"palindrome.png\" width=\"350\">"
   ]
  },
  {
   "cell_type": "code",
   "execution_count": null,
   "metadata": {
    "id": "cGPuIbfgk_bC"
   },
   "outputs": [],
   "source": [
    "# your code here"
   ]
  },
  {
   "cell_type": "markdown",
   "metadata": {
    "id": "Y7ZGBCvtQB7E"
   },
   "source": [
    "## Q8 [10 pts]\n",
    "\n",
    "Write a program to complete the following tasks:\n",
    "\n",
    "* Generate a random integer between 1 and 10000 inclusive.\n",
    "\n",
    "* If the number is even, create a string called 'even_number.txt' and store it in the variable `file_name`.\n",
    "\n",
    "* If the number is odd, create a string called 'odd_number.txt'  and store it in the variable `file_name`.\n",
    "\n",
    "*  USING YOUR CODE, open a new file with the `file_name` you determined.\n",
    "\n",
    "* USING YOUR CODE Write the number you generated into the file\n",
    "\n",
    "* USING YOUR CODE close the file.\n"
   ]
  },
  {
   "cell_type": "code",
   "execution_count": null,
   "metadata": {
    "id": "0iuQwBBRf5ff"
   },
   "outputs": [],
   "source": [
    "# your code here"
   ]
  },
  {
   "cell_type": "markdown",
   "metadata": {
    "id": "sPOTsBPp8SvV"
   },
   "source": [
    "## Q9 [10 pts]\n",
    "\n",
    "Python \"cheats\" and stores small integers of the same value in the same memory location. Let's create a test to see how Python does this.\n",
    "\n",
    "Create a new variable and set it equal to the integer 1.\n",
    "\n",
    "Create ANOTHER new variable and set it equal to the integer 1 (but do NOT set it equal to the other variable.)\n",
    "\n",
    "Check if the variables have the same memory location.\n",
    "\n",
    "Do this again but instead of setting both variables to 1, set them both to the number 2.\n",
    "\n",
    "Check if the variables still have the same memory location.\n",
    "\n",
    "Do this again but instead, set them both equal to the number 3...\n",
    "\n",
    "Continue this test, checking EVERY INTEGER... until the two variables have different memory locations.\n",
    "\n",
    "Print out the value of the integer for which Python stops \"cheating\" with memory storage.\n"
   ]
  },
  {
   "cell_type": "code",
   "execution_count": 1,
   "metadata": {
    "colab": {
     "base_uri": "https://localhost:8080/"
    },
    "executionInfo": {
     "elapsed": 2,
     "status": "ok",
     "timestamp": 1708929019571,
     "user": {
      "displayName": "Bonnie Ludka",
      "userId": "16620433016455303136"
     },
     "user_tz": 480
    },
    "id": "wN6po1gb8d7n",
    "outputId": "3a1748e8-adf6-4099-c191-c5eda4110eec"
   },
   "outputs": [],
   "source": [
    "# your code here"
   ]
  },
  {
   "cell_type": "markdown",
   "metadata": {
    "id": "9vpL4ffedD_X"
   },
   "source": [
    "## Q10 [15 pts]\n",
    "\n",
    "An approximation for $\\pi$ is $$\\sqrt{12}  \\sum_{k=0}^{n} \\frac{(-\\frac{1}{3})^{k}}{2k+1} $$\n",
    "\n",
    "So using n=0 gives:\n",
    "$$\\sqrt{12} \\left[ \\frac{(-\\frac{1}{3})^{0}}{2*0+1}\\right] = 3.4641016151377544$$\n",
    "\n",
    "Using n=1 gives:\n",
    "$$\\sqrt{12} \\left[ \\frac{(-\\frac{1}{3})^{0}}{2*0+1} + \\frac{(-\\frac{1}{3})^{1}}{2*1+1}\\right] = 3.0792014356780038$$\n",
    "\n",
    "Using n=2 gives:\n",
    "$$\\sqrt{12} \\left[ \\frac{(-\\frac{1}{3})^{0}}{2*0+1} + \\frac{(-\\frac{1}{3})^{1}}{2*1+1} + \\frac{(-\\frac{1}{3})^{2}}{2*2+1} \\right] = 3.156181471569954 $$\n",
    "\n",
    "Write a program using n=5000 to estimate $\\pi$ using this approximation."
   ]
  },
  {
   "cell_type": "code",
   "execution_count": null,
   "metadata": {
    "id": "z5j1D1BldRf9"
   },
   "outputs": [],
   "source": [
    "# your code here"
   ]
  },
  {
   "cell_type": "markdown",
   "metadata": {
    "id": "JFMAdJaVHcVo"
   },
   "source": [
    "## Q11 [15 points]\n",
    "\n",
    "Print out every day of the year in the following format: M/D, where M is the numerical representation of the month, and D is the numerical day. Print each M/D on a new line.\n",
    "\n",
    "I have given you the info for the last day of each month. The first element (31) represents January, the second element (28) represents February, and so on. We are assuming it is NOT a leap year.\n",
    "\n",
    "`last_day = [31, 28, 31, 30, 31, 30, 31, 31, 30, 31, 30, 31]`"
   ]
  },
  {
   "cell_type": "code",
   "execution_count": null,
   "metadata": {
    "id": "00IJmolhIJxA"
   },
   "outputs": [],
   "source": [
    "# your code here"
   ]
  },
  {
   "cell_type": "markdown",
   "metadata": {
    "id": "HRR12mBnH-Q9"
   },
   "source": [
    "## Q12 [15 points]\n",
    "\n",
    "Create a list called `months` where where the elements represent the months of the year in English: \n",
    "*january,\n",
    "february,\n",
    "march,\n",
    "april,\n",
    "may,\n",
    "june,\n",
    "july,\n",
    "august,\n",
    "september,\n",
    "october,\n",
    "november,\n",
    "december*.\n",
    "\n",
    "Using a loop, grab the months of the year that are 5 letters or less from the variable `months` and put them into the list `months_5`.\n",
    "\n",
    "Next modify `months` so that the elements represent the months of the year in Spanish :\n",
    "*enero,\n",
    "febrero,\n",
    "marzo,\n",
    "abril,\n",
    "mayo,\n",
    "junio,\n",
    "julio,\n",
    "agosto,\n",
    "septiembre,\n",
    "octubre,\n",
    "noviembre,\n",
    "diciembre*.\n",
    "\n",
    "Check to make sure your `months_5` list still correctly stores the months that have 5 letters or less."
   ]
  },
  {
   "cell_type": "code",
   "execution_count": null,
   "metadata": {
    "id": "GYeOyyeZG6z1"
   },
   "outputs": [],
   "source": [
    "# your code here"
   ]
  },
  {
   "cell_type": "markdown",
   "metadata": {
    "id": "yuABenKviqkr"
   },
   "source": [
    "# If you are finished:\n",
    "\n",
    "### *Go to File> Save.\n",
    "### *Close the file.\n",
    "### *Open and check the file.\n",
    "### *Raise your hand to let the instructor know you are ready to turn in your exam. They will restore your internet connection\n",
    "### *Upload the .ipynb file to Canvas"
   ]
  },
  {
   "cell_type": "markdown",
   "metadata": {
    "id": "-mtynNHaqeVw"
   },
   "source": [
    "\n",
    "## EC [2 pts] - Extra Credit - Numpy and Plotting\n",
    "\n",
    "x = numpy array that starts at 0, and goes up to 6, using steps of 0.1\n",
    "\n",
    "y = sin(x)\n",
    "\n",
    "Create a plot with x on the x-axis, and y on the y-axis."
   ]
  },
  {
   "cell_type": "code",
   "execution_count": null,
   "metadata": {
    "id": "9E_D4zCfaOiB"
   },
   "outputs": [],
   "source": [
    "# your code here"
   ]
  }
 ],
 "metadata": {
  "colab": {
   "provenance": [
    {
     "file_id": "1lsbjacdBd87byy9_TBhYgnKoVAMblf1_",
     "timestamp": 1708894472116
    },
    {
     "file_id": "14Ni32JvNbR_8Vpi_3zc3j9yddqBK1wfI",
     "timestamp": 1697498157324
    }
   ],
   "toc_visible": true
  },
  "kernelspec": {
   "display_name": "engr225",
   "language": "python",
   "name": "python3"
  },
  "language_info": {
   "codemirror_mode": {
    "name": "ipython",
    "version": 3
   },
   "file_extension": ".py",
   "mimetype": "text/x-python",
   "name": "python",
   "nbconvert_exporter": "python",
   "pygments_lexer": "ipython3",
   "version": "3.11.7"
  }
 },
 "nbformat": 4,
 "nbformat_minor": 0
}
