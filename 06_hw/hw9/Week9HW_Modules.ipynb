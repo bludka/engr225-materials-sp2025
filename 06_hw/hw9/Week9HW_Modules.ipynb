{
 "cells": [
  {
   "cell_type": "markdown",
   "id": "009535b0",
   "metadata": {},
   "source": [
    "# Modules, Packages, & Libraries"
   ]
  },
  {
   "cell_type": "markdown",
   "id": "36087554",
   "metadata": {},
   "source": [
    "## 1. Modules\n",
    "\n",
    "A module is code that you can run even though it lives in a different file from the one you are working in.\n",
    "\n",
    "Say we have this code that stores values in a list called `my_data`."
   ]
  },
  {
   "cell_type": "code",
   "execution_count": 1,
   "id": "359eca1f",
   "metadata": {},
   "outputs": [],
   "source": [
    "my_data = [ 3, 10,  8,  7,  5,  3,  3,  5,  40,  8,  5,  3,  2,  5,  5,  8,  2,  9,  6,  6, 10, 10,  7,  3,\n",
    "         5,  7,  6, 10,  2,  -33,  8,  4,  8,  7,  9,  8,  1,  2,  8,  5,  3,  7,  1,  4,  9,  6,  6,  8,\n",
    "        10,  1]"
   ]
  },
  {
   "cell_type": "markdown",
   "id": "b5139a56",
   "metadata": {},
   "source": [
    "Let's put the code above into a different file.\n",
    "\n",
    "### 1.1 Create a .py file\n",
    "\n",
    "1.) Click on the file icon in the upper left, and then a big blue plus sign will appear. Click it to open a new Launcher tab.\n",
    "\n",
    "<img src=\"new_launcher.png\" align=\"left\"/>\n",
    "\n",
    "<br clear=\"left\"/> <!-- This clears the float to ensure text starts after the image -->\n",
    "\n",
    "2.) In the Launcher tab, click to open a new Text File:\n",
    "\n",
    "<img src=\"new_text_file.png\" width=150 align=\"left\"/>\n",
    "\n",
    "<br clear=\"left\"/> <!-- Clears the float after this image -->\n",
    "\n",
    "3.) RIGHT CLICK on the untitled.txt tab and choose \"Rename Text\".\n",
    "\n",
    "<img src=\"rename_txt.png\" width=400 align=\"left\"/>\n",
    "\n",
    "<br clear=\"left\"/> <!-- Clears the float after this image -->\n",
    "\n",
    "4.) Rename the file \"my_data_stats.py\"\n",
    "\n",
    "<img src=\"rename_file.png\" width=300 align=\"left\"/>\n",
    "\n",
    "<br clear=\"left\"/> <!-- Clears the float after this image -->\n",
    "\n",
    "5.) Copy this code and paste it into the my_data_stats.py file:\n",
    "\n",
    "```\n",
    "my_data = [ 3, 10,  8,  7,  5,  3,  3,  5,  40,  8,  5,  3,  2,  5,  5,  8,  2,  9,  6,  6, 10, 10,  7,  3,\n",
    "         5,  7,  6, 10,  2,  -33,  8,  4,  8,  7,  9,  8,  1,  2,  8,  5,  3,  7,  1,  4,  9,  6,  6,  8,\n",
    "        10,  1]\n",
    "```\n",
    "\n",
    "**Note: Do not include apostrophes around the code when I ask you copy and paste the code**\n",
    "\n",
    "6.) In the my_data_stats.py file, manually change the last element of the list variable `my_data` to `35`.\n",
    "\n",
    "7.) Save the .py file: From the my_data_stats.py tab, click File>Save Python File.\n"
   ]
  },
  {
   "cell_type": "markdown",
   "id": "43dc02c5-edb0-4210-9d66-9fd596c1abaa",
   "metadata": {},
   "source": [
    "### 1.2 Import variables in the .py file\n",
    "\n",
    "Your .py file can be imported as a *module* in this .ipynb.\n",
    "\n",
    "Run the code below"
   ]
  },
  {
   "cell_type": "code",
   "execution_count": null,
   "id": "1d0f4d12",
   "metadata": {},
   "outputs": [],
   "source": [
    "# run this code\n",
    "import my_data_stats \n",
    "print(my_data_stats.my_data)"
   ]
  },
  {
   "cell_type": "markdown",
   "id": "4cde4f17-dd18-4b1c-b979-9db6e84c9e8a",
   "metadata": {},
   "source": [
    "You can access the variables in my_data_stats.py by importing the .py file as a module and then using the name of the module followed by a dot and the name of the variable!"
   ]
  },
  {
   "cell_type": "markdown",
   "id": "1e45c40a-e0ab-40e5-bfdb-e2e6040f84fb",
   "metadata": {},
   "source": [
    "### 1.3 Import only works the first time...\n",
    "\n",
    "Follow these steps!\n",
    "\n",
    "1.) In the my_data_stats.py file, manually change the last element of the list variable `my_data` to `55`.\n",
    "\n",
    "2.) Save the .py file: With the my_data_stats.py tab selected, click File>Save Python File.\n",
    "\n",
    "3.) Rerun the code *above* that imports my_data_stats and prints my_data\n",
    "\n",
    "Note that your change won't show up because the .ipynb thinks it already imported this file and doesn't realize it has changed. "
   ]
  },
  {
   "cell_type": "markdown",
   "id": "42a2fa8a-98fd-480b-bcac-d984554ffaf1",
   "metadata": {},
   "source": [
    "### 1.4 Force it to import again\n",
    "\n",
    "One way to force it to import again is to ***restart the kernel** and then re-run the `import my_data_stats` code* above. This is often a good solution, but is sometimes annoying if you plan on changing and using the .py file in succession a bunch.\n",
    "\n",
    "Another solution is using the **importlib.reload()** function:"
   ]
  },
  {
   "cell_type": "code",
   "execution_count": null,
   "id": "e4586f0f-91ac-4b80-b9de-b38fa88cb125",
   "metadata": {},
   "outputs": [],
   "source": [
    "import importlib\n",
    "importlib.reload(my_data_stats)\n",
    "print(my_data_stats.my_data)"
   ]
  },
  {
   "cell_type": "markdown",
   "id": "eb2255c6-df23-44d6-a5fe-405107f0a07b",
   "metadata": {},
   "source": [
    "Now you can see that the element that you changed has been updated in this notebook too."
   ]
  },
  {
   "cell_type": "markdown",
   "id": "8997cc3b",
   "metadata": {},
   "source": [
    "To recap: Python only imports a module once per session. If you change a .py file and re-import it, the changes won't show up unless you restart the kernel or use importlib.reload()."
   ]
  },
  {
   "cell_type": "markdown",
   "id": "3fabc802-fda9-4c01-b311-18257f54f086",
   "metadata": {},
   "source": [
    "### 1.5 Import a function in the .py file\n",
    "\n",
    "1.) Copy the averaging function below and paste it into the my_data_stats.py file, underneath where you defined the my_data variable:\n",
    "\n",
    "```\n",
    "def avg(data):\n",
    "    '''\n",
    "    Calculate the average of the data\n",
    "    '''\n",
    "    sum = 0\n",
    "    for d in data:\n",
    "        sum = sum + d\n",
    "    avg = sum/len(data)\n",
    "    return avg\n",
    "```"
   ]
  },
  {
   "cell_type": "markdown",
   "id": "f858b7a6-5441-42c6-8546-ee06f5b5886e",
   "metadata": {},
   "source": [
    "2.) In my_data_stats.py, rename the function from `avg` to `my_avg`.\n",
    "\n",
    "3.) Save the .py file: From the my_data_stats.py tab, click File>Save Python File.\n",
    "\n",
    "4.) Run the code below"
   ]
  },
  {
   "cell_type": "code",
   "execution_count": null,
   "id": "35ee6973-4e3b-443a-b16b-4f3489772afb",
   "metadata": {},
   "outputs": [],
   "source": [
    "importlib.reload(my_data_stats)\n",
    "\n",
    "print(my_data_stats.my_avg([0,5,10]))"
   ]
  },
  {
   "cell_type": "markdown",
   "id": "2421ea4b-e93c-4d86-b58e-824a1ab1036e",
   "metadata": {},
   "source": [
    "6.) Use the my_avg function to find the average of my_data."
   ]
  },
  {
   "cell_type": "code",
   "execution_count": 6,
   "id": "841f346c-6aef-4c0a-8fbe-99d09d144a8f",
   "metadata": {},
   "outputs": [],
   "source": [
    "# your code here"
   ]
  },
  {
   "cell_type": "markdown",
   "id": "ef1dd7d7-7bec-4c53-9feb-ae3689e5a940",
   "metadata": {},
   "source": [
    "### 1.6 Importing modules **as** a short name \n",
    "\n",
    "You may be getting tired of typing my_data_stats every time you want to use a variable or function from that file. We can import the module `as` something else to make our life easier by shortening it with an alias like this:"
   ]
  },
  {
   "cell_type": "code",
   "execution_count": null,
   "id": "e8f09c47-59be-48f3-9ab8-9541ee4848e4",
   "metadata": {},
   "outputs": [],
   "source": [
    "import my_data_stats as mds\n",
    "mds.my_avg(mds.my_data) # that's less work to write!"
   ]
  },
  {
   "cell_type": "markdown",
   "id": "bedc26ba-4831-47ea-a3a8-5916c4bbfa8d",
   "metadata": {},
   "source": [
    "### 1.7 Importing variables and functions **from** a module\n",
    "\n",
    "If you don't want to have to call the module by name each time you want to use one of it's variables or functions,\n",
    "\n",
    "Or if you only want to use SOME of the variables or functions from the module, you can import parts of the module directly in the notebook using `from`"
   ]
  },
  {
   "cell_type": "code",
   "execution_count": null,
   "id": "ec052da4-8dbe-4e2c-946d-904dc2297008",
   "metadata": {},
   "outputs": [],
   "source": [
    "from my_data_stats import my_data, my_avg\n",
    "my_avg(my_data)"
   ]
  },
  {
   "cell_type": "markdown",
   "id": "e81b18c2-6297-4d45-83a2-0251bb990593",
   "metadata": {},
   "source": [
    "### 1.8 Modules can store a bunch of stuff!\n",
    "\n",
    "Copy the following functions and paste them into the my_data_stats.py file, underneath the code you have already put there:\n",
    "\n",
    "```\n",
    "def my_std_dev(data):\n",
    "    '''\n",
    "    Calculate the standard deviation of the data\n",
    "    '''\n",
    "    mean = my_avg(data)\n",
    "    squared_diffs = []\n",
    "    for x in data:\n",
    "        squared_diffs.append((x-mean)**2)\n",
    "    variance = sum(squared_diffs) / len(data)\n",
    "    std_dev = variance**(1/2)\n",
    "    return std_dev\n",
    "\n",
    "def my_outliers(data):\n",
    "    '''\n",
    "    Identify and return the outliers in the dataset\n",
    "    The method for identifying outliers used here is\n",
    "    data points that are more than 3x the standard deviation away from the mean\n",
    "    '''\n",
    "    mean = my_avg(data)\n",
    "    std = my_std_dev(data)\n",
    "    upper_threshold = mean + 3*std\n",
    "    lower_threshold = mean - 3*std\n",
    "    outliers = []\n",
    "    outlier_indices = []\n",
    "    for i in range(len(data)):\n",
    "        if (data[i] > upper_threshold) or (data[i] < lower_threshold):\n",
    "            outliers.append(data[i])\n",
    "            outlier_indices.append(i)\n",
    "    return outliers, outlier_indices, upper_threshold, lower_threshold\n",
    "```"
   ]
  },
  {
   "cell_type": "markdown",
   "id": "0f9411f2-7b7b-4872-b8e0-8b767f40adbc",
   "metadata": {},
   "source": [
    "Then save the my_data_stats.py file.\n",
    "\n",
    "Afterwards we can reload and import these functions into our notebook too."
   ]
  },
  {
   "cell_type": "code",
   "execution_count": null,
   "id": "f0e4b34c-0af4-4f98-a345-6b2c46f671b2",
   "metadata": {},
   "outputs": [],
   "source": [
    "importlib.reload(my_data_stats)\n",
    "from my_data_stats import my_std_dev, my_outliers\n",
    "print('Mean=',my_avg(my_data))\n",
    "print('Standard Deviation=',my_std_dev(my_data))\n",
    "outliers,outlier_indices,upper,lower = my_outliers(my_data)\n",
    "print('Upper Outlier Threshold=',upper)\n",
    "print('Lower Outlier Threshold=',lower)\n",
    "print('Outliers=',outliers)"
   ]
  },
  {
   "cell_type": "markdown",
   "id": "8c7c2f4d-2d98-463c-8c08-470856c104ed",
   "metadata": {},
   "source": [
    "## Packages"
   ]
  },
  {
   "cell_type": "markdown",
   "id": "884ee6e3-f1a6-4424-b888-545af93959e5",
   "metadata": {},
   "source": [
    "Sometimes you'd like to store multiple modules inside a folder. This folder of modules is called a \"package\".\n",
    "\n",
    "**Drag the my_data_stats.py file into the folder called \"this_data\"**\n",
    "\n",
    "<img src=\"move_module_to_package.png\" width = 300 align=\"left\"/>\n",
    "\n",
    "<br clear=\"left\"/> <!-- This clears the float to ensure text starts after the image -->\n",
    "\n",
    "If we click on this folder we see there are now two .py files inside.\n",
    "\n",
    "We can import everything in this folder using `import this_data`.\n",
    "\n",
    "If we want to use a module in the *this_data* package, we use the dot notation again, where this dot is similar to a slash in a directory path:"
   ]
  },
  {
   "cell_type": "code",
   "execution_count": null,
   "id": "1987641c-2537-4db0-bf4b-99d265e640f7",
   "metadata": {},
   "outputs": [],
   "source": [
    "import this_data\n",
    "my_data = this_data.my_data_stats.my_data #grabbing my_data from the file this_data/my_data_stats.py\n",
    "print(my_data)"
   ]
  },
  {
   "cell_type": "markdown",
   "id": "12aabc10-8a69-422e-8a5a-87a90813d52c",
   "metadata": {},
   "source": [
    "Or we can use *from* to import the individual modules, or even individual variables and functions of interest"
   ]
  },
  {
   "cell_type": "code",
   "execution_count": null,
   "id": "97e11732-6b2c-419b-b217-52f2d07d82ee",
   "metadata": {},
   "outputs": [],
   "source": [
    "from this_data.my_data_stats import my_data\n",
    "from this_data.plot_my_data import time_series_plot, histogram_plot\n",
    "\n",
    "time_series_plot(my_data)\n",
    "histogram_plot(my_data)"
   ]
  },
  {
   "cell_type": "markdown",
   "id": "008b9424",
   "metadata": {},
   "source": [
    "So a package is a folder containing multiple modules. Using packages helps keep your code organized and makes it easier to import related functions. For example, instead of keeping all helper functions in one large .py file, you can break them into separate modules within a package."
   ]
  },
  {
   "cell_type": "markdown",
   "id": "5ce1cd7a-7f62-43e7-af40-0354b2fd0ee3",
   "metadata": {},
   "source": [
    "# Libraries\n",
    "\n",
    "Libaries are a collection of packages. You can import an entire libary and then can use certain packages using the dot notation.\n",
    "\n",
    "For example, the numpy library contains many packages for numerical computing, and the matplotlib library has multiple packages for plotting. When you import numpy, you get access to all its packages and modules using dot notation (e.g., numpy.linalg for linear algebra functions)."
   ]
  },
  {
   "cell_type": "code",
   "execution_count": null,
   "id": "cec321d0",
   "metadata": {},
   "outputs": [],
   "source": [
    "import numpy as np\n",
    "import matplotlib.pyplot as plt"
   ]
  }
 ],
 "metadata": {
  "kernelspec": {
   "display_name": "engr225",
   "language": "python",
   "name": "python3"
  },
  "language_info": {
   "codemirror_mode": {
    "name": "ipython",
    "version": 3
   },
   "file_extension": ".py",
   "mimetype": "text/x-python",
   "name": "python",
   "nbconvert_exporter": "python",
   "pygments_lexer": "ipython3",
   "version": "3.11.7"
  }
 },
 "nbformat": 4,
 "nbformat_minor": 5
}
