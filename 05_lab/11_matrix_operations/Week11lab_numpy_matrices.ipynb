{
 "cells": [
  {
   "cell_type": "markdown",
   "metadata": {},
   "source": [
    "# Lab Week 11"
   ]
  },
  {
   "cell_type": "markdown",
   "metadata": {},
   "source": [
    "You will turn in TWO documents via Canvas upload:\n",
    "1. Handwritten answers\n",
    "2. Python Jupyter Notebook answer\n",
    "\n",
    "You are encouraged to use:\n",
    "* [Python for Linear Algebra Reference Sheet](https://humboldt.cloudbank.2i2c.cloud/hub/user-redirect/git-pull?repo=https%3A%2F%2Fgithub.com%2Fbludka%2Fengr225-materials-sp2025&branch=main&urlpath=lab%2Ftree%2Fengr225-materials-sp2025%2F00_resources%2FPython_Toolbox_for_Linear_Algebra.ipynb)\n",
    "\n",
    "<font color='red'>***Answer all questions by hand first, then repeat the task using Python in this notebook.***<font> <font color='magenta'> If a question does not require a calculation, `print()` your answer and thought process to the screen, in addition to writing it in your handwritten version."
   ]
  },
  {
   "cell_type": "markdown",
   "metadata": {},
   "source": [
    "## 1. Creating Numpy Arrays\n",
    "\n",
    "First let's import the numpy package."
   ]
  },
  {
   "cell_type": "code",
   "execution_count": 4,
   "metadata": {},
   "outputs": [],
   "source": [
    "import numpy as np"
   ]
  },
  {
   "cell_type": "markdown",
   "metadata": {},
   "source": [
    "Remember, you can create a numpy array using `np.array()` like this:"
   ]
  },
  {
   "cell_type": "code",
   "execution_count": 5,
   "metadata": {},
   "outputs": [
    {
     "name": "stdout",
     "output_type": "stream",
     "text": [
      "[1 2 3 4 5]\n"
     ]
    }
   ],
   "source": [
    "# create a 1-dimensional array\n",
    "vector_1D = np.array([1,2,3,4,5])\n",
    "print(vector_1D)"
   ]
  },
  {
   "cell_type": "markdown",
   "metadata": {},
   "source": [
    "We can check the shape of the array we just made using `np.shape()`"
   ]
  },
  {
   "cell_type": "code",
   "execution_count": 6,
   "metadata": {},
   "outputs": [
    {
     "data": {
      "text/plain": [
       "(5,)"
      ]
     },
     "execution_count": 6,
     "metadata": {},
     "output_type": "execute_result"
    }
   ],
   "source": [
    "np.shape(vector_1D)"
   ]
  },
  {
   "cell_type": "markdown",
   "metadata": {},
   "source": [
    "Since the shape only gives one value, this is a 1-dimensional (1-D) array. *Usually when we are working with vectors and matrices we will want to use 2-D arrays.* \n",
    "\n",
    "There are some cases where we can get away with using a 1-D array for vectors. **When representing vectors, there is a subtle difference between a 1-D array, and a 2-D array with 1 row.** \n",
    "\n",
    "Let's try representing a vector using a 2-D array with 1-row. We will need to use double brackets for this:"
   ]
  },
  {
   "cell_type": "code",
   "execution_count": 7,
   "metadata": {},
   "outputs": [
    {
     "name": "stdout",
     "output_type": "stream",
     "text": [
      "[[1 2 3 4 5]]\n"
     ]
    }
   ],
   "source": [
    "#create a 2-D array with only 1 row\n",
    "row_vector_2D = np.array([[1,2,3,4,5]]) #1 row, 5 columns\n",
    "print(row_vector_2D)"
   ]
  },
  {
   "cell_type": "markdown",
   "metadata": {},
   "source": [
    "### Question 1.1 [2pts]\n",
    "\n",
    "What is the difference between our `row_vector_2D` and `vector_1D` that we created earlier? \n",
    "\n",
    "a.) Use the code cell below to print them both out. How do they look different?\n",
    "\n",
    "b.) Then also use `np.shape()` to check the SHAPE of both vectors. How do their shapes look diferent?\n",
    "\n",
    "> Note: For a 2D array, the first number returned by `np.shape()` is the number of rows and the second value represents the number of columns.  \n",
    "\n",
    "c.) Write your thoughts about what you observe in your code in your handwritten answers."
   ]
  },
  {
   "cell_type": "code",
   "execution_count": 8,
   "metadata": {},
   "outputs": [],
   "source": [
    "# your code here"
   ]
  },
  {
   "cell_type": "markdown",
   "metadata": {},
   "source": [
    "Instead of a horizontal vector, now let's make a vertical vector. We can do this by creating a 2-D array with only 1 column. Note the outer brackets and how each single element row is surrounded by inner brackets and separated by commas:"
   ]
  },
  {
   "cell_type": "code",
   "execution_count": 9,
   "metadata": {},
   "outputs": [
    {
     "name": "stdout",
     "output_type": "stream",
     "text": [
      "[[1]\n",
      " [2]\n",
      " [3]\n",
      " [4]\n",
      " [5]]\n"
     ]
    }
   ],
   "source": [
    "# create a 2-D array with only 1 column\n",
    "column_vector_2D = np.array([[1],\n",
    "                             [2],\n",
    "                             [3],\n",
    "                             [4],\n",
    "                             [5]])\n",
    "print(column_vector_2D)"
   ]
  },
  {
   "cell_type": "markdown",
   "metadata": {},
   "source": [
    "Now we see that when we check the shape, the first value is the number of rows and the second value is the number of columns."
   ]
  },
  {
   "cell_type": "code",
   "execution_count": 10,
   "metadata": {},
   "outputs": [
    {
     "data": {
      "text/plain": [
       "(5, 1)"
      ]
     },
     "execution_count": 10,
     "metadata": {},
     "output_type": "execute_result"
    }
   ],
   "source": [
    "np.shape(column_vector_2D)"
   ]
  },
  {
   "cell_type": "markdown",
   "metadata": {},
   "source": [
    "### Question 1.2 [2pts]\n",
    "\n",
    "Create a column_vector that has 3 rows. Use whatever values you like for the elements in the vector. \n",
    "\n",
    "Print out your vector and check its SHAPE to make sure it was created correctly.\n",
    "\n",
    "In your handwritten answers, simply write what this vector looks like in it's mathematical form (with the elements surrounded by one big pair of brackets or parentheses)"
   ]
  },
  {
   "cell_type": "code",
   "execution_count": 11,
   "metadata": {},
   "outputs": [],
   "source": [
    "# your code here"
   ]
  },
  {
   "cell_type": "markdown",
   "metadata": {},
   "source": [
    "What if we want to create a matrix using a numpy array? The outer brackets represent the matrix. The inner brackets represent each row, which are separated by a comma. Here we make a matrix with 3 rows and 2 columns:"
   ]
  },
  {
   "cell_type": "code",
   "execution_count": 12,
   "metadata": {},
   "outputs": [
    {
     "name": "stdout",
     "output_type": "stream",
     "text": [
      "[[1 2]\n",
      " [3 4]\n",
      " [5 6]]\n"
     ]
    }
   ],
   "source": [
    "# create a 2-d array with 3 rows and 2 columns\n",
    "matrix_3x2 = np.array([[1,2],\n",
    "                       [3,4],\n",
    "                       [5,6]])\n",
    "print(matrix_3x2)"
   ]
  },
  {
   "cell_type": "markdown",
   "metadata": {},
   "source": [
    "Let's check the shape:"
   ]
  },
  {
   "cell_type": "code",
   "execution_count": 13,
   "metadata": {},
   "outputs": [
    {
     "name": "stdout",
     "output_type": "stream",
     "text": [
      "(3, 2)\n"
     ]
    }
   ],
   "source": [
    "print(np.shape(matrix_3x2))"
   ]
  },
  {
   "cell_type": "markdown",
   "metadata": {},
   "source": [
    "3 rows and 2 columns as expected!"
   ]
  },
  {
   "cell_type": "markdown",
   "metadata": {},
   "source": [
    "Now it is your turn to make a matrix using numpy!"
   ]
  },
  {
   "cell_type": "markdown",
   "metadata": {},
   "source": [
    "### Question 1.3 [2pts]\n",
    "\n",
    "Using code, create a 2-D array name `matrix_2x3` which has 2 rows and 3 columns. You can use whatever numbers you like inside your array. Check to make sure you created a matrix with the correct dimensions using `np.shape()`\n",
    "\n",
    "In your handwritten answers, simply write what the matrix looks like in its regular mathematical form (elements surrounded by a single pair of brackets or parentheses)."
   ]
  },
  {
   "cell_type": "code",
   "execution_count": 14,
   "metadata": {},
   "outputs": [],
   "source": [
    "# your code here"
   ]
  },
  {
   "cell_type": "markdown",
   "metadata": {},
   "source": [
    "## 2. Trace of a Matrix\n",
    "\n",
    "What is the trace of the following matrices? *When you do the coding part, use the `np.trace()` function. See the [Python for Linear Algerba Reference Sheet](https://humboldt.cloudbank.2i2c.cloud/hub/user-redirect/git-pull?repo=https%3A%2F%2Fgithub.com%2Fbludka%2Fengr225-materials-sp2025&branch=main&urlpath=lab%2Ftree%2Fengr225-materials-sp2025%2F00_resources%2FPython_Toolbox_for_Linear_Algebra.ipynb) for examples.*"
   ]
  },
  {
   "cell_type": "markdown",
   "metadata": {},
   "source": [
    "### Question 2.1 [1(free)pts]"
   ]
  },
  {
   "cell_type": "code",
   "execution_count": 15,
   "metadata": {},
   "outputs": [
    {
     "name": "stdout",
     "output_type": "stream",
     "text": [
      "The trace of A is ? 3.0\n"
     ]
    }
   ],
   "source": [
    "A = np.array([[1., 1., 5.],  #R0\n",
    "              [0., 2., 2.],  #R1\n",
    "              [1., 0., 0.]]) #R2\n",
    "\n",
    "#complete task here (after calculating by hand)\n",
    "print(\"The trace of A is ?\", np.trace(A)) #I gave you this one"
   ]
  },
  {
   "cell_type": "markdown",
   "metadata": {},
   "source": [
    "### Question 2.2 [1pts]\n",
    "\n"
   ]
  },
  {
   "cell_type": "code",
   "execution_count": 16,
   "metadata": {},
   "outputs": [
    {
     "name": "stdout",
     "output_type": "stream",
     "text": [
      "The trace of A is ?\n"
     ]
    }
   ],
   "source": [
    "A = np.array([[7.,     1.45,  5.1],  #R0\n",
    "              [3.566,  22.,   2.4],  #R1\n",
    "              [1.222,  300.5, 1.22]]) #R2\n",
    "\n",
    "#complete task here (after calculating by hand)\n",
    "print(\"The trace of A is ?\",) #modify"
   ]
  },
  {
   "cell_type": "markdown",
   "metadata": {},
   "source": [
    "## 3. Tranpose of a Matrix\n",
    "\n",
    "What is the transpose of the following matrices? *When you do the coding part, use the `np.transpose()` method or `A.T`. Examples in the [Reference Sheet](https://humboldt.cloudbank.2i2c.cloud/hub/user-redirect/git-pull?repo=https%3A%2F%2Fgithub.com%2Fbludka%2Fengr225-materials-sp2025&branch=main&urlpath=lab%2Ftree%2Fengr225-materials-sp2025%2F00_resources%2FPython_Toolbox_for_Linear_Algebra.ipynb)*"
   ]
  },
  {
   "cell_type": "markdown",
   "metadata": {},
   "source": [
    "### Question 3.1 [2pts]"
   ]
  },
  {
   "cell_type": "code",
   "execution_count": null,
   "metadata": {},
   "outputs": [
    {
     "name": "stdout",
     "output_type": "stream",
     "text": [
      "The transpose of A is ? \n",
      "\n"
     ]
    }
   ],
   "source": [
    "A = np.array([[3., 1., 0.,-1.],  #R0\n",
    "              [-4.,0., 1., 2.],  #R1\n",
    "              [3., 4., 1.,-3.]]) #R2\n",
    "\n",
    "#complete task here (after calculating by hand)\n",
    "print(\"The transpose of A is ? \\n\",)#modify"
   ]
  },
  {
   "cell_type": "markdown",
   "metadata": {},
   "source": [
    "### Question 3.2 [2pts]\n",
    "\n",
    "For this question find $(A^\\text{T})^\\text{T}$. Calculate $A^\\text{T}$ first. Then take the transpose again. Show all steps."
   ]
  },
  {
   "cell_type": "code",
   "execution_count": null,
   "metadata": {},
   "outputs": [
    {
     "name": "stdout",
     "output_type": "stream",
     "text": [
      "The transpose of the transpose of A is ? \n",
      "\n"
     ]
    }
   ],
   "source": [
    "A = np.array([[0., 2., 5.],  #R0\n",
    "              [1.,-6., 13.], #R1\n",
    "              [2., 0., 0.]]) #R2\n",
    "\n",
    "#complete task here (after calculating by hand)\n",
    "print(\"The transpose of the transpose of A is ? \\n\",) #modify"
   ]
  },
  {
   "cell_type": "markdown",
   "metadata": {},
   "source": [
    "## 4. Matrix Addition"
   ]
  },
  {
   "cell_type": "markdown",
   "metadata": {},
   "source": [
    "If mathematically possible, add the following matrices together.\n",
    "\n",
    "If the operation is not possible, write on your handwritten sheet \"Not possible because {your reason here}\". You may use the regular addition symbol `+` to perform this task as shown in the [Reference Sheet](https://humboldt.cloudbank.2i2c.cloud/hub/user-redirect/git-pull?repo=https%3A%2F%2Fgithub.com%2Fbludka%2Fengr225-materials-sp2025&branch=main&urlpath=lab%2Ftree%2Fengr225-materials-sp2025%2F00_resources%2FPython_Toolbox_for_Linear_Algebra.ipynb)\n",
    "\n",
    "Similarly, in your code output: `print(\"Not possible because {your reason here}\")`.\n",
    "\n",
    "Hint: use `np.shape()` to check the shape of each matrix\n",
    "\n"
   ]
  },
  {
   "cell_type": "markdown",
   "metadata": {},
   "source": [
    "### Question 4.1 [3pts]"
   ]
  },
  {
   "cell_type": "code",
   "execution_count": null,
   "metadata": {},
   "outputs": [
    {
     "name": "stdout",
     "output_type": "stream",
     "text": [
      "A plus B = ?\n",
      "\n"
     ]
    }
   ],
   "source": [
    "A = np.array([[0., 1.],  #R0\n",
    "              [0., 2.],  #R1\n",
    "              [1., 0.]]) #R2\n",
    "\n",
    "B = np.array([[3., 0.],  #R0\n",
    "              [4., 4.],  #R1\n",
    "              [3., 0.]]) #R2\n",
    "\n",
    "#complete task here (after calculating by hand)\n",
    "print(\"A plus B = ?\\n\",) #modify"
   ]
  },
  {
   "cell_type": "markdown",
   "metadata": {},
   "source": [
    "### Question 4.2 [3pts]"
   ]
  },
  {
   "cell_type": "code",
   "execution_count": null,
   "metadata": {},
   "outputs": [
    {
     "name": "stdout",
     "output_type": "stream",
     "text": [
      "A plus B = ?\n",
      "\n"
     ]
    }
   ],
   "source": [
    "A = np.array([[1., 1., 5.],  #R0\n",
    "              [0., 2., 2.],  #R1\n",
    "              [1., 0., 0.]]) #R2\n",
    "\n",
    "B = np.array([[3., 0., 1.],  #R0\n",
    "              [4., 4., 7.]]) #R1\n",
    "\n",
    "#complete task here (after calculating by hand)\n",
    "print(\"A plus B = ?\\n\",)#modify"
   ]
  },
  {
   "cell_type": "markdown",
   "metadata": {},
   "source": [
    "### Question 4.3 [3pts]\n",
    "\n",
    "Python allows this, but it should not if it was truly following linear algebra rules. Why should this not be allowed according to our linear algebra rules?"
   ]
  },
  {
   "cell_type": "code",
   "execution_count": 41,
   "metadata": {},
   "outputs": [
    {
     "name": "stdout",
     "output_type": "stream",
     "text": [
      "A plus B = ?\n",
      "\n"
     ]
    }
   ],
   "source": [
    "A = np.array([[6.],  #R0\n",
    "              [0.],  #R1\n",
    "              [1.]]) #R2\n",
    "\n",
    "B = np.array([[3., 0., 1.]]) #R0\n",
    "\n",
    "#complete task here (after calculating by hand)\n",
    "print(\"A plus B = ?\\n\",)#modify"
   ]
  },
  {
   "cell_type": "markdown",
   "metadata": {},
   "source": [
    "### Question 4.4 [3pts]"
   ]
  },
  {
   "cell_type": "markdown",
   "metadata": {},
   "source": [
    "Using A and B from Question 7, What is A + $B^\\text{T}$?\n",
    "\n",
    "Note: $B^\\text{T}$ is the transpose of B."
   ]
  },
  {
   "cell_type": "code",
   "execution_count": null,
   "metadata": {},
   "outputs": [
    {
     "name": "stdout",
     "output_type": "stream",
     "text": [
      "A plus B_transpose = ?\n",
      "\n"
     ]
    }
   ],
   "source": [
    "#complete task here (after calculating by hand)\n",
    "print(\"A plus B_transpose = ?\\n\",)#modify"
   ]
  },
  {
   "cell_type": "markdown",
   "metadata": {},
   "source": [
    "## 5. Scalar Multiplication\n",
    "\n",
    "Answer the following scalar multiplication problems. You may use the regular multiplication `*` symbol to perform this task as shown in the [Reference Sheet](https://humboldt.cloudbank.2i2c.cloud/hub/user-redirect/git-pull?repo=https%3A%2F%2Fgithub.com%2Fbludka%2Fengr225-materials-sp2025&branch=main&urlpath=lab%2Ftree%2Fengr225-materials-sp2025%2F00_resources%2FPython_Toolbox_for_Linear_Algebra.ipynb)"
   ]
  },
  {
   "cell_type": "markdown",
   "metadata": {},
   "source": [
    "### Question 5.1 [3pts]\n",
    "\n"
   ]
  },
  {
   "cell_type": "code",
   "execution_count": null,
   "metadata": {},
   "outputs": [
    {
     "name": "stdout",
     "output_type": "stream",
     "text": [
      "cA = ?\n",
      "\n"
     ]
    }
   ],
   "source": [
    "c = 2 #scalar\n",
    "A = np.array([[0., 1.],  #R0\n",
    "              [0., 2.],  #R1\n",
    "              [1., 0.]]) #R2\n",
    "\n",
    "#complete task here (after calculating by hand)\n",
    "print(\"cA = ?\\n\",)#modify"
   ]
  },
  {
   "cell_type": "markdown",
   "metadata": {},
   "source": [
    "### Question 5.2 [3pts]\n",
    "\n"
   ]
  },
  {
   "cell_type": "code",
   "execution_count": null,
   "metadata": {},
   "outputs": [
    {
     "name": "stdout",
     "output_type": "stream",
     "text": [
      "cA = ?\n",
      "\n"
     ]
    }
   ],
   "source": [
    "c = 3\n",
    "A = np.array([[3., 0., 1.]])\n",
    "\n",
    "#complete task here (after calculating by hand)\n",
    "print(\"cA = ?\\n\",) #modify"
   ]
  },
  {
   "cell_type": "markdown",
   "metadata": {},
   "source": [
    "### Question 5.3 [3pts]"
   ]
  },
  {
   "cell_type": "code",
   "execution_count": null,
   "metadata": {},
   "outputs": [
    {
     "name": "stdout",
     "output_type": "stream",
     "text": [
      "cA = ?\n",
      "\n"
     ]
    }
   ],
   "source": [
    "c = 200 #scalar\n",
    "A = np.identity(4)\n",
    "\n",
    "#complete task here (after calculating by hand)\n",
    "print(\"cA = ?\\n\",) #modify"
   ]
  },
  {
   "cell_type": "markdown",
   "metadata": {},
   "source": [
    "### Question 5.4 [3pts]"
   ]
  },
  {
   "cell_type": "code",
   "execution_count": null,
   "metadata": {},
   "outputs": [
    {
     "name": "stdout",
     "output_type": "stream",
     "text": [
      "cA = ?\n",
      "\n"
     ]
    }
   ],
   "source": [
    "c = 9 #scalar\n",
    "A = np.zeros((3,2))\n",
    "\n",
    "#complete task here (after calculating by hand)\n",
    "print(\"cA = ?\\n\",) #modify"
   ]
  },
  {
   "cell_type": "markdown",
   "metadata": {},
   "source": [
    "## 6. Matrix Multiplication"
   ]
  },
  {
   "cell_type": "markdown",
   "metadata": {},
   "source": [
    "Matrices can only be multiplied if their inner dimensions are equal. Multiplying $A$ with dimensions $m$ x $n$, by $B$ with dimensions $n$ x $p$, results in a matrix $AB$ of size $m$ x $p$.\n",
    "\n",
    "<img src=\"https://lh3.googleusercontent.com/pw/ADCreHcSe-OO0Eh4TlZyt0RYkgpbCN79xoF0AUhV7yAJZWp1a-miuOhNnOR_M2zjdX14guNXEhFzT144A-bOzLDoSc_OLo_50S5DNwSIJot7mDI1xsvrDkrfjAXSuXsHIiFgzc0JxZ_6mGEEC2M6TR_w3jcv=w584-h371-s-no?authuser=0\" width=\"350\">"
   ]
  },
  {
   "cell_type": "markdown",
   "metadata": {},
   "source": [
    "Matrix multiplication follows the row-column rule.\n",
    "\n",
    "<img src=\"https://lh3.googleusercontent.com/pw/ADCreHdYJ6RYsDC9eDW-1SuX4Q1MdewyfC4pCMF9r3vOKesFMTrTkqF-JklZSAxXk0p0MVioYObI405XxPpVSVkQayTJsi_Js9-NSrLm932t1gsNvWU680Jrs_4D5n_iJo3HoEu-aZGT8G_8O2BsQy_gDUsk=w1400-h848-s-no?authuser=0\" width=\"350\">\n",
    "\n"
   ]
  },
  {
   "cell_type": "markdown",
   "metadata": {},
   "source": [
    "Show all steps (as in the figure above) by hand. Check your work using Python where `@` is the operator used for matrix multiplication. (*Examples in the [Reference Sheet](https://humboldt.cloudbank.2i2c.cloud/hub/user-redirect/git-pull?repo=https%3A%2F%2Fgithub.com%2Fbludka%2Fengr225-materials-sp2025&branch=main&urlpath=lab%2Ftree%2Fengr225-materials-sp2025%2F00_resources%2FPython_Toolbox_for_Linear_Algebra.ipynb)*)\n",
    "\n",
    "If the matrices are not conformable for multiplication, write on your handwritten sheet \"Not possible because {your reason here}\".\n",
    "\n",
    "Similarly, in your code output: `print(\"Not possible because {your reason here}\")`.\n",
    "\n",
    "Hint: use `np.shape()` to check the shape of each matrix"
   ]
  },
  {
   "cell_type": "markdown",
   "metadata": {},
   "source": [
    "### Question 6.1 [6pts]"
   ]
  },
  {
   "cell_type": "code",
   "execution_count": null,
   "metadata": {},
   "outputs": [
    {
     "name": "stdout",
     "output_type": "stream",
     "text": [
      "A matrix mult B = ?\n",
      "\n"
     ]
    }
   ],
   "source": [
    "A = np.array([[2., 3.],  #R0\n",
    "              [1., 4.]]) #R1\n",
    "\n",
    "B = np.array([[5., 1.],  #R0\n",
    "              [2., 3.]]) #R1\n",
    "\n",
    "#complete task here (after calculating by hand)\n",
    "print(\"A matrix mult B = ?\\n\",)#modify"
   ]
  },
  {
   "cell_type": "markdown",
   "metadata": {},
   "source": [
    "### Question 6.2 [6pts]\n"
   ]
  },
  {
   "cell_type": "code",
   "execution_count": null,
   "metadata": {},
   "outputs": [
    {
     "name": "stdout",
     "output_type": "stream",
     "text": [
      "A matrix mult B = ?\n",
      "\n"
     ]
    }
   ],
   "source": [
    "A = np.array([[1., 2.], #R0\n",
    "              [3., 4.], #R1\n",
    "              [5., 6.]])#R2\n",
    "\n",
    "B = np.array([[2., 1., 3.],  #R0\n",
    "              [4., 2., 1.]]) #R1\n",
    "\n",
    "#complete task here (after calculating by hand)\n",
    "print(\"A matrix mult B = ?\\n\",)#modify"
   ]
  },
  {
   "cell_type": "markdown",
   "metadata": {},
   "source": [
    "### Question 6.3 [6pts]"
   ]
  },
  {
   "cell_type": "code",
   "execution_count": null,
   "metadata": {},
   "outputs": [
    {
     "name": "stdout",
     "output_type": "stream",
     "text": [
      "A matrix mult B = ?\n",
      "\n"
     ]
    }
   ],
   "source": [
    "A = np.array([[1., 0., -1, 2.,], #R0\n",
    "              [2., 1., 1., -3]])#R1\n",
    "\n",
    "B = np.array([[-1., -1., 0., 3], #R0\n",
    "              [1., 0., 2., -1]]) #R1\n",
    "\n",
    "#complete task here (after calculating by hand)\n",
    "print(\"A matrix mult B = ?\\n\",)#modify"
   ]
  },
  {
   "cell_type": "markdown",
   "metadata": {},
   "source": [
    "## 7. More Matrix Multiplication\n",
    "\n",
    "Use the following matrices for your calculations in this section:\n",
    "\n",
    "<img src=\"https://lh3.googleusercontent.com/pw/AP1GczM09KNAvcMl94MDU0lB5Zy5Sgtku7FV087rMLdIiwVo_pTQyQWw3c8DU4Rvh0DqVjbebcg_1AMJDt5pQ5F2C9TgpJUSYdWYr1-WnFnznNg8grvspqsj8Bi-hwG6jo2OPW3eKfNaht6nCQy5uasn_aZI=w1062-h184-s-no-gm?authuser=0\" width=\"500\">\n",
    "\n",
    "Show all steps (as in the previous problems) by hand. Check your work using Python where `@` is the operator used for matrix multiplication. (*Examples in the [Reference Sheet](https://humboldt.cloudbank.2i2c.cloud/hub/user-redirect/git-pull?repo=https%3A%2F%2Fgithub.com%2Fbludka%2Fengr225-materials-sp2025&branch=main&urlpath=lab%2Ftree%2Fengr225-materials-sp2025%2F00_resources%2FPython_Toolbox_for_Linear_Algebra.ipynb)*)\n",
    "\n",
    "If the matrices are not conformable for multiplication, write on your handwritten sheet \"Not possible because {your reason here}\".\n",
    "\n",
    "Similarly, in your code output: `print(\"Not possible because {your reason here}\")`.\n",
    "\n",
    "Hint: use `np.shape()` to check the shape of each matrix"
   ]
  },
  {
   "cell_type": "code",
   "execution_count": 30,
   "metadata": {},
   "outputs": [],
   "source": [
    "A = np.array([[3,2,0],\n",
    "              [-2,1,1],\n",
    "              [-1,0,1],\n",
    "              [2,0,0]])\n",
    "B = np.array([[0,1],\n",
    "              [3,-1],\n",
    "              [2,1]])\n",
    "C = np.array([[2,1],\n",
    "              [0,0],\n",
    "              [1,5]])\n",
    "D = np.array([[0,-3],\n",
    "              [1,1],\n",
    "              [4,0],\n",
    "              [-2,1]])"
   ]
  },
  {
   "cell_type": "markdown",
   "metadata": {},
   "source": [
    "### Question 6.1 [6pts]\n",
    "\n",
    "$BC = ?$"
   ]
  },
  {
   "cell_type": "code",
   "execution_count": 31,
   "metadata": {},
   "outputs": [
    {
     "name": "stdout",
     "output_type": "stream",
     "text": [
      "B matrix mult C = ?\n",
      "\n"
     ]
    }
   ],
   "source": [
    "# your code here (after calculating by hand)\n",
    "print(\"B matrix mult C = ?\\n\",)#modify"
   ]
  },
  {
   "cell_type": "markdown",
   "metadata": {},
   "source": [
    "### Question 6.2 [6pts]\n",
    "\n",
    "$C^TB =?$"
   ]
  },
  {
   "cell_type": "code",
   "execution_count": 32,
   "metadata": {},
   "outputs": [
    {
     "name": "stdout",
     "output_type": "stream",
     "text": [
      "C^T matrix mult B = ?\n",
      "\n"
     ]
    }
   ],
   "source": [
    "# your code here (after calculating by hand)\n",
    "print(\"C^T matrix mult B = ?\\n\",)#modify"
   ]
  },
  {
   "cell_type": "markdown",
   "metadata": {},
   "source": [
    "### Question 6.3 [6pts]\n",
    "\n",
    "$3AB - 5D =?$"
   ]
  },
  {
   "cell_type": "code",
   "execution_count": 33,
   "metadata": {},
   "outputs": [
    {
     "name": "stdout",
     "output_type": "stream",
     "text": [
      "3AB -5D= ?\n",
      "\n"
     ]
    }
   ],
   "source": [
    "# your code here (after calculating by hand)\n",
    "print(\"3AB -5D= ?\\n\",)#modify"
   ]
  },
  {
   "cell_type": "markdown",
   "metadata": {},
   "source": [
    "### Question 6.4 [6pts]\n",
    "\n",
    "$D(C+B)=?$"
   ]
  },
  {
   "cell_type": "code",
   "execution_count": 35,
   "metadata": {},
   "outputs": [
    {
     "name": "stdout",
     "output_type": "stream",
     "text": [
      "Not conformable for multiplication because inner dimensions must match. Dimensions of D= (4, 2) , Dimensions of C+B: (3, 2)\n",
      "D(C+B)= ?\n",
      "\n"
     ]
    }
   ],
   "source": [
    "print(\"Not conformable for multiplication because inner dimensions must match. Dimensions of D=\",np.shape(D), \", Dimensions of C+B:\", np.shape(C+B))\n",
    "\n",
    "# your code here (after calculating by hand)\n",
    "print(\"D(C+B)= ?\\n\",)#modify"
   ]
  },
  {
   "cell_type": "markdown",
   "metadata": {},
   "source": [
    "## 8. Indexing and Slicing a 1-D Array\n",
    "\n",
    "Indexing and Slicing a 1-D array is similar to indexing a list or a tuple."
   ]
  },
  {
   "cell_type": "code",
   "execution_count": null,
   "metadata": {},
   "outputs": [
    {
     "name": "stdout",
     "output_type": "stream",
     "text": [
      "array= [1 2 3 4 5]\n",
      "index= [0 1 2 3 4]\n",
      "The value at the zero index of the array is:  1\n",
      "The value at the last index of the array is:  5\n",
      "The slice of the array [1:4] starts at index 1 and goes up to but does not include index 4\n",
      "[2 3 4]\n"
     ]
    }
   ],
   "source": [
    "print('array=',vector_1D)\n",
    "print('index=',np.array([0, 1, 2, 3, 4]))\n",
    "print('The value at the zero index of the array is: ',vector_1D[0])\n",
    "print('The value at the last index of the array is: ',vector_1D[-1])\n",
    "print('The slice of the array [1:4] starts at index 1 and goes up to but does not include index 4:')\n",
    "print(vector_1D[1:4])"
   ]
  },
  {
   "cell_type": "markdown",
   "metadata": {},
   "source": [
    "### Question 8.1 [2pts]\n",
    "\n",
    "Grab the numbers 3 and 4 from the array `vector_1D` using a slice and store them in a new variable called `slice`.\n",
    "\n",
    "Hint: To start, ask yourself what index represents the location where `vector_1D` = 3?\n",
    "\n",
    "For the handwritten part, write out the original vector, and circle the elements in the slice."
   ]
  },
  {
   "cell_type": "code",
   "execution_count": null,
   "metadata": {},
   "outputs": [
    {
     "name": "stdout",
     "output_type": "stream",
     "text": [
      "array= [1 2 3 4 5]\n",
      "index= [0 1 2 3 4]\n",
      "[3 4]\n"
     ]
    }
   ],
   "source": [
    "print('array=', vector_1D)\n",
    "print('index=', np.array([0,1,2,3,4]))\n",
    "# your code here"
   ]
  },
  {
   "cell_type": "markdown",
   "metadata": {},
   "source": [
    "Slices that start at the very beginning can be written like this"
   ]
  },
  {
   "cell_type": "code",
   "execution_count": null,
   "metadata": {},
   "outputs": [
    {
     "name": "stdout",
     "output_type": "stream",
     "text": [
      "array= [1 2 3 4 5]\n",
      "index= [0 1 2 3 4]\n",
      "The slice of the array [:3] starts at index 0 and goes up to but does not include index 3\n",
      "[1 2 3]\n"
     ]
    }
   ],
   "source": [
    "print('array=', vector_1D)\n",
    "print('index=', np.array([0,1,2,3,4]))\n",
    "print('The slice of the array [:3] starts at index 0 and goes up to but does not include index 3')\n",
    "print(vector_1D[:3])"
   ]
  },
  {
   "cell_type": "markdown",
   "metadata": {},
   "source": [
    "Slices that include the very end can be written like this\n"
   ]
  },
  {
   "cell_type": "code",
   "execution_count": null,
   "metadata": {},
   "outputs": [
    {
     "name": "stdout",
     "output_type": "stream",
     "text": [
      "[4 5]\n"
     ]
    }
   ],
   "source": [
    "print(vector_1D[3:])"
   ]
  },
  {
   "cell_type": "markdown",
   "metadata": {},
   "source": [
    "## 9. Indexing and Slicing a 2-D Array\n",
    "\n",
    "Recall our 3x2 Matrix"
   ]
  },
  {
   "cell_type": "code",
   "execution_count": null,
   "metadata": {},
   "outputs": [
    {
     "name": "stdout",
     "output_type": "stream",
     "text": [
      "[[1 2]\n",
      " [3 4]\n",
      " [5 6]]\n"
     ]
    }
   ],
   "source": [
    "print(matrix_3x2)"
   ]
  },
  {
   "cell_type": "markdown",
   "metadata": {},
   "source": [
    "If we want to grab the number 5 from the matrix using indexing, we do it like this:"
   ]
  },
  {
   "cell_type": "code",
   "execution_count": null,
   "metadata": {},
   "outputs": [
    {
     "name": "stdout",
     "output_type": "stream",
     "text": [
      "5\n"
     ]
    }
   ],
   "source": [
    "print(matrix_3x2[2,0]) #Row 2 (third row), Column 0 (first column)"
   ]
  },
  {
   "cell_type": "markdown",
   "metadata": {},
   "source": [
    "### Question 9.1 [2pts]\n",
    "\n",
    "Grab the number 2 from `matrix_3x2` using indexing and store it in the variable `num2`.\n",
    "\n",
    "Hint: What row is the number 2 located in? What column?\n",
    "\n",
    "Hint: What index represents that row? That column?\n",
    "\n",
    "For the handwritten part, write out the original matrix, label the rows and columns using python indexing, and circle the element you wish to grab."
   ]
  },
  {
   "cell_type": "code",
   "execution_count": null,
   "metadata": {},
   "outputs": [
    {
     "name": "stdout",
     "output_type": "stream",
     "text": [
      "2\n"
     ]
    }
   ],
   "source": [
    "matrix_3x2 = np.array([[1,2],\n",
    "                       [3,4],\n",
    "                       [5,6]])\n",
    "# your code here"
   ]
  },
  {
   "cell_type": "markdown",
   "metadata": {},
   "source": [
    "If we want to get a slice of a 2-D array we need to provide the rows and columns that we want to grab. Say we have a 3x3 matrix and we want to grab the numbers in the upper right of the matrix:"
   ]
  },
  {
   "cell_type": "code",
   "execution_count": null,
   "metadata": {},
   "outputs": [
    {
     "name": "stdout",
     "output_type": "stream",
     "text": [
      "[[1 2 3]\n",
      " [4 5 6]\n",
      " [7 8 9]]\n",
      " \n",
      "[[2 3]\n",
      " [5 6]]\n"
     ]
    }
   ],
   "source": [
    "matrix_3x3 = np.array([[1,2,3],\n",
    "                       [4,5,6],\n",
    "                       [7,8,9]])\n",
    "print(matrix_3x3)\n",
    "print(' ')\n",
    "print(matrix_3x3[:2,1:]) #row 0 to row 2 (not inclusive of 2), column 1 to last column"
   ]
  },
  {
   "cell_type": "markdown",
   "metadata": {},
   "source": [
    "### Question 9.2 [3pts]\n",
    "\n",
    "Grab a slice that looks like this from `matrix_3x3`:\n",
    "\n",
    "[[5,6],\n",
    "\n",
    "[8, 9]]\n",
    "\n",
    "and store it in the variable `matrix_lower_right`.\n",
    "\n",
    "For the handwritten part, write out the original matrix, label the rows and columns using python indexing, and circle the element you wish to grab."
   ]
  },
  {
   "cell_type": "code",
   "execution_count": null,
   "metadata": {},
   "outputs": [
    {
     "name": "stdout",
     "output_type": "stream",
     "text": [
      "[[5 6]\n",
      " [8 9]]\n"
     ]
    }
   ],
   "source": [
    "matrix_3x3 = np.array([[1,2,3],\n",
    "                       [4,5,6],\n",
    "                       [7,8,9]])\n",
    "# your code here"
   ]
  },
  {
   "cell_type": "markdown",
   "metadata": {},
   "source": [
    "## 10. Rotating a vector \n",
    "\n",
    "We can use matrix multiplication to rotate a vector. \n",
    "\n",
    "Watch this [video](https://youtu.be/fH5MJT3HI58?feature=shared&t=744) (starting at time 12:24) to see an example of how this is done.\n",
    "\n",
    "(If you want to understand where the rotation matrix comes from, watch the video from the beginning.)\n",
    "\n",
    "If `v` is our vector and `R` is our counterclockwise rotation matrix, then `v` matrix-multiplied by `R` will give us the rotated vector.\n",
    "\n",
    "We can find `R` using the equation provided in this image, where theta is the angle amount we wish to rotate the vector by\n",
    "\n",
    "<img src=\"https://lh3.googleusercontent.com/pw/AP1GczOyapUz6DgVw7S_WqjU61-Bvqd2rWD9h-gBeGEoxrs--xlI9Jb8vf1-6Vg9pzOqTK9gDhOoJrYoT4Bb0QmYjcYU-yEr-DeYNZoIeiItn1j4hQbr8IQMa5Or9ag1da6-wXCg6nrz1m_VIM9YBPuPWehE=w1249-h672-s-no-gm?authuser=0\"\n",
    "     width=800 />\n",
    "\n",
    "Say we wanted to rotate the column vector [1,0] by 90 degrees:\n"
   ]
  },
  {
   "cell_type": "code",
   "execution_count": null,
   "metadata": {},
   "outputs": [
    {
     "name": "stdout",
     "output_type": "stream",
     "text": [
      "original vector, v=\n",
      "[[1]\n",
      " [0]]\n",
      "rotation angle, theta= 90\n",
      "rotation matrix, R=\n",
      "[[ 0. -1.]\n",
      " [ 1.  0.]]\n",
      "rotated vector, v_rot=\n",
      "[[0.]\n",
      " [1.]]\n",
      "rotation equation:\n",
      "v_rot = Rv\n"
     ]
    }
   ],
   "source": [
    "import math\n",
    "v = np.array([[1],\n",
    "              [0]])\n",
    "print(\"original vector, v=\")\n",
    "print(v)\n",
    "theta_degrees = 90 #degrees\n",
    "print(\"rotation angle, theta=\",theta_degrees)\n",
    "theta_radians = math.radians(theta_degrees)\n",
    "R = np.array([[math.cos(theta_radians), -math.sin(theta_radians)],\n",
    "              [math.sin(theta_radians),  math.cos(theta_radians)]])\n",
    "print(\"rotation matrix, R=\")\n",
    "print(np.round(R,3))\n",
    "v_rotated = R@v\n",
    "print(\"rotated vector, v_rot=\")\n",
    "print(np.round(v_rotated))\n",
    "print(\"rotation equation:\")\n",
    "print(\"v_rot = Rv\")"
   ]
  },
  {
   "cell_type": "markdown",
   "metadata": {},
   "source": [
    "We can plot the original vector and the rotated vector we just calculated"
   ]
  },
  {
   "cell_type": "code",
   "execution_count": null,
   "metadata": {},
   "outputs": [
    {
     "data": {
      "text/plain": [
       "<matplotlib.legend.Legend at 0x18334f86850>"
      ]
     },
     "metadata": {},
     "output_type": "display_data"
    },
    {
     "data": {
      "image/png": "[encoded data removed]",
      "text/plain": [
       "<Figure size 640x480 with 1 Axes>"
      ]
     },
     "metadata": {},
     "output_type": "display_data"
    }
   ],
   "source": [
    "import matplotlib.pyplot as plt\n",
    "# plt.arrow works like this:\n",
    "# plt.array(x_location_of_vector_tail, y_location_of_vector_tail, x_location_of_vector_head, y_location_of_vector_head, ...)\n",
    "plt.arrow(0, 0, v[0,0], v[1,0], length_includes_head=True, head_width=0.1, head_length=0.2, color='blue',zorder=2,label='v')\n",
    "plt.arrow(0, 0, v_rotated[0,0], v_rotated[1,0], length_includes_head=True, head_width=0.1, head_length=0.2, color='red',zorder=3,label='v rotated by '+str(theta_degrees)+' degrees')\n",
    "plt.grid(True,zorder=0) #turn on grid lines, put them underneath everything else (zorder)\n",
    "plt.legend()"
   ]
  },
  {
   "cell_type": "markdown",
   "metadata": {},
   "source": [
    "### Question 10.1 [10pts]\n",
    "Create a function called `rotate_vec()` that rotates a two element column vector counterclockwise using matrix multiplication.\n",
    "\n",
    "\n",
    "You may use the @ symbol to perform the matrix multiplication\n",
    "\n",
    "Remember: vector_rotated = rotation_matrix @ vector\n",
    "\n",
    "The function should take the two element column vector (2-D numpy array with shape (2,1)) and the rotation angle in degrees (scalar) as arguments. \n",
    "It should **return** the rotated column vector. Call your function AND then plot the original and rotated vector to test it to make sure your function works as expected.\n",
    "\n",
    "Hint: The example code above is useful."
   ]
  },
  {
   "cell_type": "code",
   "execution_count": 36,
   "metadata": {},
   "outputs": [],
   "source": [
    "# your code here"
   ]
  },
  {
   "cell_type": "markdown",
   "metadata": {},
   "source": [
    "## 11. Inverse of a 2x2 Matrix"
   ]
  },
  {
   "cell_type": "markdown",
   "metadata": {},
   "source": [
    "Calculate the inverse of the following 2x2 Matrices using the following formula:\n",
    "\n",
    "<img src=\"https://lh3.googleusercontent.com/pw/AP1GczOtLKgq_Yp-2awvNmyM3PdKoeCVpRlwrTwUM0A0XaaAgajeIbecQGwqS-xddDn2p8NR77hikFwRpUa7l9lTnfHtIsN25X7eQ2XtdbKyWTMl8_EHO_jAReBJ4F8qAKpOclub1lmer-dyjZ1OLrdLCUgB=w643-h217-s-no-gm?authuser=0\" width=\"500\">\n",
    "\n",
    "If the determinant is zero, print to the screen `print(\"Singular Matrix. The inverse does not exist because the determinant is zero and division by zero is not allowed!\")`.\n",
    "\n",
    "Show all steps by hand. Check your work in Python using two methods:\n",
    "\n",
    "* `np.linalg.inv()` (*Examples in the [Reference Sheet](https://humboldt.cloudbank.2i2c.cloud/hub/user-redirect/git-pull?repo=https%3A%2F%2Fgithub.com%2Fbludka%2Fengr225-materials-sp2025&branch=main&urlpath=lab%2Ftree%2Fengr225-materials-sp2025%2F00_resources%2FPython_Toolbox_for_Linear_Algebra.ipynb)*)\n",
    "* Multiply the original matrix by it's inverse using the `@` symbol to make sure the Identity Matrix is returned."
   ]
  },
  {
   "cell_type": "markdown",
   "metadata": {},
   "source": [
    "### Question 11.1 [4pts]\n",
    "\n",
    "Find $A^{-1}$"
   ]
  },
  {
   "cell_type": "code",
   "execution_count": 37,
   "metadata": {},
   "outputs": [],
   "source": [
    "A = np.array([[2., 4.],\n",
    "              [1., 2.]])\n",
    "#your code here (after completing it by hand)\n",
    "# check using both methods!\n"
   ]
  },
  {
   "cell_type": "markdown",
   "metadata": {},
   "source": [
    "### Question 11.2 [4pts]\n",
    "\n",
    "Find $B^{-1}$"
   ]
  },
  {
   "cell_type": "code",
   "execution_count": 38,
   "metadata": {},
   "outputs": [],
   "source": [
    "B = np.array([[2., 3.],\n",
    "              [1., 4.]])\n",
    "#your code here (after completing it by hand)\n",
    "# check using both methods!"
   ]
  },
  {
   "cell_type": "markdown",
   "metadata": {},
   "source": [
    "### Question 11.3 [4pts]\n",
    "\n",
    "Find $C^{-1}$"
   ]
  },
  {
   "cell_type": "code",
   "execution_count": 39,
   "metadata": {},
   "outputs": [],
   "source": [
    "C = np.array([[3., 1.],\n",
    "              [2., 5.]])\n",
    "#your code here (after completing it by hand)\n",
    "# check using both methods!"
   ]
  },
  {
   "cell_type": "markdown",
   "metadata": {},
   "source": [
    "### Question 11.4 [10pts]\n",
    "\n",
    "<img src=\"https://lh3.googleusercontent.com/pw/AP1GczOtLKgq_Yp-2awvNmyM3PdKoeCVpRlwrTwUM0A0XaaAgajeIbecQGwqS-xddDn2p8NR77hikFwRpUa7l9lTnfHtIsN25X7eQ2XtdbKyWTMl8_EHO_jAReBJ4F8qAKpOclub1lmer-dyjZ1OLrdLCUgB=w643-h217-s-no-gm?authuser=0\" width=\"500\">\n",
    "\n",
    "Write a function called `mat_inv()` that calculates the inverse of a 2x2 matrix ***using the formula provided above***. \n",
    "\n",
    "The function takes a numpy array as an argument and returns the inverse as another numpy array. \n",
    "\n",
    "Call your function to make sure it works. \n",
    "\n",
    "(You do not need to do this one by hand, but since you already have your drawing kit out, it could be a good opportunity to make a flow chart!)\n",
    "\n",
    "If the user provides an argument that is NOT a 2x2 matrix, print `\"The matrix must be 2x2.\"` and return nothing.\n",
    "\n",
    "If the matrix does not have an inverse print `\"Singular Matrix. The inverse does not exist because the determinant is zero and division by zero is not allowed!\")` and return *nothing*."
   ]
  },
  {
   "cell_type": "code",
   "execution_count": 40,
   "metadata": {},
   "outputs": [],
   "source": [
    "# your code here\n"
   ]
  }
 ],
 "metadata": {
  "kernelspec": {
   "display_name": "engr225",
   "language": "python",
   "name": "python3"
  },
  "language_info": {
   "codemirror_mode": {
    "name": "ipython",
    "version": 3
   },
   "file_extension": ".py",
   "mimetype": "text/x-python",
   "name": "python",
   "nbconvert_exporter": "python",
   "pygments_lexer": "ipython3",
   "version": "3.11.7"
  }
 },
 "nbformat": 4,
 "nbformat_minor": 2
}
