{
 "cells": [
  {
   "cell_type": "markdown",
   "metadata": {},
   "source": [
    "# Week 6 Part 2 Notebook - More Loops!"
   ]
  },
  {
   "cell_type": "markdown",
   "metadata": {},
   "source": [
    "## 1. Summing it up"
   ]
  },
  {
   "cell_type": "markdown",
   "metadata": {},
   "source": [
    "**Question 1.1**\n",
    "\n",
    "Write code to calculate the following summation using a loop:\n",
    "\n",
    "$$ \\sum_{i=0}^{n} ({2i+1}) $$\n",
    "\n",
    "where n is chosen by user input.\n",
    "\n",
    "HINT: Check your code for small numbers of n. Does it work like you expect it to? Here is a review of sigma notation if needed: https://www.youtube.com/watch?v=5jwXThH6fg4"
   ]
  },
  {
   "cell_type": "code",
   "execution_count": null,
   "metadata": {},
   "outputs": [],
   "source": [
    "n = int(input())\n",
    "# your code here"
   ]
  },
  {
   "cell_type": "markdown",
   "metadata": {},
   "source": [
    "**Question 1.2** Write code to calculate the following summation using nested loops:\n",
    "\n",
    "$$ \\sum_{i=1}^{2} \\sum_{j=1}^{2} ({2i+j}) $$\n",
    "\n",
    "HINT: Check your answer by hand. Does your code give the same answer? Here is a video that reviews how to calculate double sums if needed: https://www.youtube.com/watch?app=desktop&v=S1YINQ0uoqA"
   ]
  },
  {
   "cell_type": "code",
   "execution_count": null,
   "metadata": {},
   "outputs": [],
   "source": [
    "#your code here"
   ]
  },
  {
   "cell_type": "markdown",
   "metadata": {},
   "source": [
    "## 2. Smoothie Time"
   ]
  },
  {
   "cell_type": "markdown",
   "metadata": {},
   "source": [
    "**Question 2.1** You work at a smoothie bar and you want to print out all of the possible different fruit combinations *when 1 common and 1 exotic fruit are combined*. Print all of these allowed combinations to the screen. "
   ]
  },
  {
   "cell_type": "code",
   "execution_count": null,
   "metadata": {},
   "outputs": [],
   "source": [
    "common_fruits = [\"apple\", \"banana\", \"cherry\"]\n",
    "exotic_fruits = [\"passion\", \"dragon\"]\n",
    "# your code here"
   ]
  },
  {
   "cell_type": "markdown",
   "metadata": {},
   "source": [
    "# 3. Countdown\n",
    "\n",
    "**Question 3.1** Get a number from user input. Use a For Loop to do a count down to 0, starting from the user input number. "
   ]
  },
  {
   "cell_type": "code",
   "execution_count": null,
   "metadata": {},
   "outputs": [],
   "source": [
    "# your code here"
   ]
  }
 ],
 "metadata": {
  "language_info": {
   "name": "python"
  }
 },
 "nbformat": 4,
 "nbformat_minor": 2
}
