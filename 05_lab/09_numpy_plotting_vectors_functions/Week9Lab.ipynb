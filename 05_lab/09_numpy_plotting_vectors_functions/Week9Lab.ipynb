{
 "cells": [
  {
   "cell_type": "code",
   "execution_count": null,
   "metadata": {
    "deletable": false,
    "editable": false
   },
   "outputs": [],
   "source": [
    "# Initialize Otter\n",
    "import otter\n",
    "grader = otter.Notebook(\"Week9Lab.ipynb\")"
   ]
  },
  {
   "cell_type": "markdown",
   "metadata": {},
   "source": [
    "# Lab Week 9: Numpy, Plotting, Vectors, & Functions!"
   ]
  },
  {
   "cell_type": "markdown",
   "metadata": {},
   "source": [
    "Please complete this notebook by filling in the cells provided. Before you begin, execute the cell at the top to setup the notebook by importing some helpful libraries. Each time you start your server, you will need to execute this cell again.\n",
    "\n",
    "**Note: This homework has hidden tests on it. That means even though the tests may say 100% passed, it doesn't mean your final grade will be 100%. We will be running more tests for correctness once everyone turns in the homework.**\n",
    "\n",
    "Directly sharing answers is not okay, but discussing problems with the course staff or with other students is encouraged. "
   ]
  },
  {
   "cell_type": "code",
   "execution_count": null,
   "metadata": {},
   "outputs": [],
   "source": [
    "# make sure you run this AND THE CELL AT THE VERY TOP!!!! SCROLL UP!!\n",
    "# Run this cell to set up the notebook, but please don't change it.\n",
    "from datascience import *"
   ]
  },
  {
   "cell_type": "markdown",
   "metadata": {},
   "source": [
    "# 1. Functions"
   ]
  },
  {
   "cell_type": "markdown",
   "metadata": {
    "deletable": false,
    "editable": false
   },
   "source": [
    "### Question 1.1\n",
    "\n",
    "Define a user function called `welcome()` that **prints** \"Welcome to Lab 9\". Then call the function."
   ]
  },
  {
   "cell_type": "code",
   "execution_count": null,
   "metadata": {
    "tags": []
   },
   "outputs": [],
   "source": [
    "# your code here\n",
    "..."
   ]
  },
  {
   "cell_type": "code",
   "execution_count": null,
   "metadata": {
    "deletable": false,
    "editable": false
   },
   "outputs": [],
   "source": [
    "grader.check(\"q1_1\")"
   ]
  },
  {
   "cell_type": "markdown",
   "metadata": {
    "deletable": false,
    "editable": false,
    "id": "DFQcbsuiM2x_"
   },
   "source": [
    "### Question 1.2\n",
    "\n",
    "Define a user function `date_format()` with 3 parameters: `day_num`, `month_word`, and `year_full_num`. The `month_word` parameter should be the full word for the month. The function should then **print** a numeric date with slashes in the format: M/D/Y, where only the last two digits of the year are shown.\n",
    "\n",
    "Call your function using *positional arguments* to test it.\n",
    "For example: `date_format(3,'January',2019)` should output 1/3/19. Make sure your function works for any date between the start of year 1000 A.D. and now. (Assume the user knows what century they are referencing.)"
   ]
  },
  {
   "cell_type": "code",
   "execution_count": null,
   "metadata": {
    "colab": {
     "base_uri": "https://localhost:8080/"
    },
    "executionInfo": {
     "elapsed": 215,
     "status": "ok",
     "timestamp": 1712106454793,
     "user": {
      "displayName": "Bonnie Ludka",
      "userId": "16620433016455303136"
     },
     "user_tz": 420
    },
    "id": "P75nSRA9PKV3",
    "outputId": "36db11dd-ac66-4cb9-9ef7-18ba1dcc20e6",
    "tags": []
   },
   "outputs": [],
   "source": [
    "# your code here\n",
    "..."
   ]
  },
  {
   "cell_type": "code",
   "execution_count": null,
   "metadata": {
    "deletable": false,
    "editable": false
   },
   "outputs": [],
   "source": [
    "grader.check(\"q1_2\")"
   ]
  },
  {
   "cell_type": "markdown",
   "metadata": {
    "deletable": false,
    "editable": false,
    "id": "eq4WNHqrSD9E"
   },
   "source": [
    "<!-- BEGIN QUESTION -->\n",
    "\n",
    "### Question 1.3\n",
    "Add a docstring into the function you defined in Question 1.2 that describes the type and format of each parameter and the format of the function output. Use the help() function to check to make sure your docstring displays how you'd like."
   ]
  },
  {
   "cell_type": "code",
   "execution_count": null,
   "metadata": {
    "colab": {
     "base_uri": "https://localhost:8080/"
    },
    "executionInfo": {
     "elapsed": 6,
     "status": "ok",
     "timestamp": 1712106717761,
     "user": {
      "displayName": "Bonnie Ludka",
      "userId": "16620433016455303136"
     },
     "user_tz": 420
    },
    "id": "IshBT6wXSfqX",
    "outputId": "f5f72037-7670-499c-e939-ff7c96dc9f00",
    "tags": []
   },
   "outputs": [],
   "source": [
    "# your code here\n",
    "..."
   ]
  },
  {
   "cell_type": "markdown",
   "metadata": {
    "deletable": false,
    "editable": false,
    "id": "rcyygOAUQyvO"
   },
   "source": [
    "<!-- END QUESTION -->\n",
    "\n",
    "<!-- BEGIN QUESTION -->\n",
    "\n",
    "### Question 1.4\n",
    "\n",
    "Call your function from Question 1.2 using *keyword arguments*. Assign the `month_word` parameter using the **first argument**. Assign the `day_num` parameter using the **second argument**. Assign the `year_full_num` parameter using the **third argument**."
   ]
  },
  {
   "cell_type": "code",
   "execution_count": null,
   "metadata": {
    "colab": {
     "base_uri": "https://localhost:8080/"
    },
    "executionInfo": {
     "elapsed": 254,
     "status": "ok",
     "timestamp": 1712106780940,
     "user": {
      "displayName": "Bonnie Ludka",
      "userId": "16620433016455303136"
     },
     "user_tz": 420
    },
    "id": "D2JFkwoJRmqn",
    "outputId": "5899a63d-0519-4b7e-bda2-a03cba45fadc",
    "tags": []
   },
   "outputs": [],
   "source": [
    "# your code here\n",
    "..."
   ]
  },
  {
   "cell_type": "markdown",
   "metadata": {
    "deletable": false,
    "editable": false,
    "id": "ro-hHkTpRuPc"
   },
   "source": [
    "<!-- END QUESTION -->\n",
    "\n",
    "### Question 1.5\n",
    "\n",
    "Define a user function `driving_cost()` with 3 parameters `miles_per_gallon`, `dollars_per_gallon`, and `miles_driven`, that **returns** the dollar cost to drive those miles. Your function should round the dollar cost to the second decimal place using the `round()` function before returning the value. Hint: you can read about the `round()` function using `help(round)`.\n",
    "\n",
    "Call your function to make sure it works. For example: `c = driving_cost(20.0, 5.1799, 50.0)` should store 12.95 in `c`. Print `c` to check.\n",
    "\n"
   ]
  },
  {
   "cell_type": "code",
   "execution_count": null,
   "metadata": {
    "colab": {
     "base_uri": "https://localhost:8080/"
    },
    "executionInfo": {
     "elapsed": 6,
     "status": "ok",
     "timestamp": 1712106965482,
     "user": {
      "displayName": "Bonnie Ludka",
      "userId": "16620433016455303136"
     },
     "user_tz": 420
    },
    "id": "snZQHhJ8UrFQ",
    "outputId": "5f671314-d26e-4f73-d86c-42a99bc1b481",
    "tags": []
   },
   "outputs": [],
   "source": [
    "# your code here\n",
    "..."
   ]
  },
  {
   "cell_type": "code",
   "execution_count": null,
   "metadata": {
    "deletable": false,
    "editable": false
   },
   "outputs": [],
   "source": [
    "grader.check(\"q1_5\")"
   ]
  },
  {
   "cell_type": "markdown",
   "metadata": {
    "deletable": false,
    "editable": false,
    "id": "9FuHR_6QXv2h"
   },
   "source": [
    "### Question 1.6\n",
    "Write a user function `rectangle_info()` with parameters `length` and `width`. The function should **return** the rectangle perimeter AND the rectangle area IN THAT ORDER.\n",
    "\n",
    "Call your function and store each return value in a separate variable by **\"unpacking\"** the returned tuple."
   ]
  },
  {
   "cell_type": "code",
   "execution_count": null,
   "metadata": {
    "colab": {
     "base_uri": "https://localhost:8080/"
    },
    "executionInfo": {
     "elapsed": 201,
     "status": "ok",
     "timestamp": 1712107095114,
     "user": {
      "displayName": "Bonnie Ludka",
      "userId": "16620433016455303136"
     },
     "user_tz": 420
    },
    "id": "ckhmf6t0gvO2",
    "outputId": "5cb11ca4-40eb-4e0c-eace-25aaf0e1b7b2",
    "tags": []
   },
   "outputs": [],
   "source": [
    "# your code here\n",
    "..."
   ]
  },
  {
   "cell_type": "code",
   "execution_count": null,
   "metadata": {
    "deletable": false,
    "editable": false
   },
   "outputs": [],
   "source": [
    "grader.check(\"q1_6\")"
   ]
  },
  {
   "cell_type": "markdown",
   "metadata": {
    "id": "6DzVm3ZpBtFa"
   },
   "source": [
    "# 2. Vectors"
   ]
  },
  {
   "cell_type": "code",
   "execution_count": null,
   "metadata": {
    "id": "RqkhxhiFZ9U1"
   },
   "outputs": [],
   "source": [
    "# make sure to run this code!\n",
    "import numpy as np\n",
    "import matplotlib.pyplot as plt\n",
    "%matplotlib inline"
   ]
  },
  {
   "cell_type": "markdown",
   "metadata": {
    "id": "M9KxY6pOgWJK"
   },
   "source": [
    "## 2.1 Plotting Vectors"
   ]
  },
  {
   "cell_type": "code",
   "execution_count": null,
   "metadata": {
    "colab": {
     "base_uri": "https://localhost:8080/",
     "height": 453
    },
    "executionInfo": {
     "elapsed": 421,
     "status": "ok",
     "timestamp": 1712107916454,
     "user": {
      "displayName": "Bonnie Ludka",
      "userId": "16620433016455303136"
     },
     "user_tz": 420
    },
    "id": "kERxei__B08m",
    "outputId": "57ba0265-aa8f-42ff-cfd9-97f4b5395d1e"
   },
   "outputs": [],
   "source": [
    "u = np.array([2, 4]) #1d array\n",
    "print(u)\n",
    "\n",
    "plt.arrow(0, 0, u[0], u[1], length_includes_head=True, head_width=0.2, head_length=0.4, color='blue',zorder=2)\n",
    "plt.xlim([0, 6]) #x axis limits\n",
    "plt.ylim([0, 6]) #y axis limits\n",
    "plt.grid(True,zorder=1) #turn on grid lines, put underneath the arrow using a lower zorder\n",
    "plt.show()"
   ]
  },
  {
   "cell_type": "markdown",
   "metadata": {
    "deletable": false,
    "editable": false,
    "id": "pJdBQRpOkK2x"
   },
   "source": [
    "<!-- BEGIN QUESTION -->\n",
    "\n",
    "**Play around with the code that creates the figure above.**\n",
    "\n",
    "### Question 2.1.1\n",
    "\n",
    "The first two arguments of the `plt.arrow()` function are zero. Describe what happens if you change them both to 1.\n",
    "\n"
   ]
  },
  {
   "cell_type": "markdown",
   "metadata": {},
   "source": [
    "_Type your answer here, replacing this text._"
   ]
  },
  {
   "cell_type": "markdown",
   "metadata": {
    "deletable": false,
    "editable": false,
    "id": "GJfqcPK5lZhl"
   },
   "source": [
    "<!-- END QUESTION -->\n",
    "\n",
    "<!-- BEGIN QUESTION -->\n",
    "\n",
    "### Question 2.1.2\n",
    "\n",
    "Describe what happens if you make `length_includes_head=False`?"
   ]
  },
  {
   "cell_type": "markdown",
   "metadata": {},
   "source": [
    "_Type your answer here, replacing this text._"
   ]
  },
  {
   "cell_type": "markdown",
   "metadata": {
    "deletable": false,
    "editable": false,
    "id": "b94QXqQbl1mL"
   },
   "source": [
    "<!-- END QUESTION -->\n",
    "\n",
    "<!-- BEGIN QUESTION -->\n",
    "\n",
    "### Question 2.1.3\n",
    "\n",
    "Describe what happens if you change the `head_width` and the `head_length` values?"
   ]
  },
  {
   "cell_type": "markdown",
   "metadata": {},
   "source": [
    "_Type your answer here, replacing this text._"
   ]
  },
  {
   "cell_type": "markdown",
   "metadata": {
    "deletable": false,
    "editable": false,
    "id": "NdCMUBuomi2N"
   },
   "source": [
    "<!-- END QUESTION -->\n",
    "\n",
    "<!-- BEGIN QUESTION -->\n",
    "\n",
    "### Question 2.1.4\n",
    "\n",
    "***Within the `plt.arrow()`*** function, describe what happens if you change `zorder=2` to `zorder=0`?"
   ]
  },
  {
   "cell_type": "markdown",
   "metadata": {},
   "source": [
    "_Type your answer here, replacing this text._"
   ]
  },
  {
   "cell_type": "markdown",
   "metadata": {
    "deletable": false,
    "editable": false,
    "id": "VlR1Gmd9m2x0"
   },
   "source": [
    "<!-- END QUESTION -->\n",
    "\n",
    "<!-- BEGIN QUESTION -->\n",
    "\n",
    "### Question 2.1.5\n",
    "\n",
    "Change `plt.xlim([0, 6])` to `plt.xlim([-6, 6])`. Describe what happens to the plot?"
   ]
  },
  {
   "cell_type": "markdown",
   "metadata": {},
   "source": [
    "_Type your answer here, replacing this text._"
   ]
  },
  {
   "cell_type": "markdown",
   "metadata": {
    "deletable": false,
    "editable": false,
    "id": "SZuvcH2in4pI"
   },
   "source": [
    "<!-- END QUESTION -->\n",
    "\n",
    "<!-- BEGIN QUESTION -->\n",
    "\n",
    "### Question 2.1.6\n",
    "\n",
    "Change `plt.grid(True,zorder=1)` to `plt.grid(False)`. Describe what happens to the plot?"
   ]
  },
  {
   "cell_type": "markdown",
   "metadata": {},
   "source": [
    "_Type your answer here, replacing this text._"
   ]
  },
  {
   "cell_type": "markdown",
   "metadata": {
    "deletable": false,
    "editable": false,
    "id": "jMrEwYdTuap-"
   },
   "source": [
    "<!-- END QUESTION -->\n",
    "\n",
    "## 2.2 Magnitude of a vector\n",
    "Suppose we have a vector with n elements:\n",
    "\n",
    "$\\vec{v} = (v_1,v_2,...,v_n)$ in ${\\rm I\\!R}^n$\n",
    "\n",
    "The magnitude of the vector can be found as,\n",
    "\n",
    "$||\\vec{v}|| = \\sqrt{v_1^2 + v_2^2 + ...v_n^2}$"
   ]
  },
  {
   "cell_type": "markdown",
   "metadata": {
    "deletable": false,
    "editable": false,
    "id": "_vLaMK1QwTyX"
   },
   "source": [
    "### Question 2.2.1\n",
    "\n",
    "Create a USER FUNCTION called `mag` that calculates the magnitude of a vector. The function should take *one argument that is either a list or an array of numbers* which represents a vector. It should **return** one value which is the magnitude. Use a LOOP to calculate the summation under the root.\n",
    "\n",
    "Make sure your function correctly returns the magnitude for any size vector."
   ]
  },
  {
   "cell_type": "code",
   "execution_count": null,
   "metadata": {
    "colab": {
     "base_uri": "https://localhost:8080/",
     "height": 193
    },
    "executionInfo": {
     "elapsed": 318,
     "status": "error",
     "timestamp": 1712854088692,
     "user": {
      "displayName": "Sam Kiser",
      "userId": "00625456763048199201"
     },
     "user_tz": 420
    },
    "id": "0Vra5FYOwkNq",
    "outputId": "c7e56f23-18ad-45ca-f0e1-b34819ccb626",
    "tags": []
   },
   "outputs": [],
   "source": [
    "#Your function here\n",
    "..."
   ]
  },
  {
   "cell_type": "code",
   "execution_count": null,
   "metadata": {
    "tags": []
   },
   "outputs": [],
   "source": [
    "#test your function on this 2D vector\n",
    "u = np.array([3,4])\n",
    "print(mag(u))\n",
    "#is the resulting magnitude what you expect?"
   ]
  },
  {
   "cell_type": "code",
   "execution_count": null,
   "metadata": {
    "tags": []
   },
   "outputs": [],
   "source": [
    "#test your function on this random 20 element vector\n",
    "u = np.random.randint(0,100,20)\n",
    "print(\"u=\",u)\n",
    "print(mag(u))\n",
    "#does it work even for a large number of elements like this?"
   ]
  },
  {
   "cell_type": "code",
   "execution_count": null,
   "metadata": {
    "deletable": false,
    "editable": false
   },
   "outputs": [],
   "source": [
    "grader.check(\"q2_2_1\")"
   ]
  },
  {
   "cell_type": "markdown",
   "metadata": {
    "id": "p-UTKepgwq_W"
   },
   "source": [
    "## 2.3 Direction of a vector\n",
    "\n",
    "<img src=\"https://lh3.googleusercontent.com/pw/ADCreHdSG3G7W2bbYr7SdhANlnvaU_Vvjv6Hb-63UbWVXYDASIAmQbCc1Xt1L0Y-wccyxz5NVWWXtTClxSeosV5Ifzk1wJT88MjE9PWIzzBiMTa2KheqC4_dFxaxytn8S1LE5wK5gvjuDqKNWugvlR7BT-Wf=w484-h463-s-no-gm?authuser=0\" width=\"350\">\n",
    "\n",
    "Suppose we have a 2-D vector :\n",
    "\n",
    "$\\vec{v} = (v_1,v_2)$\n",
    "\n",
    "Using geometry,\n",
    "\n",
    "$tan(\\theta) = \\frac{v_2}{v_1}$\n",
    "\n",
    "So\n",
    "\n",
    "$\\theta = tan^{-1}(\\frac{v_2}{v_1})$\n",
    "\n",
    "Note that $\\theta$ is defined as the counterclockwise angle from the x-axis, such that a vector in the bottom-right quadrant (4th quadrant) has $\\theta$ as depicted below:\n",
    "\n",
    "<img src=\"https://lh3.googleusercontent.com/pw/ADCreHe37CmfFVVRHFSIYPkdQ2I_g-QuW2cLxwWrZ0xZUzEE032F_96LoSFeutZVNKgkfnZFZQyadyn37tLoISCFoOJ_GtAa4T9zv90QOAfVpBOcUh2zd-5yKO0VV--9G3c886bSkC3JE8fkdwIuWncwWqOF=w538-h520-s-no-gm?authuser=0\" width=\"350\">\n",
    "\n",
    "\n"
   ]
  },
  {
   "cell_type": "markdown",
   "metadata": {
    "deletable": false,
    "editable": false,
    "id": "H-9u1WMP3bPC"
   },
   "source": [
    "<!-- BEGIN QUESTION -->\n",
    "\n",
    "### Question 2.3.1\n",
    "\n",
    "Create four 2D vectors, where each vector is in a different quadrant:\n",
    "\n",
    "<img src=\"https://lh3.googleusercontent.com/pw/ADCreHemWnJcdihmnkpSHHvlO9ouQEICiuNgPQqycTB-CuJwzDjxyL0LoMWlVzI3kU65m3Oextt-mn4MpAsSw5UUUA3Cdcxl6TQqEn1ShkEY4kBRfYrV3q8VJ4TdK3WUXQIrXIQ2aB4PUY-CGHlunjybaoKY=w290-h258-s-no-gm?authuser=0\" width=\"350\">\n",
    "\n",
    "  "
   ]
  },
  {
   "cell_type": "code",
   "execution_count": null,
   "metadata": {
    "id": "7XPP2lew4tbV",
    "tags": []
   },
   "outputs": [],
   "source": [
    "#first quadrant\n",
    "u1 = np.array([2,2])\n",
    "#second quadrant\n",
    "u2 = np.array([-2,2])\n",
    "#third quadrant\n",
    "#your code here\n",
    "..."
   ]
  },
  {
   "cell_type": "markdown",
   "metadata": {
    "deletable": false,
    "editable": false,
    "id": "jg8_CXk64puE"
   },
   "source": [
    "<!-- END QUESTION -->\n",
    "\n",
    "<!-- BEGIN QUESTION -->\n",
    "\n",
    "### Question 2.3.2\n",
    "\n",
    "Calculate the direction of each of the vectors you made using the `np.arctan()` inverse tangent function, and convert to degrees using the `np.degrees()` function. Add a \"fudge factor\" when needed to get the angle to match the geometric definition of vector direction in the schematics above.  "
   ]
  },
  {
   "cell_type": "code",
   "execution_count": null,
   "metadata": {
    "colab": {
     "base_uri": "https://localhost:8080/"
    },
    "executionInfo": {
     "elapsed": 157,
     "status": "ok",
     "timestamp": 1712109831205,
     "user": {
      "displayName": "Bonnie Ludka",
      "userId": "16620433016455303136"
     },
     "user_tz": 420
    },
    "id": "CYJtiNEM3y7D",
    "outputId": "24515687-5147-4334-b5f6-3af999620554",
    "tags": []
   },
   "outputs": [],
   "source": [
    "#first quadrant\n",
    "print('first quadrant')\n",
    "#first try using np.atan()\n",
    "theta1 = np.arctan(u1[1]/u1[0])\n",
    "print(np.degrees(theta1))\n",
    "print('')\n",
    "\n",
    "#second quadrant\n",
    "print('second quadrant')\n",
    "#first try using np.atan()\n",
    "theta2 = np.arctan(u2[1]/u2[0])\n",
    "# Hrm this isn't what I expect\n",
    "print(np.degrees(theta2))\n",
    "# Add a fudge factor to get it to be what I think it should be\n",
    "fudge = 180\n",
    "print(np.degrees(theta2)+fudge)\n",
    "print('')\n",
    "\n",
    "#your code here\n",
    "..."
   ]
  },
  {
   "cell_type": "markdown",
   "metadata": {
    "deletable": false,
    "editable": false,
    "id": "Gndm-X0x2GpY"
   },
   "source": [
    "<!-- END QUESTION -->\n",
    "\n",
    "### Question 2.3.3\n",
    "Write a USER FUNCTION called `vecdir` using IF-ELIF-ELSE branching that **returns** the direction (theta) of a 2D vector using the code you wrote above. Your function should take a list or a numpy array as an argument.\n",
    "\n",
    "Test your user function using the vectors you created above, AND using vectors that lie on the boundaries between each quadrant. "
   ]
  },
  {
   "cell_type": "code",
   "execution_count": null,
   "metadata": {
    "id": "fh6yUyW4AO5_",
    "tags": []
   },
   "outputs": [],
   "source": [
    "#your user function code here\n",
    "..."
   ]
  },
  {
   "cell_type": "code",
   "execution_count": null,
   "metadata": {
    "deletable": false,
    "editable": false
   },
   "outputs": [],
   "source": [
    "grader.check(\"q2_3_3\")"
   ]
  },
  {
   "cell_type": "markdown",
   "metadata": {
    "id": "Jp4C-LyoEalQ"
   },
   "source": [
    "## 2.4 Vector Addition\n",
    "\n",
    "Numpy arrays make vector addition easy:"
   ]
  },
  {
   "cell_type": "code",
   "execution_count": null,
   "metadata": {
    "colab": {
     "base_uri": "https://localhost:8080/"
    },
    "executionInfo": {
     "elapsed": 7,
     "status": "ok",
     "timestamp": 1699404905398,
     "user": {
      "displayName": "Bonnie Ludka",
      "userId": "16620433016455303136"
     },
     "user_tz": 480
    },
    "id": "8D8-O5dGE-hX",
    "outputId": "4dcf7512-ef08-4936-dfb6-53008cca5d37"
   },
   "outputs": [],
   "source": [
    "u = np.array([2, 4]) #1d array\n",
    "print(u)\n",
    "v = np.array([5, 3]) #1d array\n",
    "print(v)\n",
    "\n",
    "print(\"u+v=\",u+v)"
   ]
  },
  {
   "cell_type": "markdown",
   "metadata": {
    "deletable": false,
    "editable": false,
    "id": "3UCQ1s-qFHzo"
   },
   "source": [
    "<!-- BEGIN QUESTION -->\n",
    "\n",
    "### Question 2.4.1\n",
    "\n",
    "Using the vectors defined in the code above, create a plot showing the addition of vectors $\\vec{u}$ and $\\vec{v}$, and the resultant vector $\\overrightarrow{u+v}$. Use the vectors from the code above.\n",
    "\n",
    "Place the tail of $\\vec{u}$ at the origin. Place the tail of $\\vec{v}$ at the head of $\\vec{u}$. Place the tail of $\\overrightarrow{u+v}$ at the origin.  \n",
    "\n",
    "Hint: Refer to your answer in Question 2.1.1. Make each vector a different color and show all your vectors on the same plot."
   ]
  },
  {
   "cell_type": "code",
   "execution_count": null,
   "metadata": {
    "colab": {
     "base_uri": "https://localhost:8080/",
     "height": 471
    },
    "executionInfo": {
     "elapsed": 540,
     "status": "ok",
     "timestamp": 1712109938791,
     "user": {
      "displayName": "Bonnie Ludka",
      "userId": "16620433016455303136"
     },
     "user_tz": 420
    },
    "id": "5fjCz9ktFhEd",
    "outputId": "604fd458-41f7-4f0a-8bb8-f335085397c6",
    "tags": []
   },
   "outputs": [],
   "source": [
    "#Your plotting code here\n",
    "..."
   ]
  },
  {
   "cell_type": "markdown",
   "metadata": {
    "deletable": false,
    "editable": false,
    "id": "304pdF6PGlua"
   },
   "source": [
    "<!-- END QUESTION -->\n",
    "\n",
    "## 2.5 Scaling a vector\n",
    "\n",
    "Numpy arrays make scaling a vector easy too:"
   ]
  },
  {
   "cell_type": "code",
   "execution_count": null,
   "metadata": {
    "colab": {
     "base_uri": "https://localhost:8080/"
    },
    "executionInfo": {
     "elapsed": 5,
     "status": "ok",
     "timestamp": 1699404905398,
     "user": {
      "displayName": "Bonnie Ludka",
      "userId": "16620433016455303136"
     },
     "user_tz": 480
    },
    "id": "DvVAA4gkG-I6",
    "outputId": "a176acfb-46dc-46e0-dac6-aaa231681379"
   },
   "outputs": [],
   "source": [
    "u = np.array([2, 4]) #1d array\n",
    "print(u)\n",
    "c = 2\n",
    "\n",
    "print(\"2u=\",c*u)"
   ]
  },
  {
   "cell_type": "markdown",
   "metadata": {
    "deletable": false,
    "editable": false,
    "id": "dBvYwjmjHIKp"
   },
   "source": [
    "<!-- BEGIN QUESTION -->\n",
    "\n",
    "### Question 2.5.1\n",
    "\n",
    "Using the vectors defined in the code above, create a plot showing the original vector $\\vec{u}$ and scaled vector $2\\vec{u}$. Place the tails of both vectors at the origin. Hint: Refer to your answer in Question 2.1.4. Make each vector a different color and show all your vectors on the same plot."
   ]
  },
  {
   "cell_type": "code",
   "execution_count": null,
   "metadata": {
    "colab": {
     "base_uri": "https://localhost:8080/",
     "height": 435
    },
    "executionInfo": {
     "elapsed": 929,
     "status": "ok",
     "timestamp": 1712109959484,
     "user": {
      "displayName": "Bonnie Ludka",
      "userId": "16620433016455303136"
     },
     "user_tz": 420
    },
    "id": "xLHcrYATIw7L",
    "outputId": "f106950a-f262-466a-a3f8-d4d50ef2c2bb",
    "tags": []
   },
   "outputs": [],
   "source": [
    "#your plotting code here\n",
    "\n",
    "..."
   ]
  },
  {
   "cell_type": "markdown",
   "metadata": {
    "deletable": false,
    "editable": false,
    "id": "kfx2GgctK4Nb"
   },
   "source": [
    "<!-- END QUESTION -->\n",
    "\n",
    "## 2.6 Unit vectors\n",
    "\n",
    "A unit vector has a magnitude of 1.\n",
    "\n",
    "To find a unit vector in the same direction as $\\vec{v}$:\n",
    "\n",
    "$\\frac{1}{||\\vec{v}||}\\vec{v}$"
   ]
  },
  {
   "cell_type": "markdown",
   "metadata": {
    "deletable": false,
    "editable": false,
    "id": "jHyisDh-LKt8"
   },
   "source": [
    "<!-- BEGIN QUESTION -->\n",
    "\n",
    "### Question 2.6.1\n",
    "Using your magnitude user function from Question 2.2.1, find a unit vector in the direction of $\\vec{v}$. Plot the unit vector on top of the original vector. Place both of the vector tails at the origin."
   ]
  },
  {
   "cell_type": "code",
   "execution_count": null,
   "metadata": {
    "colab": {
     "base_uri": "https://localhost:8080/",
     "height": 435
    },
    "executionInfo": {
     "elapsed": 372,
     "status": "ok",
     "timestamp": 1712110558590,
     "user": {
      "displayName": "Bonnie Ludka",
      "userId": "16620433016455303136"
     },
     "user_tz": 420
    },
    "id": "ZPnNMJKpLE5P",
    "outputId": "2c52265d-b245-4ff3-ec2e-48912d24ad35",
    "tags": []
   },
   "outputs": [],
   "source": [
    "v = np.array([2, 4]) #1d array\n",
    "# plot this vector and a unit vector in the same direction\n",
    "..."
   ]
  },
  {
   "cell_type": "markdown",
   "metadata": {
    "deletable": false,
    "editable": false,
    "id": "Z0ex9srRkjXB"
   },
   "source": [
    "<!-- END QUESTION -->\n",
    "\n",
    "You're done with the lab!  \n",
    "\n",
    "**Important submission steps:** \n",
    "1. Run the tests and verify that they all pass.\n",
    "2. Choose **Save Notebook** from the **File** menu, then **run the final cell**. \n",
    "3. Click the link to download the zip file.\n",
    "4. Then submit the zip file to the corresponding assignment according to your instructor's directions. \n",
    "\n",
    "**It is your responsibility to make sure your work is saved before running the last cell.**"
   ]
  },
  {
   "cell_type": "markdown",
   "metadata": {
    "deletable": false,
    "editable": false
   },
   "source": [
    "## Submission\n",
    "\n",
    "Make sure you have run all cells in your notebook in order before running the cell below, so that all images/graphs appear in the output. The cell below will generate a zip file for you to submit. **Please save before exporting!**"
   ]
  },
  {
   "cell_type": "code",
   "execution_count": null,
   "metadata": {
    "deletable": false,
    "editable": false
   },
   "outputs": [],
   "source": [
    "# Save your notebook first, then run this cell to export your submission.\n",
    "grader.export(pdf=False, run_tests=True)"
   ]
  },
  {
   "cell_type": "markdown",
   "metadata": {},
   "source": [
    " "
   ]
  }
 ],
 "metadata": {
  "colab": {
   "provenance": [
    {
     "file_id": "1O53y490Ze6jHdZ5ju0KtPSmZC1wpT-Qc",
     "timestamp": 1712106028657
    },
    {
     "file_id": "1o3jHYLanLdCE5tNQGmse-yRrt3kUO7CO",
     "timestamp": 1710819998612
    }
   ]
  },
  "kernelspec": {
   "display_name": "engr225",
   "language": "python",
   "name": "python3"
  },
  "language_info": {
   "codemirror_mode": {
    "name": "ipython",
    "version": 3
   },
   "file_extension": ".py",
   "mimetype": "text/x-python",
   "name": "python",
   "nbconvert_exporter": "python",
   "pygments_lexer": "ipython3",
   "version": "3.11.7"
  },
  "otter": {
   "OK_FORMAT": true,
   "tests": {
    "q1_1": {
     "name": "q1_1",
     "points": [
      2
     ],
     "suites": [
      {
       "cases": [
        {
         "code": ">>> welcome()\nWelcome to Lab 9\n",
         "hidden": false,
         "locked": false
        }
       ],
       "scored": true,
       "setup": "",
       "teardown": "",
       "type": "doctest"
      }
     ]
    },
    "q1_2": {
     "name": "q1_2",
     "points": [
      2
     ],
     "suites": [
      {
       "cases": [
        {
         "code": ">>> date_format(3, 'January', 2019)\n1/3/19\n",
         "hidden": false,
         "locked": false
        }
       ],
       "scored": true,
       "setup": "",
       "teardown": "",
       "type": "doctest"
      }
     ]
    },
    "q1_5": {
     "name": "q1_5",
     "points": [
      2
     ],
     "suites": [
      {
       "cases": [
        {
         "code": ">>> driving_cost(20.0, 5.1799, 50.0) == 12.95\nTrue",
         "hidden": false,
         "locked": false
        }
       ],
       "scored": true,
       "setup": "",
       "teardown": "",
       "type": "doctest"
      }
     ]
    },
    "q1_6": {
     "name": "q1_6",
     "points": [
      2
     ],
     "suites": [
      {
       "cases": [
        {
         "code": ">>> rectangle_info(18, 8) == (52, 144)\nTrue",
         "hidden": false,
         "locked": false
        }
       ],
       "scored": true,
       "setup": "",
       "teardown": "",
       "type": "doctest"
      }
     ]
    },
    "q2_2_1": {
     "name": "q2_2_1",
     "points": [
      5
     ],
     "suites": [
      {
       "cases": [
        {
         "code": ">>> mag([3, 4]) == 5\nTrue",
         "hidden": false,
         "locked": false
        }
       ],
       "scored": true,
       "setup": "",
       "teardown": "",
       "type": "doctest"
      }
     ]
    },
    "q2_3_3": {
     "name": "q2_3_3",
     "points": [
      2,
      2
     ],
     "suites": [
      {
       "cases": [
        {
         "code": ">>> u1 = np.array([2, 2])\n>>> vecdir(u1) == 45.0\nTrue",
         "hidden": false,
         "locked": false
        },
        {
         "code": ">>> u5 = np.array([3, 0])\n>>> vecdir(u5) == 0.0 or vecdir(u5) == 360.0\nTrue",
         "hidden": false,
         "locked": false
        }
       ],
       "scored": true,
       "setup": "",
       "teardown": "",
       "type": "doctest"
      }
     ]
    }
   }
  }
 },
 "nbformat": 4,
 "nbformat_minor": 0
}
