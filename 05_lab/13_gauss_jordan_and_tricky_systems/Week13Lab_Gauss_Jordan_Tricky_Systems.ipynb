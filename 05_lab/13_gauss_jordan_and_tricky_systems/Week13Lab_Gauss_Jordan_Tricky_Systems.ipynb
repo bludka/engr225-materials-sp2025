{
 "cells": [
  {
   "cell_type": "markdown",
   "metadata": {
    "id": "BuDCX7YnLVrE"
   },
   "source": [
    "# Lab Week 13\n",
    "You will turn in TWO documents via Canvas upload:\n",
    "1. Handwritten answers\n",
    "2. Python Jupyter Notebook answer\n",
    "\n",
    "You are encouraged to use:\n",
    "* [Python for Linear Algebra Reference Sheet](https://humboldt.cloudbank.2i2c.cloud/hub/user-redirect/git-pull?repo=https%3A%2F%2Fgithub.com%2Fbludka%2Fengr225-materials-sp2025&branch=main&urlpath=lab%2Ftree%2Fengr225-materials-sp2025%2F00_resources%2FPython_Toolbox_for_Linear_Algebra.ipynb)\n",
    "* [Echelon Forms and Characterizing Solutions to Systems of Equations](https://humboldt.cloudbank.2i2c.cloud/hub/user-redirect/git-pull?repo=https%3A%2F%2Fgithub.com%2Fbludka%2Fengr225-materials-sp2025&branch=main&urlpath=lab%2Ftree%2Fengr225-materials-sp2025%2F00_resources%2FEchelon_Forms_and_Characterizing_Solutions_to_Systems_of_Equations.ipynb)\n",
    "* Lecture Notes:\n",
    "    * [Elimination Methods for Inconsistent and Non-Unique Systems](https://docs.google.com/presentation/d/1ZFaO8ykgwQkmGKcvaMrJn3j2mHJDxbRLuc1I_ZS896U/edit?usp=sharing)\n",
    "\n",
    "<font color='red'>***Answer all questions by hand first, then repeat the task using Python in this notebook.***<font> "
   ]
  },
  {
   "cell_type": "markdown",
   "metadata": {
    "id": "SMDSOUVk-Tp8"
   },
   "source": [
    "## 1. Gauss-Jordan Elimination [10 pts each]\n",
    "\n",
    "Perform the following tasks for each system of equation below\n",
    "\n",
    "> a.) Create a coefficient matrix, named $A$. [0.5pt]\n",
    "\n",
    "> b.) Create a column vector (mx1 matrix) of the constants, named $b$. [0.5pt]\n",
    "\n",
    "> c.) Concatenate $A$ and $b$ to create an augmented matrix $[A | b]$. (*When you do this in Python, make sure to use code to do this.) [0.5pt]\n",
    "\n",
    "> d.) Use **Gauss-Jordan elimination** to solve your system of equations. (*Show all row operations.) [5pts]\n",
    "\n",
    "> e.) Write on paper the basic and free variables of the system. [0.5pt]\n",
    "\n",
    "> f.) Write on paper whether the solution to the system is **consistent** or **inconsistent**. [1pt]\n",
    "\n",
    "> g.) Write on paper whether the solution to the system is **unique** or **non-unique**. If the system is inconsistent, write *N/A*. [1pt]\n",
    "\n",
    "> h.) Write on paper the solution for each of your variables. *If the solution is non-unique, write your solutions in terms of your free variables. If the solution does not exist, write DNE.* [1pt]\n",
    "\n",
    "\n",
    "\n",
    "\n"
   ]
  },
  {
   "cell_type": "code",
   "execution_count": 1,
   "metadata": {
    "id": "MtGuE6dW54rL"
   },
   "outputs": [],
   "source": [
    "# run this code!\n",
    "import numpy as np\n",
    "np.set_printoptions(precision=4,suppress=True)"
   ]
  },
  {
   "cell_type": "markdown",
   "metadata": {
    "id": "DDOYcMI4H0KZ"
   },
   "source": [
    "### Question 1.1\n",
    "\n",
    "Make sure to complete steps a-g above for the following system:\n",
    "\n",
    "> $x_1 + 4x_4 = 6 $\n",
    "\n",
    "> $x_2 - 3x_4 = 2 $\n",
    "\n",
    "> $x_3 + x_4 = -5 $"
   ]
  },
  {
   "cell_type": "code",
   "execution_count": null,
   "metadata": {
    "id": "Gf697evcQlLv"
   },
   "outputs": [],
   "source": [
    "# Your code here. I have included reminders of each step in comments.\n",
    "\n",
    "#a) coefficient matrix A\n",
    "# your code here\n",
    "\n",
    "#b) vector of constants b\n",
    "# your code here\n",
    "\n",
    "#c) augmented matrix A|b\n",
    "# your code here\n",
    "\n",
    "#d) Gausss-JORDAN Elimination. Show all row operations\n",
    "# your code here\n",
    "\n",
    "#e) basic and free variables? \n",
    "# write in your handwritten solutions\n",
    "\n",
    "#f) consistent? # write in your handwritten solutions\n",
    "\n",
    "#g) unique? # write in your handwritten solutions\n",
    "\n",
    "#h) solution # write in your handwritten solutions"
   ]
  },
  {
   "cell_type": "markdown",
   "metadata": {
    "id": "EYSf_GYeiRZR"
   },
   "source": [
    "### Question 1.2\n",
    "\n",
    "Make sure to complete steps a-g above for the following system:\n",
    "\n",
    "> $2x_1 + 2x_2 + 2x_3 = 0 $\n",
    "\n",
    "> $-2x_1 + 5x_2 + 2x_3 = 1 $\n",
    "\n",
    "> $8x_1 + x_2 + 4x_3 = -1 $"
   ]
  },
  {
   "cell_type": "code",
   "execution_count": null,
   "metadata": {
    "id": "pWFZRxkAQMDs"
   },
   "outputs": [],
   "source": [
    "#a) coefficient matrix A\n",
    "# your code here\n",
    "\n",
    "#b) vector of constants b\n",
    "# your code here\n",
    "\n",
    "#c) augmented matrix A|b\n",
    "# your code here\n",
    "\n",
    "#d) Gausss-JORDAN Elimination. Show all row operations\n",
    "# your code here\n",
    "\n",
    "#e) basic and free variables? # write in your handwritten solutions\n",
    "\n",
    "#f) consistent? # write in your handwritten solutions\n",
    "\n",
    "#g) unique? # write in your handwritten solutions\n",
    "\n",
    "#h) solution # write in your handwritten solutions"
   ]
  },
  {
   "cell_type": "markdown",
   "metadata": {
    "id": "gIQ-Plv3pDlI"
   },
   "source": [
    "### Question 1.3\n",
    "\n",
    "Make sure to complete steps a-g above for the following system:\n",
    "\n",
    "> $x_1 - x_3 + 2x_6=  4$\n",
    "\n",
    "> $x_2 + 2x_3 -6x_5 -x_6 =  0$\n",
    "\n",
    "> $4x_1 - 4x_3 + x_4 -3x_5 + 12x_6 = 18$\n",
    "\n",
    "> $2x_1 -2x_3  + 4x_6 = 8$\n"
   ]
  },
  {
   "cell_type": "code",
   "execution_count": null,
   "metadata": {
    "id": "Fl4LBTF6QPeT"
   },
   "outputs": [],
   "source": [
    "#a) coefficient matrix A\n",
    "# your code here\n",
    "\n",
    "#b) vector of constants b\n",
    "# your code here\n",
    "\n",
    "#c) augmented matrix A|b\n",
    "# your code here\n",
    "\n",
    "#d) Gausss-JORDAN Elimination. Show all row operations\n",
    "# your code here\n",
    "\n",
    "#e) basic and free variables? # write in your handwritten solutions\n",
    "\n",
    "#f) consistent? # write in your handwritten solutions\n",
    "\n",
    "#g) unique? # write in your handwritten solutions\n",
    "\n",
    "#h) solution # write in your handwritten solutions"
   ]
  },
  {
   "cell_type": "markdown",
   "metadata": {
    "id": "ROjkycWrJrnV"
   },
   "source": [
    "### Question 1.4\n",
    "\n",
    "Make sure to complete steps a-g above for the following system:\n",
    "\n",
    "> $x_1 + 2x_2 + 5x_4 =  0$\n",
    "\n",
    "> $x_3 +9x_4  =  4$\n",
    "\n",
    "> $x_1 + 2x_2 + 5x_4 = -5$"
   ]
  },
  {
   "cell_type": "code",
   "execution_count": null,
   "metadata": {
    "id": "m9FNPaYTQR0f"
   },
   "outputs": [],
   "source": [
    "#a) coefficient matrix A\n",
    "# your code here\n",
    "\n",
    "#b) vector of constants b\n",
    "# your code here\n",
    "\n",
    "#c) augmented matrix A|b\n",
    "# your code here\n",
    "\n",
    "#d) Gausss-JORDAN Elimination. Show all row operations\n",
    "# your code here\n",
    "\n",
    "#e) basic and free variables? # write in your handwritten solutions\n",
    "\n",
    "#f) consistent?# write in your handwritten solutions\n",
    "\n",
    "#g) unique? # write in your handwritten solutions\n",
    "\n",
    "#h) solution # write in your handwritten solutions\n"
   ]
  }
 ],
 "metadata": {
  "colab": {
   "authorship_tag": "ABX9TyNI5oJEMTzPXSjFS2g10Z1z",
   "provenance": [],
   "toc_visible": true
  },
  "kernelspec": {
   "display_name": "engr225",
   "language": "python",
   "name": "python3"
  },
  "language_info": {
   "codemirror_mode": {
    "name": "ipython",
    "version": 3
   },
   "file_extension": ".py",
   "mimetype": "text/x-python",
   "name": "python",
   "nbconvert_exporter": "python",
   "pygments_lexer": "ipython3",
   "version": "3.11.7"
  }
 },
 "nbformat": 4,
 "nbformat_minor": 0
}
