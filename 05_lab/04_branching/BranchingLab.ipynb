{
 "cells": [
  {
   "cell_type": "markdown",
   "metadata": {},
   "source": [
    "# Lab: Branching Part 2\n",
    "\n",
    "So far your labs have all been in zyLabs through the zyBook.  zyLabs are great for getting started, but you need to move beyond them to be able to learn how to check your own code. That is why many of your future labs (and your exam) will look more like this!\n",
    "\n",
    "Please complete this notebook by filling in the cells provided. \n",
    "\n",
    "*You are encouraged to collaborate! However, do NOT share your copy with anyone- not even your lab partner. You are welcome to discuss each others' code in the spirit of mutual collaboration, but direct sharing of work is not allowed.*\n",
    "\n",
    "You should start early so that you have time to get help if you're stuck.\n",
    "\n",
    "**NOTE**: Flowcharts are required for this part of the lab!  Here is a reminder of the standard symbol convention for flowcharts:\n",
    "\n",
    "<img src=\"https://wcs.smartdraw.com/flowchart/img/basic-symbols-table.jpg?bn=15100111864\"\n",
    "     width=500 />"
   ]
  },
  {
   "cell_type": "markdown",
   "metadata": {},
   "source": [
    "# 1. Roll the Dice\n",
    "\n",
    "We can use the random module to do similulations. For example, we can simulate 'tossing a coin', where generating a zero represents tails, and generating a 1 represents heads:"
   ]
  },
  {
   "cell_type": "code",
   "execution_count": null,
   "metadata": {},
   "outputs": [],
   "source": [
    "import random #once you import a package into the notebook you do NOT need to do it again later in the notebook\n",
    "x = random.randrange(0, 2) #This includes zero and 1 but not 2.\n",
    "print(x)\n",
    "if x==0:\n",
    "    print('tails')\n",
    "else:\n",
    "    print('heads')"
   ]
  },
  {
   "cell_type": "markdown",
   "metadata": {},
   "source": [
    "**Question 1.1.** Now let's simulate a 6-sided die roll. Write some code to 'roll the die'. Store the result of the die roll in the variable name `roll`, and print the numeric value that is 'rolled'. "
   ]
  },
  {
   "cell_type": "code",
   "execution_count": null,
   "metadata": {},
   "outputs": [],
   "source": [
    "# your code here"
   ]
  },
  {
   "cell_type": "markdown",
   "metadata": {},
   "source": [
    "**Question 1.2.** Now write some code that rolls 2 die (`roll1` and `roll2`). Print both values to the screen. Additionally, if both rolls are the same print 'Winner!'. If they are not the same, print 'Roll again!'. Be sure to test your code to make sure it works. "
   ]
  },
  {
   "cell_type": "code",
   "execution_count": null,
   "metadata": {},
   "outputs": [],
   "source": [
    "# your code here"
   ]
  },
  {
   "cell_type": "markdown",
   "metadata": {},
   "source": [
    "# 2. Keeping Time"
   ]
  },
  {
   "cell_type": "markdown",
   "metadata": {},
   "source": [
    "**Question 2.1.** Write some code to convert standard civilian time to miliary time. Ask for user input using the format shown below. \n",
    "\n",
    "Extract the hours, minutes, and AM/PM into separate variables using *string slicing*. \n",
    "\n",
    "If the hour is in the afternoon and is less than 12, add 12 to convert to military time. \n",
    "\n",
    "Print out the equivalent miliary time using this format 'HHMM', where HH represents the hours and MM represents the minutes. \n",
    "\n",
    "Modify your code to account for the midnight hour. The midnight hour in military time is 00. "
   ]
  },
  {
   "cell_type": "code",
   "execution_count": null,
   "metadata": {},
   "outputs": [],
   "source": [
    "t = input('What time is it in civilian time? (Example Format: 01:43 PM)')\n",
    "# your code here"
   ]
  },
  {
   "cell_type": "markdown",
   "metadata": {},
   "source": [
    "**Question 2.2.**  Write some code that takes user input for the month and outputs the number of days in that month.\n",
    "\n",
    "To do this, check if the user's month is in the list `months31`, and if so print '31 days'. \n",
    "\n",
    "If it is not in that list, then check if it is in the list `months30`, and if so print '30 days'. \n",
    "\n",
    "If it is not in that list either, you can assume that the month is February. Therefore, ask the user if it is a leap year ('Yes' or 'No' input). If 'Yes', then print '29 days', otherwise, print '28 days'. "
   ]
  },
  {
   "cell_type": "code",
   "execution_count": null,
   "metadata": {},
   "outputs": [],
   "source": [
    "months31 = ['January', 'March', 'May', 'July', 'August', 'October', 'December']\n",
    "months30 = ['September', 'April', 'June', 'November']\n",
    "\n",
    "m = input('Input a month. Please type out the entire word:')\n",
    "# your code here"
   ]
  },
  {
   "cell_type": "markdown",
   "metadata": {},
   "source": [
    "# 3. Student Groups"
   ]
  },
  {
   "cell_type": "markdown",
   "metadata": {},
   "source": [
    "**Question 3.1.**\n",
    "\n",
    "Bonnie wants to group students based on the first letter of their last name. Please write code to help them:\n",
    "\n",
    "* Take an input from the keyboard and make sure you instruct the user what to input, e.g., `Please input your last name: {keyboard input}`\n",
    "* If the first letter is from A to N, group the student to Group \"CROW\" and print out `Your last name is {last name} and you are a CROW.`\n",
    "* If the first letter is from O to Z, group the student to Group \"RAVEN\", `Your last name is {last name} and you are a RAVEN.`\n",
    "* Else, print out `Sorry, this program can only deal with alphabetical names.`\n",
    "\n",
    "To complete this task:\n",
    "\n",
    "* Use the \"ascii code\" to find the numeric representation of the letters. Use the python function `ord()` to get the ascii code of a letter. \n",
    "* Use the ascii codes for BOTH upper and lower case letters, in case students input lower case names.\n",
    "\n",
    "<img src=\"https://www.johndcook.com/ascii.png\">\n",
    "\n",
    "\n",
    "\n"
   ]
  },
  {
   "cell_type": "code",
   "execution_count": 1,
   "metadata": {},
   "outputs": [],
   "source": [
    "# your code here"
   ]
  }
 ],
 "metadata": {
  "kernelspec": {
   "display_name": "data111",
   "language": "python",
   "name": "python3"
  },
  "language_info": {
   "codemirror_mode": {
    "name": "ipython",
    "version": 3
   },
   "file_extension": ".py",
   "mimetype": "text/x-python",
   "name": "python",
   "nbconvert_exporter": "python",
   "pygments_lexer": "ipython3",
   "version": "3.11.7"
  }
 },
 "nbformat": 4,
 "nbformat_minor": 2
}
