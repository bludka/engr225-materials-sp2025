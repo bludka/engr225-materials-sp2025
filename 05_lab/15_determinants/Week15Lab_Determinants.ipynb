{
 "cells": [
  {
   "cell_type": "markdown",
   "metadata": {},
   "source": [
    "# Lab Week 15: The Determinant\n",
    "\n",
    "**This part of your lab is CODING ONLY.  You do not need to complete the problems by hand.**\n",
    "\n",
    "REMEMBER: If you need to do something repeatedly use a LOOP. Points will be taken off if you don't use a loop when you should!"
   ]
  },
  {
   "cell_type": "code",
   "execution_count": null,
   "metadata": {},
   "outputs": [],
   "source": [
    "#run this!\n",
    "import numpy as np\n",
    "np.set_printoptions(precision=4,suppress=True)"
   ]
  },
  {
   "cell_type": "markdown",
   "metadata": {},
   "source": [
    "## 1. Minors\n",
    "\n",
    "A **minor** of matrix $A$ is is the determinant of some smaller square submatrix of $A$ (with one or more of its rows and columns removed).\n",
    "\n",
    "\n",
    "$M_{ij}(A)$ is the determinant of the smaller ($n-1$ x $m-1$) matrix formed\n",
    "by removing row $i$ and column $j$ from $A$.\n",
    "\n",
    "For example\n",
    "\n",
    "$ A = \\begin{bmatrix}\n",
    "1 & 3 & 2 \\\\\n",
    "-2 & 1 & 1 \\\\\n",
    "4 & 0 & 3\n",
    "\\end{bmatrix} $\n",
    "\n",
    "Using Python Indexing:\n",
    "\n",
    "$M_{00}(A) = \\begin{vmatrix}\n",
    "1 & 1 \\\\\n",
    "0 & 3\n",
    "\\end{vmatrix}$ = 1\\*3 - 1\\*0 = 3\n"
   ]
  },
  {
   "cell_type": "markdown",
   "metadata": {},
   "source": [
    "### Question 1.1 [5pts]\n",
    "\n",
    "Write a USER FUNCTION named `minor()` to calculate a minor of a 3x3 matrix. The user passes values for the original matrix, and $i$ and $j$ to the function and the function returns the calculated minor.\n",
    "\n",
    "Use python indexing for all parts of your answer (function arguments, function calculations, and function return). *Don't forget that you need to calculate the determinant of the submatrix to find the minor!* Make sure to call your function to test it. \n",
    "\n",
    "Hint: You may want to use the `np.delete()` function- I have provided an example of how to use this function below."
   ]
  },
  {
   "cell_type": "code",
   "execution_count": null,
   "metadata": {},
   "outputs": [],
   "source": [
    "A = np.array([[1,3,2],\n",
    "              [-2,1,1],\n",
    "              [4,0,3]])\n",
    "#chose i and j (assume python indexing)\n",
    "i = 1\n",
    "j = 1\n",
    "#delete the row you don't want\n",
    "Ar = np.delete(A,i,axis=0) #axis=0 refers to rows\n",
    "print(Ar)\n",
    "#delete the column you don't want\n",
    "Arc = np.delete(Ar,j,axis=1) #axis=1 refers to columns\n",
    "print(Arc)"
   ]
  },
  {
   "cell_type": "code",
   "execution_count": null,
   "metadata": {},
   "outputs": [],
   "source": [
    "# your code here"
   ]
  },
  {
   "cell_type": "markdown",
   "metadata": {},
   "source": [
    "## 2. Cofactors\n",
    "\n",
    "A **cofactor** of matrix $A$ is similar to the minor but multiplied by a $+1$ or $-1$:\n",
    "\n",
    "$$C_{ij}= (-1)^{i+j}M_{ij}(A)$$"
   ]
  },
  {
   "cell_type": "markdown",
   "metadata": {},
   "source": [
    "### Question 2.1 [5pts]\n",
    "\n",
    "Create another USER FUNCTION called `cofac()` to calculate the cofactor of a 3x3 matrix. To accomplish this, call the function you created in Question 1.1. The user passes values for the original matrix, and $i$ and $j$ to the function. The function returns the calculated cofactor.\n",
    "\n",
    "Use python indexing for all parts of your answer. Make sure to call your function to test it."
   ]
  },
  {
   "cell_type": "code",
   "execution_count": null,
   "metadata": {},
   "outputs": [],
   "source": [
    "# your code here"
   ]
  },
  {
   "cell_type": "markdown",
   "metadata": {},
   "source": [
    "## 3. Cofactor Expansions\n",
    "\n",
    "A *cofactor expansion* can be used to calculate the *determinant* of a matrix."
   ]
  },
  {
   "cell_type": "markdown",
   "metadata": {},
   "source": [
    "### Question 3.1 [5pts]\n",
    "\n",
    "The cofactor expansion along the $i$-th row is calculated as:\n",
    "\n",
    "$$\\sum_{j=1}^{n} a_{ij}C_{ij} $$\n",
    "\n",
    "Create another USER FUNCTION  called `cofac_expansion_top_row()` that calculates the cofactor expansion **along the top row** of a 3x3 matrix. To accomplish this, call the function `cofac()` that you created in Question 2.1. The user passes a 3x3 matrix to the function and the function returns the determinant.\n",
    "\n",
    "Use python indexing for all parts of your answer. Make sure to call your function to test it. You may check your answer using the `np.linalg.det()` function."
   ]
  },
  {
   "cell_type": "code",
   "execution_count": null,
   "metadata": {},
   "outputs": [],
   "source": [
    "# your code here"
   ]
  },
  {
   "cell_type": "markdown",
   "metadata": {},
   "source": [
    "### Question 3.2 [5pts]\n",
    "\n",
    "The cofactor expansion along the $j$-th column is calculated as:\n",
    "\n",
    "$$\\sum_{i=1}^{n} a_{ij}C_{ij} $$\n",
    "\n",
    "Create another USER FUNCTION named `cofac_expansion_left_col()` that calculates the cofactor expansion **along the leftmost column** of a 3x3 matrix. To accomplish this, call the function `cofac()` that you created in Question 2.1. The user passes a 3x3 matrix to the function and the function returns the determinant.\n",
    "\n",
    "Use python indexing for all parts of your answer. Make sure to call your function to test it."
   ]
  },
  {
   "cell_type": "code",
   "execution_count": null,
   "metadata": {},
   "outputs": [],
   "source": [
    "# your code here"
   ]
  },
  {
   "cell_type": "markdown",
   "metadata": {},
   "source": [
    "## 4. Cofactor Matrix\n",
    "\n",
    "The cofactor MATRIX... is a matrix of all the cofactors:\n",
    "\n",
    "<img src=\"https://lh3.googleusercontent.com/pw/AP1GczOXzdh9AxxDYFO0N5oN64ksuLA9z4KhfMCvHYPEcQs3glbvjIe7AZrbyzAqodgFY1KnFvexoL67yJyyJPeE2E6t6iwUs5JQOcDPUOwc3B8hooqWTNwP30vnzy6Kv7-_Wz7j4q0fuID5JFkYWsG1T_my=w292-h190-s-no-gm?authuser=0\" width=\"200\">\n",
    "\n",
    "### Question 4.1 [5pts]\n",
    "\n",
    "Create a USER FUNCTION named `cofac_matrix()` that generates the cofactor MATRIX. To accomplish this, call the function `cofac()` that you created in Question 2.1. The user passes a 3x3 matrix to the function and the function returns the cofactor MATRIX.\n",
    "\n",
    "Use python indexing for all parts of your answer. Make sure to call your function to test it.\n",
    "\n",
    "Hint: Create a storage variable for your cofactor matrix using `np.zeros((3,3))` and then replace each zero with the appropriate cofactor."
   ]
  },
  {
   "cell_type": "code",
   "execution_count": null,
   "metadata": {},
   "outputs": [],
   "source": [
    "# your code here"
   ]
  },
  {
   "cell_type": "markdown",
   "metadata": {},
   "source": [
    "## 5. Adjoint Matrix\n",
    "\n",
    "The adjoint matrix is the transpose of the cofactor matrix:\n",
    "\n",
    "<img src=\"https://lh3.googleusercontent.com/pw/AP1GczMMOMMpsq-thqCeoOzkre0sIeLozurpTQu9dO6W57Dd5hUnLBl_GV17PRG2hnQLWd359jWskdkr4i0Rnh_JdjWnOJGe1zvSvn3ZDQ7yk8U6ULEwZ8yBpeB-hl3krQHZu68i5m2Fk6jSHVTLpA2hjLNw=w409-h184-s-no-gm?authuser=0\" width=\"300\">\n",
    "\n"
   ]
  },
  {
   "cell_type": "markdown",
   "metadata": {},
   "source": [
    "### Question 5.1 [5pts]\n",
    "\n",
    "Create a USER FUNCTION named `adj_matrix()` that generates the adjoint matrix. To accomplish this, call the function `cofac_matrix()` that you created in Question 4.1 and the the built in numpy function `np.transpose()`. The user passes a 3x3 matrix to the function and the function returns the adjoint matrix. \n",
    "\n",
    "Use python indexing for all parts of your answer. Make sure to call your function to test it."
   ]
  },
  {
   "cell_type": "code",
   "execution_count": null,
   "metadata": {},
   "outputs": [],
   "source": [
    "# your code here"
   ]
  },
  {
   "cell_type": "markdown",
   "metadata": {},
   "source": [
    "## 6. Inverse\n",
    "\n",
    "The determinant and the adjoint matrix can be used to find the matrix inverse:\n",
    "\n",
    "$A^{-1} = \\frac{1}{\\text{det}(A)} \\text{adj}(A) $"
   ]
  },
  {
   "cell_type": "markdown",
   "metadata": {},
   "source": [
    "### Question 6.1 [5pts]\n",
    "\n",
    "Create a USER FUNCTION named `inverse_from_cofacs()` that calculates the matrix inverse. To accomplish there, call the functions `cofac_expansion_top_row()` and `adj_matrix()`. The user passes a 3x3 matrix to the function and the function returns the inverse matrix. \n",
    "\n",
    "Use python indexing for all parts of your answer. Make sure to call your function to test it. You may check your answer using the `np.linalg.inv()` function."
   ]
  },
  {
   "cell_type": "code",
   "execution_count": null,
   "metadata": {},
   "outputs": [],
   "source": [
    "# your code here"
   ]
  }
 ],
 "metadata": {
  "kernelspec": {
   "display_name": "engr225",
   "language": "python",
   "name": "python3"
  },
  "language_info": {
   "codemirror_mode": {
    "name": "ipython",
    "version": 3
   },
   "file_extension": ".py",
   "mimetype": "text/x-python",
   "name": "python",
   "nbconvert_exporter": "python",
   "pygments_lexer": "ipython3",
   "version": "3.11.7"
  }
 },
 "nbformat": 4,
 "nbformat_minor": 2
}
