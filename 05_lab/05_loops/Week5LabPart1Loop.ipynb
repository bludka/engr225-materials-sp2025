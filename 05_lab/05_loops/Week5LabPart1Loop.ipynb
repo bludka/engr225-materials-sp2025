{
 "cells": [
  {
   "cell_type": "markdown",
   "metadata": {
    "id": "Nmm13-7ICACn"
   },
   "source": [
    "# Week 5 Lab Part 1: Loops!\n",
    "\n",
    "So far your labs have mostly been in zyLabs through the zyBook.  zyLabs are great for getting started, but you need to move beyond them to be able to learn how to check your own code. That is why many of your future labs (and your exam) will look more like this!\n",
    "\n",
    "Please complete this notebook by filling in the cells provided. \n",
    "\n",
    "*You are encouraged to collaborate! However, do NOT share your copy with anyone- not even your lab partner. You are welcome to discuss each others' code in the spirit of mutual collaboration, but direct sharing of work is not allowed.*\n",
    "\n",
    "You should start early so that you have time to get help if you're stuck.\n",
    "\n",
    "**NOTE**: Flowcharts are required for this part of the lab!  \n",
    "\n",
    "Remember it is best to make your flowchart BEFORE you start coding!\n",
    "\n",
    "Here is a reminder of the standard symbol convention for flowcharts:\n",
    "\n",
    "<img src=\"flowchart_convention.jpg\"\n",
    "     width=500 />\n",
    "\n",
    "Let's use a **HEXAGON** to signify a loop. I've included some examples below to help you figure out how to place one in a diagram."
   ]
  },
  {
   "cell_type": "markdown",
   "metadata": {
    "id": "rIFETyo8CPz9"
   },
   "source": [
    "# 1. Roll the Die\n",
    "\n",
    "**Question 1.1.** Write some code that rolls 2 die (`roll1` and `roll2`). Print both values to the screen. Additionally, if both rolls are the same, print 'Winner!'. If they are not the same, ask the user 'Would you like to play again?'. If the user responds 'Yes', then roll the dice again. Continue rolling until the user wins, or the user does not want to play anymore. I have made the flow chart for you for this one to get you started with while loop diagramming:\n",
    "\n",
    "<img src=\"https://lh3.googleusercontent.com/pw/ABLVV87yx4HbBaDIxHQs7cz6ImYTIUZ64SWzRNhavQTLRw6dZUZPoOf7YARvWcAbPp14HK-ucsOAOxPy5E-8Yxsf49Na9mAItF0nl1FsNNgJJDN2oCIW8PgkG3BxSpJlRbAB9mEqnBp6aJirfHsMNBgbxqjk=w669-h827-s-no-gm?authuser=0\" width=400 />\n",
    "\n",
    "NOTE: Because I have provided this flowchart for you, you do not need to make one yourself."
   ]
  },
  {
   "cell_type": "code",
   "execution_count": null,
   "metadata": {
    "colab": {
     "base_uri": "https://localhost:8080/"
    },
    "executionInfo": {
     "elapsed": 9140,
     "status": "ok",
     "timestamp": 1708750998877,
     "user": {
      "displayName": "Bonnie Ludka",
      "userId": "16620433016455303136"
     },
     "user_tz": 480
    },
    "id": "9vd4DjG8B3jx",
    "outputId": "ccde0a72-b596-4608-dc5b-ae43bf4b2509"
   },
   "outputs": [],
   "source": [
    "# your code here"
   ]
  },
  {
   "cell_type": "markdown",
   "metadata": {
    "id": "Ps62hE7PEynE"
   },
   "source": [
    "**Question 1.2.**\n",
    "Write some code to roll a single 6-sided die. If you do NOT roll the value 6, roll again and add the next number to the previous rolls to get the Roll Total.\n",
    "\n",
    "Print the Roll Value AND the Roll Total after each roll.\n",
    "\n",
    "For example:\n",
    "\n",
    "If you roll a 4 value, and then a 5 value, and then a 6 value, the Roll Total is 9. (The 6 does not contribute to the Roll Total.)\n",
    "\n",
    "If you roll a 1 value, and then a 4 value, and then a 2 value, and then a 6 value, the Roll Total is 7.\n",
    "\n",
    "If you roll a 6 value right away, then the Roll Total is 0.\n",
    "\n",
    "NOTE: You should make a flowchart BEFORE you start coding!"
   ]
  },
  {
   "cell_type": "code",
   "execution_count": null,
   "metadata": {
    "colab": {
     "base_uri": "https://localhost:8080/"
    },
    "executionInfo": {
     "elapsed": 206,
     "status": "ok",
     "timestamp": 1708752090260,
     "user": {
      "displayName": "Bonnie Ludka",
      "userId": "16620433016455303136"
     },
     "user_tz": 480
    },
    "id": "fEVg-gE6FRwd",
    "outputId": "795e27cb-e952-4b70-92aa-5528a10aefa6"
   },
   "outputs": [],
   "source": [
    "# your code here\n"
   ]
  },
  {
   "cell_type": "markdown",
   "metadata": {
    "id": "nrMagq8YFpak"
   },
   "source": [
    "# 2. Favorite food\n",
    "\n",
    "**Question 2.1.**\n",
    "Create a list that contains 3 of your favorite foods. Use a for loop to print out each food item on a new line.\n",
    "\n",
    "For example,\n",
    "\n",
    "If my favorite foods are ['Pizza', 'Chocolate', 'Oranges']\n",
    "\n",
    "Then the Output would be:\n",
    "\n",
    "\n",
    "Pizza\n",
    "\n",
    "Chocolate\n",
    "\n",
    "Oranges\n",
    "\n",
    "NOTE: You must use a for loop to recieve credit for this question.\n",
    "\n",
    "I have made the flow chart for you for this one to get you started with for loop diagramming:\n",
    "\n",
    "<img src=\"https://lh3.googleusercontent.com/pw/ABLVV87EVTmKEjlPwokj-WFGFUIz7Gm1WY83m02f7umD1SYQRURXgP6fK60El2SIUoURfCVtmCQQ3jTK7KOy0jXzXBws7ljSNwxH5FYMSjlOani-EhxZA3ODVLKu3Zg4HSi4qE8QNnp8oPilRl-OVzvsZoal=w558-h655-s-no-gm?authuser=0\" width=400 />\n",
    "\n",
    "NOTE: Because I have provided this flowchart for you, you do not need to make one yourself."
   ]
  },
  {
   "cell_type": "code",
   "execution_count": null,
   "metadata": {
    "colab": {
     "base_uri": "https://localhost:8080/"
    },
    "executionInfo": {
     "elapsed": 199,
     "status": "ok",
     "timestamp": 1708752157669,
     "user": {
      "displayName": "Bonnie Ludka",
      "userId": "16620433016455303136"
     },
     "user_tz": 480
    },
    "id": "_DNZs71GHaCC",
    "outputId": "187084ad-8ff7-407d-b766-0b0985b2d869"
   },
   "outputs": [],
   "source": [
    "# your code here"
   ]
  },
  {
   "cell_type": "markdown",
   "metadata": {
    "id": "wta3x0KxdNFD"
   },
   "source": [
    "**Question 2.2.**\n",
    "Additionally, create a list that contains 3 of your lab partner's favorite foods. Use a for loop to print out BOTH your AND your partners favorite food items side-by-side on a new line.\n",
    "\n",
    "For example,\n",
    "\n",
    "If my favorite foods are ['Pizza', 'Chocolate', 'Oranges']\n",
    "\n",
    "And my partner's favorite foods are ['Burger', 'Pasta', 'Sushi']\n",
    "\n",
    "Then the Output would be:\n",
    "\n",
    "Pizza Burger\n",
    "\n",
    "Chocolate Pasta\n",
    "\n",
    "Oranges Sushi\n",
    "\n",
    "NOTE: You must use a for loop to recieve credit for this question.\n",
    "\n",
    "HINT: Let your loop variable be an index."
   ]
  },
  {
   "cell_type": "code",
   "execution_count": null,
   "metadata": {
    "colab": {
     "base_uri": "https://localhost:8080/"
    },
    "executionInfo": {
     "elapsed": 4,
     "status": "ok",
     "timestamp": 1708752243990,
     "user": {
      "displayName": "Bonnie Ludka",
      "userId": "16620433016455303136"
     },
     "user_tz": 480
    },
    "id": "17GHrk9Tkp-7",
    "outputId": "ebc7deb6-fd92-49ea-f739-2a5f803a860c"
   },
   "outputs": [],
   "source": [
    "# your code here"
   ]
  },
  {
   "cell_type": "markdown",
   "metadata": {
    "id": "Oy9VbFCzFf6B"
   },
   "source": [
    "# 3. Summing it up"
   ]
  },
  {
   "cell_type": "markdown",
   "metadata": {
    "id": "q47EVL2JFj_k"
   },
   "source": [
    "**Question 3.1.**\n",
    "Given the list of numbers below, calculate the sum of the elements in the list using a for loop. NOTE: You must use a for loop to compute the sum to recieve credit for this question."
   ]
  },
  {
   "cell_type": "code",
   "execution_count": null,
   "metadata": {
    "colab": {
     "base_uri": "https://localhost:8080/"
    },
    "executionInfo": {
     "elapsed": 183,
     "status": "ok",
     "timestamp": 1708752402209,
     "user": {
      "displayName": "Bonnie Ludka",
      "userId": "16620433016455303136"
     },
     "user_tz": 480
    },
    "id": "CXvDnTnHf5FN",
    "outputId": "f2d6a9c8-056e-42ee-ff9f-dc5a5048d2db"
   },
   "outputs": [],
   "source": [
    "nums = [0, 3, 6, -5, 36, 2, 21, -7, 1]\n",
    "# your code here"
   ]
  },
  {
   "cell_type": "markdown",
   "metadata": {
    "id": "wNOQ5IVLmQAB"
   },
   "source": [
    "**Question 3.2.** Given the list of numbers below, calculate the sum of the **POSITIVE** elements in the list using a for loop. NOTE: You must use a for loop to compute the sum to recieve credit for this question."
   ]
  },
  {
   "cell_type": "code",
   "execution_count": null,
   "metadata": {
    "colab": {
     "base_uri": "https://localhost:8080/"
    },
    "executionInfo": {
     "elapsed": 5,
     "status": "ok",
     "timestamp": 1708752376625,
     "user": {
      "displayName": "Bonnie Ludka",
      "userId": "16620433016455303136"
     },
     "user_tz": 480
    },
    "id": "FVWUDh69mZCf",
    "outputId": "ba5faec8-dc5d-4087-ed66-00f6b5e003e3"
   },
   "outputs": [],
   "source": [
    "nums = [0, 3, 6, -5, 36, 2, 21, -7, 1]\n",
    "# your code here"
   ]
  },
  {
   "cell_type": "markdown",
   "metadata": {
    "id": "aCLc4KfEm2G5"
   },
   "source": [
    "# 4. On Average\n",
    "\n",
    "**Question 4.1** The lists below show the assignment grades for two students. Calculate the average of their grades, for EACH assignment using a for loop. Store the average scores in a list and print the result. NOTE: You must use a for loop to do some of the averaging computation to recieve credit for this question.\n",
    "\n",
    "For example the students averaged a 89.5 on HW 1, so 89.5 would be the first element in the list that is printed out."
   ]
  },
  {
   "cell_type": "code",
   "execution_count": null,
   "metadata": {
    "colab": {
     "base_uri": "https://localhost:8080/"
    },
    "executionInfo": {
     "elapsed": 2,
     "status": "ok",
     "timestamp": 1708752504875,
     "user": {
      "displayName": "Bonnie Ludka",
      "userId": "16620433016455303136"
     },
     "user_tz": 480
    },
    "id": "EyrLd84hnBI2",
    "outputId": "b926c301-ad19-4395-d7b2-d8e25e2ded47"
   },
   "outputs": [],
   "source": [
    "          #HW1 #HW2 #Exam1  #HW3  #HW4  #Exam2\n",
    "student1 = [90, 87, 78,     99,   93,     82]\n",
    "student2 = [89, 91, 86,     99,   90,     97]\n",
    "\n",
    "# your code here"
   ]
  },
  {
   "cell_type": "markdown",
   "metadata": {
    "id": "ByXG7WGbx0Ws"
   },
   "source": [
    "# Turn it in!\n",
    "After you are finished, go to File -> Download as -> Notebook. Then upload this .ipynb file to Canvas. Then you are done!"
   ]
  }
 ],
 "metadata": {
  "colab": {
   "authorship_tag": "ABX9TyMbytu19Z7cK51ryC03JV0X",
   "provenance": [
    {
     "file_id": "1aF3-7r7BR5ku6I_yZS5qIUnOxsL9HUBA",
     "timestamp": 1708750715711
    }
   ]
  },
  "kernelspec": {
   "display_name": "Python 3",
   "name": "python3"
  },
  "language_info": {
   "name": "python"
  }
 },
 "nbformat": 4,
 "nbformat_minor": 0
}
