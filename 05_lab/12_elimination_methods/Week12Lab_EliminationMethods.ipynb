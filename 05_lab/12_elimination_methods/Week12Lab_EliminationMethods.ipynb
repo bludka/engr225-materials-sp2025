{
 "cells": [
  {
   "cell_type": "markdown",
   "metadata": {
    "id": "BuDCX7YnLVrE"
   },
   "source": [
    "# Lab Week 12\n",
    "You will turn in TWO documents via Canvas upload:\n",
    "1. Handwritten answers\n",
    "2. Python Jupyter Notebook answer\n",
    "\n",
    "You are encouraged to use:\n",
    "* [Python for Linear Algebra Reference Sheet](https://humboldt.cloudbank.2i2c.cloud/hub/user-redirect/git-pull?repo=https%3A%2F%2Fgithub.com%2Fbludka%2Fengr225-materials-sp2025&branch=main&urlpath=lab%2Ftree%2Fengr225-materials-sp2025%2F00_resources%2FPython_Toolbox_for_Linear_Algebra.ipynb)\n",
    "* [Elimination Notes for \"Nice\" Systems](https://humboldt.cloudbank.2i2c.cloud/hub/user-redirect/git-pull?repo=https%3A%2F%2Fgithub.com%2Fbludka%2Fengr225-materials-sp2025&branch=main&urlpath=lab%2Ftree%2Fengr225-materials-sp2025%2F00_resources%2FElimination_Methods_for_Systems_of_Equations_with_Unique_Solution.ipynb)\n",
    "* Lecture Notes:\n",
    "    * [Elimination Methods for \"Nice\" Systems](https://docs.google.com/presentation/d/1Nb-Qt66G9BsWGQTedyVFUpkMl9EHU8MJuIapQ91N1QM/edit?usp=sharing)\n"
   ]
  },
  {
   "cell_type": "markdown",
   "metadata": {
    "id": "SMDSOUVk-Tp8"
   },
   "source": [
    "## 1. Gaussian Elimination \n",
    "\n",
    "**<span style=\"color:red\">Answer all questions by performing a row operation by hand first, then imediately check your row operation using Python. Make sure to check each row operation as you go to avoid wandering down the wrong path!</span>**\n",
    "\n",
    "\n",
    "Perform the following tasks for each system of equation below\n",
    "\n",
    "> a.) Create a coefficient matrix, named $A$. [1pt]\n",
    "\n",
    "> b.) Create a column vector (mx1 matrix) of the constants, named $b$. [1pt]\n",
    "\n",
    "> c.) Concatenate $A$ and $b$ to create an augmented matrix $[A | b]$. (*When you do this in Python, make sure to use code to do this. Examples in the [Reference Sheet](https://humboldt.cloudbank.2i2c.cloud/hub/user-redirect/git-pull?repo=https%3A%2F%2Fgithub.com%2Fbludka%2Fengr225-materials-sp2025&branch=main&urlpath=lab%2Ftree%2Fengr225-materials-sp2025%2F00_resources%2FPython_Toolbox_for_Linear_Algebra.ipynb)*) [1pt]\n",
    "\n",
    "> d.) Use **Gausssian elimination** to solve your system of equations. Steps for this process are outlined in the [Elimination Notes](https://humboldt.cloudbank.2i2c.cloud/hub/user-redirect/git-pull?repo=https%3A%2F%2Fgithub.com%2Fbludka%2Fengr225-materials-sp2025&branch=main&urlpath=lab%2Ftree%2Fengr225-materials-sp2025%2F00_resources%2FElimination_Methods_for_Systems_of_Equations_with_Unique_Solution.ipynb). (*For the coding part, make sure to show **each** elementary row operation calculation and print the result at each step. Examples of row operations in the [Reference Sheet](https://humboldt.cloudbank.2i2c.cloud/hub/user-redirect/git-pull?repo=https%3A%2F%2Fgithub.com%2Fbludka%2Fengr225-materials-sp2025&branch=main&urlpath=lab%2Ftree%2Fengr225-materials-sp2025%2F00_resources%2FPython_Toolbox_for_Linear_Algebra.ipynb)*) [6 pts]\n",
    "\n",
    ">> All row operations should have one of these forms: \n",
    "* $cR_i + R_j \\rightarrow R_j$\n",
    "\n",
    "* $R_i \\leftrightarrow R_j$\n",
    "\n",
    "\n",
    "> e.) Write on paper/print to the screen the solution for each of your variables. [1pt]\n"
   ]
  },
  {
   "cell_type": "code",
   "execution_count": 12,
   "metadata": {
    "id": "MtGuE6dW54rL"
   },
   "outputs": [],
   "source": [
    "# run this code! \n",
    "import numpy as np\n",
    "np.set_printoptions(precision=4,suppress=True)"
   ]
  },
  {
   "cell_type": "markdown",
   "metadata": {
    "id": "K1bFm6i6GU0t"
   },
   "source": [
    "### Question 1.1 [10 pts]\n",
    "\n",
    "Make sure to complete steps a-e above for the following system:\n",
    "\n",
    "> $x_1 + x_2 + 2x_3 = 8 $\n",
    "\n",
    "> $-x_1 - 2x_2 + 3x_3 = 1 $\n",
    "\n",
    "> $3x_1 - 7x_2 + 4x_3 = 10 $"
   ]
  },
  {
   "cell_type": "code",
   "execution_count": 13,
   "metadata": {
    "colab": {
     "base_uri": "https://localhost:8080/"
    },
    "executionInfo": {
     "elapsed": 161,
     "status": "ok",
     "timestamp": 1712707493877,
     "user": {
      "displayName": "Bonnie Ludka",
      "userId": "16620433016455303136"
     },
     "user_tz": 420
    },
    "id": "En4SjKV8QXju",
    "outputId": "0222b465-1cb0-431b-de53-41a2a62955ba"
   },
   "outputs": [],
   "source": [
    "#a) coefficient matrix A\n",
    "# your code here\n",
    "\n",
    "#b) vector of constants b\n",
    "# your code here\n",
    "\n",
    "#c) augmented matrix A|b\n",
    "# your code here\n",
    "\n",
    "#d) Gausssian Elimination\n",
    "# your code here\n",
    "\n",
    "#e) solution\n",
    "# your code here\n"
   ]
  },
  {
   "cell_type": "markdown",
   "metadata": {
    "id": "3Ek8NET3Fuq9"
   },
   "source": [
    "### Question 1.2 [10 pts]\n",
    "Make sure to complete steps a-e above for the following system:\n",
    "\n",
    "> $x_1 - 3x_2 + 4x_3 = 7 $\n",
    "\n",
    "> $x_3 = 5 $\n",
    "\n",
    "> $x_2 + 2x_3 = 2 $"
   ]
  },
  {
   "cell_type": "code",
   "execution_count": 14,
   "metadata": {
    "id": "oyBcgT25QZyt"
   },
   "outputs": [],
   "source": [
    "#a) coefficient matrix A\n",
    "# your code here\n",
    "\n",
    "#b) vector of constants b\n",
    "# your code here\n",
    "\n",
    "#c) augmented matrix A|b\n",
    "# your code here\n",
    "\n",
    "#d) Gausssian Elimination\n",
    "# your code here\n",
    "\n",
    "#e) solution\n",
    "# your code here"
   ]
  },
  {
   "cell_type": "markdown",
   "metadata": {
    "id": "owlWxH6GGs6y"
   },
   "source": [
    "### Question 1.3 [10 pts]\n",
    "\n",
    "Make sure to complete steps a-e above for the following system:\n",
    "\n",
    "> $x_1 - 3x_3 = -2 $\n",
    "\n",
    "> $3x_1 + x_2 - 2x_3 = 5 $\n",
    "\n",
    "> $2x_1 + 2x_2 + x_3 = 4 $"
   ]
  },
  {
   "cell_type": "code",
   "execution_count": 15,
   "metadata": {
    "id": "OE3R0w59QcSn"
   },
   "outputs": [],
   "source": [
    "#a) coefficient matrix A\n",
    "# your code here\n",
    "\n",
    "#b) vector of constants b\n",
    "# your code here\n",
    "\n",
    "#c) augmented matrix A|b\n",
    "# your code here\n",
    "\n",
    "#d) Gausssian Elimination\n",
    "# your code here\n",
    "\n",
    "#e) solution\n",
    "# your code here"
   ]
  },
  {
   "cell_type": "markdown",
   "metadata": {
    "id": "DDOYcMI4H0KZ"
   },
   "source": [
    "### Question 1.4 [10 pts]\n",
    "\n",
    "Make sure to complete steps a-e above for the following system:\n",
    "\n",
    "> $3x_1 + 1x_3 = 10 $\n",
    "\n",
    "> $5x_2 = 25 $\n",
    "\n",
    "> $x_1 + 10x_2 = 54 $\n",
    "\n"
   ]
  },
  {
   "cell_type": "code",
   "execution_count": 16,
   "metadata": {
    "id": "Gf697evcQlLv"
   },
   "outputs": [],
   "source": [
    "#a) coefficient matrix A\n",
    "# your code here\n",
    "\n",
    "#b) vector of constants b\n",
    "# your code here\n",
    "\n",
    "#c) augmented matrix A|b\n",
    "# your code here\n",
    "\n",
    "#d) Gausssian Elimination\n",
    "# your code here\n",
    "\n",
    "#e) solution\n",
    "# your code here"
   ]
  },
  {
   "cell_type": "markdown",
   "metadata": {
    "id": "EYSf_GYeiRZR"
   },
   "source": [
    "### Question 1.5 [10 pts]\n",
    "\n",
    "Make sure to complete steps a-e above for the following system:\n",
    "\n",
    "> $x_2 = 2 $\n",
    "\n",
    "> $2x_1 + 3x_2 + 1x_3 = 10 $\n",
    "\n",
    "> $5x_1 + 6x_2 + 2x_3 = 21 $"
   ]
  },
  {
   "cell_type": "code",
   "execution_count": 17,
   "metadata": {
    "id": "pWFZRxkAQMDs"
   },
   "outputs": [],
   "source": [
    "#a) coefficient matrix A\n",
    "# your code here\n",
    "\n",
    "#b) vector of constants b\n",
    "# your code here\n",
    "\n",
    "#c) augmented matrix A|b\n",
    "# your code here\n",
    "\n",
    "#d) Gausssian Elimination\n",
    "# your code here\n",
    "\n",
    "#e) solution\n",
    "# your code here"
   ]
  },
  {
   "cell_type": "markdown",
   "metadata": {
    "id": "SM3hipybiyZb"
   },
   "source": [
    "## 2. Automating Guassian Elimination for \"Nice\" Systems (when a Unique Solution exists)\n",
    "\n",
    "### 2.1 Forward Elimination for a 3x4 Augmented Matrix WITHOUT row switches\n",
    "\n",
    "#### Question 2.1.1 [10pts]\n",
    "\n",
    "Write a **function** called `forward_elim_unique_soln_NO_SWITCH()` that:\n",
    "\n",
    "takes a 3x4 *augmented matrix* (numpy array) as its argument,\n",
    "\n",
    "and repeatedly performs the *row operation* $cR_i + R_j \\rightarrow R_j$ using ***indexing and numpy arithmetic***,\n",
    "\n",
    "until the *coefficient matrix* is in *upper triangular form*.\n",
    "\n",
    "Your function should **return** the *modified augemented matrix* (numpy array) where the *coefficient matrix* is now in *upper triangular form*.\n",
    "\n",
    "Test your code using systems of equations from Section 1 of this lab that did NOT require a row switch to solve.\n",
    "\n",
    "You do not need to provide a handwritten answer to this question - only your code.\n"
   ]
  },
  {
   "cell_type": "code",
   "execution_count": 18,
   "metadata": {},
   "outputs": [],
   "source": [
    "# your code here"
   ]
  },
  {
   "cell_type": "markdown",
   "metadata": {},
   "source": [
    "### 2.2 Forward Elimination for a 3x4 Augmented Matrix WITH row switches\n",
    "\n",
    "#### Question 2.1.1 [10pts]\n",
    "\n",
    "Write a **function** called `forward_elim_3x4_unique_soln()` that:\n",
    "\n",
    "takes a 3x4 *augmented matrix* (numpy array) as its argument,\n",
    "\n",
    "and performs *row operations*,\n",
    "\n",
    "until the *coefficient matrix* is in *upper triangular form*.\n",
    "\n",
    "Your function should **return** the *modified augemented matrix* (numpy array) where the *coefficient matrix* is now in *upper triangular form*.\n",
    "\n",
    "This time, include an if statement that will will perform a *row switch* $R_i \\leftrightarrow R_j$ when it is needed.\n",
    "\n",
    "Test your code using a system of equations from Section 1 of this lab that DID require a row switch to solve.\n",
    "\n",
    "You do not need to provide a handwritten answer to this question - only your code."
   ]
  },
  {
   "cell_type": "code",
   "execution_count": 19,
   "metadata": {},
   "outputs": [],
   "source": [
    "# your code here"
   ]
  },
  {
   "cell_type": "markdown",
   "metadata": {},
   "source": [
    "### 2.3 Backsubstitution for a 3x4 Augmented Matrix with Coefficient Matrix in Upper Tri Form\n",
    "#### Question 2.3.1 [10pts]\n",
    "Imagine you have just finished the elimination portion of Gaussian Elimination. Your coefficient matrix is a 3x3 matrix and after elimination it turns out to be an upper triangular matrix such that your system of equations has a unique solution. In order to find the solution using Gaussian Elimination, you will need to perform **backsubstitution**. \n",
    "\n",
    "Write a **function** called `backsub_3x4_unique_soln()` that: \n",
    "\n",
    "takes a 3x4 augmented matrix (numpy array) in *upper triangular form* as it's argument,\n",
    "\n",
    "calculates the value for each unknown using ***indexing and arithmetic***\n",
    "\n",
    "and **returns** a column vector (numpy array) of the solution. \n",
    "\n",
    "Make sure to call your function to test it. \n",
    "\n",
    "You do not need to provide a handwritten answer to this question - only your code."
   ]
  },
  {
   "cell_type": "code",
   "execution_count": 20,
   "metadata": {},
   "outputs": [],
   "source": [
    "# your code here"
   ]
  },
  {
   "cell_type": "markdown",
   "metadata": {},
   "source": [
    "### 2.4 Full Automation for \"Nice\" 3x4 System (Unique Solution Exists)\n",
    "\n",
    "### Question 2.4.1 [10pts]\n",
    "\n",
    "Make a **function** called `gaussian_elim_3x4_unique_soln()` that:\n",
    "\n",
    "takes a 3x4 *augmented matrix* (numpy array) as its argument\n",
    "\n",
    "CALLs the `forward_elim_3x4_unique_soln()` you previously created to get the coeffiecient matrix in upper triangular form.\n",
    "\n",
    "Then CALLs the `backsub_3x4_unique_soln()` you previously created to find the solution.\n",
    "\n",
    "and **returns** a column vector (numpy array) of the solution. \n",
    "\n",
    "Make sure to call your function to test it. \n",
    "\n",
    "You do not need to provide a handwritten answer to this question - only your code.\n",
    "\n",
    "NOTE: Please do not copy and paste your code from above. Do not recreate the wheel. You should have functions inside of your function!\n",
    "\n"
   ]
  },
  {
   "cell_type": "code",
   "execution_count": 21,
   "metadata": {},
   "outputs": [],
   "source": [
    "# your code here"
   ]
  },
  {
   "cell_type": "markdown",
   "metadata": {},
   "source": [
    "### 2.5 Full Automation for an Augmented Matrix of ANY size! (Unique Solution Exists)\n",
    "\n",
    "### Question 2.5.1 [10pts]\n",
    "\n",
    "Make a **function** called `gaussian_elim_unique_soln()` that:\n",
    "\n",
    "takes a *augmented matrix* (numpy array) OF ANY SIZE as its argument,\n",
    "\n",
    "and **returns** a column vector (numpy array) of the solution. \n",
    "\n",
    "Call your function to calculate the Forces on each beam of this Truss using the system of equations provided:\n",
    "\n",
    "<img src=\"https://lh3.googleusercontent.com/pw/AP1GczNfpw5e3Bzl4WQJrgywelR9lHVQENrVROJqk5l2tMLBxYhfgZyD1uFbkLFluMNEVqf1zEeXy-H3NMIkw3Vi9Gu-FgDSu9qY8T9xfWyIBc6oqia3IlTqZFDYWdfYND1B6NP4MJvPQKOcI_SplcrKtAZZ=w1843-h741-s-no-gm?authuser=0\" width=\"800\">\n",
    "\n",
    "\n",
    "\n",
    "You do not need to provide a handwritten answer to this question - only your code.\n"
   ]
  },
  {
   "cell_type": "code",
   "execution_count": 22,
   "metadata": {},
   "outputs": [],
   "source": [
    "# your code here"
   ]
  }
 ],
 "metadata": {
  "colab": {
   "authorship_tag": "ABX9TyNI5oJEMTzPXSjFS2g10Z1z",
   "provenance": [],
   "toc_visible": true
  },
  "kernelspec": {
   "display_name": "engr225",
   "language": "python",
   "name": "python3"
  },
  "language_info": {
   "codemirror_mode": {
    "name": "ipython",
    "version": 3
   },
   "file_extension": ".py",
   "mimetype": "text/x-python",
   "name": "python",
   "nbconvert_exporter": "python",
   "pygments_lexer": "ipython3",
   "version": "3.11.7"
  }
 },
 "nbformat": 4,
 "nbformat_minor": 0
}
