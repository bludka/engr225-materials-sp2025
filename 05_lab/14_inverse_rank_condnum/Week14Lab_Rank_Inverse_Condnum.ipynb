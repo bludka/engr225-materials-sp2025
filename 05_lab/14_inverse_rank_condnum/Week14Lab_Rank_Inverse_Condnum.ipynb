{
 "cells": [
  {
   "cell_type": "markdown",
   "metadata": {
    "id": "BuDCX7YnLVrE"
   },
   "source": [
    "# Lab Week 14 - Inverse, Rank, & Condition Number\n",
    "You will turn in TWO documents via Canvas upload:\n",
    "1. Handwritten answers\n",
    "2. Python Jupyter Notebook answer\n",
    "\n",
    "You are encouraged to use:\n",
    "* [Python for Linear Algebra Reference Sheet](https://humboldt.cloudbank.2i2c.cloud/hub/user-redirect/git-pull?repo=https%3A%2F%2Fgithub.com%2Fbludka%2Fengr225-materials-fa2024&branch=main&urlpath=lab%2Ftree%2Fengr225-materials-fa2024%2F00_resources%2FPython_Toolbox_for_Linear_Algebra.ipynb)\n",
    "* [Solving Systems of Equations Review](https://humboldt.cloudbank.2i2c.cloud/hub/user-redirect/git-pull?repo=https%3A%2F%2Fgithub.com%2Fbludka%2Fengr225-materials-sp2025&branch=main&urlpath=lab%2Ftree%2Fengr225-materials-sp2025%2F00_resources%2FSolving_Systems_of_Eqns_Review.ipynb) - Scroll to bottom for Inverse Methods\n",
    "* Lecture Notes:\n",
    "    * [Matrix Inverse](https://docs.google.com/presentation/d/1hgFMaztQoHhhcCiFLMJKS_KVI5SjzEM3G9Fpmb5Mog8/edit?usp=sharing)\n",
    "    * [Rank and Nullity](https://docs.google.com/presentation/d/1md9kHgHPZHVfSEyqO-tpZNAI89rq62Co/edit?usp=sharing&ouid=100782185221827109730&rtpof=true&sd=true)\n",
    "    * [Norm and Condition Number](https://docs.google.com/presentation/d/1sHT2RPHrjIpyDaFENyOOiBuJKCZVH974/edit?usp=sharing&ouid=100782185221827109730&rtpof=true&sd=true)"
   ]
  },
  {
   "cell_type": "code",
   "execution_count": null,
   "metadata": {
    "id": "MtGuE6dW54rL"
   },
   "outputs": [],
   "source": [
    "# run this code!\n",
    "import numpy as np\n",
    "np.set_printoptions(precision=4,suppress=True)"
   ]
  },
  {
   "cell_type": "markdown",
   "metadata": {},
   "source": [
    "## 1. Finding the Solution using the Inverse [5 pts each]"
   ]
  },
  {
   "cell_type": "markdown",
   "metadata": {},
   "source": [
    "Recall:\n",
    "\n",
    "Matrices can only be multiplied if their inner dimensions are equal. Multiplying $A$ with dimensions $m$ x $n$, by $B$ with dimensions $n$ x $p$, results in a matrix $AB$ of size $m$ x $p$.\n",
    "\n",
    "<img src=\"https://lh3.googleusercontent.com/pw/ADCreHcSe-OO0Eh4TlZyt0RYkgpbCN79xoF0AUhV7yAJZWp1a-miuOhNnOR_M2zjdX14guNXEhFzT144A-bOzLDoSc_OLo_50S5DNwSIJot7mDI1xsvrDkrfjAXSuXsHIiFgzc0JxZ_6mGEEC2M6TR_w3jcv=w584-h371-s-no?authuser=0\" width=\"350\">"
   ]
  },
  {
   "cell_type": "markdown",
   "metadata": {},
   "source": [
    "Matrix multiplication follows the row-column rule.\n",
    "\n",
    "<img src=\"https://lh3.googleusercontent.com/pw/ADCreHdYJ6RYsDC9eDW-1SuX4Q1MdewyfC4pCMF9r3vOKesFMTrTkqF-JklZSAxXk0p0MVioYObI405XxPpVSVkQayTJsi_Js9-NSrLm932t1gsNvWU680Jrs_4D5n_iJo3HoEu-aZGT8G_8O2BsQy_gDUsk=w1400-h848-s-no?authuser=0\" width=\"350\">\n",
    "\n"
   ]
  },
  {
   "cell_type": "markdown",
   "metadata": {},
   "source": [
    "If we have a system of equations represented as:\n",
    "\n",
    "$$Ax = b$$\n",
    "\n",
    "We can *left* multiply both sides by $A^{-1}$:\n",
    "\n",
    "$$A^{-1}Ax = A^{-1}b$$\n",
    "\n",
    "And since $A^{-1}A = I$:\n",
    "\n",
    "$$Ix = A^{-1}b$$\n",
    "\n",
    "So\n",
    "\n",
    "$$x = A^{-1}b$$\n",
    "\n",
    "\n"
   ]
  },
  {
   "cell_type": "markdown",
   "metadata": {},
   "source": [
    "### Question 1.1\n",
    "\n",
    "Using $A$, $b$ and $A^{-1}$ from Question 2.1,\n",
    "\n",
    "Use matrix multiplication to show that:\n",
    "\n",
    "> $A A^{-1} = I$.\n",
    "\n",
    "> $A^{-1} A  = I$.\n",
    "\n",
    "> $x = A^{-1} b$, where $x$ is a vector containing the solutions.\n",
    "\n",
    "Show all steps (as in the figure above) by hand. Check your work using Python where `@` is the operator used for matrix multiplication. \n",
    "\n",
    "If $A$ does not have an inverse, instead write and print to the screen \"Not possible. Inverse does not exist\"."
   ]
  },
  {
   "cell_type": "code",
   "execution_count": null,
   "metadata": {},
   "outputs": [],
   "source": [
    "# your code here (after you calculate it by hand)"
   ]
  },
  {
   "cell_type": "markdown",
   "metadata": {},
   "source": [
    "### Question 1.2\n",
    "\n",
    "Solve for x in Question 2.2 using matrix multiplication:\n",
    "\n",
    "> $x = A^{-1} b$, where $x$ is a vector containing the solutions.\n",
    "\n",
    "Show all steps by hand. Check your work using Python where `@` is the operator used for matrix multiplication. \n",
    "\n",
    "If $A$ does not have an inverse, instead write and print to the screen \"Not possible. Inverse does not exist\"."
   ]
  },
  {
   "cell_type": "code",
   "execution_count": null,
   "metadata": {},
   "outputs": [],
   "source": [
    "# your code here (after you calculate it by hand)"
   ]
  },
  {
   "cell_type": "markdown",
   "metadata": {},
   "source": [
    "### Question 1.3\n",
    "\n",
    "Solve for x in Question 2.3 using matrix multiplication:\n",
    "\n",
    "> $x = A^{-1} b$, where $x$ is a vector containing the solutions.\n",
    "\n",
    "Show all steps by hand. Check your work using Python where `@` is the operator used for matrix multiplication. \n",
    "\n",
    "If $A$ does not have an inverse, instead write and print to the screen \"Not possible. Inverse does not exist\".\n"
   ]
  },
  {
   "cell_type": "code",
   "execution_count": null,
   "metadata": {},
   "outputs": [],
   "source": [
    "# your code here (after you calculate it by hand)"
   ]
  },
  {
   "cell_type": "markdown",
   "metadata": {},
   "source": [
    "### Question 1.4\n",
    "\n",
    "Solve for x in Question 2.4 using matrix multiplication:\n",
    "\n",
    "> $x = A^{-1} b$, where $x$ is a vector containing the solutions.\n",
    "\n",
    "Show all steps by hand. Check your work using Python where `@` is the operator used for matrix multiplication. \n",
    "\n",
    "If $A$ does not have an inverse, instead write and print to the screen \"Not possible. Inverse does not exist\".\n"
   ]
  },
  {
   "cell_type": "code",
   "execution_count": null,
   "metadata": {},
   "outputs": [],
   "source": [
    "# your code here (after you calculate it by hand)"
   ]
  },
  {
   "cell_type": "markdown",
   "metadata": {},
   "source": [
    "## 2. Inverse of a Matrix [10 pts each]"
   ]
  },
  {
   "cell_type": "markdown",
   "metadata": {},
   "source": [
    "Let $A$ be a square matrix (size $n$ x $n$). The inverse of $A$ is denoted by $A^{-1}$.\n",
    "\n",
    "We can find the inverse $A^{-1}$ by following these steps:\n",
    "\n",
    "1. Form an augmented matrix of $[A|I]$, where $I$ is the identity matrix with the same size as A.\n",
    "\n",
    "2. Use row operations to reduce the left-hand portion into reduced row-echelon form.\n",
    "\n",
    "3. If the augmented matrix after step 2 has the form $[I|B]$, then $B = A^{-1}$. If it does not have this form, then $A$ does not have an inverse."
   ]
  },
  {
   "cell_type": "markdown",
   "metadata": {},
   "source": [
    "### Question 2.1 \n",
    "\n",
    "Find the inverse of the **coefficient** matrix from the following system of equations:\n",
    "> $-2x_1 + 3x_2 + 5x_3 = 8 $\n",
    "\n",
    "> $- 1x_2 = 1 $\n",
    "\n",
    "> $1x_1 - 2x_2 + -2x_3 = 10 $\n",
    "\n",
    "If the inverse does not exist, write/print *DNE*. Show all row operations on paper and using your code."
   ]
  },
  {
   "cell_type": "markdown",
   "metadata": {},
   "source": [
    "### Question 2.2\n",
    "Find the inverse of the **coefficient** matrix from the following system of equations:\n",
    "\n",
    "> $x_1 - 3x_2 + 4x_3 = 7 $\n",
    "\n",
    "> $x_3 = 5 $\n",
    "\n",
    "> $x_2 + 2x_3 = 2 $\n",
    "\n",
    "If the inverse does not exist, write/print *DNE*. Show all row operations on paper and using your code.\n"
   ]
  },
  {
   "cell_type": "code",
   "execution_count": null,
   "metadata": {},
   "outputs": [],
   "source": [
    "# your code here (after you calculate it by hand)\n"
   ]
  },
  {
   "cell_type": "markdown",
   "metadata": {},
   "source": [
    "### Question 2.3\n",
    "\n",
    "Find the inverse of the **coefficient** matrix from the following system of equations:\n",
    "\n",
    "> $2x_1 + 2x_2 + 2x_3 = 0 $\n",
    "\n",
    "> $-2x_1 + 5x_2 + 2x_3 = 1 $\n",
    "\n",
    "> $8x_1 + x_2 + 4x_3 = -1 $\n",
    "\n",
    "If the inverse does not exist, write/print *DNE*. Show all row operations on paper and using your code."
   ]
  },
  {
   "cell_type": "code",
   "execution_count": null,
   "metadata": {},
   "outputs": [],
   "source": [
    "# your code here (after you calculate it by hand)"
   ]
  },
  {
   "cell_type": "markdown",
   "metadata": {},
   "source": [
    "## 3. Rank and Nullity"
   ]
  },
  {
   "cell_type": "markdown",
   "metadata": {},
   "source": [
    "<font color='red'>**The rest of this lab is CODING ONLY.  You do not need to complete the following problems by hand.**<font> "
   ]
  },
  {
   "cell_type": "markdown",
   "metadata": {},
   "source": [
    "### Question 3.1 \n",
    "Write a function to calculate the rank of A AND the rank of [Ab]. Assume the user inputs has already gotten A and [Ab] into echelon form. The function should take [Ab] (in echelon form) as an argument and should return the rank of A AND the rank of [Ab]. Make sure to test your function to make sure it works.\n",
    "\n",
    "Hint: `m,n = np.shape(A)` may be helpful, as this tells you the size of your mxn matrix.\n",
    "\n",
    "Hint: Find a way to check if a row is entirely filled with zeroes or not.\n",
    "    "
   ]
  },
  {
   "cell_type": "code",
   "execution_count": null,
   "metadata": {},
   "outputs": [],
   "source": [
    "# your code here"
   ]
  },
  {
   "cell_type": "markdown",
   "metadata": {},
   "source": [
    "## Question 3.2\n",
    "\n",
    "Write a function to calculate the nullity of A and the nullity of [Ab] in echelon form. Inside your nullity function, CALL (don't copy paste) the rank function that you just created to perform the calculation.\n",
    "\n",
    "Recall: $Nullity(M) = n-r(M)$, where n is the number of columns in the matrix $M$.\n",
    "\n",
    "Make sure to test your function to make sure it works."
   ]
  },
  {
   "cell_type": "code",
   "execution_count": null,
   "metadata": {},
   "outputs": [],
   "source": [
    "# your code here"
   ]
  },
  {
   "cell_type": "markdown",
   "metadata": {},
   "source": [
    "## Question 3.3\n",
    "\n",
    "Write a function using rank or nullity that prints \"unique solution\", \"infinite solutions\" or \"no solution\", depending on the echelon form matrix [Ab] that it is given.\n",
    "\n",
    "Make sure to test your function to make sure it works."
   ]
  },
  {
   "cell_type": "code",
   "execution_count": null,
   "metadata": {},
   "outputs": [],
   "source": [
    "# your code here"
   ]
  },
  {
   "cell_type": "markdown",
   "metadata": {},
   "source": [
    "## 4. Norms\n",
    "\n",
    "For vectors the Euclidian norm is the same as the magnitude.\n",
    "\n",
    "So for some vector:\n",
    "\n",
    "$\\vec{v} = (v_1,v_2,...,v_n)$ in ${\\rm I\\!R}^n$\n",
    "\n",
    "The Euclidian norm is:\n",
    "\n",
    "$$||\\vec{v}|| = \\sqrt{\\sum_{i=1}^{n} v_i^2 }$$"
   ]
  },
  {
   "cell_type": "markdown",
   "metadata": {},
   "source": [
    "In a previous lab we wrote a user function to calculate the norm (magnitude) of a vector:"
   ]
  },
  {
   "cell_type": "code",
   "execution_count": null,
   "metadata": {},
   "outputs": [],
   "source": [
    "# create the function"
   ]
  },
  {
   "cell_type": "markdown",
   "metadata": {},
   "source": [
    "The \"Frobenius\" Norm for Matrices, is similar to the Euclidian norm for vectors:\n",
    "\n",
    "$$||A||_f = \\sqrt{\\sum_{i=1}^{m} \\sum_{j=1}^{n} a_{ij}^2 }$$\n",
    "\n",
    "Each entry of the matrix is squared and summed together, and then the square root of that sum is taken."
   ]
  },
  {
   "cell_type": "markdown",
   "metadata": {},
   "source": [
    "### Question 4.1\n",
    "\n",
    "Write a USER FUNCTION named `normfro()` using NESTED LOOPS to calculate the Frobenius norm of a matrix. Test your function to make sure it works for a matrix of any size.\n",
    "\n",
    "HINT: One loop is used to change the index of the row, and another loop is used to change the index of the column. To find the number of rows and columns you need to loop over you can use\n",
    "\n",
    "`m,n = np.shape(A)`\n",
    "\n",
    "Check you answer using `np.linalg.norm(A,'fro')`"
   ]
  },
  {
   "cell_type": "code",
   "execution_count": null,
   "metadata": {},
   "outputs": [],
   "source": [
    "# your code here"
   ]
  },
  {
   "cell_type": "markdown",
   "metadata": {},
   "source": [
    "## 5. Condition Number"
   ]
  },
  {
   "cell_type": "markdown",
   "metadata": {},
   "source": [
    "The Condition Number of a matrix is calculated as:\n",
    "\n",
    "$$||A||_f *||A^{-1}||_f$$"
   ]
  },
  {
   "cell_type": "markdown",
   "metadata": {},
   "source": [
    "### Question 5.1\n",
    "\n",
    "Write a USER FUNCTION named `condfro()` to calculate the Condition Number. Your function should call the function `normfro()` that you created in Question 1.1, and the `np.linalg.inv()` function. Test your function to make sure it works for an invertible matrix of any size. Check your answer using `np.linalg.cond(A,'fro')`"
   ]
  },
  {
   "cell_type": "code",
   "execution_count": null,
   "metadata": {},
   "outputs": [],
   "source": [
    "# your code here"
   ]
  },
  {
   "cell_type": "markdown",
   "metadata": {},
   "source": [
    "### Question 5.2\n",
    "\n",
    "Two chemistry students have made measurements to estimate the number of grams of compounds, $x_1$, $x_2$, and $x_3$, in a solution. From their measurements they have determined the following relationships:\n",
    "\n",
    "$93.477x_1+10.202 x_2+28.832x_3=34.7177$\n",
    "\n",
    "$1.963x_1+32.816 x_2+62.414x_3=70.9241$\n",
    "\n",
    "$26.821x_1+36.816 x_2+57.234x_3=82.9271$\n",
    "\n",
    "Use the `np.linalg.inv()` function to solve the system of equations."
   ]
  },
  {
   "cell_type": "code",
   "execution_count": null,
   "metadata": {},
   "outputs": [],
   "source": [
    "# your code here"
   ]
  },
  {
   "cell_type": "markdown",
   "metadata": {},
   "source": [
    "### Question 5.3\n",
    "After presenting their results to the professor, the chemistry students realize that the measurements used to determine the RHS vector ($b$) are only accurate to one significant figure (the first digit). Round the RHS to the appropriate accuracy and re-solve the problem in Question 2.2."
   ]
  },
  {
   "cell_type": "code",
   "execution_count": null,
   "metadata": {},
   "outputs": [],
   "source": [
    "# your code here"
   ]
  },
  {
   "cell_type": "markdown",
   "metadata": {},
   "source": [
    "### Question 5.4\n",
    "\n",
    "Calculate the Condition Number of the coefficient matrix in Question 2.2 using the user function you created in Question 2.1. Check your answer using `np.linalg.cond(A,'fro')`"
   ]
  },
  {
   "cell_type": "code",
   "execution_count": null,
   "metadata": {},
   "outputs": [],
   "source": [
    "# your code here"
   ]
  },
  {
   "cell_type": "markdown",
   "metadata": {},
   "source": [
    "### Question 5.5\n",
    "\n",
    "Use your answer in Question 2.4 to explain why your solutions to Question 2.2 and Question 2.3 are different. Would you want the condition number to be larger or smaller?"
   ]
  },
  {
   "cell_type": "markdown",
   "metadata": {},
   "source": [
    "*Click on this box and write your explanation here.*\n",
    "\n",
    "When A has a large condition number, small changes in b can cause large changes in x. We would have more confidence in our solution for x if the condition number of A was smaller."
   ]
  },
  {
   "cell_type": "code",
   "execution_count": null,
   "metadata": {},
   "outputs": [],
   "source": [
    "# supporting code here if needed\n",
    "# don't forget to write your explanation above."
   ]
  }
 ],
 "metadata": {
  "colab": {
   "authorship_tag": "ABX9TyNI5oJEMTzPXSjFS2g10Z1z",
   "provenance": [],
   "toc_visible": true
  },
  "kernelspec": {
   "display_name": "engr225",
   "language": "python",
   "name": "python3"
  },
  "language_info": {
   "codemirror_mode": {
    "name": "ipython",
    "version": 3
   },
   "file_extension": ".py",
   "mimetype": "text/x-python",
   "name": "python",
   "nbconvert_exporter": "python",
   "pygments_lexer": "ipython3",
   "version": "3.11.7"
  }
 },
 "nbformat": 4,
 "nbformat_minor": 0
}
