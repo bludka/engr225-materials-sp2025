{
 "cells": [
  {
   "cell_type": "markdown",
   "metadata": {
    "id": "LDA68K4B2QLv"
   },
   "source": [
    "# Syllabus for Computational Methods I (ENGR 225) – Spring 2025\n",
    "\n",
    "*Last updated on Jan 21, 2025*"
   ]
  },
  {
   "cell_type": "markdown",
   "metadata": {
    "id": "Qran0uBl2qpv"
   },
   "source": [
    "## Course information\n",
    "\n",
    "* Title: Computational Methods I (course code: ENGR 225)\n",
    "* Units: 3\n",
    "* Two 50-mins lectures and one 2 hrs and 50 mins lab each week throughout the semester\n",
    "  * Lecture:\n",
    "    * Section 10 (Course #22251): M/W 8:00-8:50am in Alistair McCrone Hall ([AMH](https://www.humboldt.edu/sites/default/files/campusmap.pdf)) Room 005\n",
    "    * Section 20 (Course #23724): M/W 12-12:50pm in Founders Hall ([FH](https://www.humboldt.edu/sites/default/files/campusmap.pdf)) 125 \n",
    "  * Lab:\n",
    "    * Section 11 (Course #22252): M 2-4:50 pm in ([AMH](https://www.humboldt.edu/sites/default/files/campusmap.pdf)) 015\n",
    "    * Section 12 (Course # 22617): M 5-7:50 pm in ([AMH](https://www.humboldt.edu/sites/default/files/campusmap.pdf)) 015\n",
    "    * Section 21 (Course # 23725) : T 11am-1:50 pm in ([AMH](https://www.humboldt.edu/sites/default/files/campusmap.pdf)) 015\n",
    "\n",
    "* Prerequisites: ENGR 115, and MATH 109 or completed Calculus I\n"
   ]
  },
  {
   "cell_type": "markdown",
   "metadata": {
    "id": "Zni5fX8J25F9"
   },
   "source": [
    "## Instructors\n",
    "\n",
    "* **Dr. Bonnie Ludka (she/they)** - [Profile](https://sites.google.com/view/coastal-ludka/team/dr-bonnie-ludka?authuser=0)\n",
    "  * Instructing: Lecture & Afternoon Lab\n",
    "  * Office: BSS 336\n",
    "  * Contact: Please message me using Canvas Inbox.\n",
    "      * Please expect a response within 24 hours. I typically respond to messages in the morning.\n",
    "  * Student hours in [BSS](https://www.humboldt.edu/sites/default/files/campusmap.pdf) 336:\n",
    "    * Monday 10:00am-11:00am\n",
    "    * Wednesday 2:30pm-4:30pm\n",
    "    * Friday 9:00am-10:00am\n",
    "    * or by appointment\n",
    "\n",
    "* **Dr. Abdullah Ozer (he/him)**\n",
    "  * Instructing: Evening Lab\n",
    "  * Office: [BROH](https://www.humboldt.edu/sites/default/files/campusmap.pdf) 106\n",
    "  * Contact: Please message me using Canvas Inbox.\n",
    "  * Student hours in BROH 106\n",
    "    * Monday 1:00 PM - 2:00 PM\n",
    "    * Wednesday 1:00 PM - 2:00 PM\n",
    "    * Thursday 1:00 PM - 2:00 PM \n"
   ]
  },
  {
   "cell_type": "markdown",
   "metadata": {
    "id": "3tbd9ljCWNFh"
   },
   "source": [
    "## Embedded Tutors:\n",
    "* Jack Prieto (she/they)\n",
    "  * Lab: Monday evening & Tuesday \n",
    "  * Study Hours: TBD\n",
    "* Jackson Cunningham (he/him)\n",
    "  * Lab: Monday afternoon\n",
    "  * Study Hour: TBD"
   ]
  },
  {
   "cell_type": "markdown",
   "metadata": {
    "id": "k8erB6RN3Mxp"
   },
   "source": [
    "## Learning materials\n",
    "* Laptop (required)\n",
    "    * Labtops available through the [Library](https://library.humboldt.edu/borrowing-digital-media-equipment)\n",
    "* [FE Approved](https://ncees.org/exams/) NON-graphing calculator (required)\n",
    "* Textbook:  \n",
    "    * Zybook (required, $89)\n",
    "    * Additional resources will be posted on Canvas.\n"
   ]
  },
  {
   "cell_type": "markdown",
   "metadata": {
    "id": "S6_FjsamcJ6U"
   },
   "source": [
    "## Course Structure and Modality\n",
    "\n",
    "### Part 1: Python\n",
    "This part of the course is FLIPPED! That means you will first be introduced to new material at home *on your own*. You will work through the \"lectures\" in the zyBook *at home*. In-person class time will be used for group problem solving and coding demonstrations. In-person labs will consist of activies that reinforce concepts.\n",
    "\n",
    "### Part 2: Matrix Algebra\n",
    "This part of the course is NOT flipped! That means you will first be introduced to new material through lecture during in-person class. Class time will still incorporate some group problem solving and coding demonstrations. Homework and in-person labs will consist of activies that reinforce concepts.\n",
    "\n",
    "#### Time Management\n",
    "This is a 3-unit course, and thus students should expect at least 135 of work during the semester, which equates to an average of at least 9 hours per week between in-class/instructional activities, review of materials, and completion of assignments.\n",
    "\n",
    "How to succeed in ENGR 225:\n",
    "\n",
    "*    Attend ALL lectures and labs.\n",
    "*    Stay in lab until the end of the lab period or until you AND your partner have completed the lab assignment.\n",
    "*    ASK QUESTIONS to the instructor and peer classmates in and out of classes.\n",
    "*    Come to student hours and embedded tutor's hours.\n",
    "\n",
    "Programming takes time. Some people need more time than others to write functioning programs. You may find this class requires more time than some of your other classes. Here are suggested times to spend on activities **outside** of class in order to be successful:\n",
    "\n",
    "*    Weekly Reading/Homework: 2-3 hours, possibly more\n",
    "*    Complete weekly Lab assignment: 1- 5 hours, and possibly more!"
   ]
  },
  {
   "cell_type": "markdown",
   "metadata": {
    "id": "ROzJdQMp3dG9"
   },
   "source": [
    "## Course Description\n",
    "\n",
    "* Computational Methods course series has three courses in total, i.e., (ENGR 225/226/326), which aim to introduce computer computational methods for engineering analysis and design. **This course (ENGR 225: Computational Methods I)** is the **first** course of the Computational Methods course series. It will focus on two topics: **1) programing in Python; and 2) linear algebra.**\n",
    "* Note:\n",
    "    * Every student in this class has the potential to succeed and your instructors and tutors are here to help!\n",
    "    * You must receive at least a C- in this course to enroll for Engr 226: Computational Methods II. If you are majoring in Engineering, you need a grade of C- or above for this course to count towards the major. \n",
    "    * Engineering majors are only allowed to retake a particular Engineering class once. (Instead of taking a required ENGR class for a third time, you will need to change your major.) \n",
    "    * All students should meet with their academic advisor regularly (at least once a semester) to make a plan for success!"
   ]
  },
  {
   "cell_type": "markdown",
   "metadata": {
    "id": "SbgjITOn32Ru"
   },
   "source": [
    "## Learning outcomes\n",
    "\n",
    "* Course specific outcomes:\n",
    "    * When presented a problem, you will be able to:\n",
    "        * develop an algorithm to correctly solve the problem\n",
    "        * correctly translate the algorithm into programing code\n",
    "        * run the code to correctly solve the problem.\n",
    "    * Basic programing in Python\n",
    "    * Use matrix algebra and matrix solvers to\n",
    "        * solve systems of linear equations\n",
    "        * determine the determinant & inverse of a matrix\n",
    "        * find the eigenvalues and eigenvectors of a matrix\n",
    "    * Note: when possible, more specific learning objectives for each part of the course will be included in the lecture notes and/or on Canvas as the semester progresses.\n",
    "* The following Engineeering program outcomes are the primary outcomes addressed by this course:\n",
    "    * Primary:\n",
    "        * Ability to identify, formulate, and solve complex engineering problems by applying principles of engineering, science, and mathematics\n",
    "        * Ability to function effectively on a team whose members together provide leadership, create a collaborative and inclusive environment, establish goals, plan tasks, and meet objectives\n",
    "        * Ability to develop and conduct appropriate experimentation, analyze and interpret data, and use engineering judgment to draw conclusions\n",
    "        * Ability to acquire and apply new knowledge as needed, using appropriate learning strategies\n",
    "    * Other coutcomes:\n",
    "        * Ability to apply engineering design to produce solutions that meet specified needs with consideration of public health, safety, and welfare, as well as global, cultural, social, environmental, and economic factors\n",
    "        * Ability to communicate effectively with a range of audiences\n",
    "* Cal Poly Humboldt Learning Outcomes\n",
    "    * This course explicitly contributes to students’ acquisition of skills and knowledge relevant to the following Cal Poly Humboldt Learning Outcomes:\n",
    "        * Information Literacy: Cal Poly Humboldt graduates will be able to locate, evaluate, and employ information effectively and ethically for a wide range of purposes.\n",
    "        * Critical Thinking: Cal Poly Humboldt graduates will be able to critically evaluate issues, ideas, artifacts, and evidence to guide their thinking.\n",
    "        * Quantitative Reasoning: Cal Poly Humboldt graduates will be able to apply math concepts and skills to the interpretation and analysis of quantitative information in context."
   ]
  },
  {
   "cell_type": "markdown",
   "metadata": {
    "id": "TFULWfSY3dX2"
   },
   "source": [
    "## Assessments and Late Policy\n",
    "\n",
    "* Homework\n",
    "* Labs\n",
    "* Exams\n",
    "    * Midterm exam\n",
    "    * Final exam\n",
    "* Participation\n",
    "    * Attendance\n",
    "    * In-class polls\n",
    "    * \"How's it going?\" assignments - a simple way for me to stay up to date on how you are doing.\n",
    "\n",
    "NOTE:\n",
    "* Closed-book format will be used for all exams. Internet will NOT be available for exams.\n",
    "* **Late submissions are not accepted** without advanced arrangement and a good reason"
   ]
  },
  {
   "cell_type": "markdown",
   "metadata": {
    "id": "Idc_zWWC4DEy"
   },
   "source": [
    "## Grading criteria\n",
    "\n",
    "* Your progress in the course is evaluated using a combination of your exam, laboratory, homework, and check-in scores, as shown in the table below. Final letter grade assignments are assigned using the scale below. Note:\n",
    "    * There is no curve unless the instructor feels that something was too difficult for the whole class.\n",
    "    * Incomplete grades are not assigned unless you have documented extenuating circumstances. If you anticipate needing an incomplete grade, please discuss this possibility with me as soon as possible.\n",
    "    * **Students must pass both exams (Midterm and Final) with at least 70% or better to pass the class.**\n",
    "\n",
    "Weights of grades\n",
    "\n",
    "|     Graded component     |     Homework     |     Labs     |     Midterm     |     Final     |     Participation     |     Total     |\n",
    "|--------------------------|------------------|--------------|-----------------|---------------|-------------------------|---------------|\n",
    "|     Percent (%)          |     25           |     30       |     20               |     20         |     5       |     100\n",
    "\n",
    "Grading scale\n",
    "\n",
    "|    Scale     |     A     |     A-     |     B+    |     B    |     B-    |     C+     | C | C- | D | F |\n",
    "|--------------------------|--------------------|---------------------|----------------------|----------------|--------------|---------------|------|------|------|------|\n",
    "|     Percent (%)          |     92.0-100.0             |     90.0-91.9              |     88.0-89.9              |     82.0-87.9         |     80.0-81.9       |     78.0-79.9       | 72.0-77.9 | 70.0-71.9 | 60.0-69.9 | <60.0"
   ]
  },
  {
   "cell_type": "markdown",
   "metadata": {},
   "source": [
    "## Attendance\n",
    "\n",
    "Attendance is part of your Participation Grade. Missing class is similar to not showing up to work. If you have an unexcused absence, it gives your professor the impression that you are not taking class seriously. Additionally, this is a fast-paced course. **Most students fail this course if they miss more than 3 classes/labs.**\n",
    "\n",
    "I will NOT be able to make accommodations for you if you miss class to:\n",
    "\n",
    "* Attend a concert\n",
    "* Go on vacation\n",
    "* Celebrate a birthday\n",
    "* Work on another class\n",
    "\n",
    "If you want accommodations for an EXCUSABLE absence, you need to let your instructor know at least 24 hours in ADVANCE.\n",
    "\n",
    "If you have an EMERGENCY, please let YOUR LECTURE INSTRUCTOR, YOUR LAB INSTRUCTOR, and YOUR LAB PARTNER know.\n",
    "\n",
    "After 3 absences (excused or unexcused), you are required to have proof for excused absences.\n",
    "\n"
   ]
  },
  {
   "cell_type": "markdown",
   "metadata": {
    "id": "x7Zzp4e94mxr"
   },
   "source": [
    "## Make-up policy\n",
    "\n",
    "* No make-up activities unless there are special circumstances that are verifiable and well documented and if you inform me of your circumstances before the work is due.\n"
   ]
  },
  {
   "cell_type": "markdown",
   "metadata": {
    "id": "IKHq_mpK4txj"
   },
   "source": [
    "## Classroom Protocol\n",
    "\n",
    "* The best way to learn to become a professional is to practice. This class will have group work and will provide you opportunities to reflect on how well you and your group members are working together as professionals. I expect you to contribute to our class active learning environment in a professional and productive manner. The American Society of Civil Engineers (ASCE) has a Canons of the ASCE Code of Ethics for peers (and for Clients and Employers as well). These canons provide you the standard you will be held accountable to as a professional. Learning to behave in a professional manner takes practice and reflection. Learning this skill is critically important for your career. Students who are behaving professional do the following:\n",
    "    * Show up, on time, and participate\n",
    "    * Speak and listen respectfully\n",
    "    * Treat classmates and colleagues with respect and kindness\n",
    "    * Take responsibility for shortcomings, errors, mistakes, etc., and recognize them as opportunities to improve\n",
    "    * Practice inclusive behavior that invites and empowers people with diverse viewpoints and backgrounds to fully engage and thrive in team and individual work\n",
    "* Students in this class are encouraged to speak up and participate in-class. Each of us must show respect for each other because our class represents a diversity of beliefs, backgrounds, and experiences. When we show respect for each other, we can be more enriched by our experiences together. In this class, people of all ethnicities, gender identities, religions, ages, sexual orientations, disabilities, socioeconomic backgrounds, regions, and nationalities are strongly encouraged to share their rich array of perspectives and experiences. If you feel your differences may in some way isolate you from our classroom community or if you have a specific need, please speak with me early in the semester so that I can work together to help you become an active and engaged member of our class and community.\n",
    "* In addition, professional behavior does not disrupt the learning environment. Cal Poly Humboldt Campus Policies and Procedures defines disruptive behavior as “persistent questioning, incoherent comments, verbal attacks, unrecognized speaking out, incessant arguing, intimidating shouting, and inappropriate gestures;” this includes dominating or not participating in conversation, interrupting peers/professor, and/or being rude and impatient towards others. Such disruptive behaviors will not be tolerated."
   ]
  },
  {
   "cell_type": "markdown",
   "metadata": {
    "id": "CPNDSUSot-x9"
   },
   "source": [
    "## Academic integrity\n",
    "\n",
    "* Copying of someone else’s work or ideas and representing them as your own is unethical and prohibited. This includes, but is not limited to:\n",
    "    * copying or paraphrasing another student’s work\n",
    "    * copying or paraphrasing work that has been published by others, including online without quotation and citation\n",
    "    * copying or using images, tables, results, or methods from others without including a citation and quotation as necessary\n",
    "    * copying or using work that you are not authorized to.\n",
    "* In this course, I encourage students to learn from one another, and use resources that are openly available to students. Collaboration on coursework is authorized in this course provided it is done in the spirit of mutual learning and sharing of ideas and is not done on any exams.\n",
    "* You are welcome to look your classmates' screens to actively discuss problem solving, EXCEPT during exams.\n",
    "* Do not send a copy of your work to a classmate - not even your labmate.\n",
    "* Do not send a copy of someone elses work to a classmate.\n",
    "* Students who copy the work of others (including on homework, programs, drafts, flowcharts and all submitted work regardless of in what stage or format) will receive a reduction in grade on the assignment up to a 0, may receive additional assignment(s) related to academic honesty and/or the work that they submitted, and may receive a reduction in grade in the course or an FD grade (Fail due to Disciplinary action) in the course at the discretion of the instructor. Additionally, the student(s) will be reported to the Dean of Student Affairs.\n",
    "* Students who share completed work that enables cheating may be subject to the same disciplinary action as the person who copied the work.\n",
    "* The use of Artificial Intelligence (e.g. ChatGPT, Copilot, etc.) is not allowed in this course and individuals who are found using these tools may be subject to the same disciplinary action as those who have copied work.\n",
    "* The instructor reserves the right to use any means to check for plagiarism on any work that is submitted by students for this course.\n"
   ]
  },
  {
   "cell_type": "markdown",
   "metadata": {
    "id": "2IYI1tFEkidl"
   },
   "source": [
    "### Aritificial Intelligence\n",
    "\n",
    "Artificial Intelligence (e.g. ChatGPT, Copilot, etc.) is a useful and powerful programming tool, but it is NOT allowed in this class. You must first learn the basics of programming before learning how to use AI. This is similar to needing to understand the concepts of addition and multiplication before being able to understand the usefulness of a calculator."
   ]
  },
  {
   "cell_type": "markdown",
   "metadata": {
    "id": "c4KFUwP94Axu"
   },
   "source": [
    "## Students with disabilities\n",
    "\n",
    "* Persons who wish to request disability-related accommodations should contact the Student Disability Resource Center (SDRC) in the Learning Commons, Lower Library, suite 5, 826-4678. Some accommodations may take up to several weeks to arrange. Check out the student disability resource center website: https://disability.humboldt.edu/  \n",
    "* If you are a student with a disability, please consider discussing your needs and possible accommodations with me as soon as possible.\n",
    "* If you qualify for extra time on exams or need other exam accommodations, it is your responsibility to obtain and provide me with the Exam Accommodation Request Form from the SDRC. The form must be submitted in a timely manner so appropriate arrangements can be made in advance for all exams. I strongly recommend submitting the form at the beginning of the semester or at least one week before the first exam or quiz for which you would like to request accommodations. I also strongly recommend that you communicate eligible accommodations and scheduling arrangements with me one week prior to exams. This will ensure your test accommodation arrangements are completed in a timely manner. If you wish to take an exam in the Testing Center, it is your responsibility to schedule it. Try to schedule exams in the Testing Center for the same start time. If this is not possible (for example if you have a conflict with another class) you must get the instructor's approval for a different exam time.\n"
   ]
  },
  {
   "cell_type": "markdown",
   "metadata": {
    "id": "4-DStQmx41Hb"
   },
   "source": [
    "## Copyright\n",
    "\n",
    "* All materials of this course (course handouts, lecture slides, assessments, course readings, etc.) are the intellectual property of the Course Instructor or licensed to be used in this course by the copyright owner. Redistribution of these materials by any means without permission of the copyright holder(s) constitutes a breach of copyright and may lead to academic discipline.\n",
    "* No cellphone pictures and recordings are allowed without permission."
   ]
  },
  {
   "cell_type": "markdown",
   "metadata": {
    "id": "LniQZk-sdLWw"
   },
   "source": [
    "## Weekly Schedule\n",
    "\n",
    "Each week will generally (but not always) follow this format:\n",
    "\n",
    "* **Monday**: Actively participate in Class\n",
    "* **Monday/Tuesday**: Actively participate in Lab\n",
    "* **Wednesday**: Actively participate in Class\n",
    "* **Friday**: Finish reading/homework part 1 assignment\n",
    "* **Saturday**: Finish reading/homework part 2 assignment\n",
    "* **Sunday**: Finish lab assignment \\& Complete \"How's it going?\" Check-in"
   ]
  },
  {
   "cell_type": "markdown",
   "metadata": {
    "id": "sgG46wKp4-Yt"
   },
   "source": [
    "## Course Calendar\n",
    "\n",
    "* The course calendar tries to outline the topics that will be covered in the lectures and labs.\n",
    "* However, as this is a fairly new (or redesigned) course, and thus, <font color='red'>**this calendar is tentative and subject to change depending how the course progresses throughout the semester.**</font> Please understand. Updates to the schedule will be posted on Canvas.\n",
    "* We use zyBook as the textbook, which you can access through Canvas."
   ]
  },
  {
   "cell_type": "markdown",
   "metadata": {
    "id": "YApb9KBS8AGX"
   },
   "source": [
    "### Module 1: Introduction (1/22)\n",
    "\n",
    "* Syllabus Quiz\n"
   ]
  },
  {
   "cell_type": "markdown",
   "metadata": {},
   "source": [
    "### Module 2: Variables & Expressions (1/23-1/29)\n",
    "\n",
    "* zyBook 1\n",
    "    * 1.1 Programming (general)\n",
    "    * 1.2 Programming using Python\n",
    "    * 1.3 Basic input and output\n",
    "    * 1.4 Errors\n",
    "    * 1.5 Development environment\n",
    "    * 1.6 Computers and programs (general)\n",
    "    * 1.7 Computer tour\n",
    "    * 1.8 Binary Numbers\n",
    "    * 1.9 Language history\n",
    "    * 1.9 Why whitespace matters\n",
    "\n",
    "* zyBook 2\n",
    "    * 2.1 Variables and assignments\n",
    "    * 2.2 Identifiers\n",
    "    * 2.3 Objects\n",
    "    * 2.4 Numeric types: Floating-point\n",
    "    * 2.5 Arithmetic expressions\n",
    "    * 2.6 Python expressions\n",
    "    * 2.7 Division and modulo\n",
    "    * 2.8 Module basics\n",
    "    * 2.9 Math module\n",
    "    * 2.10 Random numbers\n",
    "    * 2.11 Representing text\n",
    "\n",
    "* Semester on a Page"
   ]
  },
  {
   "cell_type": "markdown",
   "metadata": {
    "id": "n29ybTGD8Xzw"
   },
   "source": [
    "### Module 3: Data Types (1/30-2/5)\n",
    "* zyBook 1\n",
    "    * 3.1 String basics\n",
    "    * 3.2 String formatting\n",
    "    * 3.3 List basics\n",
    "    * 3.4 Tuple basics\n",
    "* zyBook 2:\n",
    "    * 3.5 Set basics\n",
    "    * 3.6 Dictionary basics\n",
    "    * 3.7 Common data types summary\n",
    "    * 3.8 Additional practice: Grade calculation\n",
    "    * 3.9 Type conversions\n",
    "    * 3.10 Additional practice: Health data"
   ]
  },
  {
   "cell_type": "markdown",
   "metadata": {
    "id": "mZ2cOgNfr2t8"
   },
   "source": [
    "### Module 4: Branching (2/6-2/12)\n",
    "\n",
    "* zyBook 1:\n",
    "    * 4.1 If-else branches (general)\n",
    "    * 4.2 Detecting equal values with branches\n",
    "    * 4.3 Detecting ranges with branches (general)\n",
    "    * 4.4 Detecting ranges with branches\n",
    "    * 4.5 Detecting ranges using logical operators\n",
    "    * 4.6 Detecting ranges with gaps\n",
    "* zyBook 2:\n",
    "    * 4.7 Detecting multiple features with branches\n",
    "    * 4.8 Comparing data types and common errors\n",
    "    * 4.9 Membership and identity operators\n",
    "    * 4.10 Order of evaluation\n",
    "    * 4.11 Code blocks and indentation\n",
    "    * 4.12 Conditional expressions\n",
    "    * 7.1 String Slicing"
   ]
  },
  {
   "cell_type": "markdown",
   "metadata": {
    "id": "_8ise_q7r-AF"
   },
   "source": [
    "### Module 5: Loops (2/13-2/19)\n",
    "\n",
    "* zyBook 1:\n",
    "    * 5.1 Loops (general)\n",
    "    * 5.2 While loops\n",
    "    * 5.3 More while examples\n",
    "    * 5.4 Counting\n",
    "* zyBook 2:\n",
    "    * 5.5 For loops\n",
    "    * 5.6 Counting using the range() function\n",
    "    * 5.7 While vs. for loops"
   ]
  },
  {
   "cell_type": "markdown",
   "metadata": {
    "id": "Niuu_gDIDJHg"
   },
   "source": [
    "### Module 6: Nested Loops & Files (2/20-2/26)\n",
    "\n",
    "* Discussion: Peer Practice with Loops\n",
    "* zyBook 1:\n",
    "    * 5.8 Nested loops\n",
    "    * 5.9 Developing programs incrementally\n",
    "    * 5.10 Break and continue\n",
    "    * 5.11 Loop else\n",
    "    * 5.12 Getting both index and value when looping: enumerate()\n",
    "    * 5.13 Additional practice: Dice statistics\n",
    "\n",
    "* Introduction to Files and Folders Videos:\n",
    "    * [Explaining computer files, folders, and directories](https://www.youtube.com/watch?v=hUW5MEKDtMM)\n",
    "    * [Understanding directories on the Windows command line](https://www.youtube.com/watch?v=JlwobCSFRBU)\n",
    "    * [Navigating directories on the Windows command line](https://www.youtube.com/watch?v=MBBWVgE0ewk&list=PL6gx4Cwl9DGDV6SnbINlVUd0o2xT4JbMu)\n",
    "    * [Organizing your files](https://www.youtube.com/watch?v=gfPujXtQqwc)\n",
    "    * [Navigating directories on the Unix (Mac/Linux) command line](https://www.youtube.com/watch?v=dzHscTzpAME)\n",
    "\n",
    "* zyBook 2:\n",
    "    * 12.1 Reading files\n",
    "    * 12.2 Writing files\n",
    "    * 12.3 Interacting with file systems\n",
    "    "
   ]
  },
  {
   "cell_type": "markdown",
   "metadata": {
    "id": "NrTukRRLsLsf"
   },
   "source": [
    "### Module 7: Numpy, Review (2/27-3/5)\n",
    "* Discussion: Peer Practice with Nested Loops\n",
    "* zyBook:\n",
    "    * 15.1 NumPy\n",
    "* Elio's Practice Problems with Loops\n"
   ]
  },
  {
   "cell_type": "markdown",
   "metadata": {
    "id": "dB2AHSXpsNk3"
   },
   "source": [
    "### Module 8: Vectors, Midterm, Plots (3/6-3/11)\n",
    "\n",
    "* zyBook:\n",
    "    * 22.1 Introduction to vectors\n",
    "    * 22.2 Vector operations\n",
    "\n",
    "* **MIDTERM** During Lab Period on March 10 or 11\n",
    "\n",
    "* Plotting Notebook"
   ]
  },
  {
   "cell_type": "markdown",
   "metadata": {
    "id": "BeMfnO6t5JyJ"
   },
   "source": [
    "### Module 9: Functions and Modules (3/12-3/30)\n",
    "\n",
    "* zyBook 1:\n",
    "    * 6.1 User-defined function basics\n",
    "    * 6.2 Print functions\n",
    "    * 6.3 Dynamic typing\n",
    "    * 6.4 Reasons for defining functions\n",
    "    * 6.5 Writing mathematical functions\n",
    "    * 6.8 Functions are objects\n",
    "\n",
    "* SPRING BREAK 3/17-21\n",
    "\n",
    "* zBook 2:\n",
    "    * 6.10 Scope of variables and functions\n",
    "    * 6.11 Namespaces and scope resolution\n",
    "    * 6.12 Function arguments\n",
    "    * 6.13 Keyword arguments and default parameter values\n",
    "    * 6.14 Arbitrary argument lists\n",
    "    * 6.15 Multiple function outputs\n",
    "    * 6.16 Help! Using docstrings to document functions\n",
    "\n",
    "* Modules Notebook\n",
    "\n",
    "* Anaconda & Virtual Environments Video"
   ]
  },
  {
   "cell_type": "markdown",
   "metadata": {
    "id": "H6V9WLOjtG_T"
   },
   "source": [
    "### Module 10: Matrix Operations (3/31-4/6)\n",
    "\n",
    "* zyBook 1:\n",
    "    * 21.1 Matrix addition and scalar multiplication\n",
    "    * 21.2 Matrix multiplication\n",
    "    * 21.3 Matrix equations and linear systems\n",
    "    * 3Blue1Brown\n",
    "        * [Essence of Linear Algebra Preview](https://www.youtube.com/watch?v=kjBOesZCoqc&list=PL0-GT3co4r2y2YErbmuJw2L5tW4Ew2O5B&index=2)\n",
    "        * [Vectors](https://www.youtube.com/watch?v=fNk_zzaMoSs&list=PL0-GT3co4r2y2YErbmuJw2L5tW4Ew2O5B&index=2&pp=iAQB)\n",
    "\n",
    "* zyBook 2:\n",
    "    * 20.1 Systems of linear equations\n",
    "    * 20.2 Matrices and linear systems\n",
    "    * 3Blue1Brown\n",
    "        * [Linear combinations, span, and basis vectors](https://www.youtube.com/watch?v=k7RM-ot2NWY&list=PL0-GT3co4r2y2YErbmuJw2L5tW4Ew2O5B&index=4)"
   ]
  },
  {
   "cell_type": "markdown",
   "metadata": {
    "id": "-BlSpXEutJpr"
   },
   "source": [
    "### Module 11: Elimination Methods (4/7-4/13)\n",
    "* zyBook 1:\n",
    "    * 20.3 Elementary row operations\n",
    "    * 20.6 Gaussian elimination\n",
    "    * 3Blue1Brown\n",
    "        * [Linear transformations and matrices](https://www.youtube.com/watch?v=kYB8IZa5AuE&list=PL0-GT3co4r2y2YErbmuJw2L5tW4Ew2O5B&index=5)\n",
    "  \n",
    "* zyBook 2: \n",
    "    * 20.7 Gauss-Jordan elimination\n",
    "    * 3Blue1Brown\n",
    "        * [Matrix multiplication as composition](https://www.youtube.com/watch?v=XkY2DOUCWMU&list=PL0-GT3co4r2y2YErbmuJw2L5tW4Ew2O5B&index=6)\n"
   ]
  },
  {
   "cell_type": "markdown",
   "metadata": {
    "id": "X-gO_4qhtP-R"
   },
   "source": [
    "### Module 12: Rank, Inverse & Condition Number (4/14-4/20)\n",
    "* zyBook 1:\n",
    "    * 20.4 Echelon forms of a matrix\n",
    "    * 20.5 Solution set of a system of linear equations\n",
    "    * 3Blue1Brown\n",
    "        * [Three dimensional linear transformations](https://www.youtube.com/watch?v=rHLEWRxRGiM&list=PL0-GT3co4r2y2YErbmuJw2L5tW4Ew2O5B&index=7)\n",
    "        \n",
    "* zyBook 2: The Inverse\n",
    "    * 21.4 Inverse of a matrix\n",
    "    * 21.5 Solving a system using an inverse matrix\n",
    "    * 3Blue1Brown\n",
    "        * [The determinant](https://www.youtube.com/watch?v=Ip3X9LOh2dk&list=PL0-GT3co4r2y2YErbmuJw2L5tW4Ew2O5B&index=8) \n"
   ]
  },
  {
   "cell_type": "markdown",
   "metadata": {},
   "source": [
    "### Module 13: LU Decomposition (4/21-4/27)\n",
    "* zyBook 1:\n",
    "     * 21.6 Elementary matrices\n",
    "     * 3Blue1Brown\n",
    "         * [Inverse matrices, column space and null space](https://www.youtube.com/watch?v=uQhTuRlWMxw&list=PL0-GT3co4r2y2YErbmuJw2L5tW4Ew2O5B&index=9)  \n",
    "    \n",
    "* zyBook 2:\n",
    "    * 21.8 LU Decomposition\n",
    "    * 3Blue1Brown\n",
    "        * [Nonsquare matrices as transformations between dimensions](https://www.youtube.com/watch?v=v8VSDg_WQlA&list=PL0-GT3co4r2y2YErbmuJw2L5tW4Ew2O5B&index=10)\n",
    "\n"
   ]
  },
  {
   "cell_type": "markdown",
   "metadata": {
    "id": "gt-us996Nh7q"
   },
   "source": [
    "### Module 14: Determinants (4/28-5/4)\n",
    "* zyBook 1:\n",
    "    * 24.1 Introduction to determinants\n",
    "    * 24.2 Cofactor expansions\n",
    "    * 3Blue1Brown\n",
    "        * [Change of basis](https://www.youtube.com/watch?v=P2LTAUO1TdA&list=PL0-GT3co4r2y2YErbmuJw2L5tW4Ew2O5B&index=13)\n",
    "* zyBook 2:\n",
    "    * 23.4 Properties of determinants\n",
    "    * 23.5 Invertibility and determinants\n",
    "    * 3Blue1Brown\n",
    "        * [Eigenvectors and Eigenvalues](https://www.youtube.com/watch?v=PFDu9oVAE-g&list=PL0-GT3co4r2y2YErbmuJw2L5tW4Ew2O5B&index=14)"
   ]
  },
  {
   "cell_type": "markdown",
   "metadata": {
    "id": "Pu1uGv03OTUT"
   },
   "source": [
    "### Module 15: Eigenvalues and Eigenvectors (5/5-5/11)\n",
    "* zyBook:\n",
    "    * 24.1 Eigenvalues and eigenvectors\n",
    "    * 3Blue1Brown\n",
    "        * [Abstract Vector Spaces](https://youtu.be/TgKwz5Ikpc8?feature=shared)\n"
   ]
  },
  {
   "cell_type": "markdown",
   "metadata": {
    "id": "maJU1ZygRoHy"
   },
   "source": [
    "### Final Exam\n",
    "\n",
    "* Section 10 (Course #22251): Monday May 12th at 8:00AM - 9:50AM in room AMH 005\n",
    "* Section 20 (Course #23724): Monday May 12th at 10:20AM - 12:10PM in room FH 125\n",
    "\n"
   ]
  },
  {
   "cell_type": "markdown",
   "metadata": {
    "id": "sSynGBPSyR0w"
   },
   "source": [
    "## Syllabus Addendum\n",
    "Students are responsible for knowing the information about campus policies, procedures, and resources on the Syllabus Addendum website linked below. The site includes topics such as learning outcomes; registration policies; academic honesty policy; attendance and disruptive behavior policy; standards for student conduct; prevention and reporting of discrimination, harassment, and retaliation; animals on campus policy; emergency procedures; resources for students with disabilities; learning and advising resources; counseling and psychological services; financial aid; IT Help; and more. https://academicprograms.humboldt.edu/content/syllabus-addendum"
   ]
  },
  {
   "cell_type": "markdown",
   "metadata": {
    "id": "y6Y9QiydxC64"
   },
   "source": [
    "*Information on the syllabus is subject to change with notice. Any significant changes will be marked in the syllabus and communicated to students via email and/or an announcement on Canvas.*"
   ]
  }
 ],
 "metadata": {
  "colab": {
   "provenance": [
    {
     "file_id": "1g2NBuc8MmCMLKNqHRNf9dZ7KKFRv-ec9",
     "timestamp": 1692491360082
    }
   ]
  },
  "kernelspec": {
   "display_name": "Python 3",
   "name": "python3"
  },
  "language_info": {
   "name": "python"
  }
 },
 "nbformat": 4,
 "nbformat_minor": 0
}
