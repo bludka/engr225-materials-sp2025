{
 "cells": [
  {
   "cell_type": "code",
   "execution_count": 316,
   "metadata": {
    "id": "lFlZB8Sp1Fwt"
   },
   "outputs": [],
   "source": [
    "import numpy as np\n",
    "np.set_printoptions(precision=4,suppress=True)"
   ]
  },
  {
   "cell_type": "markdown",
   "metadata": {},
   "source": [
    "# Elimination Methods for Systems of Equations with a Unique Solution"
   ]
  },
  {
   "cell_type": "markdown",
   "metadata": {},
   "source": [
    "For example, suppose you have the following system of equations:\n",
    "\n",
    "$x_2 + 2x_3 = 2$\n",
    "\n",
    "$2x_1 + 2x_2 + x_3 = 8$\n",
    "\n",
    "$4x_1 + 2x_2 + 6x_3 = 4$\n",
    "\n",
    "We can rewrite this system of equations as:\n",
    "\n",
    "$Ax = b$\n",
    "\n",
    "where $A$ is the coefficient matrix, $x$ is a column vector of the solutions, and $b$ is a column vector of the constants on the right hand side."
   ]
  },
  {
   "cell_type": "markdown",
   "metadata": {},
   "source": [
    "The associated coefficient matrix A is:"
   ]
  },
  {
   "cell_type": "code",
   "execution_count": 317,
   "metadata": {},
   "outputs": [
    {
     "name": "stdout",
     "output_type": "stream",
     "text": [
      "[[0. 1. 2.]\n",
      " [2. 2. 1.]\n",
      " [4. 2. 6.]]\n"
     ]
    }
   ],
   "source": [
    "A = np.array([[0,1,2],\n",
    "              [2,2,1],\n",
    "              [4,2,6]],dtype=float)\n",
    "print(A)"
   ]
  },
  {
   "cell_type": "markdown",
   "metadata": {},
   "source": [
    "The associated column vector of constants (for the right hand side of the system of equations) is:"
   ]
  },
  {
   "cell_type": "code",
   "execution_count": 318,
   "metadata": {},
   "outputs": [
    {
     "name": "stdout",
     "output_type": "stream",
     "text": [
      "[[2.]\n",
      " [8.]\n",
      " [4.]]\n"
     ]
    }
   ],
   "source": [
    "b = np.array([[2],\n",
    "              [8],\n",
    "              [4]],dtype=float)\n",
    "print(b)"
   ]
  },
  {
   "cell_type": "markdown",
   "metadata": {
    "id": "U1xhSxOD4XcI"
   },
   "source": [
    "# Gaussian Elimination\n",
    "\n",
    "Algorithm (recipe of prescribed steps) to solve system of linear equations. The algorithm has two parts."
   ]
  },
  {
   "cell_type": "markdown",
   "metadata": {
    "id": "yse_Dr1Bn57l"
   },
   "source": [
    "## Part 1: Forward Elimation to acheive Upper Triangular Form\n",
    "\n",
    "### Part 1 Step a.) Creating the Augmented Matrix [A|b]:\n"
   ]
  },
  {
   "cell_type": "code",
   "execution_count": 319,
   "metadata": {},
   "outputs": [
    {
     "name": "stdout",
     "output_type": "stream",
     "text": [
      "Augmented matrix:\n",
      " [[0. 1. 2. 2.]\n",
      " [2. 2. 1. 8.]\n",
      " [4. 2. 6. 4.]]\n"
     ]
    }
   ],
   "source": [
    "A_b = np.concatenate((A, b), axis = 1)\n",
    "print('Augmented matrix:\\n', A_b)"
   ]
  },
  {
   "cell_type": "markdown",
   "metadata": {},
   "source": [
    "### Part 1 Step b.) Find leading entry of the first column"
   ]
  },
  {
   "cell_type": "code",
   "execution_count": 320,
   "metadata": {},
   "outputs": [
    {
     "name": "stdout",
     "output_type": "stream",
     "text": [
      "Upper left entry is zero: 0.0\n",
      "Middle left entry is non-zero: 2.0\n"
     ]
    }
   ],
   "source": [
    "# Find first non-zero entry in column zero of A_b\n",
    "print(\"Upper left entry is zero:\",A_b[0,0]) #row 0, column 0\n",
    "print(\"Middle left entry is non-zero:\", A_b[1,0]) #row 1, column 0"
   ]
  },
  {
   "cell_type": "markdown",
   "metadata": {},
   "source": [
    "### Part 1 Step c.) If leading entry is not in first row, swap rows to get it to the top row\n",
    "\n"
   ]
  },
  {
   "cell_type": "code",
   "execution_count": 321,
   "metadata": {},
   "outputs": [
    {
     "name": "stdout",
     "output_type": "stream",
     "text": [
      "[[2. 2. 1. 8.]\n",
      " [0. 1. 2. 2.]\n",
      " [4. 2. 6. 4.]]\n"
     ]
    }
   ],
   "source": [
    "# R0 <--> R1\n",
    "R0 = np.copy(A_b[0,:]) #make a copy of row 0\n",
    "R1 = np.copy(A_b[1,:]) #make a copy of row 1\n",
    "A_b[1,:] = R0 #put the copy of old row 0 in row 1\n",
    "A_b[0,:] = R1 #put the copy of old row 1 in row 0 \n",
    "print(A_b)"
   ]
  },
  {
   "cell_type": "markdown",
   "metadata": {},
   "source": [
    "### Part 1 Step d.) Perform elementary row operations using top row leading entry (also known as the \"pivot\") to make all entries below it zero"
   ]
  },
  {
   "cell_type": "code",
   "execution_count": 322,
   "metadata": {},
   "outputs": [
    {
     "name": "stdout",
     "output_type": "stream",
     "text": [
      "[[  2.   2.   1.   8.]\n",
      " [  0.   1.   2.   2.]\n",
      " [  0.  -2.   4. -12.]]\n"
     ]
    }
   ],
   "source": [
    "# -2*R0 + R2  --> R2\n",
    "A_b[2,:] = - 2*A_b[0,:] + A_b[2,:]\n",
    "print(A_b)"
   ]
  },
  {
   "cell_type": "markdown",
   "metadata": {},
   "source": [
    "### Part 1 Step e.) Repeat previous steps for sub-matrix containing all entries to the right and below of upper leading entry you just worked with"
   ]
  },
  {
   "cell_type": "code",
   "execution_count": 323,
   "metadata": {},
   "outputs": [
    {
     "name": "stdout",
     "output_type": "stream",
     "text": [
      "[[ 2.  2.  1.  8.]\n",
      " [ 0.  1.  2.  2.]\n",
      " [ 0.  0.  8. -8.]]\n"
     ]
    }
   ],
   "source": [
    "# 2*R1 + R2  --> R2\n",
    "A_b[2,:] = 2*A_b[1,:] + A_b[2,:]\n",
    "print(A_b)"
   ]
  },
  {
   "cell_type": "markdown",
   "metadata": {},
   "source": [
    "### Part 1 Step f.) Stop when the *coefficient matrix* is in Upper Triangular Form\n",
    "\n",
    "We are already there!"
   ]
  },
  {
   "cell_type": "markdown",
   "metadata": {
    "id": "avkvW0lMnydq"
   },
   "source": [
    "## Part 2: Back-substitution\n",
    "\n",
    "### Part 2 Step a.)  Rewrite our system of equations from the manipulated augmented matrix above:\n"
   ]
  },
  {
   "cell_type": "markdown",
   "metadata": {},
   "source": [
    "$2x_1 + 2x_2 + x_3 = 8$\n",
    "\n",
    "$1x_2 + 2x_3 = 2$\n",
    "\n",
    "$8x_3 = -8$\n"
   ]
  },
  {
   "cell_type": "markdown",
   "metadata": {},
   "source": [
    "### Part 2 Step b.) Solve for the variable in the bottom equation\n",
    "\n",
    "Remember this is our system of equations:\n",
    "\n",
    "$2x_1 + 2x_2 + x_3 = 8$\n",
    "\n",
    "$1x_2 + 2x_3 = 2$\n",
    "\n",
    "$8x_3 = -8$\n",
    "\n",
    "so looking at the bottom equation:\n",
    "\n",
    " $8x_3 = -8$     \n",
    "   \n",
    ">$x_3 = -8/8$\n",
    "\n",
    ">$x_3 = -1$"
   ]
  },
  {
   "cell_type": "code",
   "execution_count": 324,
   "metadata": {},
   "outputs": [
    {
     "name": "stdout",
     "output_type": "stream",
     "text": [
      "-1.0\n"
     ]
    }
   ],
   "source": [
    "x3 = -8/8\n",
    "print(x3)"
   ]
  },
  {
   "cell_type": "markdown",
   "metadata": {},
   "source": [
    "### Part 2 Step c.) Use *backsubstitution* to solve for the unknown variable in the next row up\n",
    "Remember this is our system of equations:\n",
    "\n",
    "$2x_1 + 2x_2 + x_3 = 8$\n",
    "\n",
    "$1x_2 + 2x_3 = 2$\n",
    "\n",
    "$8x_3 = -8$\n",
    "\n",
    "Plug the variable you just found ($x_3 = -1$) into the equation representing the row above (this is called \"backsubstitution\")\n",
    "\n",
    "\n",
    "Row above:\n",
    "\n",
    "$1x_2 + 2x_3 = 2$\n",
    "\n",
    "backsubstitute using $x_3 = -1$:\n",
    "\n",
    "$x_2 + 2(-1) = 2$\n",
    "\n",
    "and solve for the remaining variable\n",
    "\n",
    "$x_2 = 2 - 2(-1)$\n",
    "\n",
    "> $x_2 = 2 + 2$ \n",
    "\n",
    "> $x_2 = 4$\n",
    "\n"
   ]
  },
  {
   "cell_type": "code",
   "execution_count": 325,
   "metadata": {},
   "outputs": [
    {
     "name": "stdout",
     "output_type": "stream",
     "text": [
      "4.0\n"
     ]
    }
   ],
   "source": [
    "x2 = 2 - 2*x3\n",
    "print(x2)"
   ]
  },
  {
   "cell_type": "markdown",
   "metadata": {},
   "source": [
    "### Part 2 Step d.) Continue backsubstitution until all variables have been solved for.\n",
    "\n",
    "Remember this is our system of equations:\n",
    "\n",
    "$2x_1 + 2x_2 + x_3 = 8$\n",
    "\n",
    "$1x_2 + 2x_3 = 2$\n",
    "\n",
    "$8x_3 = -8$\n",
    "\n",
    "Just have $x_1$ left to solve for and we already know $x_2$ and $x_3$...\n",
    "\n",
    "$2x_1 + 2x_2 + x_3 = 8$\n",
    "\n",
    "$2x_1 + 2(4) + (-1) = 8$\n",
    "\n",
    "$2x_1 +  = 8 - 2(4) - (-1)$\n",
    "\n",
    "$x_1 = (8 - 2(4) - (-1))/2$\n"
   ]
  },
  {
   "cell_type": "code",
   "execution_count": 326,
   "metadata": {},
   "outputs": [
    {
     "name": "stdout",
     "output_type": "stream",
     "text": [
      "0.5\n"
     ]
    }
   ],
   "source": [
    "x1 = (8-2*x2 - x3)/2\n",
    "print(x1)"
   ]
  },
  {
   "cell_type": "markdown",
   "metadata": {},
   "source": [
    "### We have solved our system of equations and found the unique solution!\n",
    "\n",
    "\n",
    "$x = \\begin{bmatrix}\n",
    "\\frac{1}{2} \\\\\n",
    "4\\\\\n",
    "-1\\\\\n",
    "\\end{bmatrix}$."
   ]
  },
  {
   "cell_type": "markdown",
   "metadata": {},
   "source": [
    "-------------------------------------------------------------------------------------------\n"
   ]
  },
  {
   "cell_type": "markdown",
   "metadata": {
    "id": "mD-7-l9ODPW2"
   },
   "source": [
    "# Gauss-Jordan Elimination\n",
    "\n",
    "The algorithm for Gauss-Jordan Elimination is similar but different.  It has three parts.\n",
    "\n",
    "## Part 1: Forward Elimination, is the same as Guassian Elimination\n",
    "\n",
    "Say we start with the same system of equations:\n",
    "\n",
    "$x_2 + 2x_3 = 2$\n",
    "\n",
    "$2x_1 + 2x_2 + x_3 = 8$\n",
    "\n",
    "$4x_1 + 2x_2 + 6x_3 = 4$\n",
    "\n",
    "So perform the same steps as in the forward elimination of Guassian Elimination:"
   ]
  },
  {
   "cell_type": "code",
   "execution_count": 327,
   "metadata": {},
   "outputs": [
    {
     "name": "stdout",
     "output_type": "stream",
     "text": [
      "Coefficient Matrix:\n",
      " [[0. 1. 2.]\n",
      " [2. 2. 1.]\n",
      " [4. 2. 6.]]\n",
      "\n",
      "Column vector of constants:\n",
      " [[2.]\n",
      " [8.]\n",
      " [4.]]\n",
      "\n",
      "Augmented matrix:\n",
      " [[0. 1. 2. 2.]\n",
      " [2. 2. 1. 8.]\n",
      " [4. 2. 6. 4.]] Next Row Operation: R0<--> R1\n",
      "\n",
      "Result of Row Operation\n",
      "[[2. 2. 1. 8.]\n",
      " [0. 1. 2. 2.]\n",
      " [4. 2. 6. 4.]] Next Row Operation: -2*R0 + R2  --> R2\n",
      "\n",
      "Result of Row Operation\n",
      "[[  2.   2.   1.   8.]\n",
      " [  0.   1.   2.   2.]\n",
      " [  0.  -2.   4. -12.]] Next Row Operation: 2*R1 + R2  --> R2\n",
      "\n",
      "Result of Row Operation\n",
      "[[ 2.  2.  1.  8.]\n",
      " [ 0.  1.  2.  2.]\n",
      " [ 0.  0.  8. -8.]] Coefficient Matrix in Upper Triangular Form- Yay! Step 1 complete\n"
     ]
    }
   ],
   "source": [
    "#coefficient matrix\n",
    "A = np.array([[0,1,2],\n",
    "              [2,2,1],\n",
    "              [4,2,6]],dtype=float)\n",
    "print('Coefficient Matrix:\\n',A)\n",
    "print() # space output to be more readable\n",
    "\n",
    "# column vector of constants\n",
    "b = np.array([[2],\n",
    "              [8],\n",
    "              [4]],dtype=float)\n",
    "print('Column vector of constants:\\n',b)\n",
    "print() # space output to be more readable\n",
    "\n",
    "# augmented matrix\n",
    "A_b = np.concatenate((A, b), axis = 1)\n",
    "# print matrix and the next step you will take\n",
    "print('Augmented matrix:\\n', A_b,\"Next Row Operation: R0<--> R1\")\n",
    "print() # space output to be more readable\n",
    "\n",
    "# Row Operation: R0 <--> R1\n",
    "R0 = np.copy(A_b[0,:]) #make a copy of row 0\n",
    "R1 = np.copy(A_b[1,:]) #make a copy of row 1\n",
    "A_b[1,:] = R0 #put the copy of old row 0 in row 1\n",
    "A_b[0,:] = R1 #put the copy of old row 1 in row 0 \n",
    "print(\"Result of Row Operation\")\n",
    "# print matrix and the next step you will take\n",
    "print(A_b,\"Next Row Operation: -2*R0 + R2  --> R2\")\n",
    "print() # space output to be more readable\n",
    "\n",
    "# Row Operation: -2*R0 + R2  --> R2\n",
    "A_b[2,:] = - 2*A_b[0,:] + A_b[2,:]\n",
    "print(\"Result of Row Operation\")\n",
    "# print matrix and the next step you will take\n",
    "print(A_b,\"Next Row Operation: 2*R1 + R2  --> R2\")\n",
    "print() # space output to be more readable\n",
    "\n",
    "# Row Operation: 2*R1 + R2  --> R2\n",
    "print(\"Result of Row Operation\")\n",
    "A_b[2,:] = 2*A_b[1,:] + A_b[2,:]\n",
    "print(A_b, \"Coefficient Matrix in Upper Triangular Form- Yay! Step 1 complete\")"
   ]
  },
  {
   "cell_type": "markdown",
   "metadata": {},
   "source": [
    "## Part 2: Scale each row so that all elements on the coefficient matrix diagonal are 1\n",
    "\n",
    "Use more row operations to make all the elements on the coefficient matrix diagonal 1 "
   ]
  },
  {
   "cell_type": "code",
   "execution_count": 328,
   "metadata": {},
   "outputs": [
    {
     "name": "stdout",
     "output_type": "stream",
     "text": [
      "[[ 2.  2.  1.  8.]\n",
      " [ 0.  1.  2.  2.]\n",
      " [ 0.  0.  8. -8.]] Next Row Operation: (1/2)*R0 --> R0\n",
      "\n",
      "Result of Row Operation\n",
      "[[ 1.   1.   0.5  4. ]\n",
      " [ 0.   1.   2.   2. ]\n",
      " [ 0.   0.   8.  -8. ]] Next Row Operation: (1/8)*R2 --> R2\n",
      "\n",
      "Result of Row Operation\n",
      "[[ 1.   1.   0.5  4. ]\n",
      " [ 0.   1.   2.   2. ]\n",
      " [ 0.   0.   1.  -1. ]] All coffiecient matrix diagonal entries are now 1! Move onto Part 3!\n"
     ]
    }
   ],
   "source": [
    "print(A_b,\"Next Row Operation: (1/2)*R0 --> R0\")\n",
    "print()\n",
    "\n",
    "# Row Operation: (1/2)*R0 --> R0\n",
    "print(\"Result of Row Operation\")\n",
    "A_b[0,:] = (1/2)*A_b[0,:]\n",
    "print(A_b, \"Next Row Operation: (1/8)*R2 --> R2\")\n",
    "print()\n",
    "\n",
    "# Row Operation: (1/8)*R2 --> R2\n",
    "print(\"Result of Row Operation\")\n",
    "A_b[2,:] = (1/8)*A_b[2,:]\n",
    "print(A_b, \"All coffiecient matrix diagonal entries are now 1! Move onto Part 3!\")"
   ]
  },
  {
   "cell_type": "markdown",
   "metadata": {},
   "source": [
    "## Part 3: Perform Backward Elimination \n",
    "\n",
    "### Part 3 Step a.) \n",
    "\n",
    "Perform elementary row operations to make all entries above the diagonal zero. *Start with the right-most column of the **coefficient** matrix.*\n",
    "\n"
   ]
  },
  {
   "cell_type": "code",
   "execution_count": 329,
   "metadata": {},
   "outputs": [
    {
     "name": "stdout",
     "output_type": "stream",
     "text": [
      "[[ 1.   1.   0.5  4. ]\n",
      " [ 0.   1.   2.   2. ]\n",
      " [ 0.   0.   1.  -1. ]] Next Row Operation: -2*R2 + R1--> R1\n",
      "\n",
      "Result of Row Operation\n",
      "[[ 1.   1.   0.5  4. ]\n",
      " [ 0.   1.   0.   4. ]\n",
      " [ 0.   0.   1.  -1. ]] Next Row Operation: -(1/2)*R2 + R0--> R0\n",
      "\n",
      "Result of Row Operation\n",
      "[[ 1.   1.   0.   4.5]\n",
      " [ 0.   1.   0.   4. ]\n",
      " [ 0.   0.   1.  -1. ]]\n",
      "\n"
     ]
    }
   ],
   "source": [
    "print(A_b,\"Next Row Operation: -2*R2 + R1--> R1\")\n",
    "print()\n",
    "\n",
    "# Row Operation: -2*R2 + R1--> R1\n",
    "print(\"Result of Row Operation\")\n",
    "A_b[1,:] = -2*A_b[2,:]+ A_b[1,:]\n",
    "print(A_b, \"Next Row Operation: -(1/2)*R2 + R0--> R0\")\n",
    "print()\n",
    "\n",
    "print(\"Result of Row Operation\")\n",
    "A_b[0,:] = -(1/2)*A_b[2,:]+ A_b[0,:]\n",
    "print(A_b)\n",
    "print()\n"
   ]
  },
  {
   "cell_type": "markdown",
   "metadata": {},
   "source": [
    "### Part 3 Step b.) \n",
    "\n",
    "Repeat for the sub-matrix containing all entries above and to the left of the leading entry you just worked off of\n"
   ]
  },
  {
   "cell_type": "code",
   "execution_count": 330,
   "metadata": {},
   "outputs": [
    {
     "name": "stdout",
     "output_type": "stream",
     "text": [
      "[[ 1.   1.   0.   4.5]\n",
      " [ 0.   1.   0.   4. ]\n",
      " [ 0.   0.   1.  -1. ]] Next Row Operation: -1*R1 + R0--> R0\n",
      "\n",
      "Result of Row Operation\n",
      "[[ 1.   0.   0.   0.5]\n",
      " [ 0.   1.   0.   4. ]\n",
      " [ 0.   0.   1.  -1. ]] All off diagonal entries of the coefficient matrix are 0 yay!\n",
      "\n"
     ]
    }
   ],
   "source": [
    "print(A_b,\"Next Row Operation: -1*R1 + R0--> R0\")\n",
    "print()\n",
    "\n",
    "# Row Operation: -1*R1 + R0--> R0\n",
    "print(\"Result of Row Operation\")\n",
    "A_b[0,:] = -1*A_b[1,:]+ A_b[0,:]\n",
    "print(A_b, \"All off diagonal entries of the coefficient matrix are 0 yay!\")\n",
    "print()"
   ]
  },
  {
   "cell_type": "markdown",
   "metadata": {},
   "source": [
    "### Part 3 Step c.) \n",
    "\n",
    "Rewrite our system of equations from the manipulated augmented matrix above:\n",
    "\n",
    "$x_1 + 0x_2 + 0x_3 = 0.5$\n",
    "\n",
    "$0x_1 + 1x_2 + 0x_3 = 4$\n",
    "\n",
    "$0x_1 + 0x_2 + 1x_3 = -1$\n",
    "\n",
    "or\n",
    "\n",
    "$x_1 = 0.5$\n",
    "\n",
    "$x_2 = 4$\n",
    "\n",
    "$x_3 = -1$\n",
    "\n",
    "### We have solved our system of equations and found the unique solution!\n",
    "\n",
    "\n",
    "$x = \\begin{bmatrix}\n",
    "\\frac{1}{2} \\\\\n",
    "4\\\\\n",
    "-1\\\\\n",
    "\\end{bmatrix}$.\n",
    "\n"
   ]
  }
 ],
 "metadata": {
  "colab": {
   "provenance": [],
   "toc_visible": true
  },
  "kernelspec": {
   "display_name": "engr225",
   "language": "python",
   "name": "python3"
  },
  "language_info": {
   "codemirror_mode": {
    "name": "ipython",
    "version": 3
   },
   "file_extension": ".py",
   "mimetype": "text/x-python",
   "name": "python",
   "nbconvert_exporter": "python",
   "pygments_lexer": "ipython3",
   "version": "3.11.7"
  }
 },
 "nbformat": 4,
 "nbformat_minor": 0
}
