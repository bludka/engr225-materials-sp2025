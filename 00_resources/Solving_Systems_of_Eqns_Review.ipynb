{
 "cells": [
  {
   "cell_type": "markdown",
   "metadata": {
    "id": "sFaU_9qCaYLz"
   },
   "source": [
    "# Solving Systems of Equations Review\n",
    "\n",
    "\n",
    "\n"
   ]
  },
  {
   "cell_type": "code",
   "execution_count": null,
   "metadata": {
    "id": "RqkhxhiFZ9U1"
   },
   "outputs": [],
   "source": [
    "import numpy as np\n",
    "np.set_printoptions(precision=4,suppress=True)"
   ]
  },
  {
   "cell_type": "markdown",
   "metadata": {
    "id": "rE3qMLWFnH1U"
   },
   "source": [
    "We have covered the following methods to solve systems of equations:\n",
    "\n",
    "* Gaussian Elimination\n",
    "* Gauss-Jordan Elimination\n",
    "* The Inverse"
   ]
  },
  {
   "cell_type": "markdown",
   "metadata": {
    "id": "vZiKWupoogo5"
   },
   "source": [
    "For example, suppose you have the following system of equations:\n",
    "\n",
    "$2x_1 + 2x_2 + x_3 = 8$\n",
    "\n",
    "$4x_1 + 2x_2 + 6x_3 = 4$\n",
    "\n",
    "$x_2 + 2x_3 = 2$\n",
    "\n",
    "We can rewrite this system of equations as:\n",
    "\n",
    "$Ax = b$\n",
    "\n",
    "where $A$ is the coefficient matrix, $x$ is a column vector of the solutions, and $b$ is a column vector of the constants on the right hand side."
   ]
  },
  {
   "cell_type": "markdown",
   "metadata": {
    "id": "xgimR1T2tlRG"
   },
   "source": [
    "The associated coefficient matrix A is:"
   ]
  },
  {
   "cell_type": "code",
   "execution_count": null,
   "metadata": {
    "colab": {
     "base_uri": "https://localhost:8080/"
    },
    "id": "poMV_W2Yoe2k",
    "outputId": "3e783938-2427-4552-e8a0-f5432a2152a7"
   },
   "outputs": [
    {
     "name": "stdout",
     "output_type": "stream",
     "text": [
      "[[2. 2. 1.]\n",
      " [4. 2. 6.]\n",
      " [0. 1. 2.]]\n"
     ]
    }
   ],
   "source": [
    "A = np.array([[2,2,1],\n",
    "             [4,2,6],\n",
    "              [0,1,2]],dtype=float)\n",
    "print(A)"
   ]
  },
  {
   "cell_type": "markdown",
   "metadata": {
    "id": "remdGOpapR2b"
   },
   "source": [
    "The associated column vector of constants (for the right hand side of the system of equations) is:"
   ]
  },
  {
   "cell_type": "code",
   "execution_count": null,
   "metadata": {
    "id": "rQv74OdtpWTI"
   },
   "outputs": [],
   "source": [
    "b = np.array([[8],\n",
    "              [4],\n",
    "              [2]],dtype=float)"
   ]
  },
  {
   "cell_type": "markdown",
   "metadata": {
    "id": "EDxVAQKxtR-T"
   },
   "source": [
    "We can try any of the methods above to solve this system! Let's test them all..."
   ]
  },
  {
   "cell_type": "markdown",
   "metadata": {
    "id": "nrMb001KtZtN"
   },
   "source": [
    "## Gaussian Elimination"
   ]
  },
  {
   "cell_type": "markdown",
   "metadata": {
    "id": "z81WD4wcpgUE"
   },
   "source": [
    "For Gaussian Elimination, we first need to create an augmented matrix [A|b]:"
   ]
  },
  {
   "cell_type": "code",
   "execution_count": null,
   "metadata": {
    "id": "IzDvE9Gjplwv"
   },
   "outputs": [],
   "source": [
    "A_b = np.concatenate((A, b), axis = 1)\n",
    "print('Augmented matrix:\\n', A_b)"
   ]
  },
  {
   "cell_type": "markdown",
   "metadata": {
    "id": "FqxP8iNntycL"
   },
   "source": [
    "Next we perform *forward elimination* using row operations until the augmented matrix is in Echelon Form:"
   ]
  },
  {
   "cell_type": "code",
   "execution_count": null,
   "metadata": {
    "id": "_vwrskQZp836"
   },
   "outputs": [],
   "source": [
    "#R1 - 2*R0 --> R1\n",
    "A_b[1,:] = A_b[1,:] - 2*A_b[0,:]\n",
    "print(A_b)"
   ]
  },
  {
   "cell_type": "code",
   "execution_count": null,
   "metadata": {
    "id": "tx6B1EG-qZve"
   },
   "outputs": [],
   "source": [
    "#R2 + (1/2)*R1 --> R2\n",
    "A_b[2,:] = A_b[2,:] + (1/2)*A_b[1,:]\n",
    "print(A_b)"
   ]
  },
  {
   "cell_type": "markdown",
   "metadata": {
    "id": "CAf6BbuvqY2g"
   },
   "source": [
    "Now that our system is in Echelon Form, we rewrite our system of equations as\n",
    "\n",
    "$2x_1 + 2x_2 + x_3 = 8$\n",
    "\n",
    "$-2x_2 + 4x_3 = -12$\n",
    "\n",
    "$4x_3 = -4$\n"
   ]
  },
  {
   "cell_type": "markdown",
   "metadata": {
    "id": "MtP3p2PUrYgh"
   },
   "source": [
    "The next part of Gaussian Elimination is *back substitution*:\n",
    "\n",
    "Starting with the bottom equation we find:\n",
    "\n",
    "$x_3 = -1$.\n",
    "\n",
    "We can plug that into the equation above it:\n",
    "\n",
    "$-2x_2 + 4(-1) = -12$\n",
    "\n",
    "And now we can solve for $x_2$:\n",
    "\n",
    "$x_2 = 4$.\n",
    "\n",
    "Now we can plug $x_3$ and $x_2$ into the top equation,\n",
    "\n",
    "$2x_1 + 2*(4) + (-1) = 8$\n",
    "\n",
    "and we can find $x_1$:\n",
    "\n",
    "$x_1 = \\frac{1}{2}$.\n",
    "\n",
    "We have solved our system of equations!\n",
    "\n",
    "\n",
    "$x = \\begin{bmatrix}\n",
    "\\frac{1}{2} \\\\\n",
    "4\\\\\n",
    "-1\\\\\n",
    "\\end{bmatrix}$.\n",
    "\n"
   ]
  },
  {
   "cell_type": "markdown",
   "metadata": {
    "id": "fGE5s_YLv9A1"
   },
   "source": [
    "We can check this using code to make sure that $A$ matrix multiplied by our solutions for $x$ really does equal $b$:"
   ]
  },
  {
   "cell_type": "code",
   "execution_count": null,
   "metadata": {
    "id": "WG8h8nI9v_AA"
   },
   "outputs": [],
   "source": [
    "x = np.array([[0.5],\n",
    "              [4],\n",
    "              [-1]])\n",
    "print(A@x)\n",
    "print(b)"
   ]
  },
  {
   "cell_type": "markdown",
   "metadata": {
    "id": "jhRwn_sLH5ZS"
   },
   "source": [
    "Or like this by using the computer to do the algebra for us:"
   ]
  },
  {
   "cell_type": "code",
   "execution_count": null,
   "metadata": {
    "id": "dWEtt2xXICiJ"
   },
   "outputs": [],
   "source": [
    "x3 = A_b[2,3]/A_b[2,2]\n",
    "x2 = (A_b[1,3]-A_b[1,2]*x3)/A_b[1,1]\n",
    "x1 = (A_b[0,3]-A_b[0,1]*x2-A_b[0,2]*x3)/A_b[0,0]\n",
    "print(x1,x2,x3)"
   ]
  },
  {
   "cell_type": "markdown",
   "metadata": {
    "id": "MIKgKM7bXOB6"
   },
   "source": [
    "## Gauss-Jordan Elimination\n",
    "\n",
    "Gauss-Jordan Elimination starts out doing forward elimination just like Gaussian Elimination, but uses more row operations to get to *REDUCED* ECHELON FORM.\n",
    "\n",
    "Just like Guassian Elimination we start with the Augmented Matrix [A|b]"
   ]
  },
  {
   "cell_type": "code",
   "execution_count": null,
   "metadata": {
    "id": "lL6nUHYnkohg"
   },
   "outputs": [],
   "source": [
    "A_b = np.concatenate((A, b), axis = 1)\n",
    "print('Augmented matrix:\\n', A_b)"
   ]
  },
  {
   "cell_type": "markdown",
   "metadata": {
    "id": "LuEEtz5ikuoA"
   },
   "source": [
    "We use the same row operations to get to echelon form:"
   ]
  },
  {
   "cell_type": "code",
   "execution_count": null,
   "metadata": {
    "id": "Btq8zJ5Hkbk5"
   },
   "outputs": [],
   "source": [
    "#R1 - 2*R0 --> R1\n",
    "A_b[1,:] = A_b[1,:] - 2*A_b[0,:]\n",
    "print(A_b)"
   ]
  },
  {
   "cell_type": "code",
   "execution_count": null,
   "metadata": {
    "id": "tfX0hX0bktKL"
   },
   "outputs": [],
   "source": [
    "#R2 + (1/2)*R1 --> R2\n",
    "A_b[2,:] = A_b[2,:] + (1/2)*A_b[1,:]\n",
    "print(A_b)"
   ]
  },
  {
   "cell_type": "markdown",
   "metadata": {
    "id": "PxzNfTt4lK-R"
   },
   "source": [
    "This is where we left off with Gaussian Elimination, but we continue on with more row operations.\n",
    "\n",
    "Next we use row operations to make the diagonal entries 1."
   ]
  },
  {
   "cell_type": "code",
   "execution_count": null,
   "metadata": {
    "id": "CNbLaUdTlcoU"
   },
   "outputs": [],
   "source": [
    "#(1/2)*R0-->R0\n",
    "A_b[0,:] = (1/2)*A_b[0,:]\n",
    "print(A_b)"
   ]
  },
  {
   "cell_type": "code",
   "execution_count": null,
   "metadata": {
    "id": "4Dx2M70PmCrz"
   },
   "outputs": [],
   "source": [
    "#(-1/2)*R1-->R1\n",
    "A_b[1,:] = (-1/2)*A_b[1,:]\n",
    "print(A_b)"
   ]
  },
  {
   "cell_type": "code",
   "execution_count": null,
   "metadata": {
    "id": "4kzKA_bOmPvj"
   },
   "outputs": [],
   "source": [
    "#(1/4)*R2-->R2\n",
    "A_b[2,:] = (1/4)*A_b[2,:]\n",
    "print(A_b)"
   ]
  },
  {
   "cell_type": "markdown",
   "metadata": {
    "id": "Ea8CiJuhmBsA"
   },
   "source": [
    "Lastly we make all the entries above the pivots zero, starting with the bottom-right and moving upwards and then left."
   ]
  },
  {
   "cell_type": "code",
   "execution_count": null,
   "metadata": {
    "id": "dvhNXrD9mpV8"
   },
   "outputs": [],
   "source": [
    "#R1 + 2*R2 --> R1\n",
    "A_b[1,:] = A_b[1,:] + 2*A_b[2,:]\n",
    "print(A_b)"
   ]
  },
  {
   "cell_type": "code",
   "execution_count": null,
   "metadata": {
    "id": "BbRhjmIBm97M"
   },
   "outputs": [],
   "source": [
    "#R0 - (1/2)*R2 --> R0\n",
    "A_b[0,:] = A_b[0,:] + (-1/2)*A_b[2,:]\n",
    "print(A_b)"
   ]
  },
  {
   "cell_type": "code",
   "execution_count": null,
   "metadata": {
    "id": "O_1rxI-nnK49"
   },
   "outputs": [],
   "source": [
    "#R0 - R1 --> R0\n",
    "A_b[0,:] = A_b[0,:] - A_b[1,:]\n",
    "print(A_b)"
   ]
  },
  {
   "cell_type": "markdown",
   "metadata": {
    "id": "hUQXCwCDnTWS"
   },
   "source": [
    "Rewriting our system of equations we have:\n",
    "\n",
    "$x_1 = 1/2$\n",
    "\n",
    "$x_2 = 4$\n",
    "\n",
    "$x_3 = -1$\n",
    "\n",
    "Thankfully this is the same solution that we found with Gaussian Elimination and LU Decomposition!\n",
    "\n",
    "$x = \\begin{bmatrix}\n",
    "\\frac{1}{2} \\\\\n",
    "4\\\\\n",
    "-1\\\\\n",
    "\\end{bmatrix}$."
   ]
  },
  {
   "cell_type": "markdown",
   "metadata": {
    "id": "cl-z8r0zjI5V"
   },
   "source": [
    "We can also check this using the Matrix routine from the sympy package:"
   ]
  },
  {
   "cell_type": "code",
   "execution_count": null,
   "metadata": {
    "id": "z1exC0rpjSNb"
   },
   "outputs": [],
   "source": [
    "from sympy import Matrix\n",
    "A_b_matrix =  Matrix(A_b)\n",
    "\n",
    "print(f'Reduced row echelon form of [A|b]=')\n",
    "print(A_b_matrix.rref(),'\\n')"
   ]
  },
  {
   "cell_type": "markdown",
   "metadata": {
    "id": "9aNbWjGojnEv"
   },
   "source": [
    "This shows us the augmented matrix in reduced row echelon form, followed by the index of each pivot column (In this case: (0,1,2)).\n",
    "\n",
    "This matches. Great!"
   ]
  },
  {
   "cell_type": "markdown",
   "metadata": {
    "id": "4G0rmeR1j56t"
   },
   "source": [
    "## The Inverse\n",
    "\n",
    "We find the inverse of a matrix by starting with a different augmented matrix, $[A|I]$, where $I$ is the identity matrix that is the same size as A. (A must be a square matrix for this to work.)"
   ]
  },
  {
   "cell_type": "code",
   "execution_count": null,
   "metadata": {
    "id": "hKIPHzm1el3C"
   },
   "outputs": [],
   "source": [
    "print(\"A=\")\n",
    "print(A)\n",
    "n,m = np.shape(A)\n",
    "print(\"I=\")\n",
    "I = np.identity(n)\n",
    "print(I)\n",
    "A_I = np.concatenate((A, I), axis = 1)\n",
    "print('Augmented matrix [A|I]:\\n', A_I)"
   ]
  },
  {
   "cell_type": "markdown",
   "metadata": {
    "id": "PI6sgWDdqeBD"
   },
   "source": [
    "Next we perform row operations on the augmented matrix until the left side of the matrix turns into the identity matrix. (This is only possible if the matrix is \"invertible\").\n",
    "\n",
    "These will be the same row operations that we used for Guass-Jordan Elimination."
   ]
  },
  {
   "cell_type": "code",
   "execution_count": null,
   "metadata": {
    "id": "4xSlxft7p9H7"
   },
   "outputs": [],
   "source": [
    "#R1 - 2*R0 --> R1\n",
    "A_I[1,:] = A_I[1,:] - 2*A_I[0,:]\n",
    "print(A_I)"
   ]
  },
  {
   "cell_type": "code",
   "execution_count": null,
   "metadata": {
    "id": "apLMgNCoq00D"
   },
   "outputs": [],
   "source": [
    "#R2 + (1/2)*R1 --> R2\n",
    "A_I[2,:] = A_I[2,:] + (1/2)*A_I[1,:]\n",
    "print(A_I)"
   ]
  },
  {
   "cell_type": "code",
   "execution_count": null,
   "metadata": {
    "id": "mkC0Gvy7q5-B"
   },
   "outputs": [],
   "source": [
    "#(1/2)*R0-->R0\n",
    "A_I[0,:] = (1/2)*A_I[0,:]\n",
    "print(A_I)"
   ]
  },
  {
   "cell_type": "code",
   "execution_count": null,
   "metadata": {
    "id": "_DXKOZXfq8il"
   },
   "outputs": [],
   "source": [
    "#(-1/2)*R1-->R1\n",
    "A_I[1,:] = (-1/2)*A_I[1,:]\n",
    "print(A_I)"
   ]
  },
  {
   "cell_type": "code",
   "execution_count": null,
   "metadata": {
    "id": "wDoHgZgnrBbT"
   },
   "outputs": [],
   "source": [
    "#(1/4)*R2-->R2\n",
    "A_I[2,:] = (1/4)*A_I[2,:]\n",
    "print(A_I)"
   ]
  },
  {
   "cell_type": "code",
   "execution_count": null,
   "metadata": {
    "id": "0nXQCqPJrDpO"
   },
   "outputs": [],
   "source": [
    "#R1 + 2*R2 --> R1\n",
    "A_I[1,:] = A_I[1,:] + 2*A_I[2,:]\n",
    "print(A_I)"
   ]
  },
  {
   "cell_type": "code",
   "execution_count": null,
   "metadata": {
    "id": "g1l39Rs7rG1W"
   },
   "outputs": [],
   "source": [
    "#R0 - (1/2)*R2 --> R0\n",
    "A_I[0,:] = A_I[0,:] + (-1/2)*A_I[2,:]\n",
    "print(A_I)"
   ]
  },
  {
   "cell_type": "code",
   "execution_count": null,
   "metadata": {
    "id": "hRUPgIajrIto"
   },
   "outputs": [],
   "source": [
    "#R0 - R1 --> R0\n",
    "A_I[0,:] = A_I[0,:] - A_I[1,:]\n",
    "print(A_I)"
   ]
  },
  {
   "cell_type": "markdown",
   "metadata": {
    "id": "yd1fIPDtr1DC"
   },
   "source": [
    "Now the right hand side of our matrix is the inverse of A!\n",
    "\n",
    "$A^{-1} = \\begin{bmatrix}\n",
    "\\frac{1}{8} & \\frac{3}{16} & -\\frac{5}{8} \\\\\n",
    "\\frac{1}{2} & -\\frac{1}{4} &\\frac{1}{2}\\\\\n",
    "-\\frac{1}{4} & \\frac{1}{8} & \\frac{1}{4}\\\\\n",
    "\\end{bmatrix}$"
   ]
  },
  {
   "cell_type": "code",
   "execution_count": null,
   "metadata": {
    "id": "Cn7TnAO3syay"
   },
   "outputs": [],
   "source": [
    "Ainv = A_I[:,3:]\n",
    "print(Ainv)"
   ]
  },
  {
   "cell_type": "markdown",
   "metadata": {
    "id": "En8IWmSXs-1S"
   },
   "source": [
    "By definition, the following should be true for the inverse:\n",
    "\n",
    "$A A^{-1} = I$.\n",
    "\n",
    "$A^{-1} A  = I$.\n",
    "\n",
    "Let's check this to make sure we calculated the inverse correctly."
   ]
  },
  {
   "cell_type": "code",
   "execution_count": null,
   "metadata": {
    "id": "W9sfNOgXtlqt"
   },
   "outputs": [],
   "source": [
    "print(A@Ainv)\n",
    "print(Ainv@A)"
   ]
  },
  {
   "cell_type": "markdown",
   "metadata": {
    "id": "2SniCRyhtqwW"
   },
   "source": [
    "Looks good!\n",
    "\n",
    "Now let's use this inverse to solve our system of equations.\n",
    "\n",
    "Remember that we started out with\n",
    "$Ax = b$\n",
    "\n",
    "If we matrix multiply on the left by the inverse for both sides:\n",
    "\n",
    "$A^{-1}Ax = A^{-1}b$\n",
    "\n",
    "which becomes:\n",
    "\n",
    "$x = A^{-1} b$.\n",
    "\n",
    "So this tells us that if we want to find $x$, we simply have to multiply the inverse we found with $b$:\n",
    "\n"
   ]
  },
  {
   "cell_type": "code",
   "execution_count": null,
   "metadata": {
    "id": "rThpPx40uuZ8"
   },
   "outputs": [],
   "source": [
    "x = Ainv@b\n",
    "print(x)"
   ]
  },
  {
   "cell_type": "markdown",
   "metadata": {
    "id": "ghqHnBTRtdY5"
   },
   "source": [
    "It worked!\n",
    "\n",
    "This solution matches the solution we found using all the other methods above."
   ]
  },
  {
   "cell_type": "markdown",
   "metadata": {
    "id": "dyZoqWknj3LH"
   },
   "source": [
    "We can also check this using the inv function from the np.linalg package:"
   ]
  },
  {
   "cell_type": "code",
   "execution_count": null,
   "metadata": {
    "id": "PZ4OUZ9XkCoY"
   },
   "outputs": [],
   "source": [
    "x = np.linalg.inv(A)@b\n",
    "print(x)"
   ]
  },
  {
   "cell_type": "markdown",
   "metadata": {
    "id": "fj_kagLNkIvj"
   },
   "source": [
    "Looks good!"
   ]
  }
 ],
 "metadata": {
  "colab": {
   "provenance": [],
   "toc_visible": true
  },
  "kernelspec": {
   "display_name": "Python 3",
   "name": "python3"
  },
  "language_info": {
   "name": "python"
  }
 },
 "nbformat": 4,
 "nbformat_minor": 0
}
