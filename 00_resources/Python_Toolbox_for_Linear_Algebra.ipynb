{
 "cells": [
  {
   "cell_type": "markdown",
   "metadata": {
    "id": "ZBgcKbQkg4Oy"
   },
   "source": [
    "# ENGR 225: Python for Linear Algebra\n",
    "\n",
    "ENGR 225 is a two-part course consisting of:\n",
    "*   Part 1: Introduction to Programming with Python\n",
    "*   Part 2: Matrix Algebra for Engineers\n",
    "\n",
    "We have now finished with Part 1 and are moving into Part 2, but we are *not* done with Python!\n",
    "\n",
    "We will use Python to better understand Matrix Alegbra. We can also use it to check our work!"
   ]
  },
  {
   "cell_type": "markdown",
   "metadata": {
    "id": "BFVnYxIz2-Qt"
   },
   "source": [
    "# 20.2 Matrices and Linear Systems\n",
    "\n",
    "This section is intended to provide Python Tools that will complement Zybook Section **19.2 Matrices and Linear Systems**"
   ]
  },
  {
   "cell_type": "markdown",
   "metadata": {
    "id": "ZgcI-4SokGrg"
   },
   "source": [
    "## Creating a Matrix in Python\n",
    "\n",
    "We will typically use the \"array\" routine from the numpy package to create matrices in Python. *Each matrix* will be enclosed in brackets, and then *each row* of the matrix will be enclosed in additional brackets, separated by commas. Each element within the rows are also separated by commas. For example the matrix:\n",
    "\n",
    "$\\begin{bmatrix}\n",
    "3 & 1 & 8\\\\\n",
    "0 & -4 & 5\n",
    "\\end{bmatrix}$\n",
    "\n",
    "can be generated using the following code.\n",
    "\n",
    "NOTE: * I use the decimal places after each number to store them as floats *"
   ]
  },
  {
   "cell_type": "code",
   "execution_count": null,
   "metadata": {
    "colab": {
     "base_uri": "https://localhost:8080/"
    },
    "id": "d7J1gyjfgyow",
    "outputId": "d9c5df5f-012d-4351-ea35-ae91c9dde02c"
   },
   "outputs": [
    {
     "name": "stdout",
     "output_type": "stream",
     "text": [
      "[[ 3  1  8]\n",
      " [ 0 -4  5]]\n"
     ]
    }
   ],
   "source": [
    "import numpy as np\n",
    "A = np.array([[3., 1., 8.],\n",
    "              [0., -4., 5.]])\n",
    "print(A)"
   ]
  },
  {
   "cell_type": "markdown",
   "metadata": {
    "id": "amGmhFYe-NuB"
   },
   "source": [
    "If you don't want to type all the decimal places to make floats, you can also use the `dtype` argument:"
   ]
  },
  {
   "cell_type": "code",
   "execution_count": null,
   "metadata": {
    "colab": {
     "base_uri": "https://localhost:8080/"
    },
    "id": "EsPV6aYX-UEA",
    "outputId": "b7b50da7-ea10-4d84-e15d-52b91f1a44ab"
   },
   "outputs": [
    {
     "name": "stdout",
     "output_type": "stream",
     "text": [
      "[[ 3.  1.  8.]\n",
      " [ 0. -4.  5.]]\n"
     ]
    }
   ],
   "source": [
    "import numpy as np\n",
    "A = np.array([[3, 1, 8],\n",
    "              [0, -4, 5]], dtype=float)\n",
    "print(A)"
   ]
  },
  {
   "cell_type": "markdown",
   "metadata": {
    "id": "_YpFNnT-lp9g"
   },
   "source": [
    "## Checking the size of a Matrix in Python\n"
   ]
  },
  {
   "cell_type": "markdown",
   "metadata": {
    "id": "WZL8IB_5nqcx"
   },
   "source": [
    "To check the size of an `np.array`, use the `np.shape` routine. The output tells you the (# of rows, # of columns)"
   ]
  },
  {
   "cell_type": "code",
   "execution_count": null,
   "metadata": {
    "colab": {
     "base_uri": "https://localhost:8080/"
    },
    "id": "oIhI4mponRZe",
    "outputId": "c3cb7ea7-6b9e-4997-dc4d-cb4d254970e9"
   },
   "outputs": [
    {
     "name": "stdout",
     "output_type": "stream",
     "text": [
      "(2, 3)\n"
     ]
    }
   ],
   "source": [
    "import numpy as np\n",
    "A = np.array([[3., 1., 8.],\n",
    "              [0., -4., 5.]])\n",
    "print(np.shape(A))"
   ]
  },
  {
   "cell_type": "markdown",
   "metadata": {
    "id": "py1YRxo_rdcr"
   },
   "source": [
    "## Creating a Row Matrix\n",
    "(also known as a Row Vector)\n",
    "\n",
    "Creating a row vector is just like creating a matrix like we did above. It is just a special case where we only have one row.\n"
   ]
  },
  {
   "cell_type": "code",
   "execution_count": null,
   "metadata": {
    "colab": {
     "base_uri": "https://localhost:8080/"
    },
    "id": "8EepmnfOsLz1",
    "outputId": "0b6b471a-df3a-4061-a1a8-f09d8950262e"
   },
   "outputs": [
    {
     "name": "stdout",
     "output_type": "stream",
     "text": [
      "[[3 2 5]]\n"
     ]
    }
   ],
   "source": [
    "import numpy as np\n",
    "v = np.array([[3., 2., 5.]])\n",
    "print(v)"
   ]
  },
  {
   "cell_type": "markdown",
   "metadata": {
    "id": "O79DfIcUtYaS"
   },
   "source": [
    "## Creating a Column Matrix\n",
    "(also known as a Column Vector)\n",
    "\n",
    "Creating a column vector is just like creating a matrix like we did above. It is just a special case where we only have one column, so there is only one element in each row."
   ]
  },
  {
   "cell_type": "code",
   "execution_count": null,
   "metadata": {
    "colab": {
     "base_uri": "https://localhost:8080/"
    },
    "id": "tCSucdNItknB",
    "outputId": "45014953-d34a-46f1-fab4-8ee0b32be3cd"
   },
   "outputs": [
    {
     "name": "stdout",
     "output_type": "stream",
     "text": [
      "[[3]\n",
      " [2]\n",
      " [5]]\n"
     ]
    }
   ],
   "source": [
    "import numpy as np\n",
    "v = np.array([[3.], [2.], [5.]])\n",
    "print(v)"
   ]
  },
  {
   "cell_type": "markdown",
   "metadata": {
    "id": "fHonbJNhpydI"
   },
   "source": [
    "## Creating a Zero Matrix\n",
    "\n",
    "A zero matrix has all zero entries. We can create a zero matrix using the `np.zeros` routine, where the argument is a tuple that consists of the number of rows and the number of columns. You can create a zero matrix of whatever size you like by changing the number of rows and columns."
   ]
  },
  {
   "cell_type": "code",
   "execution_count": null,
   "metadata": {
    "colab": {
     "base_uri": "https://localhost:8080/"
    },
    "id": "UP7ubB54qPWx",
    "outputId": "1cf442ff-6343-4e0c-dd65-f7d6c4e56a4e"
   },
   "outputs": [
    {
     "name": "stdout",
     "output_type": "stream",
     "text": [
      "[[0. 0. 0.]\n",
      " [0. 0. 0.]]\n"
     ]
    }
   ],
   "source": [
    "import numpy as np\n",
    "Z = np.zeros((2,3))\n",
    "print(Z)"
   ]
  },
  {
   "cell_type": "markdown",
   "metadata": {
    "id": "liFIPri8n2OV"
   },
   "source": [
    "## Creating a Diagonal Matrix\n"
   ]
  },
  {
   "cell_type": "markdown",
   "metadata": {
    "id": "5I7mbRBjpcm2"
   },
   "source": [
    "For a square matrix, the number of rows equals the number of columns.\n",
    "\n",
    "A diagonal matrix is a square matrix that is zero everywhere except on the main diagonal. We can create a list of elements and then use the `np.diag` routine to put those elements on the main diagonal of a square matrix. The longer your list of elements, the larger your diagonal matrix."
   ]
  },
  {
   "cell_type": "code",
   "execution_count": null,
   "metadata": {
    "colab": {
     "base_uri": "https://localhost:8080/"
    },
    "id": "_B3C49r8pDL2",
    "outputId": "91c2d655-b4c9-4f08-f245-91968d3548f9"
   },
   "outputs": [
    {
     "name": "stdout",
     "output_type": "stream",
     "text": [
      "[[3. 0. 0.]\n",
      " [0. 2. 0.]\n",
      " [0. 0. 5.]]\n"
     ]
    }
   ],
   "source": [
    "import numpy as np\n",
    "element_list = [3., 2., 5.]\n",
    "D = np.diag(element_list)\n",
    "print(D)"
   ]
  },
  {
   "cell_type": "markdown",
   "metadata": {
    "id": "SLsemUs4rIH-"
   },
   "source": [
    "## Creating an Identity Matrix\n",
    "\n",
    "\n",
    "\n",
    "An identity matrix is a square matrix where all the elements on the main diagonal are one, and all other elements are zero. We use the `np.identity` routine, where the argument is the # of rows of the square matrix. (Remember for a square matrix # of rows = # of columns.) You can make your identiy matrix any size you want by changing this argument."
   ]
  },
  {
   "cell_type": "code",
   "execution_count": null,
   "metadata": {
    "colab": {
     "base_uri": "https://localhost:8080/"
    },
    "id": "0qS-rY0OvBxU",
    "outputId": "5f374ad7-12b3-4a8c-f690-de979c3f0d0f"
   },
   "outputs": [
    {
     "data": {
      "text/plain": [
       "array([[1., 0., 0., 0.],\n",
       "       [0., 1., 0., 0.],\n",
       "       [0., 0., 1., 0.],\n",
       "       [0., 0., 0., 1.]])"
      ]
     },
     "execution_count": 7,
     "metadata": {},
     "output_type": "execute_result"
    }
   ],
   "source": [
    "import numpy as np\n",
    "np.identity(4)"
   ]
  },
  {
   "cell_type": "markdown",
   "metadata": {
    "id": "jW0UR1Y9y7U2"
   },
   "source": [
    "## Finding the Transpose of a Matrix\n",
    "\n",
    "The transpose of a matrix $A$, written $A^T$, is the matrix that has as rows the columns of $A$. Thus, if $A$ is an $m \\ x \\ n$ matrix, $A^T$ is an $n \\ x \\ m$ matrix.\n",
    "\n"
   ]
  },
  {
   "cell_type": "code",
   "execution_count": null,
   "metadata": {
    "colab": {
     "base_uri": "https://localhost:8080/"
    },
    "id": "rDp_Izs3y93d",
    "outputId": "17f3f34a-b195-4a47-a59a-561a13d2e7a2"
   },
   "outputs": [
    {
     "name": "stdout",
     "output_type": "stream",
     "text": [
      "A=\n",
      "[[1. 2.]\n",
      " [3. 4.]\n",
      " [5. 6.]]\n",
      "np.transpose(A)=\n",
      "[[1. 3. 5.]\n",
      " [2. 4. 6.]]\n",
      "A.T=\n",
      "[[1. 3. 5.]\n",
      " [2. 4. 6.]]\n"
     ]
    }
   ],
   "source": [
    "import numpy as np\n",
    "A = np.array([[1., 2.],\n",
    "              [3., 4.],\n",
    "              [5., 6.]])\n",
    "print(\"A=\")\n",
    "print(A)\n",
    "A_transpose = np.transpose(A)\n",
    "print(\"np.transpose(A)=\")\n",
    "print(A_transpose)\n",
    "\n",
    "#Note another method: np.transpose(A) = A.T\n",
    "print(\"A.T=\")\n",
    "print(A.T)"
   ]
  },
  {
   "cell_type": "markdown",
   "metadata": {
    "id": "qrggNr6T0K9R"
   },
   "source": [
    "## Finding the Trace of a Square Matrix\n",
    "\n",
    "The trace of a square matrix is the sum of the entries along the main diagonal."
   ]
  },
  {
   "cell_type": "code",
   "execution_count": null,
   "metadata": {
    "colab": {
     "base_uri": "https://localhost:8080/"
    },
    "id": "kDHtDvgP0cRr",
    "outputId": "44ff2cb9-89b9-4950-921f-459aad293318"
   },
   "outputs": [
    {
     "name": "stdout",
     "output_type": "stream",
     "text": [
      "A=\n",
      "[[1 2 7]\n",
      " [3 4 2]\n",
      " [5 6 1]]\n",
      "np.trace(A)=\n",
      "6\n",
      "A.trace()=\n",
      "6\n"
     ]
    }
   ],
   "source": [
    "import numpy as np\n",
    "A = np.array([[1., 2., 7.],\n",
    "              [3., 4., 2.],\n",
    "              [5., 6., 1.]])\n",
    "print(\"A=\")\n",
    "print(A)\n",
    "A_trace = np.trace(A)\n",
    "print(\"np.trace(A)=\")\n",
    "print(A_trace)\n",
    "\n",
    "#Note another method: np.trace(A) = A.trace()\n",
    "print(\"A.trace()=\")\n",
    "print(A.trace())"
   ]
  },
  {
   "cell_type": "markdown",
   "metadata": {
    "id": "Q5BbmeDg2TGN"
   },
   "source": [
    "## Creating an Augmented Matrix\n",
    "\n",
    "We can represent a system of equations using an \"augmented matrix\". The terms with variables are all moved to the left hand side of our equations,and any remaining constant is moved to the right hand side of each equation. The coefficients of the variables are represented as a matrix $A$, and the constants on the right hand side are represented as a column vector $b$. For example:\n",
    "\n",
    "$ 3x_1 + x_2 + 8x_3 = 3$\n",
    "\n",
    "$ \\ \\ \\ \\ \\  -4x_2 + 5x_3 = 2$\n",
    "\n",
    "Coefficient Matrix\n",
    "$A = \\begin{bmatrix}\n",
    "3 & 1 & 8\\\\\n",
    "0 & -4 & 5\n",
    "\\end{bmatrix}$\n",
    "\n",
    "Constant Vector\n",
    "$b = \\begin{bmatrix}\n",
    "3 \\\\\n",
    "2\n",
    "\\end{bmatrix}$\n",
    "\n",
    "Augmented Matrix\n",
    "$= \\begin{bmatrix}\n",
    "3 & 1 & 8 & | & 3\\\\\n",
    "0 & -4 & 5 &| & 2\n",
    "\\end{bmatrix}$\n",
    "\n",
    "To do this in Python we use the `np.concatenate` routine."
   ]
  },
  {
   "cell_type": "code",
   "execution_count": null,
   "metadata": {
    "colab": {
     "base_uri": "https://localhost:8080/"
    },
    "id": "B7OrtHpu7CJz",
    "outputId": "e166ad62-6f12-458c-eece-406162a60b85"
   },
   "outputs": [
    {
     "name": "stdout",
     "output_type": "stream",
     "text": [
      "Augmented matrix:\n",
      " [[ 3  1  8  3]\n",
      " [ 0 -4  5  2]]\n"
     ]
    }
   ],
   "source": [
    "import numpy as np\n",
    "A = np.array([[3.,1.,8.],\n",
    "              [0.,-4.,5.]])\n",
    "b = np.array([[3.], [2.]])\n",
    "A_b = np.concatenate((A, b), axis = 1)\n",
    "print('Augmented matrix:\\n', A_b)"
   ]
  },
  {
   "cell_type": "markdown",
   "metadata": {
    "id": "AiCOZQQn2Kc5"
   },
   "source": [
    "# 20.3 Elementary Row Operations"
   ]
  },
  {
   "cell_type": "markdown",
   "metadata": {
    "id": "7T0y6CuLfiZ-"
   },
   "source": [
    "## Formatting Output for Row Operations\n",
    "\n",
    "Before we start this section, you might want to change the default way that Python shows output. I like using this way:"
   ]
  },
  {
   "cell_type": "code",
   "execution_count": null,
   "metadata": {
    "id": "lGNyQapQfhs5"
   },
   "outputs": [],
   "source": [
    "import numpy as np\n",
    "np.set_printoptions(precision=4,suppress=True)"
   ]
  },
  {
   "cell_type": "markdown",
   "metadata": {
    "id": "OaHHZgxjftDL"
   },
   "source": [
    "Where the `precision=4` specifies that it will show output for 4 decimal places, and the `suppress=True` specifies that very small numbers like $$4.328\\ \\text{x} \\ 10^{-123}$$ are shown as zero. This helps with dealing with round-off errors."
   ]
  },
  {
   "cell_type": "markdown",
   "metadata": {
    "id": "s9tMLDnwg9bm"
   },
   "source": [
    "## Row numbers\n",
    "\n",
    "Unlike most textbooks, let's call the first row of the matrix \"Row 0\" to match the way that python does indexing."
   ]
  },
  {
   "cell_type": "code",
   "execution_count": null,
   "metadata": {
    "colab": {
     "base_uri": "https://localhost:8080/"
    },
    "id": "0bzquDynhL70",
    "outputId": "bf728092-aeea-4cbf-d480-d426f3b75c62"
   },
   "outputs": [
    {
     "name": "stdout",
     "output_type": "stream",
     "text": [
      "R0 = [3. 1. 8. 6.]\n"
     ]
    }
   ],
   "source": [
    "import numpy as np\n",
    "A = np.array([[3.,1.,8.,6.],    #R0\n",
    "              [0.,-4.,5.,11.],  #R1\n",
    "              [7.,9.,3.,278.]]) #R2\n",
    "\n",
    "R0 = A[0,:]\n",
    "print('R0 =',R0)"
   ]
  },
  {
   "cell_type": "markdown",
   "metadata": {
    "id": "SugPo7G3USr_"
   },
   "source": [
    "## Row Operations\n",
    "\n",
    "There are 3 types of allowable row operations:\n",
    "\n",
    "* Switch Rows\n",
    "* Multiple a row by a non-zero number\n",
    "* Replace a row by itself plus multiple of another row"
   ]
  },
  {
   "cell_type": "markdown",
   "metadata": {
    "id": "dyQpw3TqkCWo"
   },
   "source": [
    "### Switch Rows\n",
    "\n",
    "Suppose we want to perform the following row opperation: $$ {R}_1 \\leftrightarrow \\text{R}_2 $$"
   ]
  },
  {
   "cell_type": "code",
   "execution_count": null,
   "metadata": {
    "colab": {
     "base_uri": "https://localhost:8080/"
    },
    "id": "BcgKwOr4kD0K",
    "outputId": "bbc2d09d-af64-49f4-8c1b-e3d6655279b4"
   },
   "outputs": [
    {
     "name": "stdout",
     "output_type": "stream",
     "text": [
      "[[  3.  12.   9.   6.]\n",
      " [  7.   9.   3. 278.]\n",
      " [  0.  -4.   5.  11.]]\n"
     ]
    }
   ],
   "source": [
    "import numpy as np\n",
    "A = np.array([[3.,12.,9.,6.],   #R0\n",
    "              [0.,-4.,5.,11.],  #R1\n",
    "              [7.,9.,3.,278.]]) #R2\n",
    "R1 = np.copy(A[1,:])\n",
    "R2 = np.copy(A[2,:])\n",
    "A[2,:] = R1\n",
    "A[1,:] = R2\n",
    "print(A)"
   ]
  },
  {
   "cell_type": "markdown",
   "metadata": {
    "id": "ccqDYDrYe-ZR"
   },
   "source": [
    "### Multiply a row by a non-zero number\n",
    "\n",
    "Suppose we want to perform the following row opperation: $$ \\frac{1}{3}\\text{R}_0 \\rightarrow \\text{R}_0 $$"
   ]
  },
  {
   "cell_type": "code",
   "execution_count": null,
   "metadata": {
    "colab": {
     "base_uri": "https://localhost:8080/"
    },
    "id": "uajxL6AVfU-u",
    "outputId": "53680c55-4379-425f-e9e4-cd7d9be5bb9e"
   },
   "outputs": [
    {
     "name": "stdout",
     "output_type": "stream",
     "text": [
      "[[  1.   4.   3.   2.]\n",
      " [  0.  -4.   5.  11.]\n",
      " [  0.   0.   2. 278.]]\n"
     ]
    }
   ],
   "source": [
    "import numpy as np\n",
    "A = np.array([[3.,12.,9.,6.],   #R0\n",
    "              [0.,-4.,5.,11.],  #R1\n",
    "              [0.,0.,2.,278.]]) #R2\n",
    "A[0,:] = (1/3)*A[0,:]\n",
    "print(A)"
   ]
  },
  {
   "cell_type": "markdown",
   "metadata": {
    "id": "PGDgowm1i6f3"
   },
   "source": [
    "### Replace a row by itself plus multiple of another row\n",
    "\n",
    "Suppose we want to perform the following row opperation: $$ \\text{R}_1 + -2 \\text{R}_0 \\rightarrow \\text{R}_1 $$"
   ]
  },
  {
   "cell_type": "code",
   "execution_count": null,
   "metadata": {
    "colab": {
     "base_uri": "https://localhost:8080/"
    },
    "id": "Gg1vQQpFjNYo",
    "outputId": "a5ca7e87-95da-47dc-f6c6-98cfd1cb7e89"
   },
   "outputs": [
    {
     "name": "stdout",
     "output_type": "stream",
     "text": [
      "[[  1.  12.   9.   6.]\n",
      " [  0. -28. -13.  -1.]\n",
      " [  0.   9.   3. 278.]]\n"
     ]
    }
   ],
   "source": [
    "import numpy as np\n",
    "A = np.array([[1.,12.,9.,6.],   #R0\n",
    "              [2.,-4.,5.,11.],  #R1\n",
    "              [0.,9.,3.,278.]]) #R2\n",
    "A[1,:] = A[1,:] + -2*A[0,:]\n",
    "print(A)"
   ]
  },
  {
   "cell_type": "markdown",
   "metadata": {
    "id": "Fqy_IP6v2Wjb"
   },
   "source": [
    "## Ruduced Row Echelon Form\n",
    "\n",
    "You can use Python to get a matrix into reduced row echelon form, using the Matrix routine from the sympy package. This will return the\n",
    "* matrix in reduced row echelon form,\n",
    "* followed by index of the pivot columns."
   ]
  },
  {
   "cell_type": "code",
   "execution_count": null,
   "metadata": {
    "colab": {
     "base_uri": "https://localhost:8080/"
    },
    "id": "rXmzlQSk30Lg",
    "outputId": "7d0d551f-2c72-4338-f468-43cfd2491a2d"
   },
   "outputs": [
    {
     "name": "stdout",
     "output_type": "stream",
     "text": [
      "Reduced row echelon form of A=\n",
      "(Matrix([\n",
      "[1, 0, 1],\n",
      "[0, 1, 1]]), (0, 1)) \n",
      "\n",
      "Reduced row echelon form of B =\n",
      "(Matrix([\n",
      "[1, 0, -1, 0],\n",
      "[0, 1,  2, 0],\n",
      "[0, 0,  0, 1],\n",
      "[0, 0,  0, 0],\n",
      "[0, 0,  0, 0]]), (0, 1, 3))\n"
     ]
    }
   ],
   "source": [
    "import numpy as np\n",
    "from sympy import Matrix\n",
    "A_array = np.array([[1, 0, 1],  #Note this is already in RREF\n",
    "                    [0, 1, 1]]) #Pivot Columns have index 0 and 1.\n",
    "A =  Matrix(A_array)\n",
    "\n",
    "print('Reduced row echelon form of A=')\n",
    "print(A.rref(),'\\n')\n",
    "\n",
    "B = Matrix([[1, 2, 3, -1],\n",
    "            [2, -1, -4, 8],\n",
    "            [-1, 1, 3, -5],\n",
    "            [-1, 2, 5, -6],\n",
    "            [-1, -2, -3, 1]])\n",
    "\n",
    "print('Reduced row echelon form of B =')\n",
    "print(B.rref())"
   ]
  },
  {
   "cell_type": "markdown",
   "metadata": {
    "id": "02_qM0np0taW"
   },
   "source": [
    "## Rank of a matrix"
   ]
  },
  {
   "cell_type": "code",
   "execution_count": null,
   "metadata": {
    "colab": {
     "base_uri": "https://localhost:8080/"
    },
    "id": "OBax4uyf0xQl",
    "outputId": "e5392cc0-ece7-4f06-ac4e-7aafcac1f38c"
   },
   "outputs": [
    {
     "name": "stdout",
     "output_type": "stream",
     "text": [
      "Rank:\n",
      " 3\n",
      "(Matrix([\n",
      "[1, 0, 0],\n",
      "[0, 1, 0],\n",
      "[0, 0, 1]]), (0, 1, 2)) \n",
      "\n"
     ]
    }
   ],
   "source": [
    "import numpy as np\n",
    "from numpy.linalg import matrix_rank\n",
    "A = np.array([[1,1,0],\n",
    "              [0,1,0],\n",
    "              [1,0,1]])\n",
    "print('Rank:\\n', matrix_rank(A))\n",
    "\n",
    "#convince ourself that rank matches number of basic variables in RREF\n",
    "from sympy import Matrix\n",
    "M =  Matrix(A)\n",
    "print(M.rref(),'\\n')"
   ]
  },
  {
   "cell_type": "markdown",
   "metadata": {
    "id": "-kzKn1tmIceu"
   },
   "source": [
    "# 21.1 Matrix addition and scalar multiplication"
   ]
  },
  {
   "cell_type": "markdown",
   "metadata": {
    "id": "VcrEeDxCJMUz"
   },
   "source": [
    "## Matrix Addition\n",
    "Matrix addition is simple using the numpy package:"
   ]
  },
  {
   "cell_type": "code",
   "execution_count": null,
   "metadata": {
    "colab": {
     "base_uri": "https://localhost:8080/"
    },
    "id": "X7zmnEMKJPj4",
    "outputId": "0e54b03c-cea5-4684-d043-abbb7e39ee41"
   },
   "outputs": [
    {
     "name": "stdout",
     "output_type": "stream",
     "text": [
      "A+B = :\n",
      " [[ 3  3]\n",
      " [-2  6]]\n",
      "A+B = :\n",
      " [[ 3  3]\n",
      " [-2  6]]\n"
     ]
    }
   ],
   "source": [
    "import numpy as np\n",
    "A = np.array([[0,2], [1,4]])\n",
    "B = np.array([[3,1], [-3,2]])\n",
    "print('A+B = :\\n', A + B)\n",
    "#Or\n",
    "print('A+B = :\\n', np.add(A, B))"
   ]
  },
  {
   "cell_type": "markdown",
   "metadata": {
    "id": "fNX_WJ_4LJvj"
   },
   "source": [
    "Note, two matrices must have the same dimensions (number of rows and number of columns), in order to be added or subtracted. If they do not have the same dimensions they are \"not conformable\" for addition/subtraction."
   ]
  },
  {
   "cell_type": "code",
   "execution_count": null,
   "metadata": {
    "colab": {
     "base_uri": "https://localhost:8080/",
     "height": 272
    },
    "id": "XVy69jWxLQxn",
    "outputId": "13bd55a7-e43a-4c19-a302-269496f9eb6a"
   },
   "outputs": [
    {
     "name": "stdout",
     "output_type": "stream",
     "text": [
      "Dimensions of A: (2, 2)\n",
      "Dimensions of C: (3, 2)\n",
      "Conformable for Addition? False\n"
     ]
    },
    {
     "ename": "ValueError",
     "evalue": "ignored",
     "output_type": "error",
     "traceback": [
      "\u001b[0;31m---------------------------------------------------------------------------\u001b[0m",
      "\u001b[0;31mValueError\u001b[0m                                Traceback (most recent call last)",
      "\u001b[0;32m<ipython-input-13-5da18fb83b7b>\u001b[0m in \u001b[0;36m<cell line: 10>\u001b[0;34m()\u001b[0m\n\u001b[1;32m      8\u001b[0m \u001b[0;31m# If A and C do not have the same dimensions,\u001b[0m\u001b[0;34m\u001b[0m\u001b[0;34m\u001b[0m\u001b[0m\n\u001b[1;32m      9\u001b[0m \u001b[0;31m# attempting to add them together will give an error...\u001b[0m\u001b[0;34m\u001b[0m\u001b[0;34m\u001b[0m\u001b[0m\n\u001b[0;32m---> 10\u001b[0;31m \u001b[0mprint\u001b[0m\u001b[0;34m(\u001b[0m\u001b[0;34m'A+C = :\\n'\u001b[0m\u001b[0;34m,\u001b[0m \u001b[0mA\u001b[0m \u001b[0;34m+\u001b[0m \u001b[0mC\u001b[0m\u001b[0;34m)\u001b[0m\u001b[0;34m\u001b[0m\u001b[0;34m\u001b[0m\u001b[0m\n\u001b[0m",
      "\u001b[0;31mValueError\u001b[0m: operands could not be broadcast together with shapes (2,2) (3,2) "
     ]
    }
   ],
   "source": [
    "import numpy as np\n",
    "A = np.array([[0,2], [1,4]])\n",
    "print('Dimensions of A:',np.shape(A))\n",
    "C = np.array([[3,1], [-3,2], [5,7]])\n",
    "print('Dimensions of C:',np.shape(C))\n",
    "\n",
    "print('Conformable for Addition?',np.shape(A)==np.shape(C))\n",
    "# If A and C do not have the same dimensions,\n",
    "# attempting to add them together will give an error...\n",
    "print('A+C = :\\n', A + C)"
   ]
  },
  {
   "cell_type": "markdown",
   "metadata": {
    "id": "WHgz4W6gJgsj"
   },
   "source": [
    "## Scalar Multiplication\n",
    "\n",
    "Multiplying a matrix by a scalar is similarly simple using numpy:"
   ]
  },
  {
   "cell_type": "code",
   "execution_count": null,
   "metadata": {
    "colab": {
     "base_uri": "https://localhost:8080/"
    },
    "id": "GzO4S73zJrRs",
    "outputId": "e6383ff3-5a0a-4947-b4e9-5eddeb319cc6"
   },
   "outputs": [
    {
     "name": "stdout",
     "output_type": "stream",
     "text": [
      "cA = :\n",
      " [[0 4]\n",
      " [2 8]]\n"
     ]
    }
   ],
   "source": [
    "import numpy as np\n",
    "c = 2\n",
    "A = np.array([[0,2], [1,4]])\n",
    "print('cA = :\\n', c*A)"
   ]
  },
  {
   "cell_type": "markdown",
   "metadata": {
    "id": "HeqrunSNKMEp"
   },
   "source": [
    "# 21.2 Matrix Multiplication\n",
    "\n",
    "The symbols for matrix multiplication using numpy are slightly less intiutive than addition, but still fairly simple. The @ symbol is used. Remember that the order of matrix multiplication matters!"
   ]
  },
  {
   "cell_type": "code",
   "execution_count": null,
   "metadata": {
    "colab": {
     "base_uri": "https://localhost:8080/"
    },
    "id": "Y0xS4psRKnBw",
    "outputId": "5ca00909-4072-47e1-b47c-87cd7ed8a6aa"
   },
   "outputs": [
    {
     "name": "stdout",
     "output_type": "stream",
     "text": [
      "AB = :\n",
      " [[4 2]\n",
      " [9 7]]\n",
      "BA = :\n",
      " [[ 3 14]\n",
      " [ 1  8]]\n"
     ]
    }
   ],
   "source": [
    "import numpy as np\n",
    "A = np.array([[0,2], [1,4]])\n",
    "B = np.array([[1,3], [2,1]])\n",
    "print('AB = :\\n', A @ B)\n",
    "\n",
    "# Note AB is NOT equal to BA!\n",
    "print('BA = :\\n', B @ A)"
   ]
  },
  {
   "cell_type": "markdown",
   "metadata": {
    "id": "BVogTxTjK6Xi"
   },
   "source": [
    "If the number of columns in A is equal to the number of rows in B, then the matrices are \"conformable for the multiplication\" such that the product AB can be calculated."
   ]
  },
  {
   "cell_type": "code",
   "execution_count": null,
   "metadata": {
    "colab": {
     "base_uri": "https://localhost:8080/"
    },
    "id": "mypMmOHfM0ao",
    "outputId": "6ca9433a-e854-4690-db57-7a8b06011f54"
   },
   "outputs": [
    {
     "name": "stdout",
     "output_type": "stream",
     "text": [
      "Dimensions of A: (2, 2)\n",
      "Dimensions of C: (2, 3)\n",
      "Conformable for Multiplication? True\n",
      "AC = :\n",
      " [[-6  4 18]\n",
      " [-9  9 40]]\n"
     ]
    }
   ],
   "source": [
    "import numpy as np\n",
    "A = np.array([[0,2], [1,4]])\n",
    "print('Dimensions of A:',np.shape(A))\n",
    "C = np.array([[3,1,4], [-3,2,9]])\n",
    "print('Dimensions of C:',np.shape(C))\n",
    "\n",
    "print('Conformable for Multiplication?',np.shape(A)[1]==np.shape(C)[0])\n",
    "# If A and C do not have the same dimensions,\n",
    "# attempting to add them together will give an error...\n",
    "print('AC = :\\n', A@C)"
   ]
  },
  {
   "cell_type": "markdown",
   "metadata": {
    "id": "zkqEGYNeOlUs"
   },
   "source": [
    "# 21.4 Inverse of a Matrix\n",
    "\n",
    "We can use the inv function from the np.linalg package to calculate the inverse of a matrix. A matrix multiplied by its inverse produces the identity matrix. (The inverse of a matrix exists if the determinant is non-zero. We will cover determinants later in the course.)"
   ]
  },
  {
   "cell_type": "code",
   "execution_count": null,
   "metadata": {
    "colab": {
     "base_uri": "https://localhost:8080/"
    },
    "id": "PzFT2L41Qf3C",
    "outputId": "67e9044e-d7d7-43e3-ede1-3fdf63f37e70"
   },
   "outputs": [
    {
     "name": "stdout",
     "output_type": "stream",
     "text": [
      "A inverse:\n",
      "[[-7. -7.  6.]\n",
      " [ 2.  1. -1.]\n",
      " [ 4.  5. -4.]]\n",
      "A times A_i resulsts in I_3:\n",
      "[[ 1. -0.  0.]\n",
      " [-0.  1.  0.]\n",
      " [ 0. -0.  1.]]\n",
      "A_i times A resulsts in I_3:\n",
      "[[ 1.  0.  0.]\n",
      " [ 0.  1. -0.]\n",
      " [ 0. -0.  1.]]\n"
     ]
    }
   ],
   "source": [
    "import numpy as np\n",
    "A = np.array([[1, 2, 1],\n",
    "              [4, 4, 5],\n",
    "              [6, 7, 7]])\n",
    "A_i = np.linalg.inv(A)\n",
    "print(f'A inverse:\\n{A_i}')\n",
    "I = np.round(A @ A_i)\n",
    "print(f'A times A_i resulsts in I_3:\\n{I}')\n",
    "I = np.round(A_i @ A)\n",
    "print(f'A_i times A resulsts in I_3:\\n{I}')\n"
   ]
  },
  {
   "cell_type": "markdown",
   "metadata": {
    "id": "6th5GPA2S41f"
   },
   "source": [
    "# 21.5 Solving a system using an inverse matrix\n",
    "\n",
    "A system of equations can be written using matrix notation as, Ax=b. If A is invertible as A_i, then x = A_i multiplied by the vector b."
   ]
  },
  {
   "cell_type": "code",
   "execution_count": null,
   "metadata": {
    "colab": {
     "base_uri": "https://localhost:8080/"
    },
    "id": "5KwlkFYKTxqm",
    "outputId": "3ecd567b-cd05-4538-953b-47d82931d7c8"
   },
   "outputs": [
    {
     "name": "stdout",
     "output_type": "stream",
     "text": [
      "[[-36.]\n",
      " [  9.]\n",
      " [ 22.]]\n"
     ]
    }
   ],
   "source": [
    "import numpy as np\n",
    "A = np.array([[1, 2, 1],\n",
    "              [4, 4, 5],\n",
    "              [6, 7, 7]])\n",
    "b = [[4],[2],[1]]\n",
    "x = np.linalg.inv(A)@b\n",
    "print(x)"
   ]
  },
  {
   "cell_type": "markdown",
   "metadata": {
    "id": "HJy92eLbi7l_"
   },
   "source": [
    "# 21.8 LU Decomposition\n",
    "\n"
   ]
  },
  {
   "cell_type": "code",
   "execution_count": null,
   "metadata": {
    "colab": {
     "base_uri": "https://localhost:8080/"
    },
    "id": "iII8GpRTsS2P",
    "outputId": "839bdee5-2e4c-49b3-8d9c-a9abfd2e84d0"
   },
   "outputs": [
    {
     "name": "stdout",
     "output_type": "stream",
     "text": [
      "Pivot matrix:\n",
      "[[0. 0. 0. 1.]\n",
      " [0. 0. 1. 0.]\n",
      " [1. 0. 0. 0.]\n",
      " [0. 1. 0. 0.]]\n",
      "Lower triangular matrix:\n",
      "[[ 1.    0.    0.    0.  ]\n",
      " [ 0.75  1.    0.    0.  ]\n",
      " [ 0.5  -0.29  1.    0.  ]\n",
      " [ 0.25 -0.43  0.33  1.  ]]\n",
      "Upper triangular matrix:\n",
      "[[ 8.    7.    9.    5.  ]\n",
      " [ 0.    1.75  2.25  4.25]\n",
      " [ 0.    0.   -0.86 -0.29]\n",
      " [ 0.    0.    0.    0.67]]\n",
      "PLU multiplicatin:\n",
      "[[2 1 1 0]\n",
      " [4 3 3 1]\n",
      " [8 7 9 5]\n",
      " [6 7 9 8]]\n"
     ]
    }
   ],
   "source": [
    "import numpy as np\n",
    "from scipy.linalg import lu\n",
    "A = np.array([[2, 1, 1, 0],\n",
    "              [4, 3, 3, 1],\n",
    "              [8, 7, 9, 5],\n",
    "              [6, 7, 9, 8]])\n",
    "P, L, U = lu(A)\n",
    "print(f'Permutation matrix:\\n{P}')\n",
    "print(f'Lower triangular matrix:\\n{np.round(L, 2)}')\n",
    "print(f'Upper triangular matrix:\\n{np.round(U, 2)}')\n",
    "A_recover = np.round(P @ L @ U, 1)\n",
    "print(f'PLU multiplicatin:\\n{A_recover.astype(float)}')"
   ]
  },
  {
   "cell_type": "markdown",
   "metadata": {
    "id": "kL7oJT8XjzSU"
   },
   "source": [
    "# 21.9 Norms and Distances"
   ]
  },
  {
   "cell_type": "code",
   "execution_count": null,
   "metadata": {
    "colab": {
     "base_uri": "https://localhost:8080/"
    },
    "id": "rJLdNzZowBiH",
    "outputId": "5e17eae6-57b6-45fd-d4d3-82c84f0a6282"
   },
   "outputs": [
    {
     "name": "stdout",
     "output_type": "stream",
     "text": [
      "Help on function norm in module numpy.linalg:\n",
      "\n",
      "norm(x, ord=None, axis=None, keepdims=False)\n",
      "    Matrix or vector norm.\n",
      "    \n",
      "    This function is able to return one of eight different matrix norms,\n",
      "    or one of an infinite number of vector norms (described below), depending\n",
      "    on the value of the ``ord`` parameter.\n",
      "    \n",
      "    Parameters\n",
      "    ----------\n",
      "    x : array_like\n",
      "        Input array.  If `axis` is None, `x` must be 1-D or 2-D, unless `ord`\n",
      "        is None. If both `axis` and `ord` are None, the 2-norm of\n",
      "        ``x.ravel`` will be returned.\n",
      "    ord : {non-zero int, inf, -inf, 'fro', 'nuc'}, optional\n",
      "        Order of the norm (see table under ``Notes``). inf means numpy's\n",
      "        `inf` object. The default is None.\n",
      "    axis : {None, int, 2-tuple of ints}, optional.\n",
      "        If `axis` is an integer, it specifies the axis of `x` along which to\n",
      "        compute the vector norms.  If `axis` is a 2-tuple, it specifies the\n",
      "        axes that hold 2-D matrices, and the matrix norms of these matrices\n",
      "        are computed.  If `axis` is None then either a vector norm (when `x`\n",
      "        is 1-D) or a matrix norm (when `x` is 2-D) is returned. The default\n",
      "        is None.\n",
      "    \n",
      "        .. versionadded:: 1.8.0\n",
      "    \n",
      "    keepdims : bool, optional\n",
      "        If this is set to True, the axes which are normed over are left in the\n",
      "        result as dimensions with size one.  With this option the result will\n",
      "        broadcast correctly against the original `x`.\n",
      "    \n",
      "        .. versionadded:: 1.10.0\n",
      "    \n",
      "    Returns\n",
      "    -------\n",
      "    n : float or ndarray\n",
      "        Norm of the matrix or vector(s).\n",
      "    \n",
      "    See Also\n",
      "    --------\n",
      "    scipy.linalg.norm : Similar function in SciPy.\n",
      "    \n",
      "    Notes\n",
      "    -----\n",
      "    For values of ``ord < 1``, the result is, strictly speaking, not a\n",
      "    mathematical 'norm', but it may still be useful for various numerical\n",
      "    purposes.\n",
      "    \n",
      "    The following norms can be calculated:\n",
      "    \n",
      "    =====  ============================  ==========================\n",
      "    ord    norm for matrices             norm for vectors\n",
      "    =====  ============================  ==========================\n",
      "    None   Frobenius norm                2-norm\n",
      "    'fro'  Frobenius norm                --\n",
      "    'nuc'  nuclear norm                  --\n",
      "    inf    max(sum(abs(x), axis=1))      max(abs(x))\n",
      "    -inf   min(sum(abs(x), axis=1))      min(abs(x))\n",
      "    0      --                            sum(x != 0)\n",
      "    1      max(sum(abs(x), axis=0))      as below\n",
      "    -1     min(sum(abs(x), axis=0))      as below\n",
      "    2      2-norm (largest sing. value)  as below\n",
      "    -2     smallest singular value       as below\n",
      "    other  --                            sum(abs(x)**ord)**(1./ord)\n",
      "    =====  ============================  ==========================\n",
      "    \n",
      "    The Frobenius norm is given by [1]_:\n",
      "    \n",
      "        :math:`||A||_F = [\\sum_{i,j} abs(a_{i,j})^2]^{1/2}`\n",
      "    \n",
      "    The nuclear norm is the sum of the singular values.\n",
      "    \n",
      "    Both the Frobenius and nuclear norm orders are only defined for\n",
      "    matrices and raise a ValueError when ``x.ndim != 2``.\n",
      "    \n",
      "    References\n",
      "    ----------\n",
      "    .. [1] G. H. Golub and C. F. Van Loan, *Matrix Computations*,\n",
      "           Baltimore, MD, Johns Hopkins University Press, 1985, pg. 15\n",
      "    \n",
      "    Examples\n",
      "    --------\n",
      "    >>> from numpy import linalg as LA\n",
      "    >>> a = np.arange(9) - 4\n",
      "    >>> a\n",
      "    array([-4, -3, -2, ...,  2,  3,  4])\n",
      "    >>> b = a.reshape((3, 3))\n",
      "    >>> b\n",
      "    array([[-4, -3, -2],\n",
      "           [-1,  0,  1],\n",
      "           [ 2,  3,  4]])\n",
      "    \n",
      "    >>> LA.norm(a)\n",
      "    7.745966692414834\n",
      "    >>> LA.norm(b)\n",
      "    7.745966692414834\n",
      "    >>> LA.norm(b, 'fro')\n",
      "    7.745966692414834\n",
      "    >>> LA.norm(a, np.inf)\n",
      "    4.0\n",
      "    >>> LA.norm(b, np.inf)\n",
      "    9.0\n",
      "    >>> LA.norm(a, -np.inf)\n",
      "    0.0\n",
      "    >>> LA.norm(b, -np.inf)\n",
      "    2.0\n",
      "    \n",
      "    >>> LA.norm(a, 1)\n",
      "    20.0\n",
      "    >>> LA.norm(b, 1)\n",
      "    7.0\n",
      "    >>> LA.norm(a, -1)\n",
      "    -4.6566128774142013e-010\n",
      "    >>> LA.norm(b, -1)\n",
      "    6.0\n",
      "    >>> LA.norm(a, 2)\n",
      "    7.745966692414834\n",
      "    >>> LA.norm(b, 2)\n",
      "    7.3484692283495345\n",
      "    \n",
      "    >>> LA.norm(a, -2)\n",
      "    0.0\n",
      "    >>> LA.norm(b, -2)\n",
      "    1.8570331885190563e-016 # may vary\n",
      "    >>> LA.norm(a, 3)\n",
      "    5.8480354764257312 # may vary\n",
      "    >>> LA.norm(a, -3)\n",
      "    0.0\n",
      "    \n",
      "    Using the `axis` argument to compute vector norms:\n",
      "    \n",
      "    >>> c = np.array([[ 1, 2, 3],\n",
      "    ...               [-1, 1, 4]])\n",
      "    >>> LA.norm(c, axis=0)\n",
      "    array([ 1.41421356,  2.23606798,  5.        ])\n",
      "    >>> LA.norm(c, axis=1)\n",
      "    array([ 3.74165739,  4.24264069])\n",
      "    >>> LA.norm(c, ord=1, axis=1)\n",
      "    array([ 6.,  6.])\n",
      "    \n",
      "    Using the `axis` argument to compute matrix norms:\n",
      "    \n",
      "    >>> m = np.arange(8).reshape(2,2,2)\n",
      "    >>> LA.norm(m, axis=(1,2))\n",
      "    array([  3.74165739,  11.22497216])\n",
      "    >>> LA.norm(m[0, :, :]), LA.norm(m[1, :, :])\n",
      "    (3.7416573867739413, 11.224972160321824)\n",
      "\n"
     ]
    }
   ],
   "source": [
    "import numpy as np\n",
    "A = np.array([[1, 2, 3],\n",
    "              [4, 5, 6],\n",
    "              [7, 8, 9]])\n",
    "np.linalg.norm(A, 'fro')\n",
    "#help(np.linalg.norm)"
   ]
  },
  {
   "cell_type": "markdown",
   "metadata": {
    "id": "lvisNgrM0Pr6"
   },
   "source": [
    "Condition Number"
   ]
  },
  {
   "cell_type": "code",
   "execution_count": null,
   "metadata": {
    "colab": {
     "base_uri": "https://localhost:8080/"
    },
    "id": "ZqEwyzyg0Rl6",
    "outputId": "1c4e9e8a-4536-4f79-ae6c-fb856f44f3a3"
   },
   "outputs": [
    {
     "name": "stdout",
     "output_type": "stream",
     "text": [
      "condition number of A= 3.813147060626918e+16\n"
     ]
    }
   ],
   "source": [
    "import numpy as np\n",
    "A = np.array([[1, 2, 3],\n",
    "              [4, 5, 6],\n",
    "              [7, 8, 9]])\n",
    "np.linalg.norm(A, 'fro')\n",
    "condA = np.linalg.cond(A)\n",
    "print(\"condition number of A=\",condA)"
   ]
  },
  {
   "cell_type": "markdown",
   "metadata": {
    "id": "w-EiVBOf_xDA"
   },
   "source": [
    "# 22.3 Dot Product"
   ]
  },
  {
   "cell_type": "code",
   "execution_count": null,
   "metadata": {
    "colab": {
     "base_uri": "https://localhost:8080/"
    },
    "id": "b13ZoKQB_3H3",
    "outputId": "76216a6f-1178-490d-a130-031cb46a8ab6"
   },
   "outputs": [
    {
     "name": "stdout",
     "output_type": "stream",
     "text": [
      "32\n"
     ]
    }
   ],
   "source": [
    "import numpy as np\n",
    "a = [1,2,3]\n",
    "b = [4,5,6]\n",
    "a_dot_b = np.dot(a,b)\n",
    "print(a_dot_b)"
   ]
  },
  {
   "cell_type": "markdown",
   "metadata": {
    "id": "4VsLCVizAtfk"
   },
   "source": [
    "# 22.4 Cross Product"
   ]
  },
  {
   "cell_type": "code",
   "execution_count": null,
   "metadata": {
    "colab": {
     "base_uri": "https://localhost:8080/"
    },
    "id": "6hoHRKtmBIsq",
    "outputId": "560b8a0c-9a7c-439b-cf81-00f52b4bb94c"
   },
   "outputs": [
    {
     "name": "stdout",
     "output_type": "stream",
     "text": [
      "[-3  6 -3]\n",
      "[0 0 0]\n"
     ]
    }
   ],
   "source": [
    "import numpy as np\n",
    "a = [1,2,3]\n",
    "b = [4,5,6]\n",
    "a_cross_b = np.cross(a,b)\n",
    "print(a_cross_b)"
   ]
  },
  {
   "cell_type": "markdown",
   "metadata": {
    "id": "pgShXy1NB7YW"
   },
   "source": [
    "# 24.1 Determinant"
   ]
  },
  {
   "cell_type": "code",
   "execution_count": null,
   "metadata": {
    "colab": {
     "base_uri": "https://localhost:8080/"
    },
    "id": "EpbYbAQLB-X2",
    "outputId": "53c9fe6b-4b71-40d3-b27d-eafdeb7ed037"
   },
   "outputs": [
    {
     "name": "stdout",
     "output_type": "stream",
     "text": [
      "M:\n",
      " [[0 2 1 3]\n",
      " [3 2 8 1]\n",
      " [1 0 0 3]\n",
      " [0 3 2 1]]\n",
      "Determinant: -38.0\n"
     ]
    }
   ],
   "source": [
    "from numpy.linalg import det\n",
    "M = np.array([[0,2,1,3],\n",
    "            [3,2,8,1],\n",
    "             [1,0,0,3],\n",
    "             [0,3,2,1]])\n",
    "print('M:\\n', M)\n",
    "print('Determinant: %.1f'%det(M))\n"
   ]
  },
  {
   "cell_type": "markdown",
   "metadata": {
    "id": "j_T42OCzBhHc"
   },
   "source": [
    "# 27.1 Eigenvalues and Eigenvectors"
   ]
  },
  {
   "cell_type": "code",
   "execution_count": null,
   "metadata": {
    "colab": {
     "base_uri": "https://localhost:8080/"
    },
    "id": "6Faai7nzCN7X",
    "outputId": "f604c8c2-7709-4d35-f472-e7c593da0016"
   },
   "outputs": [
    {
     "name": "stdout",
     "output_type": "stream",
     "text": [
      "Eigenvalues of A:\n",
      "[-7.  6.]\n",
      "\n",
      "Eigenvectors of A:\n",
      "[[-0.9486833  -0.24253563]\n",
      " [ 0.31622777 -0.9701425 ]]\n"
     ]
    }
   ],
   "source": [
    "import numpy as np\n",
    "A = np.array([[-6, 3],\n",
    "              [4, 5]])\n",
    "values, vectors = np.linalg.eig(A)\n",
    "print(f'Eigenvalues of A:\\n{values}\\n')\n",
    "print(f'Eigenvectors of A:\\n{vectors}')"
   ]
  }
 ],
 "metadata": {
  "colab": {
   "provenance": [],
   "toc_visible": true
  },
  "kernelspec": {
   "display_name": "Python 3",
   "name": "python3"
  },
  "language_info": {
   "name": "python"
  }
 },
 "nbformat": 4,
 "nbformat_minor": 0
}
