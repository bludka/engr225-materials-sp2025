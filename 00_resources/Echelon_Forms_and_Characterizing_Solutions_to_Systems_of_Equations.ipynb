{
 "cells": [
  {
   "cell_type": "markdown",
   "metadata": {},
   "source": [
    "# Echelon Forms and Characterizing Solutions to Systems of Equations"
   ]
  },
  {
   "cell_type": "code",
   "execution_count": null,
   "metadata": {},
   "outputs": [],
   "source": [
    "import numpy as np\n",
    "np.set_printoptions(precision=4,suppress=True)"
   ]
  },
  {
   "cell_type": "markdown",
   "metadata": {},
   "source": [
    "## Echelon Form (EF)\n",
    "\n",
    "* any zero rows below all nonzero rows\n",
    "* leading entry (first non-zero element) of each row is to the right of leading entries in rows above\n",
    "* The entries below a leading entry are zero.\n",
    "\n",
    "This is sometimes also called Row Echelon Form."
   ]
  },
  {
   "cell_type": "markdown",
   "metadata": {},
   "source": [
    "*NOTE: A matrix can have many different echelon forms depending on how you do your row operations. The **locations** of the leading entries will be the same between forms, but the numbers in the matrix can be different.*"
   ]
  },
  {
   "cell_type": "markdown",
   "metadata": {},
   "source": [
    "Are the matrices below in Echelon Form?"
   ]
  },
  {
   "cell_type": "code",
   "execution_count": null,
   "metadata": {},
   "outputs": [
    {
     "name": "stdout",
     "output_type": "stream",
     "text": [
      "[[3. 4. 8. 4.]\n",
      " [0. 5. 7. 9.]\n",
      " [0. 0. 3. 2.]]\n"
     ]
    }
   ],
   "source": [
    "Ab = np.array([[3., 4., 8., 4.], \n",
    "              [0., 5., 7., 9.], \n",
    "              [0., 0., 3., 2.]])\n",
    "print(Ab) "
   ]
  },
  {
   "cell_type": "markdown",
   "metadata": {},
   "source": [
    "The matrix above is in echelon form"
   ]
  },
  {
   "cell_type": "code",
   "execution_count": null,
   "metadata": {},
   "outputs": [
    {
     "name": "stdout",
     "output_type": "stream",
     "text": [
      "[[3. 4. 8. 4. 8.]\n",
      " [0. 5. 7. 9. 9.]\n",
      " [0. 0. 0. 2. 1.]]\n"
     ]
    }
   ],
   "source": [
    "Ab = np.array([[3., 4., 8., 4., 8.],  \n",
    "              [0., 5., 7., 9., 9.],  \n",
    "              [0., 0., 0., 2., 1.]]) \n",
    "print(Ab)"
   ]
  },
  {
   "cell_type": "markdown",
   "metadata": {},
   "source": [
    "The matrix above is in echelon form"
   ]
  },
  {
   "cell_type": "code",
   "execution_count": null,
   "metadata": {},
   "outputs": [
    {
     "name": "stdout",
     "output_type": "stream",
     "text": [
      "[[0. 4. 8. 4.]\n",
      " [5. 5. 7. 9.]\n",
      " [0. 0. 0. 2.]]\n"
     ]
    }
   ],
   "source": [
    "Ab = np.array([[0., 4., 8., 4.], # leading entry in top row is to the right of leading entry below it\n",
    "              [5., 5., 7., 9.],\n",
    "              [0., 0., 0., 2.]])\n",
    "print(Ab)"
   ]
  },
  {
   "cell_type": "markdown",
   "metadata": {},
   "source": [
    "The matrix above is NOT in echelon form"
   ]
  },
  {
   "cell_type": "markdown",
   "metadata": {},
   "source": [
    "### Gaussian Elimination\n",
    "\n",
    "Steps to solve (or identify an unsolvable) solution - works for any system!"
   ]
  },
  {
   "cell_type": "markdown",
   "metadata": {},
   "source": [
    "#### Part 1: Forward Elimation to acheive Echelon Form\n",
    "1.   Find leading entry of the first column\n",
    "2.   If leading entry is not in first row, swap rows to get it to the top row\n",
    "3.   Perform elementary row operations using top row leading entry to make all entries below it zero\n",
    "4.   Repeat steps 1-3 for sub-matrix containing all entries to the right and below of upper leading entry you just worked with\n",
    "5. Stop when matrix is in ECHELON FORM"
   ]
  },
  {
   "cell_type": "markdown",
   "metadata": {},
   "source": [
    "#### Part 2: Back-substitution\n",
    "1. Matrix is now in Echelon Form\n",
    "2. Solve last equation for basic variable. If system contains free variables write basic variable in terms of free variable\n",
    "3. Substitute value (or expression) for the variable into the equation above to obtain solution for different variable\n",
    "4. Repeat until unique value or expression is found for all variables"
   ]
  },
  {
   "cell_type": "markdown",
   "metadata": {},
   "source": [
    "## Reduced Echelon Form (REF)\n",
    "* Any rows that contain all zeros are below all nonzero rows.\n",
    "* The leading entry of each row is to the right of the leading terms in the rows above.\n",
    "* All the entries below a leading entry are zeros.\n",
    "* The leading entry for each nonzero row is 1.\n",
    "* Each leading entry of 1 has zeros above. That is, the leading ones are the only nonzero entry in that column.\n",
    "\n",
    "This is also sometimes called Reduced *Row* Echelon Form"
   ]
  },
  {
   "cell_type": "markdown",
   "metadata": {},
   "source": [
    "*NOTE: A matrix only has **one** REDUCED echelon form!* "
   ]
  },
  {
   "cell_type": "markdown",
   "metadata": {},
   "source": [
    "Are the matrices below in REDUCED Echelon Form?"
   ]
  },
  {
   "cell_type": "code",
   "execution_count": null,
   "metadata": {},
   "outputs": [
    {
     "name": "stdout",
     "output_type": "stream",
     "text": [
      "[[3. 4. 8. 4. 8.]\n",
      " [0. 5. 7. 9. 9.]\n",
      " [0. 0. 0. 2. 1.]]\n"
     ]
    }
   ],
   "source": [
    "Ab = np.array([[3., 4., 8., 4., 8.],\n",
    "              [0., 5., 7., 9., 9.],\n",
    "              [0., 0., 0., 2., 1.]])\n",
    "print(Ab)"
   ]
  },
  {
   "cell_type": "markdown",
   "metadata": {},
   "source": [
    "No, the matrix above is in echelon form, but not reduced echelon form."
   ]
  },
  {
   "cell_type": "code",
   "execution_count": null,
   "metadata": {},
   "outputs": [
    {
     "name": "stdout",
     "output_type": "stream",
     "text": [
      "[[1. 0. 0. 8.]\n",
      " [0. 1. 0. 9.]\n",
      " [0. 0. 1. 1.]]\n"
     ]
    }
   ],
   "source": [
    "Ab = np.array([[1., 0., 0., 8.],\n",
    "              [0., 1., 0., 9.],\n",
    "              [0., 0., 1., 1.]])\n",
    "print(Ab)"
   ]
  },
  {
   "cell_type": "markdown",
   "metadata": {},
   "source": [
    "Yes the matrix above is in reduced echelon form"
   ]
  },
  {
   "cell_type": "code",
   "execution_count": null,
   "metadata": {},
   "outputs": [
    {
     "name": "stdout",
     "output_type": "stream",
     "text": [
      "[[ 1.  2.  0.  0.  0.  2.  3.]\n",
      " [ 0.  0.  1.  3.  0.  2.  1.]\n",
      " [ 0.  0.  0.  0.  1.  1. -3.]\n",
      " [ 0.  0.  0.  0.  0.  0.  0.]]\n"
     ]
    }
   ],
   "source": [
    "Ab = np.array([[1., 2., 0.,  0., 0., 2.,  3.],\n",
    "              [0., 0., 1.,  3., 0. ,2.,  1.],\n",
    "              [0., 0., 0.,  0., 1., 1., -3.],\n",
    "              [0., 0., 0.,  0., 0., 0.,  0. ]])\n",
    "print(Ab)"
   ]
  },
  {
   "cell_type": "markdown",
   "metadata": {},
   "source": [
    "Yes the matrix above is in reduced echelon form"
   ]
  },
  {
   "cell_type": "markdown",
   "metadata": {},
   "source": [
    "### Gauss-Jordan Elimination\n",
    "\n",
    "Steps to solve (or identify an unsolvable) solution - works for any system!\n",
    "\n",
    "1. Same forward elimination as Gaussian *(see above section on Guassian Elimination- Part 1: Forward Elimination to acheive Echelon Form)*\n",
    "2. Make all pivots 1 by multiplying row by reciprical of pivot\n",
    "3. Perform elementary row operations using rightmost pivot to make all entries above it zero\n",
    "4. Repeat step 3 for sub-matrix containing all entries above and to the left of pivot you just worked off of\n",
    "5. Stop when entries above all pivots are zero\n",
    "\n",
    "Your matrix is now in REDUCED row echelon form!"
   ]
  },
  {
   "cell_type": "markdown",
   "metadata": {},
   "source": [
    "## Pivots & Pivot Columns, Basic Variables & Free Variables\n",
    "\n",
    "* **Pivot** - Leading entry in a matrix that is in echelon form\n",
    "* **Pivot Column** - Column that contains a pivot of a matrix in echelon form\n",
    "* **Basic Variable** - Variable represented by a pivot column\n",
    "* **Free Variable** - Variable represented by non-pivot column (If a a solution exists, a free variable indicates that there are infinite solutions)"
   ]
  },
  {
   "cell_type": "code",
   "execution_count": null,
   "metadata": {},
   "outputs": [
    {
     "name": "stdout",
     "output_type": "stream",
     "text": [
      "[[3. 4. 8. 4.]\n",
      " [0. 5. 7. 9.]\n",
      " [0. 0. 3. 2.]]\n"
     ]
    }
   ],
   "source": [
    "Ab = np.array([[3., 4., 8., 4.], #3 is pivot\n",
    "              [0., 5., 7., 9.], #5 is pivot\n",
    "              [0., 0., 3., 2.]]) #3 is pivot\n",
    "print(Ab)"
   ]
  },
  {
   "cell_type": "code",
   "execution_count": null,
   "metadata": {},
   "outputs": [
    {
     "name": "stdout",
     "output_type": "stream",
     "text": [
      "[[3. 4. 8. 4. 8.]\n",
      " [0. 5. 7. 9. 9.]\n",
      " [0. 0. 0. 2. 1.]]\n"
     ]
    }
   ],
   "source": [
    "            #  x1  x2  x3  x4 \n",
    "Ab = np.array([[3., 4., 8., 4., 8.],  #3 is pivot\n",
    "              [0., 5., 7., 9., 9.],  #5 is pivot, x3 is a free variable\n",
    "              [0., 0., 0., 2., 1.]]) #2 is pivot\n",
    "print(Ab)"
   ]
  },
  {
   "cell_type": "markdown",
   "metadata": {},
   "source": [
    "## Characterizing the Solution"
   ]
  },
  {
   "cell_type": "markdown",
   "metadata": {},
   "source": [
    "### Existence\n",
    "\n",
    "If a solution exists - system is **consistent**\n",
    "\n",
    "If a solution does not exist - system is **inconsistent**\n",
    "\n",
    "*How to tell: A matrix in EF whose last column is a pivot column has no solution.*"
   ]
  },
  {
   "cell_type": "code",
   "execution_count": null,
   "metadata": {},
   "outputs": [
    {
     "name": "stdout",
     "output_type": "stream",
     "text": [
      "[[ 3.  2. -1. -4.]\n",
      " [ 0.  0.  0. -6.]]\n"
     ]
    }
   ],
   "source": [
    "#An example of a matrix with no solution\n",
    "Ab = np.array([[3., 2., -1., -4.],\n",
    "              [0., 0., 0., -6.]]) #-6 is a pivot in the last column\n",
    "print(Ab)\n",
    "#last row has illegal math! 0*x1+0*x2+0*x3=0, not 6"
   ]
  },
  {
   "cell_type": "markdown",
   "metadata": {},
   "source": [
    "### Uniqueness\n",
    "\n",
    "If one solution exists - there is a **unique** solution\n",
    "\n",
    "If infinite solutions exist - the solution is **non-unique**\n",
    "\n",
    "*How to tell: A matrix in EF with a free variable whose last column is not a pivot column has infinitely many solutions.*"
   ]
  },
  {
   "cell_type": "code",
   "execution_count": null,
   "metadata": {},
   "outputs": [
    {
     "name": "stdout",
     "output_type": "stream",
     "text": [
      "[[ 1.  0.  0.  3.]\n",
      " [ 0.  0.  1. -6.]\n",
      " [ 0.  0.  0.  0.]]\n"
     ]
    }
   ],
   "source": [
    "Ab = np.array([[1., 0., 0., 3.],\n",
    "              [0., 0., 1., -6.], #x2 is a free variable, associated with infinite solutions\n",
    "              [0., 0., 0., 0.]]) #last column not a pivot column, so solution does exist\n",
    "print(Ab)"
   ]
  },
  {
   "cell_type": "markdown",
   "metadata": {},
   "source": [
    "### Rank"
   ]
  },
  {
   "cell_type": "markdown",
   "metadata": {},
   "source": [
    "The rank of a matrix is the number of NON-ZERO ROWS in an ECHELON FORM of that matrix\n",
    "\n",
    "The rank of matrix M is denoted: $r(M)$\n",
    "\n",
    "The rank of the COEFFICIENT matrix $r(A)$ tells us the number of BASIC VARIABLES!"
   ]
  },
  {
   "cell_type": "markdown",
   "metadata": {},
   "source": [
    "### Nullity"
   ]
  },
  {
   "cell_type": "markdown",
   "metadata": {},
   "source": [
    "The nullity is the number of COLUMNS in the matrix, *MINUS* the RANK of the matrix.\n",
    "\n",
    "The nullity of matrix M is denoted: $n - r(M)$\n",
    "\n",
    "The nullity of the COEFFICIENT matrix $n- r(A)$ tell us the number of FREE VARIABLES!"
   ]
  },
  {
   "cell_type": "markdown",
   "metadata": {},
   "source": [
    "### Solvability\n",
    "\n",
    "<img src=\"rank.png\" width=\"400\">"
   ]
  },
  {
   "cell_type": "markdown",
   "metadata": {},
   "source": [
    "### Examples"
   ]
  },
  {
   "cell_type": "markdown",
   "metadata": {},
   "source": [
    "Describe the existance and uniqueness of the solution of the system of equations represented by the following matrix:"
   ]
  },
  {
   "cell_type": "code",
   "execution_count": null,
   "metadata": {},
   "outputs": [
    {
     "name": "stdout",
     "output_type": "stream",
     "text": [
      "[[1. 0. 0. 0.]\n",
      " [0. 1. 0. 5.]\n",
      " [0. 0. 1. 2.]]\n"
     ]
    }
   ],
   "source": [
    "Ab = np.array([[1., 0., 0., 0.],\n",
    "              [0., 1., 0., 5.],\n",
    "              [0., 0., 1., 2.]])\n",
    "print(Ab)"
   ]
  },
  {
   "cell_type": "markdown",
   "metadata": {},
   "source": [
    "Echelon Form?\n",
    "\n",
    "Reduced Echelon Form?\n",
    "\n",
    "What is the number of unknowns, n? (Columns in A)\n",
    "\n",
    "What is the rank of A?\n",
    "\n",
    "What is the rank of Ab?\n",
    "\n",
    "Does the solution Exist?\n",
    "\n",
    "Is the solution Unique?\n"
   ]
  },
  {
   "cell_type": "markdown",
   "metadata": {},
   "source": [
    "REF, n = 3, r(A)=3, r([A|b])=3, unique solution exists"
   ]
  },
  {
   "cell_type": "markdown",
   "metadata": {},
   "source": [
    "How about this one?"
   ]
  },
  {
   "cell_type": "code",
   "execution_count": null,
   "metadata": {},
   "outputs": [
    {
     "name": "stdout",
     "output_type": "stream",
     "text": [
      "[[1 0 0 0]\n",
      " [0 1 0 5]\n",
      " [0 0 0 1]]\n"
     ]
    }
   ],
   "source": [
    "Ab = np.array([[1, 0, 0, 0],  #R0\n",
    "              [0, 1, 0, 5],  #R1\n",
    "              [0, 0, 0, 1]]) #R2\n",
    "print(Ab)"
   ]
  },
  {
   "cell_type": "markdown",
   "metadata": {},
   "source": [
    "Echelon Form?\n",
    "\n",
    "Reduced Echelon Form?\n",
    "\n",
    "Does the solution Exist?\n",
    "\n",
    "Is the solution Unique?"
   ]
  },
  {
   "cell_type": "markdown",
   "metadata": {},
   "source": [
    "EF (not fully reduced because non-zero value above pivot in last column), but we can already see no solution exists because of the \"illegal\" math in the last column:\n",
    "\n",
    "$0x_3$ = 1 <-- illegal math! Zero is not 1!\n",
    "\n",
    "We can fully reduce this using one more row operation:"
   ]
  },
  {
   "cell_type": "code",
   "execution_count": null,
   "metadata": {},
   "outputs": [
    {
     "name": "stdout",
     "output_type": "stream",
     "text": [
      "[[1 0 0 0]\n",
      " [0 1 0 0]\n",
      " [0 0 0 1]]\n"
     ]
    }
   ],
   "source": [
    "# R1 - 5*R2 --> R1\n",
    "Ab[1,:] = Ab[1,:] - 5*Ab[2,:]\n",
    "print(Ab)\n",
    "#Solution is still \"inconsistent\""
   ]
  },
  {
   "cell_type": "markdown",
   "metadata": {},
   "source": [
    "What is the number of unknowns, n? (Columns in A)\n",
    "\n",
    "What is the rank of A?\n",
    "\n",
    "What is the rank of Ab?"
   ]
  },
  {
   "cell_type": "markdown",
   "metadata": {},
   "source": [
    "REF, n = 3, r(A)=2, r([A|b])=3"
   ]
  },
  {
   "cell_type": "markdown",
   "metadata": {},
   "source": [
    "How about this one?"
   ]
  },
  {
   "cell_type": "code",
   "execution_count": null,
   "metadata": {},
   "outputs": [
    {
     "name": "stdout",
     "output_type": "stream",
     "text": [
      "[[1 0 0 0]\n",
      " [0 1 1 5]\n",
      " [0 0 0 0]]\n"
     ]
    }
   ],
   "source": [
    "Ab = np.array([[1, 0, 0, 0],\n",
    "              [0, 1, 1, 5],\n",
    "              [0, 0, 0, 0]])\n",
    "print(Ab)"
   ]
  },
  {
   "cell_type": "markdown",
   "metadata": {},
   "source": [
    "Echelon Form?\n",
    "\n",
    "Reduced Echelon Form?\n",
    "\n",
    "What is the number of unknowns, n? (Columns in A)\n",
    "\n",
    "What is the rank of A?\n",
    "\n",
    "What is the rank of Ab?\n",
    "\n",
    "Does the solution Exist?\n",
    "\n",
    "Is the solution Unique?"
   ]
  },
  {
   "cell_type": "markdown",
   "metadata": {},
   "source": [
    "REF, n=3, r(A)=2, r([A|b])=2, infinite (non-unique) solutions exist"
   ]
  },
  {
   "cell_type": "code",
   "execution_count": null,
   "metadata": {},
   "outputs": [],
   "source": [
    "Ab = np.array([[1, 0, 0, 0],\n",
    "              [0, 1, 1, 5],  #x3 is a free variable\n",
    "              [0, 0, 0, 0]]) #last column is not a pivot column"
   ]
  },
  {
   "cell_type": "markdown",
   "metadata": {},
   "source": [
    "Nullity of A above = n - r(A) \n",
    "\n",
    "= 3 - 2 \n",
    "\n",
    "= 1\n",
    "\n",
    "So there is 1 free variable"
   ]
  },
  {
   "cell_type": "markdown",
   "metadata": {},
   "source": [
    "## Finding the solution set for infinite solutions"
   ]
  },
  {
   "cell_type": "markdown",
   "metadata": {},
   "source": [
    "Just because there are infinite solutions, doesn't mean any old set of numbers will solve the equations...\n",
    "\n",
    "When we write the solution set for a system of infinite solutions we write the solution for the *basic variables in terms of the free variables*:"
   ]
  },
  {
   "cell_type": "code",
   "execution_count": null,
   "metadata": {},
   "outputs": [],
   "source": [
    "Ab = np.array([[1, 0, 0, 0],\n",
    "              [0, 1, 1, 5],  #x3 is a free variable\n",
    "              [0, 0, 0, 0]]) #last column is not a pivot column"
   ]
  },
  {
   "cell_type": "markdown",
   "metadata": {},
   "source": [
    "So we can rewrite the augmented matrix above as:\n",
    "\n",
    "$x_1=0$\n",
    "\n",
    "$x_2 + x_3 = 5$\n",
    "\n",
    "Where $x_1$ and $x_2$ are basic variables and $x_3$ is a free variable. So we need to solve for $x_1$ and $x_2$ in terms of $x_3$.\n",
    "\n",
    "So $x_2 = 5-x_3$,\n",
    "\n",
    "and $x_1$ doesn't depend on $x_3$ at all, so it just stays $x_1=0$.\n",
    "\n",
    "The final solution set is:\n",
    "$x = \\begin{bmatrix}\n",
    "0 \\\\\n",
    "5-x_3\\\\\n",
    "x_3\\\\\n",
    "\\end{bmatrix}$."
   ]
  }
 ],
 "metadata": {
  "language_info": {
   "name": "python"
  }
 },
 "nbformat": 4,
 "nbformat_minor": 2
}
