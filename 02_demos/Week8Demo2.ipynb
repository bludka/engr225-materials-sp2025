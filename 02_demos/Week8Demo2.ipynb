{
 "cells": [
  {
   "cell_type": "markdown",
   "metadata": {},
   "source": [
    "# Functions\n",
    "\n",
    "Today we will be covering functions.\n",
    "\n",
    "Students typically find loops the most challenging topic in intro programming.\n",
    "\n",
    "Students typically find functions the *second*-most challenging topic in intro programming.\n",
    "\n",
    "You will continue to use loops and functions in this class, and for the rest of your career.\n",
    "\n",
    "Also functions are fun!"
   ]
  },
  {
   "cell_type": "markdown",
   "metadata": {
    "id": "Rov_htUlvORT"
   },
   "source": [
    "## 'Unpacking' a container\n",
    "\n",
    "Let's cover this topic of \"unpacking containers\" because we will need it for understanding functions.\n",
    "\n",
    "Remember a container is an object that holds other objects within it. Some examples are lists, tuples, and strings. (Strings are containers of strings.)\n",
    "\n",
    "We can \"unpack\" a container like this:"
   ]
  },
  {
   "cell_type": "code",
   "execution_count": null,
   "metadata": {
    "colab": {
     "base_uri": "https://localhost:8080/"
    },
    "executionInfo": {
     "elapsed": 6,
     "status": "ok",
     "timestamp": 1709802128365,
     "user": {
      "displayName": "Bonnie Ludka",
      "userId": "16620433016455303136"
     },
     "user_tz": 480
    },
    "id": "o3CN9XNcvcIY",
    "outputId": "082b4567-45a1-4a46-de9a-16a04c33b6b0"
   },
   "outputs": [],
   "source": [
    "# here is an example of unpacking a tuple"
   ]
  },
  {
   "cell_type": "code",
   "execution_count": null,
   "metadata": {
    "colab": {
     "base_uri": "https://localhost:8080/"
    },
    "executionInfo": {
     "elapsed": 576,
     "status": "ok",
     "timestamp": 1709802131534,
     "user": {
      "displayName": "Bonnie Ludka",
      "userId": "16620433016455303136"
     },
     "user_tz": 480
    },
    "id": "u2_A1Wf_wPtb",
    "outputId": "5ec090f8-3d1b-446e-e56e-10e4c279d573"
   },
   "outputs": [],
   "source": [
    "# here is an example of unpacking a string"
   ]
  },
  {
   "cell_type": "markdown",
   "metadata": {
    "id": "eHBW4YXSwilG"
   },
   "source": [
    "**Student Task**\n",
    "\n",
    "Create a List of 3 colors.\n",
    "\n",
    "UNPACK the List and assign each color to a new variable using one line of code.\n",
    "\n",
    "Print out each color using the new variable names."
   ]
  },
  {
   "cell_type": "code",
   "execution_count": null,
   "metadata": {
    "id": "h5XpLRPJxJ0X"
   },
   "outputs": [],
   "source": [
    "# your code here"
   ]
  },
  {
   "cell_type": "markdown",
   "metadata": {
    "id": "vV4gC75PxreZ"
   },
   "source": [
    "# Functions"
   ]
  },
  {
   "cell_type": "markdown",
   "metadata": {
    "id": "BMvYGCsNSOok"
   },
   "source": [
    "## Simplest Function\n",
    "\n",
    "Here is a simple example of how to MAKE a function:"
   ]
  },
  {
   "cell_type": "code",
   "execution_count": null,
   "metadata": {
    "id": "I_fGwurTSKlA"
   },
   "outputs": [],
   "source": []
  },
  {
   "cell_type": "markdown",
   "metadata": {
    "id": "DmYm-B5WyJ5h"
   },
   "source": [
    "<img src=\"https://lh3.googleusercontent.com/pw/AP1GczOZWNF-3dKIRW9xqd5dBpL5ZDZU1oLWuO52HAu2_2EMmvqCqc_trJsTz6_bB6n40jhuEPO956l3pqnvK9jJR5M9ejffflWlZRYRCi6FCcnpQvF-dF60cJvwgW5A0a3BeAV2NPNLRVF2Jif4CCgKi3Ys=w553-h82-s-no-gm?authuser=0\" width=\"600\">"
   ]
  },
  {
   "cell_type": "markdown",
   "metadata": {
    "id": "5XKm7PN47zAn"
   },
   "source": [
    "## INDENTATION IS IMPORTANT!!!\n",
    "## Everything that is indented is part of the function definition\n",
    "## Don't forget the def. Don't forget the (). Don't forget the colon!"
   ]
  },
  {
   "cell_type": "markdown",
   "metadata": {
    "id": "-eKm_PZKrq0V"
   },
   "source": [
    "Note that when we run the cell above, nothing happens!!\n",
    "\n",
    "We have to USE the function in order to get it to do something.\n",
    "\n"
   ]
  },
  {
   "cell_type": "code",
   "execution_count": null,
   "metadata": {
    "colab": {
     "base_uri": "https://localhost:8080/"
    },
    "executionInfo": {
     "elapsed": 123,
     "status": "ok",
     "timestamp": 1709802140814,
     "user": {
      "displayName": "Bonnie Ludka",
      "userId": "16620433016455303136"
     },
     "user_tz": 480
    },
    "id": "kphja4-ZonLf",
    "outputId": "56709aee-46f7-4a0b-f8bf-aa6c24ae7c81"
   },
   "outputs": [],
   "source": []
  },
  {
   "cell_type": "markdown",
   "metadata": {
    "id": "_oSamGYQVHt3"
   },
   "source": [
    "### When we MAKE a function we say that we are DEFINING the function.\n"
   ]
  },
  {
   "cell_type": "markdown",
   "metadata": {
    "id": "RNoi4Z1crZ-C"
   },
   "source": [
    "### When we USE a function we say that we are CALLING the function.\n",
    "\n",
    "We call a function by its name:\n",
    "\n",
    "<img src=\"https://lh3.googleusercontent.com/pw/AP1GczPpSP-JNKfWqNnWopakaoHyg_5ToKGtSbDmrHUjmX1I8iNfEKdh6j9Dm1hHeI8f9cy22gD_DYwxIU-Fu8qecARsSsBCpXjU34hSWt_Ucpxc_pY2FtyxAgyjm4umE2a_dMvo6IoXD1cudzIbwhrQnKik=w211-h39-s-no-gm?authuser=0\" width=\"300\">\n",
    "\n"
   ]
  },
  {
   "cell_type": "code",
   "execution_count": null,
   "metadata": {
    "id": "Tq1JyppSr0lq"
   },
   "outputs": [],
   "source": [
    "# Define the function"
   ]
  },
  {
   "cell_type": "code",
   "execution_count": null,
   "metadata": {
    "colab": {
     "base_uri": "https://localhost:8080/"
    },
    "executionInfo": {
     "elapsed": 129,
     "status": "ok",
     "timestamp": 1709802144377,
     "user": {
      "displayName": "Bonnie Ludka",
      "userId": "16620433016455303136"
     },
     "user_tz": 480
    },
    "id": "2nGj7lour7AR",
    "outputId": "6586e15a-f6f6-4e89-89e6-ca8944e99cf7"
   },
   "outputs": [],
   "source": [
    "# Call the function"
   ]
  },
  {
   "cell_type": "markdown",
   "metadata": {
    "id": "eHtXtzx8rTb6"
   },
   "source": [
    "### Common mistake:\n",
    "<img src=\"https://lh3.googleusercontent.com/pw/AP1GczO3nS_zFe-FmfOP2v-S3tb3g0nUH6uBQByrEI5Ym8yqJpz_mrZMWq3nCtYq6ryIdn1gVh-nxUEENfL2TVmFRIfAPO0_O7_MwqPn2MPuWLX5PcntbkeOqiM2Y0o3hj8II3fhDLz1rBIVwB8Dr8VFCtu8=w954-h823-s-no-gm?authuser=0\" width=\"500\">"
   ]
  },
  {
   "cell_type": "code",
   "execution_count": null,
   "metadata": {
    "colab": {
     "base_uri": "https://localhost:8080/"
    },
    "executionInfo": {
     "elapsed": 133,
     "status": "ok",
     "timestamp": 1709802146603,
     "user": {
      "displayName": "Bonnie Ludka",
      "userId": "16620433016455303136"
     },
     "user_tz": 480
    },
    "id": "m3d0GadbrLN_",
    "outputId": "4f27c815-42a2-4b66-8dac-088738607d8a"
   },
   "outputs": [],
   "source": [
    "# define the function\n",
    "\n",
    "# call the function"
   ]
  },
  {
   "cell_type": "markdown",
   "metadata": {
    "id": "ohMitqn-t0kZ"
   },
   "source": [
    "**Student Task**\n",
    "\n",
    "DEFINE a user function named `winter_break()` that when called, will print out a statement that describes what you are most looking foward to about winter break.\n",
    "\n",
    "Then, CALL the user function."
   ]
  },
  {
   "cell_type": "code",
   "execution_count": null,
   "metadata": {
    "id": "78XmrlWOuyFQ"
   },
   "outputs": [],
   "source": [
    "# your code here"
   ]
  },
  {
   "cell_type": "markdown",
   "metadata": {
    "id": "N1bJtb2by8BC"
   },
   "source": [
    "## Functions with parameters\n",
    "\n",
    "This is how you DEFINE a function with parameters:"
   ]
  },
  {
   "cell_type": "code",
   "execution_count": null,
   "metadata": {
    "id": "-E87Qo-CzPtg"
   },
   "outputs": [],
   "source": [
    "# Define the function"
   ]
  },
  {
   "cell_type": "markdown",
   "metadata": {
    "id": "UPETV-GKzxrM"
   },
   "source": [
    "<img src=\"https://lh3.googleusercontent.com/pw/AP1GczM-_vsJz4m_ZDgL1C7ZqA3UJNqHJVcguHbT9Dt0MyF7lIFBv8On9FPaTVAKvSKPt1TrFh45ZCSsG9cqsEstBwoUuhI9zg2F2lCfCAqWJl_btbnLuJOiTTQ6tDonCaousaBeDAV1d78C-bqnVWqIKGO6=w628-h64-s-no-gm?authuser=0\" width=\"600\">\n",
    "\n",
    "The stuff inside the parentheses () of the function name are the **parameters**\n",
    "\n",
    "You can have as many parameters as you like.\n",
    "\n"
   ]
  },
  {
   "cell_type": "markdown",
   "metadata": {
    "id": "z-IO8l-e2y6g"
   },
   "source": [
    "Use function **arguments** to assign values to the parameters when you CALL the function:"
   ]
  },
  {
   "cell_type": "code",
   "execution_count": null,
   "metadata": {
    "colab": {
     "base_uri": "https://localhost:8080/"
    },
    "executionInfo": {
     "elapsed": 124,
     "status": "ok",
     "timestamp": 1709802151678,
     "user": {
      "displayName": "Bonnie Ludka",
      "userId": "16620433016455303136"
     },
     "user_tz": 480
    },
    "id": "ouaM2hTP0Izv",
    "outputId": "cf8d3867-8846-4ed7-c54e-c70dde6d16ec"
   },
   "outputs": [],
   "source": []
  },
  {
   "cell_type": "markdown",
   "metadata": {
    "id": "Lw8INFR13JU9"
   },
   "source": [
    "<img src=\"https://lh3.googleusercontent.com/pw/AP1GczOJjtODZJ5ik6B4tlsj6M8UOm7EFHfpCKETtlA43IlgFj89gklKBmWLC1Jdf3fFVKvMLJRG9SysowknWjLsbegRqKIcZTDg4_O6GeAaNO2Q97Gz5dzwkx8k-GeZ2IzrYIEYHAjXAV25LV_bzxHcvCx3=w547-h45-s-no-gm?authuser=0\" width=\"600\">\n",
    "\n",
    "The first **argument** 'Bonnie' is assigned to the first **parameter** called `name`. (So `name = 'Bonnie'`)\n",
    "\n",
    "The second **argument** 'Physics' is assigned to the second **parameter** called `major`. (So `major = 'Physics'`)\n",
    "\n",
    "The third **argument** 'ENGR 225' is assigned to the third **parameter** called `course`. (So `course = 'ENGR 225'`)\n",
    "\n"
   ]
  },
  {
   "cell_type": "markdown",
   "metadata": {},
   "source": [
    "Here is another example. This function uses a loop."
   ]
  },
  {
   "cell_type": "code",
   "execution_count": 1,
   "metadata": {
    "id": "0PnWSAD48mOU"
   },
   "outputs": [],
   "source": []
  },
  {
   "cell_type": "code",
   "execution_count": null,
   "metadata": {
    "colab": {
     "base_uri": "https://localhost:8080/"
    },
    "executionInfo": {
     "elapsed": 125,
     "status": "ok",
     "timestamp": 1709802154801,
     "user": {
      "displayName": "Bonnie Ludka",
      "userId": "16620433016455303136"
     },
     "user_tz": 480
    },
    "id": "LrKcptJQ9Oef",
    "outputId": "f3f667a4-f5d1-4238-8ec6-65eb8911c06c"
   },
   "outputs": [],
   "source": []
  },
  {
   "cell_type": "markdown",
   "metadata": {
    "id": "b0CSCGeY4hUl"
   },
   "source": [
    "**Student Task**\n",
    "\n",
    "DEFINE a user function named `combine()` that concatenates two strings and prints the result. Name the first parameter 'word1' and name the second parameter 'word2'.\n",
    "\n",
    "CALL the user function by using 'water' as the argument associated with the word1 parameter, and 'melon' as the argument associated with the word2 parameter."
   ]
  },
  {
   "cell_type": "code",
   "execution_count": null,
   "metadata": {
    "colab": {
     "base_uri": "https://localhost:8080/"
    },
    "executionInfo": {
     "elapsed": 214,
     "status": "ok",
     "timestamp": 1709806795798,
     "user": {
      "displayName": "Bonnie Ludka",
      "userId": "16620433016455303136"
     },
     "user_tz": 480
    },
    "id": "uzF5tbQr5dic",
    "outputId": "a6cebb07-c640-467a-a93b-c61018b4b72b"
   },
   "outputs": [],
   "source": [
    "# your code here"
   ]
  },
  {
   "cell_type": "markdown",
   "metadata": {
    "id": "V2ToUGnl96O_"
   },
   "source": [
    "### Positional arguments\n",
    "\n",
    "So far we have assigned our arguments to our parameters by putting them in the same position, so they are called *positional arguments*.\n",
    "\n",
    "What if you can't remember the order of the parameters?\n",
    "\n",
    "We can use the `help()` function to remind ourselves:"
   ]
  },
  {
   "cell_type": "code",
   "execution_count": null,
   "metadata": {
    "colab": {
     "base_uri": "https://localhost:8080/"
    },
    "executionInfo": {
     "elapsed": 121,
     "status": "ok",
     "timestamp": 1709799268177,
     "user": {
      "displayName": "Bonnie Ludka",
      "userId": "16620433016455303136"
     },
     "user_tz": 480
    },
    "id": "C4eHD6if-igX",
    "outputId": "a2177e99-13fe-4ba1-e311-49a7928a2e73"
   },
   "outputs": [],
   "source": []
  },
  {
   "cell_type": "markdown",
   "metadata": {
    "id": "qBlObGdKCymZ"
   },
   "source": [
    "### Keyword arguments\n",
    "\n",
    "If we remember the parameter names, and we just forget their order, we can also use *keyword arguments*:"
   ]
  },
  {
   "cell_type": "code",
   "execution_count": null,
   "metadata": {
    "colab": {
     "base_uri": "https://localhost:8080/"
    },
    "executionInfo": {
     "elapsed": 172,
     "status": "ok",
     "timestamp": 1709802158330,
     "user": {
      "displayName": "Bonnie Ludka",
      "userId": "16620433016455303136"
     },
     "user_tz": 480
    },
    "id": "qrHf3dJ9C8nk",
    "outputId": "3471d51a-0dd0-4b20-e4e5-d6b31eb81f7a"
   },
   "outputs": [],
   "source": []
  },
  {
   "cell_type": "markdown",
   "metadata": {
    "id": "NtTCVg9LDJrQ"
   },
   "source": [
    "Even though the arguments are out of order when we call the function, the function knows which parameters to assign the arguments to."
   ]
  },
  {
   "cell_type": "code",
   "execution_count": null,
   "metadata": {
    "id": "R1iuayHCE64Y"
   },
   "outputs": [],
   "source": [
    "def convert_height(feet,inches):\n",
    "    '''\n",
    "    feet = height in feet\n",
    "    inches = height in inches\n",
    "    '''\n",
    "    # Convert feet to inches and add to the total inches\n",
    "    total_inches = feet * 12 + inches\n",
    "    # Convert total inches to meters (1 inch = 0.0254 meters)\n",
    "    meters = total_inches * 0.0254\n",
    "    print(f'The height in meters is {meters}')"
   ]
  },
  {
   "cell_type": "markdown",
   "metadata": {
    "id": "pIfr_CBRDazt"
   },
   "source": [
    "**Student Task**\n",
    "\n",
    "Use keyword arguments to call the function above. Test out switching the order of the arguments (but make sure they are still matched with the correct parameter name)."
   ]
  },
  {
   "cell_type": "code",
   "execution_count": null,
   "metadata": {
    "id": "zvXPYLcKGPgk"
   },
   "outputs": [],
   "source": [
    "# your code here"
   ]
  },
  {
   "cell_type": "markdown",
   "metadata": {
    "id": "QiciHAm5CdXN"
   },
   "source": [
    "### Docstrings\n",
    "\n",
    "What if we can't remember what each parameter means?\n",
    "\n",
    "We can create a **docstring** using triple quotes around notes at the top of the function body which will show up when we use the help function:"
   ]
  },
  {
   "cell_type": "code",
   "execution_count": null,
   "metadata": {
    "id": "Q6nJp0zX-u1M"
   },
   "outputs": [],
   "source": [
    "# Define the function\n",
    "def info(name, major, course): #stuff inside parentheses are \"parameters\"\n",
    "    '''\n",
    "    name = your name\n",
    "    major = your major at Cal Poly Humboldt\n",
    "    course = the class you are in right now\n",
    "    '''\n",
    "    print(f'My name is {name}, my major is {major}, and I am in {course}')"
   ]
  },
  {
   "cell_type": "code",
   "execution_count": null,
   "metadata": {
    "colab": {
     "base_uri": "https://localhost:8080/"
    },
    "executionInfo": {
     "elapsed": 130,
     "status": "ok",
     "timestamp": 1709799541266,
     "user": {
      "displayName": "Bonnie Ludka",
      "userId": "16620433016455303136"
     },
     "user_tz": 480
    },
    "id": "hFck1G0M_Mnx",
    "outputId": "26aa82ea-0df6-486c-c3f0-0c0e445c534f"
   },
   "outputs": [],
   "source": [
    "help(info)"
   ]
  },
  {
   "cell_type": "markdown",
   "metadata": {},
   "source": [
    "**Student Task**\n",
    "\n",
    "Add a docstring to the function below using tripple quotes:\n",
    "\n",
    "''' \n",
    "\n",
    "docstring \n",
    "\n",
    "'''"
   ]
  },
  {
   "cell_type": "code",
   "execution_count": null,
   "metadata": {},
   "outputs": [],
   "source": [
    "def fahrenheit_to_celsius_or_kelvin(fahrenheit_temp, celsius_or_kelvin):\n",
    "    celsius = (fahrenheit_temp - 32) * 5/9\n",
    "    if (celsius_or_kelvin == 'Kelvin') or (celsius_or_kelvin == 'kelvin'):\n",
    "        new_temp = celsius + 273\n",
    "    else:\n",
    "        new_temp = celsius\n",
    "    print(new_temp)"
   ]
  },
  {
   "cell_type": "markdown",
   "metadata": {
    "id": "wMSkgkUNXYjD"
   },
   "source": [
    "NOTE: The docstring must be the very first indented line in your function in order for it to show up when you use the help function!"
   ]
  },
  {
   "cell_type": "markdown",
   "metadata": {},
   "source": [
    "**Student Task**\n",
    "\n",
    "Use help function to check the doc string you just wrote"
   ]
  },
  {
   "cell_type": "code",
   "execution_count": 1,
   "metadata": {},
   "outputs": [],
   "source": [
    "#your code here"
   ]
  },
  {
   "cell_type": "markdown",
   "metadata": {
    "id": "UpouKmJBHsdP"
   },
   "source": [
    "## Function Namespace\n",
    "\n",
    "Let's open a toolbar that allows us to see our function namespace.\n",
    "\n",
    "Go to View > Debugger Panel\n",
    "\n",
    "Then click on the little bug symbol in the upper right hand corner of the notebook (next to the kernel button)\n",
    "\n",
    "A panel should appear on the right hand side and one of the segments will be labeled \"Variables\"\n",
    "\n",
    "Click on the stacked view instead of the blocked view.\n",
    "\n",
    "<img src=\"debugger_panel.png\" align=\"left\"/>\n",
    "\n",
    "<br clear=\"left\"/> <!-- Clears the float after this image -->\n",
    "\n",
    "Let's see what happens when we assign some new variables..."
   ]
  },
  {
   "cell_type": "code",
   "execution_count": 2,
   "metadata": {},
   "outputs": [],
   "source": []
  },
  {
   "cell_type": "markdown",
   "metadata": {},
   "source": [
    "Each variable is listed in the variables section.\n",
    "\n",
    "(Ignore the \"special variables\" and \"function variables\". They won't tell you what you would expect. We will cover debugger more next week)\n",
    "\n",
    "What if we define and call a function? How will our namespace look?"
   ]
  },
  {
   "cell_type": "code",
   "execution_count": null,
   "metadata": {
    "id": "feeNWQYGJJ9m"
   },
   "outputs": [],
   "source": []
  },
  {
   "cell_type": "code",
   "execution_count": null,
   "metadata": {
    "colab": {
     "base_uri": "https://localhost:8080/"
    },
    "executionInfo": {
     "elapsed": 2,
     "status": "ok",
     "timestamp": 1709802669295,
     "user": {
      "displayName": "Bonnie Ludka",
      "userId": "16620433016455303136"
     },
     "user_tz": 480
    },
    "id": "wMb8FgA6I4W_",
    "outputId": "638ccf73-c3ea-4f54-f263-dbba6d7b7715"
   },
   "outputs": [],
   "source": []
  },
  {
   "cell_type": "markdown",
   "metadata": {},
   "source": [
    "Why isn't `num1`, `num2` or `y` in my namespace?????\n",
    "\n",
    "If we try to call them, they don't exist!"
   ]
  },
  {
   "cell_type": "code",
   "execution_count": null,
   "metadata": {},
   "outputs": [],
   "source": []
  },
  {
   "cell_type": "code",
   "execution_count": null,
   "metadata": {},
   "outputs": [],
   "source": []
  },
  {
   "cell_type": "markdown",
   "metadata": {
    "id": "7ZPKrq4yKSqn"
   },
   "source": [
    "These variables are all **local** variables and are only available inside the function!\n",
    "\n",
    "\n",
    "We can print out the local variables in the function like this:"
   ]
  },
  {
   "cell_type": "code",
   "execution_count": null,
   "metadata": {
    "id": "uTbjQACpLu7C"
   },
   "outputs": [],
   "source": []
  },
  {
   "cell_type": "code",
   "execution_count": null,
   "metadata": {
    "colab": {
     "base_uri": "https://localhost:8080/"
    },
    "executionInfo": {
     "elapsed": 159,
     "status": "ok",
     "timestamp": 1709802774545,
     "user": {
      "displayName": "Bonnie Ludka",
      "userId": "16620433016455303136"
     },
     "user_tz": 480
    },
    "id": "JRol1hDLL3Vu",
    "outputId": "91da203a-0fd3-41e4-f86d-ffdca1f949df"
   },
   "outputs": [],
   "source": []
  },
  {
   "cell_type": "markdown",
   "metadata": {
    "id": "h_i67NF2L0vZ"
   },
   "source": [
    "The variables listed in the right hand panel are our **global** variables. If we want to force a variable inside our function to become a global variable we can do this:"
   ]
  },
  {
   "cell_type": "code",
   "execution_count": null,
   "metadata": {
    "id": "2lgrLC_UKrrZ"
   },
   "outputs": [],
   "source": []
  },
  {
   "cell_type": "code",
   "execution_count": null,
   "metadata": {
    "colab": {
     "base_uri": "https://localhost:8080/"
    },
    "executionInfo": {
     "elapsed": 140,
     "status": "ok",
     "timestamp": 1709802958606,
     "user": {
      "displayName": "Bonnie Ludka",
      "userId": "16620433016455303136"
     },
     "user_tz": 480
    },
    "id": "lM-5uTYFK7m7",
    "outputId": "157639d2-6729-49c9-e367-8e18bf2454b6"
   },
   "outputs": [],
   "source": []
  },
  {
   "cell_type": "markdown",
   "metadata": {
    "id": "nK8hQ3fLNgIt"
   },
   "source": [
    "#### USUALLY WANT TO AVOID GLOBAL ASSIGNMENTS INSIDE YOUR FUNCTION\n",
    "\n",
    "Instead of assigning global variables inside a function, you should probably use a **return** statement!!"
   ]
  },
  {
   "cell_type": "markdown",
   "metadata": {
    "id": "ZWFokDI56zAE"
   },
   "source": [
    "## Functions with Return Statement"
   ]
  },
  {
   "cell_type": "code",
   "execution_count": null,
   "metadata": {
    "id": "bo4eAUh1g_LL"
   },
   "outputs": [],
   "source": []
  },
  {
   "cell_type": "code",
   "execution_count": null,
   "metadata": {
    "colab": {
     "base_uri": "https://localhost:8080/"
    },
    "executionInfo": {
     "elapsed": 326,
     "status": "ok",
     "timestamp": 1709804130241,
     "user": {
      "displayName": "Bonnie Ludka",
      "userId": "16620433016455303136"
     },
     "user_tz": 480
    },
    "id": "AE8T09KQQHwE",
    "outputId": "f183b7cc-ede4-4831-a9b1-8326768c6ff4"
   },
   "outputs": [],
   "source": []
  },
  {
   "cell_type": "markdown",
   "metadata": {
    "id": "y_oWmTcSR1j4"
   },
   "source": [
    "Here I am setting z = to what the function returns."
   ]
  },
  {
   "cell_type": "markdown",
   "metadata": {
    "id": "9h3jMPkKSuEb"
   },
   "source": [
    "\n",
    "\n",
    "<img src=\"https://lh3.googleusercontent.com/pw/AP1GczOemfztAqk0jrInmG8g4w2jcjaX1va4Vsg7Xq5vixnLWqh4ohVkvkMejZS7CL25I4TdSH2NcAGN5v-sLy3IcrtjHba765NMASWxEeyBFU0VsjXiK4Fx5lZkQuP8R79A12uci3tUUFQ7JDEb3Md5HIcO=w534-h102-s-no-gm?authuser=0\" width=\"600\">"
   ]
  },
  {
   "cell_type": "markdown",
   "metadata": {
    "id": "CkD4gortTTSn"
   },
   "source": [
    "<img src=\"https://lh3.googleusercontent.com/pw/AP1GczMJsw4xOM_Hx5q2ey8uNHmNnLOfWAiEHgftQk2MSPj2obIc-vDCK0YLvDNYujVEmFOfCB78MeQo-sYbt-xZExhf3pVaXADMzuBKKYKgAKsEG6d9tRf0BAShlSLD8_f-gDWCOQl8oTxVsc4BXcwax6k2=w498-h45-s-no-gm?authuser=0\" width=\"600\">\n",
    "\n",
    "Where var = result"
   ]
  },
  {
   "cell_type": "markdown",
   "metadata": {
    "id": "DiuM8wR3XcVK"
   },
   "source": [
    "**Student Task**\n",
    "\n",
    "DEFINE a user function that multiplies two numbers together and returns the result.\n",
    "\n",
    "CALL the function and print the result."
   ]
  },
  {
   "cell_type": "code",
   "execution_count": null,
   "metadata": {
    "id": "kFfwC2vEXbh5"
   },
   "outputs": [],
   "source": [
    "# your code here"
   ]
  },
  {
   "cell_type": "markdown",
   "metadata": {
    "id": "JaSO0QzGWU3D"
   },
   "source": [
    "### Functions with MULTIPLE Results to Return\n",
    "\n",
    "Suppose we wanted to return multiple results:"
   ]
  },
  {
   "cell_type": "code",
   "execution_count": null,
   "metadata": {
    "id": "rfDhzJwRWjZt"
   },
   "outputs": [],
   "source": []
  },
  {
   "cell_type": "code",
   "execution_count": null,
   "metadata": {
    "colab": {
     "base_uri": "https://localhost:8080/"
    },
    "executionInfo": {
     "elapsed": 183,
     "status": "ok",
     "timestamp": 1709805691334,
     "user": {
      "displayName": "Bonnie Ludka",
      "userId": "16620433016455303136"
     },
     "user_tz": 480
    },
    "id": "FXIXTqDDWyRm",
    "outputId": "229a9cf5-777a-4d99-a8a5-52f518add69b"
   },
   "outputs": [],
   "source": []
  },
  {
   "cell_type": "code",
   "execution_count": null,
   "metadata": {
    "colab": {
     "base_uri": "https://localhost:8080/"
    },
    "executionInfo": {
     "elapsed": 170,
     "status": "ok",
     "timestamp": 1709805736534,
     "user": {
      "displayName": "Bonnie Ludka",
      "userId": "16620433016455303136"
     },
     "user_tz": 480
    },
    "id": "OGf1w1LQXIaM",
    "outputId": "5ac8915e-4640-4ea0-9d90-9e1b1d942394"
   },
   "outputs": [],
   "source": []
  },
  {
   "cell_type": "code",
   "execution_count": null,
   "metadata": {
    "colab": {
     "base_uri": "https://localhost:8080/"
    },
    "executionInfo": {
     "elapsed": 400,
     "status": "ok",
     "timestamp": 1709805763777,
     "user": {
      "displayName": "Bonnie Ludka",
      "userId": "16620433016455303136"
     },
     "user_tz": 480
    },
    "id": "sS8UzuXsXTTQ",
    "outputId": "1e082e76-dc69-440c-abd0-207fe05bacf4"
   },
   "outputs": [],
   "source": []
  }
 ],
 "metadata": {
  "colab": {
   "authorship_tag": "ABX9TyPOFAc3qu4XxVe3M3FASI67",
   "provenance": [],
   "toc_visible": true
  },
  "kernelspec": {
   "display_name": "engr225",
   "language": "python",
   "name": "python3"
  },
  "language_info": {
   "codemirror_mode": {
    "name": "ipython",
    "version": 3
   },
   "file_extension": ".py",
   "mimetype": "text/x-python",
   "name": "python",
   "nbconvert_exporter": "python",
   "pygments_lexer": "ipython3",
   "version": "3.11.7"
  }
 },
 "nbformat": 4,
 "nbformat_minor": 0
}
