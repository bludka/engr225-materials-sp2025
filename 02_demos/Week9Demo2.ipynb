{
 "cells": [
  {
   "cell_type": "markdown",
   "metadata": {},
   "source": [
    "# Next week we will jump fully into Matrix Algebra!\n",
    "\n",
    "Class will UNFLIP!\n",
    "\n",
    "Please bring a **notebook** to class to take notes!"
   ]
  },
  {
   "cell_type": "markdown",
   "metadata": {},
   "source": [
    "# In today's demo we will:\n",
    "\n",
    "* Discuss reasons for using functions\n",
    "* Reiterate that Arguments get ASSIGNED to Parameters\n",
    "* See how we can pass a function as an argument to a function\n",
    "* Review of mutable vs. immutable objects\n",
    "* Warn against changing global mutable objects inside a function \n",
    "  * Pass a copy instead!"
   ]
  },
  {
   "cell_type": "markdown",
   "metadata": {
    "id": "OmI-BZ7cYXUU"
   },
   "source": [
    "# Tips for Building and Debugging Functions"
   ]
  },
  {
   "cell_type": "markdown",
   "metadata": {
    "id": "AUAJTx6SYkqb"
   },
   "source": [
    "## Steps for Building a Function\n",
    "\n",
    "Overall advice: Start specific, then get more general, then make your function.\n",
    "\n",
    "Step 1: Write code to complete the task WITHOUT a function, by chosing specific variable values.\n",
    "\n",
    "Step 2: Change some of your variable values to make sure the code works for other cases.\n",
    "\n",
    "Step 3: When you are convinced your code works, put it into a function.\n",
    "\n",
    "Step 4: Call your function to test it.\n",
    "\n",
    "Step 5: Add a docstring"
   ]
  },
  {
   "cell_type": "markdown",
   "metadata": {
    "id": "v6uanY2IZLH6"
   },
   "source": [
    "**Example:**\n",
    "\n",
    "Let's say I want to write a function that takes an argument for radius and returns the area of a circle."
   ]
  },
  {
   "cell_type": "markdown",
   "metadata": {
    "id": "-i_-HznxaHvc"
   },
   "source": [
    "Step 1: Write code to complete the task WITHOUT a function, by chosing specific variable values:"
   ]
  },
  {
   "cell_type": "code",
   "execution_count": null,
   "metadata": {
    "colab": {
     "base_uri": "https://localhost:8080/"
    },
    "executionInfo": {
     "elapsed": 6,
     "status": "ok",
     "timestamp": 1711044387565,
     "user": {
      "displayName": "Bonnie Ludka",
      "userId": "16620433016455303136"
     },
     "user_tz": 420
    },
    "id": "1uU0jtf6KMNt",
    "outputId": "ef0bed63-d54b-44b8-f60c-bf46f6e5ffa9"
   },
   "outputs": [],
   "source": []
  },
  {
   "cell_type": "markdown",
   "metadata": {
    "id": "lJF1zP4raJWd"
   },
   "source": [
    "Step 2: Change some of your variable values to make sure the code works for other cases:\n"
   ]
  },
  {
   "cell_type": "code",
   "execution_count": null,
   "metadata": {
    "colab": {
     "base_uri": "https://localhost:8080/"
    },
    "executionInfo": {
     "elapsed": 367,
     "status": "ok",
     "timestamp": 1711044422534,
     "user": {
      "displayName": "Bonnie Ludka",
      "userId": "16620433016455303136"
     },
     "user_tz": 420
    },
    "id": "2WLohxIeMbdd",
    "outputId": "630cc88b-e01e-4e4f-b11f-475624398e65"
   },
   "outputs": [],
   "source": []
  },
  {
   "cell_type": "code",
   "execution_count": null,
   "metadata": {
    "colab": {
     "base_uri": "https://localhost:8080/"
    },
    "executionInfo": {
     "elapsed": 2,
     "status": "ok",
     "timestamp": 1711044442068,
     "user": {
      "displayName": "Bonnie Ludka",
      "userId": "16620433016455303136"
     },
     "user_tz": 420
    },
    "id": "zYa3FOrtMiE5",
    "outputId": "06ee0664-9d71-4eb6-a644-4b73d788cabd"
   },
   "outputs": [],
   "source": []
  },
  {
   "cell_type": "markdown",
   "metadata": {
    "id": "FUaSUyxNaRGk"
   },
   "source": [
    "Step 3: When you are convinced your code works, put it into a function:"
   ]
  },
  {
   "cell_type": "code",
   "execution_count": null,
   "metadata": {
    "executionInfo": {
     "elapsed": 426,
     "status": "ok",
     "timestamp": 1711044536684,
     "user": {
      "displayName": "Bonnie Ludka",
      "userId": "16620433016455303136"
     },
     "user_tz": 420
    },
    "id": "ogj67x1AMo2S"
   },
   "outputs": [],
   "source": []
  },
  {
   "cell_type": "markdown",
   "metadata": {
    "id": "wdRxq6zRa7rN"
   },
   "source": [
    "Step 4: Call your function to test it:"
   ]
  },
  {
   "cell_type": "code",
   "execution_count": null,
   "metadata": {
    "colab": {
     "base_uri": "https://localhost:8080/"
    },
    "executionInfo": {
     "elapsed": 305,
     "status": "ok",
     "timestamp": 1711044572221,
     "user": {
      "displayName": "Bonnie Ludka",
      "userId": "16620433016455303136"
     },
     "user_tz": 420
    },
    "id": "4SE5-xhtM9lw",
    "outputId": "c0aef09f-021e-4c5d-e289-8ff4c740adc7"
   },
   "outputs": [],
   "source": []
  },
  {
   "cell_type": "markdown",
   "metadata": {
    "id": "Rlza7k3efkFk"
   },
   "source": [
    "Step 5: Add a docstring:"
   ]
  },
  {
   "cell_type": "code",
   "execution_count": null,
   "metadata": {
    "executionInfo": {
     "elapsed": 1,
     "status": "ok",
     "timestamp": 1711044758019,
     "user": {
      "displayName": "Bonnie Ludka",
      "userId": "16620433016455303136"
     },
     "user_tz": 420
    },
    "id": "ztlwo6NDNcen"
   },
   "outputs": [],
   "source": []
  },
  {
   "cell_type": "code",
   "execution_count": null,
   "metadata": {
    "colab": {
     "base_uri": "https://localhost:8080/"
    },
    "executionInfo": {
     "elapsed": 286,
     "status": "ok",
     "timestamp": 1711044747347,
     "user": {
      "displayName": "Bonnie Ludka",
      "userId": "16620433016455303136"
     },
     "user_tz": 420
    },
    "id": "J6WcOan1NonG",
    "outputId": "59220784-040e-49e3-a866-247bf87cc8dd"
   },
   "outputs": [],
   "source": []
  },
  {
   "cell_type": "markdown",
   "metadata": {
    "id": "eizv_Y97jEU5"
   },
   "source": [
    "**Student Task**\n",
    "\n",
    "*Using the steps we have discussed,*\n",
    "Write a function called `hookes_law()` that takes displacement `x` and the spring constant `k` as arguments, and returns the restoring force `F`\n",
    "\n",
    "Hooke's Law:\n",
    "F=-kx (force exerted by a spring is proportional to its displacement)"
   ]
  },
  {
   "cell_type": "code",
   "execution_count": null,
   "metadata": {
    "colab": {
     "base_uri": "https://localhost:8080/"
    },
    "executionInfo": {
     "elapsed": 320,
     "status": "ok",
     "timestamp": 1711045261560,
     "user": {
      "displayName": "Bonnie Ludka",
      "userId": "16620433016455303136"
     },
     "user_tz": 420
    },
    "id": "y1gKN7jCi3bp",
    "outputId": "df304a93-0659-4daf-81ee-d42865e11791"
   },
   "outputs": [],
   "source": []
  },
  {
   "cell_type": "markdown",
   "metadata": {
    "id": "DPKipRBIPtMJ"
   },
   "source": [
    "\n",
    "**Student Task**\n",
    "\n",
    "Based on the ideal gas law: $PV = nRT$, $R$ = 8.31 J/(mol K)\n",
    "\n",
    "Write a user function that takes arguments for P, n, and T and returns V and R.\n",
    "\n",
    "Make sure to include a docstring that specifies the units of each variable. NOTE: These units of R could also be written as ($m^3$ Pa)/(mol K)\n",
    "\n",
    "Call your function and make sure that it works. (Don't worry about round-off discrepancies.)"
   ]
  },
  {
   "cell_type": "code",
   "execution_count": null,
   "metadata": {
    "colab": {
     "base_uri": "https://localhost:8080/"
    },
    "executionInfo": {
     "elapsed": 293,
     "status": "ok",
     "timestamp": 1711045771029,
     "user": {
      "displayName": "Bonnie Ludka",
      "userId": "16620433016455303136"
     },
     "user_tz": 420
    },
    "id": "8DX5XotmPu0x",
    "outputId": "23f50661-eff8-48d0-8577-70242fcc11d6"
   },
   "outputs": [],
   "source": []
  },
  {
   "cell_type": "code",
   "execution_count": null,
   "metadata": {
    "colab": {
     "base_uri": "https://localhost:8080/"
    },
    "executionInfo": {
     "elapsed": 290,
     "status": "ok",
     "timestamp": 1711045820154,
     "user": {
      "displayName": "Bonnie Ludka",
      "userId": "16620433016455303136"
     },
     "user_tz": 420
    },
    "id": "cMfe0GsrRuoE",
    "outputId": "9377abef-d069-4607-8cf8-2f90b0676d6e"
   },
   "outputs": [],
   "source": []
  },
  {
   "cell_type": "code",
   "execution_count": null,
   "metadata": {
    "executionInfo": {
     "elapsed": 502,
     "status": "ok",
     "timestamp": 1711045935741,
     "user": {
      "displayName": "Bonnie Ludka",
      "userId": "16620433016455303136"
     },
     "user_tz": 420
    },
    "id": "3m07SFeQSDvM"
   },
   "outputs": [],
   "source": []
  },
  {
   "cell_type": "code",
   "execution_count": null,
   "metadata": {
    "colab": {
     "base_uri": "https://localhost:8080/"
    },
    "executionInfo": {
     "elapsed": 407,
     "status": "ok",
     "timestamp": 1711045987669,
     "user": {
      "displayName": "Bonnie Ludka",
      "userId": "16620433016455303136"
     },
     "user_tz": 420
    },
    "id": "pZUvFBSASRg0",
    "outputId": "e50ca801-417f-499c-e8c7-91d095f64f91"
   },
   "outputs": [],
   "source": []
  },
  {
   "cell_type": "code",
   "execution_count": null,
   "metadata": {
    "executionInfo": {
     "elapsed": 360,
     "status": "ok",
     "timestamp": 1711046038255,
     "user": {
      "displayName": "Bonnie Ludka",
      "userId": "16620433016455303136"
     },
     "user_tz": 420
    },
    "id": "caUUatE0SgXC"
   },
   "outputs": [],
   "source": []
  },
  {
   "cell_type": "code",
   "execution_count": null,
   "metadata": {
    "colab": {
     "base_uri": "https://localhost:8080/"
    },
    "executionInfo": {
     "elapsed": 2,
     "status": "ok",
     "timestamp": 1711046042642,
     "user": {
      "displayName": "Bonnie Ludka",
      "userId": "16620433016455303136"
     },
     "user_tz": 420
    },
    "id": "ayx0VBkVSpJx",
    "outputId": "326b6ec5-307c-492c-c190-57ccc08b91de"
   },
   "outputs": [],
   "source": []
  },
  {
   "cell_type": "markdown",
   "metadata": {
    "id": "HNN09F3Vmgo3"
   },
   "source": [
    "# Debugging\n"
   ]
  },
  {
   "cell_type": "markdown",
   "metadata": {
    "id": "09DpwnfUuIRx"
   },
   "source": [
    "## Print Statements\n",
    "\n",
    "If you have already written your function and you are not sure that it is working correctly, add a bunch of **print statements!**\n",
    "\n",
    "(This is actually good debugging advice for any part of your code, not just functions)\n"
   ]
  },
  {
   "cell_type": "code",
   "execution_count": 1,
   "metadata": {
    "executionInfo": {
     "elapsed": 299,
     "status": "ok",
     "timestamp": 1711046464469,
     "user": {
      "displayName": "Bonnie Ludka",
      "userId": "16620433016455303136"
     },
     "user_tz": 420
    },
    "id": "C4LZEi3LSqFZ"
   },
   "outputs": [],
   "source": [
    "def binary_to_base10(b): \n",
    "    '''This function takes a binary number as an argument\n",
    "    and returns the equivalent base10 number\n",
    "    '''\n",
    "    b = str(b)\n",
    "    bflip = b[::-1]\n",
    "    sum = 0\n",
    "    for i in range(len(bflip)):\n",
    "        s = int(bflip[i]) #is the switch on or off? #numbers in orange\n",
    "        p = 2**i #what is the value of this place? #number below orange\n",
    "        d = s*p #multiply the switch by the placeholder to get the value of the digit\n",
    "        sum = sum + d #summing up the digit values\n",
    "    return sum"
   ]
  },
  {
   "cell_type": "code",
   "execution_count": null,
   "metadata": {
    "colab": {
     "base_uri": "https://localhost:8080/"
    },
    "executionInfo": {
     "elapsed": 286,
     "status": "ok",
     "timestamp": 1711046411372,
     "user": {
      "displayName": "Bonnie Ludka",
      "userId": "16620433016455303136"
     },
     "user_tz": 420
    },
    "id": "DFRUtYnbTNZM",
    "outputId": "c187ada3-025e-40e6-e0fe-edf23494c6f7"
   },
   "outputs": [],
   "source": []
  },
  {
   "cell_type": "markdown",
   "metadata": {
    "id": "-5hTXmDF7UZw"
   },
   "source": [
    "**Student Task**:\n",
    "Using print statements figure out what the function above is doing"
   ]
  },
  {
   "cell_type": "markdown",
   "metadata": {
    "id": "o5sPwgGusPVq"
   },
   "source": [
    "<img src=\"binary.jpg\">"
   ]
  },
  {
   "cell_type": "markdown",
   "metadata": {
    "id": "jcNBCe56t-Nz"
   },
   "source": [
    "## Breakpoints\n",
    "\n",
    "You can also add a ***Breakpoint*** using the debugger.\n",
    "\n",
    "<img src=\"debugger_panel.png\" align=\"left\"/>\n",
    "\n",
    "<br clear=\"left\"/> <!-- Clears the float after this image -->\n",
    "\n",
    "Now you will see line numbers appear just to the left of your code. In the gray space to the left of those numbers you can click and a red dot will appear. This is a \"breakpoint\".\n",
    "\n",
    "<img src=\"breakpoint.png\" width = 300 align=\"left\"/>\n",
    "\n",
    "<br clear=\"left\"/> <!-- Clears the float after this image -->\n",
    "\n",
    "You can view local and global variables \n",
    "\n",
    "<img src=\"locals_globals.png\" width = 300 align=\"left\"/>\n",
    "\n",
    "<br clear=\"left\"/> <!-- Clears the float after this image -->\n",
    "\n",
    "and can step through your code slowly to see how it is working\n",
    "\n",
    "<img src=\"debugger_controls.png\" width = 300 align=\"left\"/>\n",
    "\n",
    "<br clear=\"left\"/> <!-- Clears the float after this image -->"
   ]
  },
  {
   "cell_type": "code",
   "execution_count": null,
   "metadata": {
    "executionInfo": {
     "elapsed": 991,
     "status": "ok",
     "timestamp": 1711046576507,
     "user": {
      "displayName": "Bonnie Ludka",
      "userId": "16620433016455303136"
     },
     "user_tz": 420
    },
    "id": "3cn4t2yfUb8u"
   },
   "outputs": [],
   "source": [
    "def binary_to_base10(b): \n",
    "    '''This function takes a binary number as an argument\n",
    "    and returns the equivalent base10 number\n",
    "    '''\n",
    "    #add a breakpoint on the line below this one\n",
    "    b = str(b)\n",
    "    bflip = b[::-1]\n",
    "    sum = 0\n",
    "    for i in range(len(bflip)):\n",
    "        s = int(bflip[i]) #is the switch on or off?\n",
    "        p = 2**i #what is the value of this place?\n",
    "        d = s*p #multiply the switch by the placeholder to get the value of the digit\n",
    "        sum = sum + d\n",
    "    return sum"
   ]
  },
  {
   "cell_type": "code",
   "execution_count": 3,
   "metadata": {
    "colab": {
     "base_uri": "https://localhost:8080/"
    },
    "executionInfo": {
     "elapsed": 164373,
     "status": "ok",
     "timestamp": 1711046763473,
     "user": {
      "displayName": "Bonnie Ludka",
      "userId": "16620433016455303136"
     },
     "user_tz": 420
    },
    "id": "X1EOWpmHUs0r",
    "outputId": "f29d13a0-3022-48e1-c0d8-8de3b12bae5d"
   },
   "outputs": [
    {
     "name": "stdout",
     "output_type": "stream",
     "text": [
      "10\n"
     ]
    }
   ],
   "source": [
    "print(binary_to_base10(1010))"
   ]
  },
  {
   "cell_type": "markdown",
   "metadata": {
    "id": "q7rgXCP46c7F"
   },
   "source": [
    "# More practice with functions"
   ]
  },
  {
   "cell_type": "markdown",
   "metadata": {
    "id": "fcK2OWbK77Lh"
   },
   "source": [
    "**Student Task 1**\n",
    "\n",
    "One lap around a standard high-school running track is 0.25 miles. Define a user function named `laps_to_miles()` that has number of laps as a parameter, and **returns** the number of miles. Call your function to test it."
   ]
  },
  {
   "cell_type": "code",
   "execution_count": 4,
   "metadata": {
    "id": "2v97wdAm7-91"
   },
   "outputs": [],
   "source": [
    "# your code here"
   ]
  },
  {
   "cell_type": "markdown",
   "metadata": {
    "id": "TSBV4KRS84fJ"
   },
   "source": [
    "**Student Task 2**\n",
    "\n",
    "Define a function named coin_flip that returns \"Heads\" or \"Tails\" according to a random value 1 or 0. Assume the value 1 represents \"Heads\" and 0 represents \"Tails\". Call your function to test it."
   ]
  },
  {
   "cell_type": "code",
   "execution_count": 5,
   "metadata": {
    "id": "d2vaCZOiV1XJ"
   },
   "outputs": [],
   "source": [
    "#your code here"
   ]
  },
  {
   "cell_type": "markdown",
   "metadata": {},
   "source": [
    "# Careful about Mutability in Functions!"
   ]
  },
  {
   "cell_type": "markdown",
   "metadata": {},
   "source": [
    "# Common error: Accidentally changing global mutable variables inside a function"
   ]
  },
  {
   "cell_type": "markdown",
   "metadata": {},
   "source": [
    "## Review of Immutable vs. Mutable Data Types\n",
    "\n",
    "Tuples are immutable so this won't work:"
   ]
  },
  {
   "cell_type": "code",
   "execution_count": null,
   "metadata": {},
   "outputs": [],
   "source": []
  },
  {
   "cell_type": "markdown",
   "metadata": {},
   "source": [
    "Lists are mutable so this will work:"
   ]
  },
  {
   "cell_type": "code",
   "execution_count": null,
   "metadata": {},
   "outputs": [],
   "source": []
  },
  {
   "cell_type": "markdown",
   "metadata": {},
   "source": [
    "Lists also have a bunch of methods that allow us to change them in place:"
   ]
  },
  {
   "cell_type": "code",
   "execution_count": null,
   "metadata": {},
   "outputs": [],
   "source": []
  },
  {
   "cell_type": "code",
   "execution_count": null,
   "metadata": {},
   "outputs": [],
   "source": []
  },
  {
   "cell_type": "markdown",
   "metadata": {},
   "source": [
    "These kinds of methods not available options for tuples, because once you make a tuple you are not allowed to update it unless you completely reassign the variable!"
   ]
  },
  {
   "cell_type": "code",
   "execution_count": null,
   "metadata": {},
   "outputs": [],
   "source": []
  },
  {
   "cell_type": "markdown",
   "metadata": {},
   "source": [
    "## Assigning to same memory location vs. making a copy"
   ]
  },
  {
   "cell_type": "code",
   "execution_count": null,
   "metadata": {},
   "outputs": [],
   "source": []
  },
  {
   "cell_type": "code",
   "execution_count": null,
   "metadata": {},
   "outputs": [],
   "source": []
  },
  {
   "cell_type": "code",
   "execution_count": null,
   "metadata": {},
   "outputs": [],
   "source": []
  },
  {
   "cell_type": "code",
   "execution_count": null,
   "metadata": {},
   "outputs": [],
   "source": []
  },
  {
   "cell_type": "code",
   "execution_count": null,
   "metadata": {},
   "outputs": [],
   "source": []
  },
  {
   "cell_type": "markdown",
   "metadata": {},
   "source": [
    "## Careful with reassignments of global mutable variables inside functions!"
   ]
  },
  {
   "cell_type": "code",
   "execution_count": null,
   "metadata": {},
   "outputs": [],
   "source": []
  },
  {
   "cell_type": "code",
   "execution_count": null,
   "metadata": {},
   "outputs": [],
   "source": []
  },
  {
   "cell_type": "code",
   "execution_count": null,
   "metadata": {},
   "outputs": [],
   "source": []
  },
  {
   "cell_type": "code",
   "execution_count": null,
   "metadata": {},
   "outputs": [],
   "source": []
  },
  {
   "cell_type": "code",
   "execution_count": null,
   "metadata": {},
   "outputs": [],
   "source": []
  },
  {
   "cell_type": "markdown",
   "metadata": {},
   "source": [
    "# Deep copy"
   ]
  },
  {
   "cell_type": "code",
   "execution_count": null,
   "metadata": {},
   "outputs": [],
   "source": []
  },
  {
   "cell_type": "code",
   "execution_count": null,
   "metadata": {},
   "outputs": [],
   "source": []
  }
 ],
 "metadata": {
  "colab": {
   "authorship_tag": "ABX9TyOJRbMPyy4hCUFKRS5Z2++y",
   "provenance": []
  },
  "kernelspec": {
   "display_name": "engr225",
   "language": "python",
   "name": "python3"
  },
  "language_info": {
   "codemirror_mode": {
    "name": "ipython",
    "version": 3
   },
   "file_extension": ".py",
   "mimetype": "text/x-python",
   "name": "python",
   "nbconvert_exporter": "python",
   "pygments_lexer": "ipython3",
   "version": "3.11.7"
  }
 },
 "nbformat": 4,
 "nbformat_minor": 0
}
