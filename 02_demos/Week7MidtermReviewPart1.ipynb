{
 "cells": [
  {
   "cell_type": "markdown",
   "metadata": {
    "id": "BAovo_wvryEh"
   },
   "source": [
    "# Midterm Review!"
   ]
  },
  {
   "cell_type": "markdown",
   "metadata": {
    "id": "UGksViCuXcph"
   },
   "source": [
    "# Midterm Format\n",
    "\n",
    "* All coding problems - similar to lab notebooks.\n",
    "* Must use lab computers (cannot use your laptop).\n",
    "* No internet.\n",
    "* IDE is VS Code (Not JupyterHub).\n",
    "* I will provide you with a \"reference sheet\"\n",
    "    * You may not use any other resource.\n",
    "    * Please do not ask me what is in the reference sheet.\n",
    "    * You will see what is on the reference sheet during your practice exam in lab today.\n",
    "    * I will post the reference sheet to Canvas tonight. It is NOT meant to be a study guide. It is NOT comprehensive. Do not focus on it too much.\n",
    "* Study materials (in this order):\n",
    "    * The practice exam\n",
    "    * Lectures (including this review)\n",
    "    * Labs\n",
    "    * zyBook\n",
    "    * Go to Tutoring/Study sessions!\n",
    "    * Make up practice problems for each other!"
   ]
  },
  {
   "cell_type": "markdown",
   "metadata": {
    "id": "g_6lyzMEplRO"
   },
   "source": [
    "## This review is not comprehensive, but will cover many important topics."
   ]
  },
  {
   "cell_type": "markdown",
   "metadata": {
    "id": "FlODsiTclbjs"
   },
   "source": [
    "# How does a computer work?\n",
    "Understand Binary:\n",
    "\n",
    "<img src=\"binary.jpg\">"
   ]
  },
  {
   "cell_type": "markdown",
   "metadata": {
    "id": "lrsISSWX2NRR"
   },
   "source": [
    "The number 10 in binary is 1010.\n",
    "\n",
    "How would I write the number 5 in binary?\n",
    "\n",
    "How would I write the number 21 in binary?"
   ]
  },
  {
   "cell_type": "markdown",
   "metadata": {
    "id": "qKBs8GHbeFg5"
   },
   "source": [
    "# How to assign a variable.\n",
    "\n",
    "Will this work?"
   ]
  },
  {
   "cell_type": "code",
   "execution_count": null,
   "metadata": {
    "colab": {
     "base_uri": "https://localhost:8080/",
     "height": 109
    },
    "executionInfo": {
     "elapsed": 155,
     "status": "error",
     "timestamp": 1709017511426,
     "user": {
      "displayName": "Bonnie Ludka",
      "userId": "16620433016455303136"
     },
     "user_tz": 480
    },
    "id": "RhHZZKsxeC3-",
    "outputId": "117fde83-da0b-4bf9-a4a2-3466775130c0"
   },
   "outputs": [],
   "source": []
  },
  {
   "cell_type": "markdown",
   "metadata": {
    "id": "YXOfwyZqk7p6"
   },
   "source": [
    "Don't make the mistake above- I will take off a lot of points for this!"
   ]
  },
  {
   "cell_type": "markdown",
   "metadata": {
    "id": "a3VMNUlFhFxP"
   },
   "source": [
    "# Print function"
   ]
  },
  {
   "cell_type": "code",
   "execution_count": null,
   "metadata": {
    "colab": {
     "base_uri": "https://localhost:8080/"
    },
    "executionInfo": {
     "elapsed": 185,
     "status": "ok",
     "timestamp": 1709017522824,
     "user": {
      "displayName": "Bonnie Ludka",
      "userId": "16620433016455303136"
     },
     "user_tz": 480
    },
    "id": "mwL1oxcEhGos",
    "outputId": "41f6b139-2e03-45bb-8515-d0816e44ba2c"
   },
   "outputs": [],
   "source": []
  },
  {
   "cell_type": "markdown",
   "metadata": {
    "id": "y3MZjo-KeQOY"
   },
   "source": [
    "# Identifiers.\n",
    "Which are valid identifiers?"
   ]
  },
  {
   "cell_type": "code",
   "execution_count": null,
   "metadata": {
    "id": "2mljQcryelRm"
   },
   "outputs": [],
   "source": []
  },
  {
   "cell_type": "markdown",
   "metadata": {
    "id": "j2MttoBwetw2"
   },
   "source": [
    "# Properties of an object:\n",
    "* value - what is stored in object\n",
    "* type - how the object is stored\n",
    "* id - where the object is stored"
   ]
  },
  {
   "cell_type": "code",
   "execution_count": null,
   "metadata": {
    "id": "m5j91bqFeyPq"
   },
   "outputs": [],
   "source": []
  },
  {
   "cell_type": "markdown",
   "metadata": {
    "id": "zhBHpBBckvOP"
   },
   "source": [
    "`is` checks if two variables are stored in the same place. THIS IS NOT THE SAME AS `==` !!!"
   ]
  },
  {
   "cell_type": "code",
   "execution_count": null,
   "metadata": {
    "colab": {
     "base_uri": "https://localhost:8080/"
    },
    "executionInfo": {
     "elapsed": 150,
     "status": "ok",
     "timestamp": 1697232833974,
     "user": {
      "displayName": "Bonnie Ludka",
      "userId": "16620433016455303136"
     },
     "user_tz": 420
    },
    "id": "4horI9iolzPY",
    "outputId": "52caea66-f9f5-4dd8-b49a-dd5fa17e13b2"
   },
   "outputs": [],
   "source": []
  },
  {
   "cell_type": "markdown",
   "metadata": {
    "id": "8aFLMQr6fIaI"
   },
   "source": [
    "# Types\n",
    "\n",
    "Need to know:\n",
    "\n",
    "* int\n",
    "* str\n",
    "* float\n",
    "* list\n",
    "* tuple\n",
    "\n",
    "Don't need to know:\n",
    "* dictionary\n",
    "* set\n",
    "* named tuple"
   ]
  },
  {
   "cell_type": "code",
   "execution_count": null,
   "metadata": {
    "colab": {
     "base_uri": "https://localhost:8080/"
    },
    "executionInfo": {
     "elapsed": 160,
     "status": "ok",
     "timestamp": 1709012149545,
     "user": {
      "displayName": "Bonnie Ludka",
      "userId": "16620433016455303136"
     },
     "user_tz": 480
    },
    "id": "b_zcuAnffUQd",
    "outputId": "25048c31-fa6e-43a7-ffe2-6d77a9394bdc"
   },
   "outputs": [],
   "source": []
  },
  {
   "cell_type": "code",
   "execution_count": null,
   "metadata": {
    "colab": {
     "base_uri": "https://localhost:8080/"
    },
    "executionInfo": {
     "elapsed": 124,
     "status": "ok",
     "timestamp": 1709012151380,
     "user": {
      "displayName": "Bonnie Ludka",
      "userId": "16620433016455303136"
     },
     "user_tz": 480
    },
    "id": "NMzUpwe82kgT",
    "outputId": "a41f23c0-6fc5-4b0f-d10f-5b47438e6852"
   },
   "outputs": [],
   "source": []
  },
  {
   "cell_type": "code",
   "execution_count": null,
   "metadata": {
    "colab": {
     "base_uri": "https://localhost:8080/"
    },
    "executionInfo": {
     "elapsed": 126,
     "status": "ok",
     "timestamp": 1709012154980,
     "user": {
      "displayName": "Bonnie Ludka",
      "userId": "16620433016455303136"
     },
     "user_tz": 480
    },
    "id": "bAju81Ka2tBz",
    "outputId": "839239be-2dc6-4355-fae8-cb4738baa3d9"
   },
   "outputs": [],
   "source": []
  },
  {
   "cell_type": "code",
   "execution_count": null,
   "metadata": {
    "colab": {
     "base_uri": "https://localhost:8080/"
    },
    "executionInfo": {
     "elapsed": 152,
     "status": "ok",
     "timestamp": 1709012159261,
     "user": {
      "displayName": "Bonnie Ludka",
      "userId": "16620433016455303136"
     },
     "user_tz": 480
    },
    "id": "KnV7mj7n2xiS",
    "outputId": "fbf378d5-63ad-43cb-f5e4-ce62588a14ca"
   },
   "outputs": [],
   "source": []
  },
  {
   "cell_type": "code",
   "execution_count": null,
   "metadata": {
    "colab": {
     "base_uri": "https://localhost:8080/"
    },
    "executionInfo": {
     "elapsed": 133,
     "status": "ok",
     "timestamp": 1709012163694,
     "user": {
      "displayName": "Bonnie Ludka",
      "userId": "16620433016455303136"
     },
     "user_tz": 480
    },
    "id": "wKWIpThR26HC",
    "outputId": "a18c1951-d278-4fde-c9a0-55caefafba7a"
   },
   "outputs": [],
   "source": []
  },
  {
   "cell_type": "markdown",
   "metadata": {
    "id": "kS8IxtN_O3JG"
   },
   "source": [
    "Difference between a list and a tuple:\n",
    "You can not reassign PART of a tuple."
   ]
  },
  {
   "cell_type": "code",
   "execution_count": null,
   "metadata": {
    "colab": {
     "base_uri": "https://localhost:8080/",
     "height": 218
    },
    "executionInfo": {
     "elapsed": 136,
     "status": "error",
     "timestamp": 1709015080299,
     "user": {
      "displayName": "Bonnie Ludka",
      "userId": "16620433016455303136"
     },
     "user_tz": 480
    },
    "id": "L9oIRoEnO9nQ",
    "outputId": "8e480736-2b15-4de3-cbaf-89cf8439638f"
   },
   "outputs": [],
   "source": []
  },
  {
   "cell_type": "code",
   "execution_count": null,
   "metadata": {
    "id": "_bvs5mTTPniv"
   },
   "outputs": [],
   "source": []
  },
  {
   "cell_type": "markdown",
   "metadata": {
    "id": "cNUuJFYfZjLL"
   },
   "source": [
    "## Concatenate containers"
   ]
  },
  {
   "cell_type": "markdown",
   "metadata": {
    "id": "yP2ByGwVasXp"
   },
   "source": [
    "Concatenate means to combine. Containers can be combined with the + symbol"
   ]
  },
  {
   "cell_type": "code",
   "execution_count": null,
   "metadata": {
    "colab": {
     "base_uri": "https://localhost:8080/"
    },
    "executionInfo": {
     "elapsed": 2,
     "status": "ok",
     "timestamp": 1709018146512,
     "user": {
      "displayName": "Bonnie Ludka",
      "userId": "16620433016455303136"
     },
     "user_tz": 480
    },
    "id": "aHmkiNZQZlf3",
    "outputId": "1211ba31-2ab4-4896-ec57-1a8f5906ebbc"
   },
   "outputs": [],
   "source": []
  },
  {
   "cell_type": "code",
   "execution_count": null,
   "metadata": {
    "colab": {
     "base_uri": "https://localhost:8080/"
    },
    "executionInfo": {
     "elapsed": 2,
     "status": "ok",
     "timestamp": 1709018183834,
     "user": {
      "displayName": "Bonnie Ludka",
      "userId": "16620433016455303136"
     },
     "user_tz": 480
    },
    "id": "xpe-z6hOa3c6",
    "outputId": "064c4e53-fe44-4f88-a4cf-3375216e8df2"
   },
   "outputs": [],
   "source": []
  },
  {
   "cell_type": "markdown",
   "metadata": {
    "id": "h01T0dILhCIR"
   },
   "source": [
    "# Operations\n",
    "\n",
    "* `+`\n",
    "* `-`\n",
    "* `*`\n",
    "* `\\`\n",
    "* `**`\n",
    "* `\\\\`\n",
    "* `%`\n"
   ]
  },
  {
   "cell_type": "code",
   "execution_count": null,
   "metadata": {
    "colab": {
     "base_uri": "https://localhost:8080/"
    },
    "executionInfo": {
     "elapsed": 155,
     "status": "ok",
     "timestamp": 1709012201799,
     "user": {
      "displayName": "Bonnie Ludka",
      "userId": "16620433016455303136"
     },
     "user_tz": 480
    },
    "id": "vJQsi6oYf5mO",
    "outputId": "119dcc8d-7ac4-4e0e-a1be-4a2654beb2c8"
   },
   "outputs": [],
   "source": []
  },
  {
   "cell_type": "code",
   "execution_count": null,
   "metadata": {
    "id": "qsVXTF_WinMF"
   },
   "outputs": [],
   "source": []
  },
  {
   "cell_type": "code",
   "execution_count": null,
   "metadata": {
    "id": "jYy5EW2GivlJ"
   },
   "outputs": [],
   "source": []
  },
  {
   "cell_type": "markdown",
   "metadata": {
    "id": "nmvebDG5jEKy"
   },
   "source": [
    "# Order of Operations\n",
    "\n",
    "Grouping using parentheses\n",
    "\n",
    "\n"
   ]
  },
  {
   "cell_type": "code",
   "execution_count": null,
   "metadata": {
    "id": "0l7EuWqljGZE"
   },
   "outputs": [],
   "source": []
  },
  {
   "cell_type": "code",
   "execution_count": null,
   "metadata": {
    "id": "SLcuV_95kfaA"
   },
   "outputs": [],
   "source": []
  },
  {
   "cell_type": "code",
   "execution_count": null,
   "metadata": {
    "id": "BdXTbKfhkoYp"
   },
   "outputs": [],
   "source": []
  },
  {
   "cell_type": "markdown",
   "metadata": {
    "id": "ao5wEsPTk6P1"
   },
   "source": [
    "# Input function"
   ]
  },
  {
   "cell_type": "code",
   "execution_count": null,
   "metadata": {
    "id": "JrJ_Spc8k7Ab"
   },
   "outputs": [],
   "source": []
  },
  {
   "cell_type": "code",
   "execution_count": null,
   "metadata": {
    "id": "ZsF3bvK6k9nF"
   },
   "outputs": [],
   "source": []
  },
  {
   "cell_type": "markdown",
   "metadata": {
    "id": "s1KiBxGcrLcK"
   },
   "source": [
    "# Logic\n",
    "\n",
    "* ==\n",
    "* <=\n",
    "* \\>=\n",
    "* <\n",
    "* \\>\n",
    "* !=\n",
    "* True\n",
    "* False\n",
    "* and\n",
    "* or\n",
    "* not\n",
    "* is\n",
    "* in"
   ]
  },
  {
   "cell_type": "code",
   "execution_count": null,
   "metadata": {
    "colab": {
     "base_uri": "https://localhost:8080/"
    },
    "executionInfo": {
     "elapsed": 127,
     "status": "ok",
     "timestamp": 1709013503936,
     "user": {
      "displayName": "Bonnie Ludka",
      "userId": "16620433016455303136"
     },
     "user_tz": 480
    },
    "id": "Q1ybPKMqrPCS",
    "outputId": "988eda3c-691b-4010-8973-071e6c11619f"
   },
   "outputs": [],
   "source": []
  },
  {
   "cell_type": "code",
   "execution_count": null,
   "metadata": {
    "colab": {
     "base_uri": "https://localhost:8080/"
    },
    "executionInfo": {
     "elapsed": 151,
     "status": "ok",
     "timestamp": 1709013660327,
     "user": {
      "displayName": "Bonnie Ludka",
      "userId": "16620433016455303136"
     },
     "user_tz": 480
    },
    "id": "N0PoCmReJOJ0",
    "outputId": "0d2f8863-febd-4229-a311-f778b96a6008"
   },
   "outputs": [],
   "source": []
  },
  {
   "cell_type": "markdown",
   "metadata": {
    "id": "h0grXiJUodvm"
   },
   "source": [
    "# Branching\n",
    "\n",
    "* if\n",
    "* elif\n",
    "* else\n"
   ]
  },
  {
   "cell_type": "code",
   "execution_count": null,
   "metadata": {
    "id": "NWXmC2UTogYc"
   },
   "outputs": [],
   "source": []
  },
  {
   "cell_type": "code",
   "execution_count": null,
   "metadata": {
    "id": "839GdiMQompC"
   },
   "outputs": [],
   "source": []
  },
  {
   "cell_type": "code",
   "execution_count": null,
   "metadata": {
    "id": "mPuIN-xxoi0g"
   },
   "outputs": [],
   "source": []
  },
  {
   "cell_type": "code",
   "execution_count": null,
   "metadata": {
    "colab": {
     "base_uri": "https://localhost:8080/"
    },
    "executionInfo": {
     "elapsed": 2685,
     "status": "ok",
     "timestamp": 1697233106455,
     "user": {
      "displayName": "Bonnie Ludka",
      "userId": "16620433016455303136"
     },
     "user_tz": 420
    },
    "id": "Ucb5RT7uo3rr",
    "outputId": "75d3ff09-c699-4454-b8d1-f50180916df5"
   },
   "outputs": [],
   "source": []
  },
  {
   "cell_type": "markdown",
   "metadata": {
    "id": "-fO8qC68p3FS"
   },
   "source": [
    "# While loops\n",
    "\n",
    "Only use a while loop if you don't know how many times the loop will execute.\n",
    "\n",
    "I will take off points if you use a while loop when you could have used a for loop!"
   ]
  },
  {
   "cell_type": "code",
   "execution_count": null,
   "metadata": {
    "colab": {
     "base_uri": "https://localhost:8080/"
    },
    "executionInfo": {
     "elapsed": 2919,
     "status": "ok",
     "timestamp": 1709014277912,
     "user": {
      "displayName": "Bonnie Ludka",
      "userId": "16620433016455303136"
     },
     "user_tz": 480
    },
    "id": "nADXpvaLp4LL",
    "outputId": "e39a5f04-d100-45ef-a8fe-9b89b2a62fba"
   },
   "outputs": [],
   "source": []
  },
  {
   "cell_type": "markdown",
   "metadata": {
    "id": "eKejQ5BfrYA5"
   },
   "source": [
    "# Indexing, Slicing, Striding"
   ]
  },
  {
   "cell_type": "code",
   "execution_count": null,
   "metadata": {
    "colab": {
     "base_uri": "https://localhost:8080/"
    },
    "executionInfo": {
     "elapsed": 160,
     "status": "ok",
     "timestamp": 1709014304047,
     "user": {
      "displayName": "Bonnie Ludka",
      "userId": "16620433016455303136"
     },
     "user_tz": 480
    },
    "id": "EiDPKsygrZsg",
    "outputId": "888b91f0-263b-45fc-b825-13ca9c3ec2b5"
   },
   "outputs": [],
   "source": []
  },
  {
   "cell_type": "markdown",
   "metadata": {
    "id": "v-CbAQ3rNaC_"
   },
   "source": [
    "Indexing"
   ]
  },
  {
   "cell_type": "code",
   "execution_count": null,
   "metadata": {
    "colab": {
     "base_uri": "https://localhost:8080/"
    },
    "executionInfo": {
     "elapsed": 160,
     "status": "ok",
     "timestamp": 1709014374488,
     "user": {
      "displayName": "Bonnie Ludka",
      "userId": "16620433016455303136"
     },
     "user_tz": 480
    },
    "id": "s4di4zgqMaT5",
    "outputId": "b8f7d9b8-1bba-4d30-8fb7-d241f010517e"
   },
   "outputs": [],
   "source": []
  },
  {
   "cell_type": "code",
   "execution_count": null,
   "metadata": {
    "colab": {
     "base_uri": "https://localhost:8080/"
    },
    "executionInfo": {
     "elapsed": 123,
     "status": "ok",
     "timestamp": 1709014398159,
     "user": {
      "displayName": "Bonnie Ludka",
      "userId": "16620433016455303136"
     },
     "user_tz": 480
    },
    "id": "1YQHo2qSMgc9",
    "outputId": "0e1ea0d6-8d7b-491b-854e-5ed0e21b11c5"
   },
   "outputs": [],
   "source": []
  },
  {
   "cell_type": "markdown",
   "metadata": {
    "id": "CMtdNEr3Nd3x"
   },
   "source": [
    "Slicing"
   ]
  },
  {
   "cell_type": "code",
   "execution_count": null,
   "metadata": {
    "colab": {
     "base_uri": "https://localhost:8080/"
    },
    "executionInfo": {
     "elapsed": 148,
     "status": "ok",
     "timestamp": 1709014473960,
     "user": {
      "displayName": "Bonnie Ludka",
      "userId": "16620433016455303136"
     },
     "user_tz": 480
    },
    "id": "WP-asczP6EQZ",
    "outputId": "b558c80f-0091-443f-b69b-b8490754f5ab"
   },
   "outputs": [],
   "source": []
  },
  {
   "cell_type": "code",
   "execution_count": null,
   "metadata": {
    "colab": {
     "base_uri": "https://localhost:8080/"
    },
    "executionInfo": {
     "elapsed": 122,
     "status": "ok",
     "timestamp": 1709014556472,
     "user": {
      "displayName": "Bonnie Ludka",
      "userId": "16620433016455303136"
     },
     "user_tz": 480
    },
    "id": "mYDfh3YF6NKp",
    "outputId": "5c45fbba-d386-4123-e608-2ffb53ea6074"
   },
   "outputs": [],
   "source": []
  },
  {
   "cell_type": "code",
   "execution_count": null,
   "metadata": {
    "colab": {
     "base_uri": "https://localhost:8080/"
    },
    "executionInfo": {
     "elapsed": 127,
     "status": "ok",
     "timestamp": 1709014579276,
     "user": {
      "displayName": "Bonnie Ludka",
      "userId": "16620433016455303136"
     },
     "user_tz": 480
    },
    "id": "r2ogvsz86Qav",
    "outputId": "00a214af-23dd-4492-dfe4-d4736e5fe957"
   },
   "outputs": [],
   "source": []
  },
  {
   "cell_type": "code",
   "execution_count": null,
   "metadata": {
    "colab": {
     "base_uri": "https://localhost:8080/"
    },
    "executionInfo": {
     "elapsed": 137,
     "status": "ok",
     "timestamp": 1709014598157,
     "user": {
      "displayName": "Bonnie Ludka",
      "userId": "16620433016455303136"
     },
     "user_tz": 480
    },
    "id": "JGpVzg2S6aYH",
    "outputId": "ca0a7f57-0729-46a3-e90d-e0a8cf1d8281"
   },
   "outputs": [],
   "source": []
  },
  {
   "cell_type": "markdown",
   "metadata": {
    "id": "HnKWHbpXNfs-"
   },
   "source": [
    "Striding"
   ]
  },
  {
   "cell_type": "code",
   "execution_count": null,
   "metadata": {
    "colab": {
     "base_uri": "https://localhost:8080/"
    },
    "executionInfo": {
     "elapsed": 125,
     "status": "ok",
     "timestamp": 1709014675134,
     "user": {
      "displayName": "Bonnie Ludka",
      "userId": "16620433016455303136"
     },
     "user_tz": 480
    },
    "id": "0yOZDlgpNgxe",
    "outputId": "d50657ed-564c-4e29-e273-e3be9c68cd85"
   },
   "outputs": [],
   "source": []
  },
  {
   "cell_type": "code",
   "execution_count": null,
   "metadata": {
    "colab": {
     "base_uri": "https://localhost:8080/"
    },
    "executionInfo": {
     "elapsed": 281,
     "status": "ok",
     "timestamp": 1709014704650,
     "user": {
      "displayName": "Bonnie Ludka",
      "userId": "16620433016455303136"
     },
     "user_tz": 480
    },
    "id": "8X91Qn6uNqys",
    "outputId": "1bdfae7b-3841-43c4-d2cf-8257acb65e32"
   },
   "outputs": [],
   "source": []
  },
  {
   "cell_type": "code",
   "execution_count": null,
   "metadata": {
    "colab": {
     "base_uri": "https://localhost:8080/"
    },
    "executionInfo": {
     "elapsed": 122,
     "status": "ok",
     "timestamp": 1709015513168,
     "user": {
      "displayName": "Bonnie Ludka",
      "userId": "16620433016455303136"
     },
     "user_tz": 480
    },
    "id": "kYFqxmO9Nvu_",
    "outputId": "0346bd72-e610-4b58-cb9b-a237abce4ecf"
   },
   "outputs": [],
   "source": []
  },
  {
   "cell_type": "markdown",
   "metadata": {
    "id": "YLbeSniRcecT"
   },
   "source": [
    "Indexing nested containers"
   ]
  },
  {
   "cell_type": "code",
   "execution_count": null,
   "metadata": {
    "colab": {
     "base_uri": "https://localhost:8080/"
    },
    "executionInfo": {
     "elapsed": 2,
     "status": "ok",
     "timestamp": 1709018677259,
     "user": {
      "displayName": "Bonnie Ludka",
      "userId": "16620433016455303136"
     },
     "user_tz": 480
    },
    "id": "ceuxpsX3cgKM",
    "outputId": "979d6de7-3d47-49cd-9f72-6a7b10e09a1d"
   },
   "outputs": [],
   "source": []
  }
 ],
 "metadata": {
  "colab": {
   "authorship_tag": "ABX9TyPcmVIbKKZ1ZGYW+X9ZWn0K",
   "provenance": [
    {
     "file_id": "1cL34E-e9RIoEhgN4KAJ4KOxfxlM4OzQS",
     "timestamp": 1709016363796
    }
   ]
  },
  "kernelspec": {
   "display_name": "Python 3",
   "name": "python3"
  },
  "language_info": {
   "name": "python"
  }
 },
 "nbformat": 4,
 "nbformat_minor": 0
}
