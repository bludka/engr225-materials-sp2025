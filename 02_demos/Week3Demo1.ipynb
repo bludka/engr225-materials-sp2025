{
 "cells": [
  {
   "cell_type": "markdown",
   "metadata": {
    "id": "powYCoXR-FeK"
   },
   "source": [
    "# More Data Types!\n",
    "\n",
    "Previously we have learned about 3 data types:\n",
    "\n",
    "* Integer\n",
    "* Float\n",
    "* String"
   ]
  },
  {
   "cell_type": "markdown",
   "metadata": {},
   "source": [
    "Now we have learned about many more data types! Now our list includes:\n",
    "\n",
    "* **Integer**\n",
    "* **Float**\n",
    "* **String**\n",
    "* **List**\n",
    "* *Tuple*\n",
    "* Set\n",
    "* Named Tuple (This is actually a type of tuple)\n",
    "* Dictionary\n",
    "\n",
    "Data Types in **bold** are the ones we will use the most\n",
    "\n",
    "Data Types in *italics* are also important to know\n",
    "\n",
    "The other Data Types we won't use very much but it is good for you to know that they exist"
   ]
  },
  {
   "cell_type": "markdown",
   "metadata": {},
   "source": [
    "# Quick Review\n",
    "\n",
    "How do I create an integer variable?"
   ]
  },
  {
   "cell_type": "code",
   "execution_count": null,
   "metadata": {
    "colab": {
     "base_uri": "https://localhost:8080/"
    },
    "executionInfo": {
     "elapsed": 5,
     "status": "ok",
     "timestamp": 1706209420476,
     "user": {
      "displayName": "Bonnie Ludka",
      "userId": "16620433016455303136"
     },
     "user_tz": 480
    },
    "id": "18FRIF8F-Bul",
    "outputId": "9aa923d2-aab3-4433-d007-df857614038a"
   },
   "outputs": [],
   "source": []
  },
  {
   "cell_type": "markdown",
   "metadata": {},
   "source": [
    "How do I create a float variable?"
   ]
  },
  {
   "cell_type": "code",
   "execution_count": null,
   "metadata": {
    "colab": {
     "base_uri": "https://localhost:8080/"
    },
    "executionInfo": {
     "elapsed": 136,
     "status": "ok",
     "timestamp": 1706209518244,
     "user": {
      "displayName": "Bonnie Ludka",
      "userId": "16620433016455303136"
     },
     "user_tz": 480
    },
    "id": "BCMrL93NAZM_",
    "outputId": "8cfbeb65-9bf8-4a01-f871-5b07a88a289d"
   },
   "outputs": [],
   "source": []
  },
  {
   "cell_type": "markdown",
   "metadata": {},
   "source": [
    "How do I create a string variable?"
   ]
  },
  {
   "cell_type": "code",
   "execution_count": null,
   "metadata": {
    "colab": {
     "base_uri": "https://localhost:8080/"
    },
    "executionInfo": {
     "elapsed": 135,
     "status": "ok",
     "timestamp": 1706209599512,
     "user": {
      "displayName": "Bonnie Ludka",
      "userId": "16620433016455303136"
     },
     "user_tz": 480
    },
    "id": "7TqGAvbPA3Kt",
    "outputId": "f3e46249-50cf-4dc2-f3b8-ad5b496950d7"
   },
   "outputs": [],
   "source": []
  },
  {
   "cell_type": "markdown",
   "metadata": {},
   "source": [
    "# Containers\n",
    "\n",
    "A container is a data type that holds and manages multiple elements, whether they are ordered or unordered.\n",
    "\n",
    "You can test whether an element is contained in a container variable using the keyword \"in\"\n",
    "\n",
    "For example, a **string is a container** because a string can contain multiple strings within it. \n",
    "\n",
    "You can test if a smaller string exists within a larger string like this:"
   ]
  },
  {
   "cell_type": "code",
   "execution_count": null,
   "metadata": {},
   "outputs": [],
   "source": []
  },
  {
   "cell_type": "code",
   "execution_count": null,
   "metadata": {},
   "outputs": [],
   "source": []
  },
  {
   "cell_type": "code",
   "execution_count": null,
   "metadata": {},
   "outputs": [],
   "source": []
  },
  {
   "cell_type": "markdown",
   "metadata": {},
   "source": [
    "Integers and Floats are NOT containers:"
   ]
  },
  {
   "cell_type": "code",
   "execution_count": null,
   "metadata": {},
   "outputs": [],
   "source": []
  },
  {
   "cell_type": "code",
   "execution_count": null,
   "metadata": {},
   "outputs": [],
   "source": []
  },
  {
   "cell_type": "markdown",
   "metadata": {},
   "source": [
    "# Sequences \n",
    "\n",
    "Sequences are a special type of container that keeps track of the order of the elements.\n",
    "\n",
    "One of the special properties of sequences is that you can \"index\" them."
   ]
  },
  {
   "cell_type": "markdown",
   "metadata": {},
   "source": [
    "## Indexing \n",
    "When we index a variable, we can extract just a small piece of the variable.\n",
    "\n",
    "When we index a variable we use square brackets [ ]"
   ]
  },
  {
   "cell_type": "markdown",
   "metadata": {
    "id": "fu0aWKCGBbB6"
   },
   "source": [
    "### Strings are sequences...so you can index them!\n",
    "\n"
   ]
  },
  {
   "cell_type": "markdown",
   "metadata": {
    "id": "0frkYwEFBvMV"
   },
   "source": [
    "How to extract a single item of a sequence variable:\n",
    "\n",
    "Note: Indices start at 0 in Python!"
   ]
  },
  {
   "cell_type": "code",
   "execution_count": null,
   "metadata": {
    "colab": {
     "base_uri": "https://localhost:8080/"
    },
    "executionInfo": {
     "elapsed": 132,
     "status": "ok",
     "timestamp": 1706209873034,
     "user": {
      "displayName": "Bonnie Ludka",
      "userId": "16620433016455303136"
     },
     "user_tz": 480
    },
    "id": "19uPyerZBF5e",
    "outputId": "db7d76f3-09e7-43b9-8223-9591a3ec32e6"
   },
   "outputs": [],
   "source": []
  },
  {
   "cell_type": "code",
   "execution_count": null,
   "metadata": {
    "colab": {
     "base_uri": "https://localhost:8080/"
    },
    "executionInfo": {
     "elapsed": 135,
     "status": "ok",
     "timestamp": 1706209928058,
     "user": {
      "displayName": "Bonnie Ludka",
      "userId": "16620433016455303136"
     },
     "user_tz": 480
    },
    "id": "i-HDh2EaCIrV",
    "outputId": "54c4d3b8-8326-45eb-9af9-0be9c419fc88"
   },
   "outputs": [],
   "source": []
  },
  {
   "cell_type": "markdown",
   "metadata": {
    "id": "WhJiXo5BChg-"
   },
   "source": [
    "We can also extract a chunk or a \"slice\" of a variable\n",
    "\n",
    "Say we want to get the last few elements..."
   ]
  },
  {
   "cell_type": "code",
   "execution_count": null,
   "metadata": {
    "colab": {
     "base_uri": "https://localhost:8080/"
    },
    "executionInfo": {
     "elapsed": 133,
     "status": "ok",
     "timestamp": 1706210140084,
     "user": {
      "displayName": "Bonnie Ludka",
      "userId": "16620433016455303136"
     },
     "user_tz": 480
    },
    "id": "eYP0Bd_OCm7c",
    "outputId": "75728fd5-5f6f-41b9-bc65-33e459cec56d"
   },
   "outputs": [],
   "source": []
  },
  {
   "cell_type": "markdown",
   "metadata": {},
   "source": [
    "Take a guess, what will be the output if we don't specify the starting index?\n",
    "\n",
    "GUESS BEFOFE YOU TEST! Talk about your guess with your neighbor"
   ]
  },
  {
   "cell_type": "code",
   "execution_count": null,
   "metadata": {
    "colab": {
     "base_uri": "https://localhost:8080/"
    },
    "executionInfo": {
     "elapsed": 124,
     "status": "ok",
     "timestamp": 1706210327415,
     "user": {
      "displayName": "Bonnie Ludka",
      "userId": "16620433016455303136"
     },
     "user_tz": 480
    },
    "id": "Lqr8JAAqCWHN",
    "outputId": "e83e53b2-dd61-4626-89f5-b792125aa134"
   },
   "outputs": [],
   "source": []
  },
  {
   "cell_type": "markdown",
   "metadata": {},
   "source": [
    "**Try it yourself: Task 1** Extract the word 'love' from my_str"
   ]
  },
  {
   "cell_type": "code",
   "execution_count": null,
   "metadata": {
    "colab": {
     "base_uri": "https://localhost:8080/"
    },
    "executionInfo": {
     "elapsed": 128,
     "status": "ok",
     "timestamp": 1706210618789,
     "user": {
      "displayName": "Bonnie Ludka",
      "userId": "16620433016455303136"
     },
     "user_tz": 480
    },
    "id": "dyRUT1i6Dib9",
    "outputId": "0a064442-c90b-47cd-d843-9d2aa3fe4159"
   },
   "outputs": [],
   "source": []
  },
  {
   "cell_type": "markdown",
   "metadata": {},
   "source": [
    "**Try it yourself: Task 2** What happens if you use a NEGATIVE index?"
   ]
  },
  {
   "cell_type": "code",
   "execution_count": null,
   "metadata": {
    "id": "WhknFiTPEAvo"
   },
   "outputs": [],
   "source": []
  },
  {
   "cell_type": "markdown",
   "metadata": {},
   "source": [
    "What would I get if I tried my_str[2:-4]?\n",
    "\n",
    "GUESS AND DISCUSS BEFORE YOU TEST!"
   ]
  },
  {
   "cell_type": "code",
   "execution_count": null,
   "metadata": {
    "colab": {
     "base_uri": "https://localhost:8080/"
    },
    "executionInfo": {
     "elapsed": 130,
     "status": "ok",
     "timestamp": 1706210715781,
     "user": {
      "displayName": "Bonnie Ludka",
      "userId": "16620433016455303136"
     },
     "user_tz": 480
    },
    "id": "I5FKWNHpFHqM",
    "outputId": "94e64e98-0d57-4138-b55d-2a965bfeb640"
   },
   "outputs": [],
   "source": []
  },
  {
   "cell_type": "markdown",
   "metadata": {
    "id": "ETVvr6DTE-8h"
   },
   "source": [
    "## \"Concatenating\" two sequence-type variables\n",
    "\n",
    "To \"concatenate\" means combine together\n",
    "\n",
    "We can combine sequence-type variables using the plus sign"
   ]
  },
  {
   "cell_type": "code",
   "execution_count": null,
   "metadata": {
    "colab": {
     "base_uri": "https://localhost:8080/"
    },
    "executionInfo": {
     "elapsed": 4,
     "status": "ok",
     "timestamp": 1706764373985,
     "user": {
      "displayName": "Bonnie Ludka",
      "userId": "16620433016455303136"
     },
     "user_tz": 480
    },
    "id": "6eDxj6LYFPPS",
    "outputId": "f301e013-74c1-481a-9634-a95ff4ced549"
   },
   "outputs": [],
   "source": []
  },
  {
   "cell_type": "markdown",
   "metadata": {
    "id": "TIu98ewLD8zA"
   },
   "source": [
    "## New Datatype: Lists!\n",
    "\n",
    "Lists are another sequence datatype! (Remember, that means they store things in a certain order and so we can index them)\n",
    "\n",
    "Lists are a special type of container because they can contain a mix of datatypes! \n",
    "\n",
    "To create a list, surround the items you want to include with square brackets [ ]"
   ]
  },
  {
   "cell_type": "code",
   "execution_count": null,
   "metadata": {
    "colab": {
     "base_uri": "https://localhost:8080/"
    },
    "executionInfo": {
     "elapsed": 131,
     "status": "ok",
     "timestamp": 1706210820326,
     "user": {
      "displayName": "Bonnie Ludka",
      "userId": "16620433016455303136"
     },
     "user_tz": 480
    },
    "id": "4C64FbYRFjEh",
    "outputId": "4f1b23f3-b297-4a66-ba97-400cf1c0ab66"
   },
   "outputs": [],
   "source": []
  },
  {
   "cell_type": "markdown",
   "metadata": {
    "id": "IRAvFISzF3Pk"
   },
   "source": [
    "Since lists are sequences, you can index them!"
   ]
  },
  {
   "cell_type": "code",
   "execution_count": null,
   "metadata": {
    "colab": {
     "base_uri": "https://localhost:8080/"
    },
    "executionInfo": {
     "elapsed": 2,
     "status": "ok",
     "timestamp": 1706210922407,
     "user": {
      "displayName": "Bonnie Ludka",
      "userId": "16620433016455303136"
     },
     "user_tz": 480
    },
    "id": "A__pE-5lFv8x",
    "outputId": "0102667c-247e-4f03-9f60-8cfb06a3a393"
   },
   "outputs": [],
   "source": []
  },
  {
   "cell_type": "markdown",
   "metadata": {
    "id": "DIkJdGZGFdyu"
   },
   "source": [
    "Since lists are sequences, you can concatenate them!"
   ]
  },
  {
   "cell_type": "code",
   "execution_count": null,
   "metadata": {
    "colab": {
     "base_uri": "https://localhost:8080/"
    },
    "executionInfo": {
     "elapsed": 159,
     "status": "ok",
     "timestamp": 1706764435899,
     "user": {
      "displayName": "Bonnie Ludka",
      "userId": "16620433016455303136"
     },
     "user_tz": 480
    },
    "id": "FWbJ-gPBFdBY",
    "outputId": "f9e09b97-bd76-404f-95ce-6320e8ea67d8"
   },
   "outputs": [],
   "source": []
  },
  {
   "cell_type": "markdown",
   "metadata": {
    "id": "V9kaLbXEbsP6"
   },
   "source": [
    "# Checking the length of container variables"
   ]
  },
  {
   "cell_type": "code",
   "execution_count": null,
   "metadata": {
    "colab": {
     "base_uri": "https://localhost:8080/"
    },
    "executionInfo": {
     "elapsed": 364,
     "status": "ok",
     "timestamp": 1706770296507,
     "user": {
      "displayName": "Bonnie Ludka",
      "userId": "16620433016455303136"
     },
     "user_tz": 480
    },
    "id": "am2V2tYqbwo2",
    "outputId": "6cc27cc1-d0d2-4a31-ac23-f2ba30ba9376"
   },
   "outputs": [],
   "source": []
  },
  {
   "cell_type": "markdown",
   "metadata": {},
   "source": [
    "# Time to try it out!"
   ]
  },
  {
   "cell_type": "markdown",
   "metadata": {
    "id": "NqnrXlGbFsUT"
   },
   "source": [
    "**Student Task 1:** Create a list of your favorite foods!\n",
    "\n",
    "Remember lists are made by putting [ ] around information separated by commas\n",
    "\n",
    "Think of at least 3 of your fav foods!"
   ]
  },
  {
   "cell_type": "code",
   "execution_count": null,
   "metadata": {
    "colab": {
     "base_uri": "https://localhost:8080/"
    },
    "executionInfo": {
     "elapsed": 217,
     "status": "ok",
     "timestamp": 1706770423992,
     "user": {
      "displayName": "Bonnie Ludka",
      "userId": "16620433016455303136"
     },
     "user_tz": 480
    },
    "id": "sXMrSwZIGHVX",
    "outputId": "3478a1d9-a040-49ff-cfc2-23846cdbba96"
   },
   "outputs": [],
   "source": []
  },
  {
   "cell_type": "markdown",
   "metadata": {},
   "source": [
    "**Student Task 2:** Concatenate the second and last elements of your list and store it in a new variable\n",
    "\n",
    "Separate the words with a space\n",
    "\n",
    "Does it make anything fun?"
   ]
  },
  {
   "cell_type": "code",
   "execution_count": null,
   "metadata": {
    "colab": {
     "base_uri": "https://localhost:8080/"
    },
    "executionInfo": {
     "elapsed": 165,
     "status": "ok",
     "timestamp": 1706770462465,
     "user": {
      "displayName": "Bonnie Ludka",
      "userId": "16620433016455303136"
     },
     "user_tz": 480
    },
    "id": "kHBlmrMPcKT1",
    "outputId": "e934da2a-8aa6-4546-da24-f871a79a2db3"
   },
   "outputs": [],
   "source": []
  },
  {
   "cell_type": "markdown",
   "metadata": {},
   "source": [
    "**Student Task 3:** Create a list of your neighbors fav foods\n",
    "\n",
    "Extract the last two items from that list using a slice\n",
    "\n",
    "Store them in a new variable and print them out"
   ]
  },
  {
   "cell_type": "code",
   "execution_count": null,
   "metadata": {
    "colab": {
     "base_uri": "https://localhost:8080/"
    },
    "executionInfo": {
     "elapsed": 131,
     "status": "ok",
     "timestamp": 1706211373130,
     "user": {
      "displayName": "Bonnie Ludka",
      "userId": "16620433016455303136"
     },
     "user_tz": 480
    },
    "id": "amVuE2yHGjm6",
    "outputId": "9f4b81ba-b602-4141-8b04-b0debb0b6221"
   },
   "outputs": [],
   "source": []
  },
  {
   "cell_type": "markdown",
   "metadata": {
    "id": "HDwwD_ZJJMVe"
   },
   "source": [
    "# Challenge Question\n",
    "Using the list below write code to convert the inputed base2 binary number into a base10 decimal number.\n",
    "\n",
    "Do NOT use split!\n",
    "\n",
    "Hint: Check data TYPE often!"
   ]
  },
  {
   "cell_type": "code",
   "execution_count": null,
   "metadata": {
    "colab": {
     "base_uri": "https://localhost:8080/"
    },
    "executionInfo": {
     "elapsed": 11800,
     "status": "ok",
     "timestamp": 1706764786259,
     "user": {
      "displayName": "Bonnie Ludka",
      "userId": "16620433016455303136"
     },
     "user_tz": 480
    },
    "id": "19CwaSY_HcoJ",
    "outputId": "48776379-e43c-49ed-bc9f-e18aca1058b8"
   },
   "outputs": [],
   "source": []
  }
 ],
 "metadata": {
  "colab": {
   "authorship_tag": "ABX9TyMPpvS1mQE8+Tzn4o1Tq5Uf",
   "provenance": []
  },
  "kernelspec": {
   "display_name": "Python 3",
   "name": "python3"
  },
  "language_info": {
   "codemirror_mode": {
    "name": "ipython",
    "version": 3
   },
   "file_extension": ".py",
   "mimetype": "text/x-python",
   "name": "python",
   "nbconvert_exporter": "python",
   "pygments_lexer": "ipython3",
   "version": "3.11.7"
  }
 },
 "nbformat": 4,
 "nbformat_minor": 0
}
