{
 "cells": [
  {
   "cell_type": "markdown",
   "metadata": {},
   "source": [
    "# This is a Jupyter Notebook!\n",
    "I can run a Jupyter Notebook on my own machine, but in this case\n",
    "\n",
    "It is running in the \"cloud\" which means it is running on a computer somewhere else!\n",
    "\n",
    "\n",
    "An anology comparing code to an essay:\n",
    "\n",
    "* a Jupyter Notebook of a program, is like a word document of an essay\n",
    "\n",
    "* JupyterHub can store my Jupyter Notebook like Google Drive can store Google Docs"
   ]
  },
  {
   "cell_type": "markdown",
   "metadata": {
    "id": "WOPSQHuvddiI"
   },
   "source": [
    "# Binary #s\n",
    "\n",
    "Understand Binary:\n",
    "https://learn.zybooks.com/zybook/HUMBOLDTENGR225LudkaFall2023/chapter/3/section/10\n",
    "\n",
    "<img src=\"binary.jpg\">"
   ]
  },
  {
   "cell_type": "markdown",
   "metadata": {
    "id": "57IgCPpkdWCF"
   },
   "source": [
    "**Student task**\n",
    "\n",
    "Given a binary number 1001101001, calculate the decimal value using python\n",
    "\n",
    "(Just use Python like a calculator here)"
   ]
  },
  {
   "cell_type": "code",
   "execution_count": null,
   "metadata": {
    "id": "LZHuEad9lcCn"
   },
   "outputs": [],
   "source": [
    "# Your code here"
   ]
  },
  {
   "cell_type": "markdown",
   "metadata": {
    "id": "3w--bjthss7l"
   },
   "source": [
    "# Identifiers\n",
    "\n",
    "Which of the following are valid identifiers"
   ]
  },
  {
   "cell_type": "code",
   "execution_count": null,
   "metadata": {
    "id": "0Wo74gSUsdoY"
   },
   "outputs": [],
   "source": []
  },
  {
   "cell_type": "code",
   "execution_count": null,
   "metadata": {
    "id": "_WcvRV49ts3y"
   },
   "outputs": [],
   "source": []
  },
  {
   "cell_type": "code",
   "execution_count": null,
   "metadata": {
    "id": "XQ_O73E4txbK"
   },
   "outputs": [],
   "source": []
  },
  {
   "cell_type": "code",
   "execution_count": null,
   "metadata": {
    "colab": {
     "base_uri": "https://localhost:8080/",
     "height": 143
    },
    "executionInfo": {
     "elapsed": 143,
     "status": "error",
     "timestamp": 1706036802963,
     "user": {
      "displayName": "Bonnie Ludka",
      "userId": "16620433016455303136"
     },
     "user_tz": 480
    },
    "id": "BS2EhohPt1l4",
    "outputId": "6c8a6bf3-b5eb-4f39-9cf0-844b6f4b92e6"
   },
   "outputs": [],
   "source": []
  },
  {
   "cell_type": "code",
   "execution_count": null,
   "metadata": {
    "colab": {
     "base_uri": "https://localhost:8080/",
     "height": 143
    },
    "executionInfo": {
     "elapsed": 145,
     "status": "error",
     "timestamp": 1706036842656,
     "user": {
      "displayName": "Bonnie Ludka",
      "userId": "16620433016455303136"
     },
     "user_tz": 480
    },
    "id": "77o5qvwnt7Pn",
    "outputId": "4651838d-472c-43ed-fb65-77534a6f6fa1"
   },
   "outputs": [],
   "source": []
  },
  {
   "cell_type": "code",
   "execution_count": null,
   "metadata": {
    "id": "HENQ1xy0uE7o"
   },
   "outputs": [],
   "source": []
  },
  {
   "cell_type": "markdown",
   "metadata": {
    "id": "VI6EtDFguZZG"
   },
   "source": [
    "# Objects\n",
    "Everything in python is considered an object.\n",
    "\n",
    "An object has 3 properties:\n",
    "\n",
    "* Value\n",
    "* Type\n",
    "* ID"
   ]
  },
  {
   "cell_type": "code",
   "execution_count": null,
   "metadata": {
    "colab": {
     "base_uri": "https://localhost:8080/"
    },
    "executionInfo": {
     "elapsed": 133,
     "status": "ok",
     "timestamp": 1706037122736,
     "user": {
      "displayName": "Bonnie Ludka",
      "userId": "16620433016455303136"
     },
     "user_tz": 480
    },
    "id": "urCPFkfxubLQ",
    "outputId": "080d3eba-5013-4a63-ee75-b097d3fc271b"
   },
   "outputs": [],
   "source": []
  },
  {
   "cell_type": "markdown",
   "metadata": {
    "id": "GDgbCarYvVTs"
   },
   "source": [
    "# Reassigning variables"
   ]
  },
  {
   "cell_type": "code",
   "execution_count": null,
   "metadata": {
    "colab": {
     "base_uri": "https://localhost:8080/"
    },
    "executionInfo": {
     "elapsed": 2,
     "status": "ok",
     "timestamp": 1706037359982,
     "user": {
      "displayName": "Bonnie Ludka",
      "userId": "16620433016455303136"
     },
     "user_tz": 480
    },
    "id": "aeBfj6rRvdx0",
    "outputId": "ac3b715c-c817-4d80-d884-1981bc1f0f9c"
   },
   "outputs": [],
   "source": []
  },
  {
   "cell_type": "markdown",
   "metadata": {
    "id": "gdsTzcUewJDO"
   },
   "source": [
    "# Numeric Types: Integer and Floating-point"
   ]
  },
  {
   "cell_type": "code",
   "execution_count": null,
   "metadata": {
    "colab": {
     "base_uri": "https://localhost:8080/"
    },
    "executionInfo": {
     "elapsed": 127,
     "status": "ok",
     "timestamp": 1706037414870,
     "user": {
      "displayName": "Bonnie Ludka",
      "userId": "16620433016455303136"
     },
     "user_tz": 480
    },
    "id": "dK3wxK_RwMsJ",
    "outputId": "a27b8b4f-7973-4335-e959-7f0ff777a045"
   },
   "outputs": [],
   "source": [
    "# integers"
   ]
  },
  {
   "cell_type": "code",
   "execution_count": null,
   "metadata": {
    "colab": {
     "base_uri": "https://localhost:8080/"
    },
    "executionInfo": {
     "elapsed": 132,
     "status": "ok",
     "timestamp": 1706037439823,
     "user": {
      "displayName": "Bonnie Ludka",
      "userId": "16620433016455303136"
     },
     "user_tz": 480
    },
    "id": "IxlgvudVwRqR",
    "outputId": "5db74825-a4c7-43c8-fda7-11b0fcdc0dd9"
   },
   "outputs": [],
   "source": [
    "#floats"
   ]
  },
  {
   "cell_type": "code",
   "execution_count": null,
   "metadata": {
    "colab": {
     "base_uri": "https://localhost:8080/"
    },
    "executionInfo": {
     "elapsed": 2,
     "status": "ok",
     "timestamp": 1706771454572,
     "user": {
      "displayName": "Bonnie Ludka",
      "userId": "16620433016455303136"
     },
     "user_tz": 480
    },
    "id": "C5q3dur0wavs",
    "outputId": "dbde291f-bd4d-488b-b822-1e8f19808e52"
   },
   "outputs": [],
   "source": [
    "# numeric operations"
   ]
  },
  {
   "cell_type": "markdown",
   "metadata": {
    "id": "1yBO_4iqgBYw"
   },
   "source": [
    "A good practice\n",
    "\n",
    "If you don't want to deal with integer:"
   ]
  },
  {
   "cell_type": "code",
   "execution_count": null,
   "metadata": {
    "colab": {
     "base_uri": "https://localhost:8080/"
    },
    "executionInfo": {
     "elapsed": 382,
     "status": "ok",
     "timestamp": 1706771380377,
     "user": {
      "displayName": "Bonnie Ludka",
      "userId": "16620433016455303136"
     },
     "user_tz": 480
    },
    "id": "iT3q59RIgFVs",
    "outputId": "a0c3ccf9-9ccb-41f1-afce-e4098e488196"
   },
   "outputs": [],
   "source": []
  },
  {
   "cell_type": "code",
   "execution_count": null,
   "metadata": {
    "colab": {
     "base_uri": "https://localhost:8080/"
    },
    "executionInfo": {
     "elapsed": 2,
     "status": "ok",
     "timestamp": 1706771276985,
     "user": {
      "displayName": "Bonnie Ludka",
      "userId": "16620433016455303136"
     },
     "user_tz": 480
    },
    "id": "bSiuM4IDfhwu",
    "outputId": "c6e5924d-14e0-4bdb-dd5e-e3cec5993ace"
   },
   "outputs": [],
   "source": [
    "# explicit conversions"
   ]
  },
  {
   "cell_type": "markdown",
   "metadata": {
    "id": "cvZVSuuTxqdv"
   },
   "source": [
    "# Double division"
   ]
  },
  {
   "cell_type": "code",
   "execution_count": null,
   "metadata": {
    "colab": {
     "base_uri": "https://localhost:8080/"
    },
    "executionInfo": {
     "elapsed": 138,
     "status": "ok",
     "timestamp": 1706037830273,
     "user": {
      "displayName": "Bonnie Ludka",
      "userId": "16620433016455303136"
     },
     "user_tz": 480
    },
    "id": "NNy-DGJIxTZ4",
    "outputId": "27b75782-6f6a-4bec-d336-750266f524e4"
   },
   "outputs": [],
   "source": []
  },
  {
   "cell_type": "code",
   "execution_count": null,
   "metadata": {
    "colab": {
     "base_uri": "https://localhost:8080/"
    },
    "executionInfo": {
     "elapsed": 120,
     "status": "ok",
     "timestamp": 1706037864266,
     "user": {
      "displayName": "Bonnie Ludka",
      "userId": "16620433016455303136"
     },
     "user_tz": 480
    },
    "id": "e0eje2bTx3oI",
    "outputId": "c521c3c2-da5d-43a9-82da-8afce2ddca0c"
   },
   "outputs": [],
   "source": []
  },
  {
   "cell_type": "markdown",
   "metadata": {},
   "source": [
    "# Modulo\n",
    "\n",
    "Remember, simply:\n",
    "\n",
    "MODULO = REMAINDER!"
   ]
  },
  {
   "cell_type": "code",
   "execution_count": null,
   "metadata": {
    "colab": {
     "base_uri": "https://localhost:8080/"
    },
    "executionInfo": {
     "elapsed": 124,
     "status": "ok",
     "timestamp": 1706038047909,
     "user": {
      "displayName": "Bonnie Ludka",
      "userId": "16620433016455303136"
     },
     "user_tz": 480
    },
    "id": "UhjCWwB5yEuo",
    "outputId": "13c4a18a-c7c3-456f-8c9f-14f93b49da9e"
   },
   "outputs": [],
   "source": []
  },
  {
   "cell_type": "markdown",
   "metadata": {},
   "source": [
    "**Challenge question:**\n",
    "Work with your partner to write a code to calculate the modulo of two input variables, WITHOUT using the modulo operator.\n",
    "You ARE allowed to use the double division operator"
   ]
  },
  {
   "cell_type": "code",
   "execution_count": null,
   "metadata": {
    "colab": {
     "base_uri": "https://localhost:8080/"
    },
    "executionInfo": {
     "elapsed": 2475,
     "status": "ok",
     "timestamp": 1706038594165,
     "user": {
      "displayName": "Bonnie Ludka",
      "userId": "16620433016455303136"
     },
     "user_tz": 480
    },
    "id": "vP7Kwea-yt-P",
    "outputId": "f949c251-e1b4-4487-9cb5-2e9011075bcd"
   },
   "outputs": [],
   "source": []
  },
  {
   "cell_type": "markdown",
   "metadata": {
    "id": "61BLctrWxFPN"
   },
   "source": [
    "# Math Module"
   ]
  },
  {
   "cell_type": "code",
   "execution_count": null,
   "metadata": {
    "colab": {
     "base_uri": "https://localhost:8080/"
    },
    "executionInfo": {
     "elapsed": 125,
     "status": "ok",
     "timestamp": 1706037713286,
     "user": {
      "displayName": "Bonnie Ludka",
      "userId": "16620433016455303136"
     },
     "user_tz": 480
    },
    "id": "jEqb-ilbw-Ob",
    "outputId": "147e9d1b-95c2-43ff-b9b4-36079e491e87"
   },
   "outputs": [],
   "source": []
  },
  {
   "cell_type": "markdown",
   "metadata": {
    "id": "Iyla9TAS1Iku"
   },
   "source": [
    "# Formatting output"
   ]
  },
  {
   "cell_type": "code",
   "execution_count": null,
   "metadata": {
    "colab": {
     "base_uri": "https://localhost:8080/"
    },
    "executionInfo": {
     "elapsed": 130,
     "status": "ok",
     "timestamp": 1706038911069,
     "user": {
      "displayName": "Bonnie Ludka",
      "userId": "16620433016455303136"
     },
     "user_tz": 480
    },
    "id": "uSOnX0oV1Kbb",
    "outputId": "f050a1ef-c078-4087-9fda-eb0bd25d4ebd"
   },
   "outputs": [],
   "source": []
  },
  {
   "cell_type": "code",
   "execution_count": null,
   "metadata": {
    "colab": {
     "base_uri": "https://localhost:8080/"
    },
    "executionInfo": {
     "elapsed": 123,
     "status": "ok",
     "timestamp": 1706038992249,
     "user": {
      "displayName": "Bonnie Ludka",
      "userId": "16620433016455303136"
     },
     "user_tz": 480
    },
    "id": "gZtU9F3lyQLp",
    "outputId": "2eabdc5b-929f-4be5-a24a-89145b2ef286"
   },
   "outputs": [],
   "source": []
  },
  {
   "cell_type": "code",
   "execution_count": null,
   "metadata": {
    "colab": {
     "base_uri": "https://localhost:8080/"
    },
    "executionInfo": {
     "elapsed": 147,
     "status": "ok",
     "timestamp": 1706039119855,
     "user": {
      "displayName": "Bonnie Ludka",
      "userId": "16620433016455303136"
     },
     "user_tz": 480
    },
    "id": "cgtqKLxL2Rvi",
    "outputId": "642d0730-3c2d-4ce3-ba6f-df17e13a3367"
   },
   "outputs": [],
   "source": [
    "# Another way (Don't need to remember, but just need to know there are many ways!)"
   ]
  },
  {
   "cell_type": "code",
   "execution_count": null,
   "metadata": {
    "colab": {
     "base_uri": "https://localhost:8080/"
    },
    "executionInfo": {
     "elapsed": 131,
     "status": "ok",
     "timestamp": 1706039196813,
     "user": {
      "displayName": "Bonnie Ludka",
      "userId": "16620433016455303136"
     },
     "user_tz": 480
    },
    "id": "Z5QQ8V0d2ssd",
    "outputId": "3cd6fa54-2d24-4e60-8f00-8c23f030a5ad"
   },
   "outputs": [],
   "source": [
    "# This is a nice way if you want to output mutliple variables\n",
    "# (Again, Don't need to remember, but just need to know there are many ways!)"
   ]
  },
  {
   "cell_type": "code",
   "execution_count": null,
   "metadata": {
    "colab": {
     "base_uri": "https://localhost:8080/"
    },
    "executionInfo": {
     "elapsed": 144,
     "status": "ok",
     "timestamp": 1706039357774,
     "user": {
      "displayName": "Bonnie Ludka",
      "userId": "16620433016455303136"
     },
     "user_tz": 480
    },
    "id": "y96rxzEv3XpT",
    "outputId": "06fe5c81-5d88-4b23-bb38-c2d2700362d1"
   },
   "outputs": [],
   "source": [
    "#what is the output of :\n"
   ]
  },
  {
   "cell_type": "markdown",
   "metadata": {
    "id": "nI6U-LNn3tib"
   },
   "source": [
    "What if I actually want to print\n",
    "`'engr\\n225\\tbonnie#'` on the screen, what should I do?"
   ]
  },
  {
   "cell_type": "code",
   "execution_count": null,
   "metadata": {
    "colab": {
     "base_uri": "https://localhost:8080/"
    },
    "executionInfo": {
     "elapsed": 4,
     "status": "ok",
     "timestamp": 1706044447178,
     "user": {
      "displayName": "Bonnie Ludka",
      "userId": "16620433016455303136"
     },
     "user_tz": 480
    },
    "id": "2CW_ASML3zdb",
    "outputId": "6afba323-6bd2-4159-c8b8-4a16d51cbfbd"
   },
   "outputs": [],
   "source": []
  }
 ],
 "metadata": {
  "colab": {
   "authorship_tag": "ABX9TyNqhdSec/vMvllY5fOlVZlZ",
   "provenance": []
  },
  "kernelspec": {
   "display_name": "Python 3",
   "name": "python3"
  },
  "language_info": {
   "codemirror_mode": {
    "name": "ipython",
    "version": 3
   },
   "file_extension": ".py",
   "mimetype": "text/x-python",
   "name": "python",
   "nbconvert_exporter": "python",
   "pygments_lexer": "ipython3",
   "version": "3.11.7"
  }
 },
 "nbformat": 4,
 "nbformat_minor": 0
}
